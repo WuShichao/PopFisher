{
 "cells": [
  {
   "cell_type": "markdown",
   "id": "satellite-worth",
   "metadata": {},
   "source": [
    "# MCMC for the mass distribution of EMRIs"
   ]
  },
  {
   "cell_type": "code",
   "execution_count": 1,
   "id": "0c2728a8",
   "metadata": {},
   "outputs": [],
   "source": [
    "import numpy as np\n",
    "import matplotlib.pyplot as plt\n",
    "import emcee\n",
    "import corner\n",
    "import matplotlib as mpl\n",
    "import seaborn as sns\n",
    "\n",
    "\n",
    "%matplotlib inline\n",
    "np.random.seed(1234)\n",
    "\n",
    "\n",
    "params = {'axes.labelsize': 18,\n",
    "          'font.family': 'serif',\n",
    "          'font.serif': 'Computer Modern Raman',\n",
    "          'font.size': 18,\n",
    "          'axes.linewidth': 1,\n",
    "          'legend.fontsize': 15,\n",
    "          'xtick.labelsize': 18,\n",
    "          'xtick.top': True,\n",
    "          'ytick.labelsize': 18,\n",
    "          'ytick.right': True,\n",
    "          'axes.grid' : True,\n",
    "          'text.usetex': True,\n",
    "          'savefig.dpi' : 100,\n",
    "          'lines.markersize' : 14,\n",
    "          'axes.formatter.limits' : (-3,3)}\n",
    "\n",
    "mpl.rcParams.update(params)"
   ]
  },
  {
   "cell_type": "markdown",
   "id": "a3dce3e3",
   "metadata": {},
   "source": [
    "We fit a BH mass functionsource parameter given by the mass, $\\theta=M$. This example follows the EMRI mass function [e-Print: 1004.1921 (\"GTV\")]:\n",
    "\n",
    "$$\\frac{dN}{d\\ln M}=A_0\\big(\\frac{M}{M_*}\\big)^{\\alpha_0} \\quad\\Rightarrow\\quad p(M|\\lambda)=\\mathcal{N} M^{\\alpha_0-1}.$$\n",
    "\n",
    "We are interested in the $ \\lambda=\\alpha_0$ population parameter. We are assuming that the amplitude $A_0$ does not carry information about the system, but only about the rate of events."
   ]
  },
  {
   "cell_type": "code",
   "execution_count": 2,
   "id": "f7eda7ac",
   "metadata": {},
   "outputs": [],
   "source": [
    "\"\"\"\n",
    "Parameters\n",
    "\"\"\"\n",
    "\n",
    "N_obs = 2000\n",
    "N_samp_per_obs = 10\n",
    "\n",
    "# Inputs to get the true ln M distribution.\n",
    "# Notice that M runs from 10^4 to 10^7 in GTV.\n",
    "\n",
    "alpha0_t = 0.00001 # Choose flat spectral profile.\n",
    "M_min=10000. ;   logM_min = np.log(M_min)\n",
    "M_max=10000000.; logM_max = np.log(M_max)"
   ]
  },
  {
   "cell_type": "code",
   "execution_count": 3,
   "id": "a581b72c",
   "metadata": {},
   "outputs": [],
   "source": [
    "def model(lnM,alpha):\n",
    "    \n",
    "    \"\"\"\n",
    "    Model for p(d|lambda).\n",
    "    \n",
    "    Input:\n",
    "    \n",
    "    - data    (The noisy generated data where we expect the masses to be.)\n",
    "    - alpha   (Spectral index of the mass distribution.)\n",
    "    \n",
    "    \"\"\"\n",
    "    \n",
    "    M = np.exp(lnM) # mass observations\n",
    "    norm  = alpha/(M_max**alpha-M_min**alpha)\n",
    "    \n",
    "    \n",
    "    return norm*M**(alpha-1)"
   ]
  },
  {
   "cell_type": "markdown",
   "id": "0c373548",
   "metadata": {},
   "source": [
    "The hyperlikelihood is (with $\\theta = \\ln M$ and $\\lambda=\\alpha$):\n",
    "\n",
    "$$\n",
    "p(d|\\lambda) = \\prod_{i=1}^{N_\\text{obs}} p(d_i|\\lambda) = \\prod_{i=1}^{N_\\text{obs}} \\int p(d_i|\\theta_i)p_\\text{pop}(\\theta_i|\\lambda) d\\theta_i,\n",
    "$$\n",
    "\n",
    "which can be rearranged through Bayes theorem to give\n",
    "\n",
    "$$\n",
    "    p(d|\\lambda) = \\prod_{i=1}^{N_\\text{obs}} \\int \\frac{p(\\theta_i|d_i) p(\\theta_i)}{p(d_i)}p_\\text{pop}(\\theta_i|\\lambda) d\\theta_i.\n",
    "$$\n",
    "\n",
    "The integral can be solved with Monte Carlo methods drawing $N_\\text{samp}$ samples from the posterior, $\\theta_{ij}\\sim p(\\theta_{i}|d_i)$ ($j$ indexing the samples),\n",
    "\n",
    "$$\n",
    "   p(d|\\lambda) = \\prod_{i=1}^{N_\\text{obs}} \\frac{1}{N_\\text{samp}}\\sum_{j=1}^{N_\\text{samp}} \\frac{p(\\theta_{ij})}{p(d_i)}p_\\text{pop}(\\theta_{ij}|\\lambda)\\quad \\Rightarrow \\quad \\log p(d|\\lambda)\\propto \\sum_{i=1}^{N_\\text{obs}}\\sum_{j=1}^{N_\\text{samp}} p_\\text{pop}(\\theta_{ij}|\\lambda)\\equiv \\sum_{i=1}^{N_\\text{obs}}\\sum_{j=1}^{N_\\text{samp}} p_{\\text{pop},ij}.\n",
    "$$\n",
    "\n",
    "In the last line, we ignore normalization factors and take the log of the hyperlikelihood. The final expression is coded up below."
   ]
  },
  {
   "cell_type": "code",
   "execution_count": 4,
   "id": "3a338510",
   "metadata": {},
   "outputs": [],
   "source": [
    "# Limits of (flat) hyperpriors.\n",
    "\n",
    "hyperprior_min = -10.0\n",
    "hyperprior_max = 10.0\n",
    "\n",
    "def log_likelihood_numerical(params, data):\n",
    "    \n",
    "     \n",
    "    support = ( # Here is the support limits for hyperpriors.\n",
    "                (params[0] >= hyperprior_min)&\n",
    "                (params[0] <= hyperprior_max)\n",
    "                )\n",
    "    \n",
    "    log_likelihood=0\n",
    "    \n",
    "    for i in np.arange(N_obs):\n",
    "        \n",
    "        ppop_ij = model(data[i,:],params[0])  # N_samp-long array for population model.\n",
    "        sum_ppop = np.sum(ppop_ij)            # internal sum of population model over N_samp.\n",
    "        log_likelihood += np.log(sum_ppop)    # add the samples drawn over N_obs in the loop.\n",
    "        \n",
    "    out = np.where(support,log_likelihood,-np.inf)  # Only retain likelihood if supported.\n",
    "    \n",
    "    \n",
    "    # Force nans away.\n",
    "    if np.isfinite(out):\n",
    "        return out\n",
    "    else:\n",
    "        return -np.inf"
   ]
  },
  {
   "cell_type": "markdown",
   "id": "9e4ab8e7",
   "metadata": {},
   "source": [
    "\n",
    "Starting from the probability density $p(M|\\lambda)=\\mathcal{N} M^{\\alpha_0-1}$, we can use the method of inversion to get the source parameter M. In particular, we define the cumulative density function,\n",
    "\n",
    "$u:=\\text{CDF}(M)= \\mathcal{N}\\int_{M_\\text{min}}^{M}M^{\\alpha_0-1}dM = \\alpha_0^{-1}\\mathcal{N}M^{\\alpha_0}\\big|_{M_\\text{min}}^{M}=\\alpha_0^{-1}\\mathcal{N}(M^{\\alpha_0}-M^{\\alpha_0}_{\\text{min}})$.\n",
    "\n",
    "The normalization factor can be calculated imposing that $\\lim_{M\\rightarrow M_{\\text{min}}} u=1$, which gives immediately:\n",
    "\n",
    "$\\mathcal{N}=\\frac{\\alpha_0}{M^{\\alpha_0}_\\text{max}-M^{\\alpha_0}_{\\text{min}}}$.\n",
    "\n",
    "Now, we get M in terms of $u$, \n",
    "\n",
    "$\\quad M^{\\alpha_0}=\\alpha_0\\mathcal{N}^{-1} u +M^{\\alpha_0}_{\\text{min}}\\quad\\Longrightarrow \\quad \\ln M =\\frac{1}{\\alpha_0} \\ln\\big[(M^{\\alpha_0}_\\text{max}-M^{\\alpha_0}_{\\text{min}})\\, u +M^{\\alpha_0}_{\\text{min}}\\big]\\quad $ (true parameter distribution)."
   ]
  },
  {
   "cell_type": "code",
   "execution_count": 5,
   "id": "5d5835dd",
   "metadata": {},
   "outputs": [],
   "source": [
    "sigma = 0.1\n",
    "noise = np.random.normal(0,sigma,size = N_obs)\n",
    "\n",
    "\"\"\"\n",
    "Data draws.\n",
    "\"\"\"\n",
    "\n",
    "u = np.random.uniform(size=N_obs)\n",
    "logM_t=alpha0_t**-1 * np.log((M_max**(alpha0_t)-M_min**(alpha0_t))*u+ M_min**(alpha0_t)*np.ones(N_obs))\n",
    "\n",
    "d_i = noise + logM_t  # observation model made of noise + true population.\n",
    "\n",
    "\n",
    "\"\"\"\n",
    "Data array. The structure of data is such that Data[i,j] is the jth posterior sample from event i.\n",
    "We assume the observation model p(d|theta) is a normal gaussian.\n",
    "\n",
    "\"\"\"\n",
    "\n",
    "data=np.zeros((N_obs,N_samp_per_obs))\n",
    "for i in np.arange(N_obs):\n",
    "    \n",
    "    data[i,:]=np.random.normal(d_i[i],sigma,size=N_samp_per_obs)"
   ]
  },
  {
   "cell_type": "code",
   "execution_count": 6,
   "id": "edd8f1cc",
   "metadata": {},
   "outputs": [
    {
     "data": {
      "text/plain": [
       "<matplotlib.legend.Legend at 0x7f804f5f18b0>"
      ]
     },
     "execution_count": 6,
     "metadata": {},
     "output_type": "execute_result"
    },
    {
     "data": {
      "image/png": "[encoded data removed]",
      "text/plain": [
       "<Figure size 432x360 with 1 Axes>"
      ]
     },
     "metadata": {
      "needs_background": "light"
     },
     "output_type": "display_data"
    }
   ],
   "source": [
    "fig, ax = plt.subplots(1,1,figsize=(6,5))\n",
    "plt.hist(d_i,density=True,label='Sample',bins=10,histtype = 'bar',\n",
    "                               color ='gainsboro', edgecolor='black')\n",
    "sns.kdeplot(np.array(d_i), label='KDE',c='k')\n",
    "plt.axvline(x=np.mean(logM_t), label='True mean', c='orange',ls='--',lw=3)\n",
    "\n",
    "plt.xlabel('$\\log(M_{obs}/M_\\odot)$')\n",
    "plt.ylabel('Density')\n",
    "plt.legend(loc='best')"
   ]
  },
  {
   "cell_type": "code",
   "execution_count": 7,
   "id": "e01dd79b",
   "metadata": {},
   "outputs": [],
   "source": [
    "\"\"\"\n",
    "Choose which data and likelihood.\n",
    "\"\"\"\n",
    "\n",
    "which_likelihood = log_likelihood_numerical\n",
    "which_data = data"
   ]
  },
  {
   "cell_type": "code",
   "execution_count": 8,
   "id": "8de984ec",
   "metadata": {},
   "outputs": [
    {
     "name": "stderr",
     "output_type": "stream",
     "text": [
      "100%|██████████| 10000/10000 [06:44<00:00, 24.72it/s]\n"
     ]
    },
    {
     "data": {
      "text/plain": [
       "State([[ 0.00519664]\n",
       " [-0.00071494]], log_prob=[-24641.95853134 -24642.1168088 ], blobs=None, random_state=('MT19937', array([3589090712,  911560055, 4244913837, 2371118690, 1303714046,\n",
       "       4169068745, 1412314725, 3939849210,  784428279,  824847272,\n",
       "       1707385433, 2138058026, 1157254227,  381820502, 3691987021,\n",
       "       3154433200, 1442503245, 3549161231, 1358991248, 1995303229,\n",
       "       1338573021, 2922661857,  635886399, 1642909124, 1934678825,\n",
       "       2904391046, 2735137707, 1418014033, 1361073112,  391702096,\n",
       "       4212123783, 3074644978, 3333483221, 2246882790, 2096159483,\n",
       "       1249593217, 3538998523,  705149782, 3258939716, 3236078022,\n",
       "       3180723054,  393227041, 3449788086, 1631219182, 4094075016,\n",
       "         60852871, 3345344998, 1135965593,  428211308, 1017471925,\n",
       "       1858120526, 1987815989, 3258402810, 1350597703,  474252516,\n",
       "        189481484, 2927449579, 1018263489, 4115323082, 3201345149,\n",
       "       1274792977,  585413006, 3181724777, 3219693576, 4132645952,\n",
       "       1986026513, 2281898195, 3221146764, 1262841634, 1637873376,\n",
       "       2569807766,  489321643, 3039101416, 1279589563,  980773717,\n",
       "       1684121777,  114063435, 1265371885, 2335488369,  251220531,\n",
       "       3587539067, 1298763646, 1388665425, 3411532873, 3356428128,\n",
       "        860035668, 3890339560,  708185446, 1354164851, 3839555895,\n",
       "       1796082318, 3607289731, 1289753630, 3969360728, 1383716364,\n",
       "       1539375436, 3896130928, 1937654405, 3579316371, 3594240397,\n",
       "       2456742699, 1906043551, 2974770049, 2587409012, 1502945160,\n",
       "       1641686338, 2627456317, 2901242175, 2822051163, 2046589414,\n",
       "       1120420969,  738263467,  515275039,  424262576, 1304390966,\n",
       "       1833971971, 1060598989, 4106472939, 1341392837, 1693113580,\n",
       "       1511190736, 2001062289, 3470913856,  737717838, 2813988727,\n",
       "       3641755777,  607664229,  289567284, 3391090502, 1866756542,\n",
       "       1469725536, 4093498562, 1049434341, 2361939925,  164329924,\n",
       "       1996443257, 2020990649, 1947564557, 1915484851,  875444098,\n",
       "        920456139,  190338710, 1988410947, 3593165818, 2226394299,\n",
       "       2624655851, 1866680793, 1246560707,  235999922,   19133521,\n",
       "       3865718765, 2207082170, 3632428666,  891286297, 2596551744,\n",
       "       3284598706,  222392950, 2705332268, 2841378330, 3363529701,\n",
       "       1231690914,  107925746,  143557591, 1452819020, 2743541259,\n",
       "       2087384856, 1411828488, 3971949543, 2344840509, 1418172132,\n",
       "       3689914498, 1818407862, 3851223078, 2512563976,   96293951,\n",
       "       2027854968, 2924851248,  698614238,  902478630, 2840557861,\n",
       "       2949291485, 1622144184, 3042575804, 2410481126, 1288183738,\n",
       "       3094861928,  998649683,  320786617, 2951173655, 2181210960,\n",
       "       2741802486, 2652167658, 2504667658, 1583865298,  238170331,\n",
       "       2926499188, 3167820190, 1272647256, 2016422159,  301251773,\n",
       "       3459661053, 1455370802,  683462007, 2335066689,  513336140,\n",
       "       3467316842, 2725907961,  974326275, 3323701899, 1925164559,\n",
       "       1856283895, 4210268563,  968703599, 1474281790,  402512017,\n",
       "       1541957169, 3114408933, 3629414610, 3418812907, 1776950854,\n",
       "       1050820149,  163574538, 2239817089, 1513132273, 2580799235,\n",
       "       1428834516, 1583366022, 2164798887, 1444580566, 1108232220,\n",
       "       1017115793,  938919599, 3069978487, 1269411689, 2440258157,\n",
       "        754422765, 2950439510, 2829539212, 3459135838, 3544134157,\n",
       "        812671422, 1648581380,  106183036,  168572610, 2425945774,\n",
       "       3182404403, 1402095186, 3406592540, 1567366910, 1350722623,\n",
       "        196369617, 1893371165,  900788144, 3577697902, 3927726650,\n",
       "       2524625129, 3733301547,  177413196,  588300784,  350393103,\n",
       "       2194279875, 3586911607, 2698830004,  785817180,  738215640,\n",
       "       2942683182, 2211191962, 2090976177, 3574167171, 2683241662,\n",
       "       3955757408, 1925260334, 3554010366, 2600781758,   14180231,\n",
       "       3508847339, 3190422217, 1572856881, 2810002446,  515089494,\n",
       "       1323160169, 2232305124, 1054517782,  854471492, 3778055999,\n",
       "       1301567579, 3095678002, 3099307735,  161394596, 1412444737,\n",
       "        602319111,  274908322, 2647442176, 3394578644,  506741146,\n",
       "       1938168036, 2014970721, 2488097419, 2839478616,  301967579,\n",
       "       3630791540, 2958416541, 1850812388,   86594967, 1575470834,\n",
       "       3518661715, 3519104667, 3579066391, 4024394705, 2310462633,\n",
       "        250318228, 2009050388, 2248212104, 2342179550, 3731118483,\n",
       "       3459451052, 2169439396, 1618120649, 2637035355, 1990490596,\n",
       "       2402481423, 3356070637,  969981002,  665365853, 1713466678,\n",
       "       3003564006, 2276737265, 2636739902, 3751977196, 3755894499,\n",
       "       1478570537, 1445529401, 2459453657,  662121447, 2789366786,\n",
       "       2352193826, 3290721091, 2583353666, 2064169578, 2130353207,\n",
       "        994632510,  544191848, 2410715051,   27874529, 3584708190,\n",
       "       1902640835,  697964812,  858976045, 1381585375, 2877365625,\n",
       "       2202062877, 1705095067, 3536493696, 2680173632, 1889308490,\n",
       "       4088295179, 2940376858, 4291515081, 1167875357, 2751370028,\n",
       "       2452706811,  949938738, 3977773130, 3144268811, 3667414054,\n",
       "          6712958, 2267317946,  941113290, 1857958520,  696524313,\n",
       "       3189127742, 3430923895, 4281157140,  418662892, 1669730388,\n",
       "       2923423895,  946056263,  366782271, 3438852559, 3696422814,\n",
       "         32859673, 2963820467,  718065629, 3541869772, 3227317508,\n",
       "       2076983409, 1337462087, 1085687395, 2006535958, 2109494694,\n",
       "       3463938383, 2347676180, 1297270347, 1221824637,  654757573,\n",
       "        938003925, 1362944860, 1651651778,  422099730,  786004347,\n",
       "        986286823,  579792186,  142353458, 1225928107,  416655267,\n",
       "       1034940482, 3243298121, 2904600945, 2069124093, 1821445966,\n",
       "       2875688725, 1101515093,  645157555, 1295720200,  836023531,\n",
       "       2577012331, 3025986656, 1545540074, 3535002978, 1619296041,\n",
       "       2641092058, 2398526771, 3267228913, 1576286181, 2756000487,\n",
       "       1533148414, 3086895154,  720983976, 2639731634, 2691987149,\n",
       "        928142771, 3194490099, 1862172062,  330869775, 1653730728,\n",
       "       4146490554, 4010490685, 1626467326,  894246302, 1503466512,\n",
       "        723304935, 4273998747, 3681487865, 3184459272, 4092812401,\n",
       "       2928868354, 3515960376, 1423545549, 1532643057, 1746762914,\n",
       "       2731685151, 2635544664, 2444227570, 3871517892, 1092560418,\n",
       "       3360627337, 3155359531,  354738579, 1508474456, 2067784349,\n",
       "        894908057, 1317819977, 3984004003, 1370130773,  703706546,\n",
       "       3341959788,  954307072,  897223682, 1090449675, 4157154116,\n",
       "       1784603730, 4079435569, 1365512338, 1221075816, 3705277245,\n",
       "       1666235516,  396479005, 3741149957, 2593150867, 4023821718,\n",
       "       3762944330, 3341778974,  706009979, 3053823573, 3704666977,\n",
       "        229927536,   36897158, 3805129836, 3755704497, 2485171409,\n",
       "       2308242436,  812832046, 1608540127, 4266124479, 2497022832,\n",
       "       3764099348, 3973425483,   56359811, 1285324512, 2888650532,\n",
       "       3154457821,  935433560, 1646042453, 1146816346,  395379080,\n",
       "       4102640676, 2321370728, 3833571505,  353053355, 3499434164,\n",
       "       4201520980,  601218070, 2385966846, 2544303201,  236694293,\n",
       "        704274129, 3270231919, 2592609783, 3899633803,  563382195,\n",
       "       3437936865, 1707336247, 1276803105, 1036809071, 3379611002,\n",
       "       1101733589, 3436985337, 1135322782, 2269662233, 3766264553,\n",
       "       3241292570,  336026872, 3486165743, 2297276558, 1435975919,\n",
       "       3245886668, 3826850976, 2161132504, 2528740725, 2014050596,\n",
       "       2715736843,  377284632, 3860822351, 2916290984,  599826999,\n",
       "       2340976274,  407790274, 3754602239, 1481274725, 3830885312,\n",
       "       2570197068, 1598926883,  362577952, 3142964452,  901088205,\n",
       "       2565157603,  967130769, 1382305724, 1186572894, 1766368676,\n",
       "        957846334, 1032665955, 4033776825,   32753783,  376103095,\n",
       "       2725150275, 2655298482, 2799663699, 1520202223, 4292763969,\n",
       "        821811423,  235996389, 3229402532, 3761161016, 4204142074,\n",
       "       2040154053,  971641970, 1623775419, 2192400864, 2243922358,\n",
       "       3356017911, 4114496618, 2658396301, 2360129449, 2821489381,\n",
       "       3136116574, 2503564278, 2646120456, 2680061504, 3084707502,\n",
       "       3001713006, 1943439412, 2374390740,  300732527, 2504346907,\n",
       "       2972566222, 2291267512, 1788883172,  690058039, 1345395796,\n",
       "       3020597888,  715583459, 4089307746, 2908574363, 3406833799,\n",
       "       1968718917,  942914313, 1196818244, 1793532520, 1578362109,\n",
       "        220959258,  381932630, 2122911625,  359131464, 2891107906,\n",
       "       1034909720, 1491223531, 1337273032, 3503056302, 3366980659,\n",
       "       3051823889, 1133524062,  449153660, 2076865936], dtype=uint32), 100, 0, 0.0))"
      ]
     },
     "execution_count": 8,
     "metadata": {},
     "output_type": "execute_result"
    }
   ],
   "source": [
    "n_iter = 10000\n",
    "ndim = 1; nwalkers = 2\n",
    "\n",
    "pos_init0 = [alpha0_t]\n",
    "p0 = pos_init0*(1+0.001* np.random.randn(nwalkers, ndim))\n",
    "\n",
    "sampler = emcee.EnsembleSampler(nwalkers, ndim, which_likelihood, args=[which_data])\n",
    "\n",
    "sampler.run_mcmc(p0, n_iter, progress=True)"
   ]
  },
  {
   "cell_type": "code",
   "execution_count": 9,
   "id": "59f8c72c",
   "metadata": {},
   "outputs": [],
   "source": [
    "\"\"\"\n",
    "Collect the samples here.\n",
    "\"\"\"\n",
    "burnin = 1500\n",
    "\n",
    "chains = sampler.get_chain(discard=burnin, thin=1, flat=False)\n",
    "alpha_samples = chains[:,:,0].flatten()"
   ]
  },
  {
   "cell_type": "code",
   "execution_count": 10,
   "id": "c817adce",
   "metadata": {},
   "outputs": [
    {
     "data": {
      "image/png": "[encoded data removed]",
      "text/plain": [
       "<Figure size 432x288 with 1 Axes>"
      ]
     },
     "metadata": {
      "needs_background": "light"
     },
     "output_type": "display_data"
    }
   ],
   "source": [
    "plt.plot(alpha_samples, \"k\", alpha=0.3)\n",
    "plt.tight_layout()\n",
    "plt.show()"
   ]
  },
  {
   "cell_type": "code",
   "execution_count": 11,
   "id": "cf791ca3",
   "metadata": {},
   "outputs": [],
   "source": [
    "def gaussian(d,mu,Sigma_sq):\n",
    "    \n",
    "    num = np.exp(-0.5*(d-mu)**2/Sigma_sq)\n",
    "    den = np.sqrt(2*np.pi*Sigma_sq)\n",
    "    return num/den"
   ]
  },
  {
   "cell_type": "code",
   "execution_count": 12,
   "id": "4dafd1bc",
   "metadata": {},
   "outputs": [],
   "source": [
    "\"\"\"\n",
    "WARNING: this expression is only valid when 10^4 M0 < M < 10^7 M0.\n",
    "It is only valid for 1D fitting, and crucially it only accounts for the first term in the FM.\n",
    "In short, be extremely careful in using it. Better to obtain FM estimates offline \n",
    "with the dedicated Mathematica notebook.\n",
    "\n",
    "It is used mostly for debugging reasons.\n",
    "\"\"\"\n",
    "\n",
    "def Dalpha(Nobs,alpha):\n",
    "    \n",
    "    den = Nobs * (alpha**-2 - 9 * 1000**alpha* np.log(10)**2/(-1+1000**alpha)**2)\n",
    "\n",
    "    return np.sqrt(1/den)"
   ]
  },
  {
   "cell_type": "code",
   "execution_count": 17,
   "id": "e432fe2d",
   "metadata": {},
   "outputs": [
    {
     "data": {
      "image/png": "[encoded data removed]",
      "text/plain": [
       "<Figure size 432x288 with 1 Axes>"
      ]
     },
     "metadata": {
      "needs_background": "light"
     },
     "output_type": "display_data"
    }
   ],
   "source": [
    "\"\"\"\n",
    "Posteriors with Fisher estimates\n",
    "\"\"\"\n",
    "\n",
    "\n",
    "_, bins_alpha, _= plt.hist(alpha_samples, 30, histtype = 'bar',\n",
    "                               color ='gainsboro', density=True, edgecolor='black', label='MCMC')\n",
    "\n",
    "\n",
    "Da = Dalpha(N_obs,alpha0_t) # From Mathematica notebook.\n",
    "bins_alpha= np.array(bins_alpha)\n",
    "plt.plot(bins_alpha, gaussian(bins_alpha,alpha0_t+0.0055,Da**2), color='black', \n",
    "         lw=2.5,label='Fisher')\n",
    "\n",
    "\n",
    "plt.axvline(x=alpha0_t, label='True', c='orange',ls='--',lw=3)\n",
    "plt.xlabel('alpha')\n",
    "plt.ylabel('PDF')\n",
    "plt.legend()\n",
    "plt.show()"
   ]
  },
  {
   "cell_type": "code",
   "execution_count": null,
   "id": "4fcb2b43",
   "metadata": {},
   "outputs": [],
   "source": []
  }
 ],
 "metadata": {
  "kernelspec": {
   "display_name": "Python 3",
   "language": "python",
   "name": "python3"
  },
  "language_info": {
   "codemirror_mode": {
    "name": "ipython",
    "version": 3
   },
   "file_extension": ".py",
   "mimetype": "text/x-python",
   "name": "python",
   "nbconvert_exporter": "python",
   "pygments_lexer": "ipython3",
   "version": "3.8.8"
  }
 },
 "nbformat": 4,
 "nbformat_minor": 5
}
