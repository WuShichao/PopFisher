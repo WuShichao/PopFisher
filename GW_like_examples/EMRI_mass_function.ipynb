{
 "cells": [
  {
   "cell_type": "markdown",
   "id": "satellite-worth",
   "metadata": {},
   "source": [
    "# MCMC for the mass distribution of EMRIs"
   ]
  },
  {
   "cell_type": "code",
   "execution_count": 1,
   "id": "0c2728a8",
   "metadata": {},
   "outputs": [],
   "source": [
    "import numpy as np\n",
    "import matplotlib.pyplot as plt\n",
    "import emcee\n",
    "import corner\n",
    "import matplotlib as mpl\n",
    "import seaborn as sns\n",
    "\n",
    "\n",
    "%matplotlib inline\n",
    "np.random.seed(1234)\n",
    "\n",
    "\n",
    "params = {'axes.labelsize': 18,\n",
    "          'font.family': 'serif',\n",
    "          'font.serif': 'Computer Modern Raman',\n",
    "          'font.size': 18,\n",
    "          'axes.linewidth': 1,\n",
    "          'legend.fontsize': 15,\n",
    "          'xtick.labelsize': 18,\n",
    "          'xtick.top': True,\n",
    "          'ytick.labelsize': 18,\n",
    "          'ytick.right': True,\n",
    "          'axes.grid' : True,\n",
    "          'text.usetex': True,\n",
    "          'savefig.dpi' : 100,\n",
    "          'lines.markersize' : 14,\n",
    "          'axes.formatter.limits' : (-3,3)}\n",
    "\n",
    "mpl.rcParams.update(params)"
   ]
  },
  {
   "cell_type": "markdown",
   "id": "a3dce3e3",
   "metadata": {},
   "source": [
    "We fit a BH mass functionsource parameter given by the mass, $\\theta=M$. This example follows the EMRI mass function [e-Print: 1004.1921 (\"GTV\")]:\n",
    "\n",
    "$$\\frac{dN}{d\\ln M}=A_0\\big(\\frac{M}{M_*}\\big)^{\\alpha_0} \\quad\\Rightarrow\\quad p(M|\\lambda)=\\mathcal{N} M^{\\alpha_0-1}.$$\n",
    "\n",
    "We are interested in the $ \\lambda=\\alpha_0$ population parameter. We are assuming that the amplitude $A_0$ does not carry information about the system, but only about the rate of events."
   ]
  },
  {
   "cell_type": "code",
   "execution_count": 2,
   "id": "f7eda7ac",
   "metadata": {},
   "outputs": [],
   "source": [
    "\"\"\"\n",
    "Parameters\n",
    "\"\"\"\n",
    "\n",
    "N_obs = 1000\n",
    "N_samp_per_obs = 10\n",
    "\n",
    "# Inputs to get the true ln M distribution.\n",
    "# Notice that M runs from 10^4 to 10^7 in GTV.\n",
    "\n",
    "alpha0_t = 0.00001 # Choose flat spectral profile.\n",
    "M_min=10000. ;   logM_min = np.log(M_min)\n",
    "M_max=10000000.; logM_max = np.log(M_max)"
   ]
  },
  {
   "cell_type": "code",
   "execution_count": 3,
   "id": "a581b72c",
   "metadata": {},
   "outputs": [],
   "source": [
    "def model(lnM,alpha):\n",
    "    \n",
    "    \"\"\"\n",
    "    Model for p(d|lambda).\n",
    "    \n",
    "    Input:\n",
    "    \n",
    "    - data    (The noisy generated data where we expect the masses to be.)\n",
    "    - alpha   (Spectral index of the mass distribution.)\n",
    "    \n",
    "    \"\"\"\n",
    "    \n",
    "    M = np.exp(lnM) # mass observations\n",
    "    norm  = alpha/(M_max**alpha-M_min**alpha)\n",
    "    \n",
    "    \n",
    "    return norm*M**(alpha-1)"
   ]
  },
  {
   "cell_type": "markdown",
   "id": "0c373548",
   "metadata": {},
   "source": [
    "The hyperlikelihood is (with $\\theta = \\ln M$ and $\\lambda=\\alpha$):\n",
    "\n",
    "$$\n",
    "p(d|\\lambda) = \\prod_{i=1}^{N_\\text{obs}} p(d_i|\\lambda) = \\prod_{i=1}^{N_\\text{obs}} \\int p(d_i|\\theta_i)p_\\text{pop}(\\theta_i|\\lambda) d\\theta_i,\n",
    "$$\n",
    "\n",
    "which can be rearranged through Bayes theorem to give\n",
    "\n",
    "$$\n",
    "    p(d|\\lambda) = \\prod_{i=1}^{N_\\text{obs}} \\int \\frac{p(\\theta_i|d_i) p(\\theta_i)}{p(d_i)}p_\\text{pop}(\\theta_i|\\lambda) d\\theta_i.\n",
    "$$\n",
    "\n",
    "The integral can be solved with Monte Carlo methods drawing $N_\\text{samp}$ samples from the posterior, $\\theta_{ij}\\sim p(\\theta_{i}|d_i)$ ($j$ indexing the samples),\n",
    "\n",
    "$$\n",
    "   p(d|\\lambda) = \\prod_{i=1}^{N_\\text{obs}} \\frac{1}{N_\\text{samp}}\\sum_{j=1}^{N_\\text{samp}} \\frac{p(\\theta_{ij})}{p(d_i)}p_\\text{pop}(\\theta_{ij}|\\lambda)\\quad \\Rightarrow \\quad \\log p(d|\\lambda)\\propto \\sum_{i=1}^{N_\\text{obs}}\\sum_{j=1}^{N_\\text{samp}} p_\\text{pop}(\\theta_{ij}|\\lambda)\\equiv \\sum_{i=1}^{N_\\text{obs}}\\sum_{j=1}^{N_\\text{samp}} p_{\\text{pop},ij}.\n",
    "$$\n",
    "\n",
    "In the last line, we ignore normalization factors and take the log of the hyperlikelihood. The final expression is coded up below."
   ]
  },
  {
   "cell_type": "code",
   "execution_count": 4,
   "id": "3a338510",
   "metadata": {},
   "outputs": [],
   "source": [
    "# Limits of (flat) hyperpriors.\n",
    "\n",
    "hyperprior_min = -10.0\n",
    "hyperprior_max = 10.0\n",
    "\n",
    "def log_likelihood_numerical(params, data):\n",
    "    \n",
    "     \n",
    "    support = ( # Here is the support limits for hyperpriors.\n",
    "                (params[0] >= hyperprior_min)&\n",
    "                (params[0] <= hyperprior_max)\n",
    "                )\n",
    "    \n",
    "    log_likelihood=0\n",
    "    \n",
    "    for i in np.arange(N_obs):\n",
    "        \n",
    "        ppop_ij = model(data[i,:],params[0])  # N_samp-long array for population model.\n",
    "        sum_ppop = np.sum(ppop_ij)            # internal sum of population model over N_samp.\n",
    "        log_likelihood += np.log(sum_ppop)    # add the samples drawn over N_obs in the loop.\n",
    "        \n",
    "    out = np.where(support,log_likelihood,-np.inf)  # Only retain likelihood if supported.\n",
    "    \n",
    "    \n",
    "    # Force nans away.\n",
    "    if np.isfinite(out):\n",
    "        return out\n",
    "    else:\n",
    "        return -np.inf"
   ]
  },
  {
   "cell_type": "markdown",
   "id": "9e4ab8e7",
   "metadata": {},
   "source": [
    "\n",
    "Starting from the probability density $p(M|\\lambda)=\\mathcal{N} M^{\\alpha_0-1}$, we can use the method of inversion to get the source parameter M. In particular, we define the cumulative density function,\n",
    "\n",
    "$u:=\\text{CDF}(M)= \\mathcal{N}\\int_{M_\\text{min}}^{M}M^{\\alpha_0-1}dM = \\alpha_0^{-1}\\mathcal{N}M^{\\alpha_0}\\big|_{M_\\text{min}}^{M}=\\alpha_0^{-1}\\mathcal{N}(M^{\\alpha_0}-M^{\\alpha_0}_{\\text{min}})$.\n",
    "\n",
    "The normalization factor can be calculated imposing that $\\lim_{M\\rightarrow M_{\\text{min}}} u=1$, which gives immediately:\n",
    "\n",
    "$\\mathcal{N}=\\frac{\\alpha_0}{M^{\\alpha_0}_\\text{max}-M^{\\alpha_0}_{\\text{min}}}$.\n",
    "\n",
    "Now, we get M in terms of $u$, \n",
    "\n",
    "$\\quad M^{\\alpha_0}=\\alpha_0\\mathcal{N}^{-1} u +M^{\\alpha_0}_{\\text{min}}\\quad\\Longrightarrow \\quad \\ln M =\\frac{1}{\\alpha_0} \\ln\\big[(M^{\\alpha_0}_\\text{max}-M^{\\alpha_0}_{\\text{min}})\\, u +M^{\\alpha_0}_{\\text{min}}\\big]\\quad $ (true parameter distribution)."
   ]
  },
  {
   "cell_type": "code",
   "execution_count": 5,
   "id": "5d5835dd",
   "metadata": {},
   "outputs": [],
   "source": [
    "sigma = 0.1\n",
    "noise = np.random.normal(0,sigma,size = N_obs)\n",
    "\n",
    "\"\"\"\n",
    "Data draws.\n",
    "\"\"\"\n",
    "\n",
    "u = np.random.uniform(size=N_obs)\n",
    "logM_t=alpha0_t**-1 * np.log((M_max**(alpha0_t)-M_min**(alpha0_t))*u+ M_min**(alpha0_t)*np.ones(N_obs))\n",
    "\n",
    "d_i = noise + logM_t  # observation model made of noise + true population.\n",
    "\n",
    "\n",
    "\"\"\"\n",
    "Data array. The structure of data is such that Data[i,j] is the jth posterior sample from event i.\n",
    "We assume the observation model p(d|theta) is a normal gaussian.\n",
    "\n",
    "\"\"\"\n",
    "\n",
    "data=np.zeros((N_obs,N_samp_per_obs))\n",
    "for i in np.arange(N_obs):\n",
    "    \n",
    "    data[i,:]=np.random.normal(d_i[i],sigma,size=N_samp_per_obs)"
   ]
  },
  {
   "cell_type": "code",
   "execution_count": 6,
   "id": "edd8f1cc",
   "metadata": {},
   "outputs": [
    {
     "data": {
      "text/plain": [
       "<matplotlib.legend.Legend at 0x7fd7f46af7c0>"
      ]
     },
     "execution_count": 6,
     "metadata": {},
     "output_type": "execute_result"
    },
    {
     "data": {
      "image/png": "[encoded data removed]",
      "text/plain": [
       "<Figure size 432x360 with 1 Axes>"
      ]
     },
     "metadata": {
      "needs_background": "light"
     },
     "output_type": "display_data"
    }
   ],
   "source": [
    "fig, ax = plt.subplots(1,1,figsize=(6,5))\n",
    "plt.hist(d_i,density=True,label='Sample',bins=10,histtype = 'bar',\n",
    "                               color ='gainsboro', edgecolor='black')\n",
    "sns.kdeplot(np.array(d_i), label='KDE',c='k')\n",
    "plt.axvline(x=np.mean(logM_t), label='True mean', c='orange',ls='--',lw=3)\n",
    "\n",
    "plt.xlabel('$\\log(M_{obs}/M_\\odot)$')\n",
    "plt.ylabel('Density')\n",
    "plt.legend(loc='best')"
   ]
  },
  {
   "cell_type": "code",
   "execution_count": 7,
   "id": "e01dd79b",
   "metadata": {},
   "outputs": [],
   "source": [
    "\"\"\"\n",
    "Choose which data and likelihood.\n",
    "\"\"\"\n",
    "\n",
    "which_likelihood = log_likelihood_numerical\n",
    "which_data = data"
   ]
  },
  {
   "cell_type": "code",
   "execution_count": 8,
   "id": "8de984ec",
   "metadata": {},
   "outputs": [
    {
     "name": "stderr",
     "output_type": "stream",
     "text": [
      "100%|██████████| 10000/10000 [03:35<00:00, 46.46it/s]\n"
     ]
    },
    {
     "data": {
      "text/plain": [
       "State([[-0.02231784]\n",
       " [-0.03498771]], log_prob=[-12258.70120337 -12259.63208666], blobs=None, random_state=('MT19937', array([ 536669747, 2864976521, 4280184737,  538809697, 3097646507,\n",
       "       2166664689, 2069922581, 3744043301, 4203557071, 1562356674,\n",
       "       1287395562, 1244770963,  382070692, 4033980411,   50476052,\n",
       "       1405387896, 3761580449, 2639207681, 1534134510, 3762832167,\n",
       "       1202054449, 1924471019, 3185525787, 3161152064,  197040479,\n",
       "       3918919294,   82673255, 3021007285, 3569706753,  866813108,\n",
       "       2024980381, 1944373200, 3817451265, 3176516669, 2578331240,\n",
       "        345469408, 3335354117, 2876586359, 4102693424, 3218347018,\n",
       "       2872438278,   47151987, 2834905645, 3044759285, 1236310104,\n",
       "       4150545943, 2546919471, 1224599446, 1383544433, 2157432401,\n",
       "        371821232,  861327670, 1784777739, 1118025813,  282227299,\n",
       "       1626395230, 4157607137, 1748669413,  766502056, 3415536012,\n",
       "       3328016787, 3759826712,  181574123, 2418431226, 3345346884,\n",
       "       3973908319, 2900185547,  711162072, 3932005446, 2507172706,\n",
       "       3533679060, 2559563370, 3915369434, 1165368533, 2672944791,\n",
       "       1885012880, 3548132703, 1604840488, 2097129130, 2150663135,\n",
       "       3072598077, 2843622788, 2323058984, 3359620745, 3253545371,\n",
       "       3229366948, 3325763819, 4073506897, 3512490382, 1226027366,\n",
       "       2419569332, 4292379105, 3735458432, 3306690395, 3731125852,\n",
       "        162434011, 3698751125, 1550535082, 1446025197, 1233126086,\n",
       "       2746568248, 2406966403, 2116959991, 1491729032, 1387236310,\n",
       "       1477807213,  153781273, 1695347566, 2649527277, 1518554571,\n",
       "        953596623, 2402981705,  947850226, 3485768977,   96911823,\n",
       "       2312873164, 2001814335, 3811876638,  857490845, 1408249860,\n",
       "       1894041710,  223636569,  207503833, 1702832677, 2799998300,\n",
       "       1163809937, 3724355491, 2100875087, 1792462250, 2533784117,\n",
       "       2732403686, 1795065556, 2802988765, 3638581003,  572194444,\n",
       "        867452580, 1751810707, 2009379127, 3877302237, 1922598847,\n",
       "       1558937130, 2270072234, 3931567943, 4095630702,  436756830,\n",
       "       4103515281, 2356713236, 2059881505, 1786996476, 4255549731,\n",
       "       2164331190,  402079595, 3663217536, 1456101490, 2764906090,\n",
       "        258765604, 1250437233, 1263249203,  195990013, 3156858165,\n",
       "        616954261, 1109011309, 2279667393, 3340010830, 1934124729,\n",
       "       2170342286, 1111580811, 2722823822, 2129868535, 3229933398,\n",
       "       1404305667,  133192359, 1605729404, 2328332302, 3717653607,\n",
       "        366633521, 4183857033, 1158292144, 3613447787, 3045338018,\n",
       "       2248642525,  220516992,  900237631, 1833922656, 3024117571,\n",
       "       1869364435,  425456545, 3597567890, 1308134096, 3333527224,\n",
       "       3290326378, 2595961078,  673913976, 3245635585, 3783303045,\n",
       "        732920079, 1155609584, 1784005370,  522331085,  741448659,\n",
       "       2034183540, 4067099867, 1098089486, 2950696687, 4137566052,\n",
       "       2038694879,  866505601, 1343146929,  708357176,  949347600,\n",
       "       1536897883, 1887901901, 3618580978, 1806486864, 2857754601,\n",
       "        491615788, 1439548479, 3518389329,  333982818, 3075002384,\n",
       "       1681274926, 1605000856, 3948613062,  650210730,  271166997,\n",
       "       1713789739, 2544397638, 1963711909, 2444584013, 3679464735,\n",
       "       1773346474, 3940385421, 2953852288,  678219287, 2848008966,\n",
       "       1644162636, 4203595082, 3541247454, 1943672514, 2775594440,\n",
       "        141279795, 4233655066, 1726589534,  881977849, 2731338323,\n",
       "       1715754374, 3474616384,  396753195, 4248555027, 3540744600,\n",
       "       1587538471, 2718689499, 3752047040, 2628753975, 3376521785,\n",
       "       1482703680, 1550375375, 3574399092, 2725125199, 2541047365,\n",
       "       1029017738, 2533258282, 1381997316, 3762913027, 4057546631,\n",
       "       3538217162, 4090674519, 1822930745, 3294817622, 2544663666,\n",
       "       3413620394, 3404616432, 2707750284, 2063491186,  702796271,\n",
       "        325933422, 1120564324, 2417235922, 4234944291,  288299287,\n",
       "        960524067, 1348901326, 4121237368, 4054492996, 3451871442,\n",
       "       3213036623, 1406430108, 1982239428, 3712414036,    6544693,\n",
       "        190680630,  707198627,  859289477, 3459219676, 1295491158,\n",
       "       3162733680, 2937575258, 3911874298, 2584345793, 3120935323,\n",
       "       3644242486, 3193488883, 2412268754, 1851400597, 3868899653,\n",
       "       2083713978,  491405017, 2398640749, 3473418658, 3485551361,\n",
       "        246019311, 1313597877, 2786589203, 1724459572, 3013415731,\n",
       "       1706040932, 3320023749, 1293747140, 3836375285,  375530877,\n",
       "       2336288346, 3302762590, 1555204137, 3213848302, 1687561908,\n",
       "       2396133687, 4084396374, 2883111663, 1632167003, 2514469633,\n",
       "       1139982569, 1989549782, 3540267490, 2527947181, 4056816112,\n",
       "         96077010,  646522840, 1951888304, 1338802771,  976270336,\n",
       "        363990568, 1396756236,   91733189, 1683751477, 2750337741,\n",
       "       2552498608, 2657471870, 2431683120, 1331726312, 4088935588,\n",
       "       2736552839, 3171369393, 3352744479, 3827015416,  236574992,\n",
       "       2835933665, 2768900552, 3837383769, 3153168919, 2211326571,\n",
       "       3706616693, 2697566529,  549600788, 3247670820, 3449997289,\n",
       "       1153171399,  606165651, 3476042487, 3808983249, 4094021899,\n",
       "        342503620,  109310224, 2739732269, 1471085234,  164831901,\n",
       "        894600596, 2092916002, 3891207933, 4089462629, 4118183091,\n",
       "       1333827720,  263123023,  202191822,  721624380, 1379775525,\n",
       "       3928020303, 1771553746, 1521117627,   21768339, 1514299210,\n",
       "       3571638758, 1945848791, 2173032253, 4132007496,  875681642,\n",
       "        225913948,  655632434, 2720455473, 2094622577,  666406018,\n",
       "       3279337537,  532710544, 1930903114, 3221555392, 2017373769,\n",
       "       1895224637, 1496390179, 2650319647, 2579630045,  743088659,\n",
       "       3153553368, 3934660233, 1310544466, 3684957639, 1924523804,\n",
       "       2037135916, 3522489739, 2639274126, 3787083188, 1476121139,\n",
       "       1076949411, 3270579114, 2373288990, 2306189255, 1296350748,\n",
       "        332238273, 4139991477, 3890692267, 2304214778, 1186230258,\n",
       "        569103668, 2654554371, 1357294308, 1019913757, 3421421839,\n",
       "        178170676,  789940065,  410733168, 3099223570, 3856068126,\n",
       "       1489409450, 1432118051, 2438529114, 2372388216, 2384829865,\n",
       "       4073810051, 2330530965, 3971642643, 1815764287, 3172366140,\n",
       "       3906914507, 3438687466, 1038379430, 3185180137, 3927890030,\n",
       "        433654574, 1068611366, 2325638500, 1334146111, 1833372471,\n",
       "       2316748861, 3266929817, 1786543947,  714618189, 2876331594,\n",
       "       2316448616, 3585252367, 2120445429,  898944284, 2771293535,\n",
       "       1446056838, 1939022781, 2953047145, 1557124549, 1217222491,\n",
       "       3511846564, 2650969169, 2793575087, 2642868330, 4139910378,\n",
       "       2108007987,  822634929,  977596666, 4085643412, 2872629917,\n",
       "        126496425,  510215004, 3374949464, 1627038184, 2846046666,\n",
       "       2845810264, 1904031515, 2835824444,   90286986,  191994339,\n",
       "       2369654203, 1662580559,  363808653, 4270277984, 2342558645,\n",
       "        731976316, 1082669274, 3072631730,   89294741, 3586948140,\n",
       "       1821390531, 1900712292, 2642898563, 2058415597,  632902703,\n",
       "       1570917987, 2904899045, 3344662351, 2745397224,  972246763,\n",
       "       4147816639, 1166208015,  752328361, 3898967754, 4120283568,\n",
       "       1806547314, 3466858020, 3528197495, 4055324152, 1434992551,\n",
       "        910992835, 3764972302,  554738290, 3127287436, 3812137188,\n",
       "       1607501390,  614638082, 2992370106, 1501130638, 2279664374,\n",
       "        553980779,  778615767, 1535678719, 3495914491,  463136099,\n",
       "       1896503531, 1408713071, 2804585767, 1434787139, 4132087498,\n",
       "        730710680, 1702224871, 2955733361,  618530617,  743593837,\n",
       "       2313895120, 3211690642, 4180529736, 2699883577, 2734483791,\n",
       "         11009958, 3510079777, 2223803925, 4077147126, 2982674430,\n",
       "       1048204179, 2510405972,  291015204, 3695867373, 3929744121,\n",
       "       2558494932, 2653305379, 1717032457, 2197849315, 2852203291,\n",
       "        926773127,  485449075,  566215586, 1665401695, 4189703324,\n",
       "        152661550, 3284331967,  217234438,  545394048, 1337241644,\n",
       "       2890454382, 1863884287,  677607537, 3159308740, 3594193865,\n",
       "       3120532217, 4162103947, 3844034704,  676380583, 3407068587,\n",
       "       3611605603, 3615511133, 1877121912, 1958657532,  218911092,\n",
       "       1105850257, 3887257691, 3292909636, 4105749310, 1804959247,\n",
       "       1076146075, 2880716889, 4018036546, 1851181860, 3769332812,\n",
       "       2637683421, 1338502697, 2481840597, 2930452185,  662594853,\n",
       "       1121386170,  542597856, 3540244468, 2989439225,  751647527,\n",
       "       4120369664, 3966330442,  764991591, 3239223335, 4022150841,\n",
       "       3278830973,  771299956, 2179283265, 4058181620], dtype=uint32), 320, 0, 0.0))"
      ]
     },
     "execution_count": 8,
     "metadata": {},
     "output_type": "execute_result"
    }
   ],
   "source": [
    "n_iter = 10000\n",
    "ndim = 1; nwalkers = 2\n",
    "\n",
    "pos_init0 = [alpha0_t]\n",
    "p0 = pos_init0*(1+0.001* np.random.randn(nwalkers, ndim))\n",
    "\n",
    "sampler = emcee.EnsembleSampler(nwalkers, ndim, which_likelihood, args=[which_data])\n",
    "\n",
    "sampler.run_mcmc(p0, n_iter, progress=True)"
   ]
  },
  {
   "cell_type": "code",
   "execution_count": 9,
   "id": "59f8c72c",
   "metadata": {},
   "outputs": [],
   "source": [
    "\"\"\"\n",
    "Collect the samples here.\n",
    "\"\"\"\n",
    "burnin = 1500\n",
    "\n",
    "chains = sampler.get_chain(discard=burnin, thin=1, flat=False)\n",
    "alpha_samples = chains[:,:,0].flatten()"
   ]
  },
  {
   "cell_type": "code",
   "execution_count": 10,
   "id": "c817adce",
   "metadata": {},
   "outputs": [
    {
     "data": {
      "image/png": "[encoded data removed]",
      "text/plain": [
       "<Figure size 432x288 with 1 Axes>"
      ]
     },
     "metadata": {
      "needs_background": "light"
     },
     "output_type": "display_data"
    }
   ],
   "source": [
    "plt.plot(alpha_samples, \"k\", alpha=0.3)\n",
    "plt.tight_layout()\n",
    "plt.show()"
   ]
  },
  {
   "cell_type": "code",
   "execution_count": 11,
   "id": "e432fe2d",
   "metadata": {},
   "outputs": [
    {
     "data": {
      "image/png": "[encoded data removed]",
      "text/plain": [
       "<Figure size 432x288 with 1 Axes>"
      ]
     },
     "metadata": {
      "needs_background": "light"
     },
     "output_type": "display_data"
    }
   ],
   "source": [
    "\"\"\"\n",
    "Posteriors with Fisher estimates\n",
    "\"\"\"\n",
    "\n",
    "\n",
    "_, bins_alpha, _= plt.hist(alpha_samples, 30, histtype = 'bar',\n",
    "                               color ='gainsboro', density=True, edgecolor='black', label='MCMC')\n",
    "\n",
    "plt.axvline(x=alpha0_t, label='True', c='orange',ls='--',lw=3)\n",
    "plt.xlabel('alpha')\n",
    "plt.ylabel('PDF')\n",
    "plt.legend()\n",
    "plt.show()"
   ]
  },
  {
   "cell_type": "code",
   "execution_count": null,
   "id": "4fcb2b43",
   "metadata": {},
   "outputs": [],
   "source": []
  }
 ],
 "metadata": {
  "kernelspec": {
   "display_name": "Python 3",
   "language": "python",
   "name": "python3"
  },
  "language_info": {
   "codemirror_mode": {
    "name": "ipython",
    "version": 3
   },
   "file_extension": ".py",
   "mimetype": "text/x-python",
   "name": "python",
   "nbconvert_exporter": "python",
   "pygments_lexer": "ipython3",
   "version": "3.8.8"
  }
 },
 "nbformat": 4,
 "nbformat_minor": 5
}
