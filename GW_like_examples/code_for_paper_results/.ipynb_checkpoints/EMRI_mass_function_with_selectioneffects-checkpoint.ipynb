{
 "cells": [
  {
   "cell_type": "markdown",
   "id": "72f28fb7",
   "metadata": {},
   "source": [
    "# Example: the EMRI mass function."
   ]
  },
  {
   "cell_type": "markdown",
   "id": "3073c56e",
   "metadata": {},
   "source": [
    "In this notebook, we validate a 1-dimensional population Fisher-matrix for the spectral index of the EMRI mass function against numerical MCMC results."
   ]
  },
  {
   "cell_type": "code",
   "execution_count": 1,
   "id": "c0228a2a",
   "metadata": {},
   "outputs": [],
   "source": [
    "import numpy as np\n",
    "import matplotlib.pyplot as plt\n",
    "import emcee\n",
    "import matplotlib as mpl\n",
    "import seaborn as sns\n",
    "import time\n",
    "\n",
    "\n",
    "from scipy.special import erfc\n",
    "from sympy.parsing import mathematica as M\n",
    "\n",
    "\n",
    "from MCMC_PowerLaw   import * # Import utils to perform the MCMC analysis.\n",
    "from Fisher_PowerLaw import * # Import utils to calculate the Fisher estimates.\n",
    "\n",
    "\n",
    "%matplotlib inline\n",
    "np.random.seed(12345)\n",
    "\n",
    "\n",
    "params = {'axes.labelsize': 18,\n",
    "          'font.family': 'serif',\n",
    "          'font.serif': 'Computer Modern Raman',\n",
    "          'font.size': 18,\n",
    "          'axes.linewidth': 1,\n",
    "          'legend.fontsize': 15,\n",
    "          'xtick.labelsize': 18,\n",
    "          'xtick.top': True,\n",
    "          'ytick.labelsize': 18,\n",
    "          'ytick.right': True,\n",
    "          'axes.grid' : True,\n",
    "          'text.usetex': True,\n",
    "          'savefig.dpi' : 100,\n",
    "          'lines.markersize' : 14,\n",
    "          'axes.formatter.limits' : (-3,3)}\n",
    "\n",
    "mpl.rcParams.update(params)"
   ]
  },
  {
   "cell_type": "markdown",
   "id": "b97be972",
   "metadata": {},
   "source": [
    "### Generate data"
   ]
  },
  {
   "cell_type": "markdown",
   "id": "08b0a593",
   "metadata": {},
   "source": [
    "We fit a BH mass functionsource parameter given by the mass, $\\theta=M$. This example follows the EMRI mass function [e-Print: 1004.1921 (\"GTV\")]:\n",
    "\n",
    "$$\\frac{dN}{d\\ln M}=A_0\\big(\\frac{M}{M_*}\\big)^{\\alpha_0} \\quad\\Rightarrow\\quad p(M|\\lambda)=\\mathcal{N} M^{\\alpha_0-1} = \\frac{\\alpha_0}{M^{\\alpha_0}_\\text{max}-M^{\\alpha_0}_{\\text{min}}} M^{\\alpha_0-1}.$$\n",
    "\n",
    "We are interested in the $ \\lambda=\\alpha_0$ population parameter. We are assuming that the amplitude $A_0$ does not carry information about the system, but only about the rate of events."
   ]
  },
  {
   "cell_type": "code",
   "execution_count": 2,
   "id": "6d833251",
   "metadata": {},
   "outputs": [],
   "source": [
    "\"\"\"\n",
    "Parameters\n",
    "\"\"\"\n",
    "\n",
    "N_obs = 100\n",
    "N_samps_likelihoods = 10\n",
    "N_samps_selfunction = 5000 # Needs to be high to sample well the selection function's integral.\n",
    "                            # but small enough to avoid slowing the Fisher calculation too much.\n",
    "\n",
    "\n",
    "alpha0_t = 0.00001 # Choose flat spectral profile.\n",
    "M_min=10000. ;   logM_min = np.log(M_min) # M runs from 10^4\n",
    "M_max=10000000.; logM_max = np.log(M_max) # to 10^7 solar masses."
   ]
  },
  {
   "cell_type": "markdown",
   "id": "b16c2b12",
   "metadata": {},
   "source": [
    "\n",
    "Starting from the probability density $p(M|\\lambda)=\\mathcal{N} M^{\\alpha_0-1}$, we can use the method of inversion to get the source parameter M. In particular, we define the cumulative density function,\n",
    "\n",
    "$u:=\\text{CDF}(M)= \\mathcal{N}\\int_{M_\\text{min}}^{M}M^{\\alpha_0-1}dM = \\alpha_0^{-1}\\mathcal{N}M^{\\alpha_0}\\big|_{M_\\text{min}}^{M}=\\alpha_0^{-1}\\mathcal{N}(M^{\\alpha_0}-M^{\\alpha_0}_{\\text{min}})$.\n",
    "\n",
    "Now, we get M in terms of $u$, \n",
    "\n",
    "$\\quad M^{\\alpha_0}=\\alpha_0\\mathcal{N}^{-1} u +M^{\\alpha_0}_{\\text{min}}\\quad\\Longrightarrow \\quad \\ln M =\\frac{1}{\\alpha_0} \\ln\\big[(M^{\\alpha_0}_\\text{max}-M^{\\alpha_0}_{\\text{min}})\\, u +M^{\\alpha_0}_{\\text{min}}\\big]\\quad $ (true parameter distribution).\n",
    "\n",
    "This procedure has been coded up in the \"log_M\" function."
   ]
  },
  {
   "cell_type": "code",
   "execution_count": 3,
   "id": "7c3d6261",
   "metadata": {},
   "outputs": [
    {
     "name": "stdout",
     "output_type": "stream",
     "text": [
      "Out of 100 possible events, 45 are detected.\n"
     ]
    }
   ],
   "source": [
    "\"\"\"\n",
    "Noise characteristics.\n",
    "\"\"\"\n",
    "\n",
    "sigma = 1.\n",
    "dth = 13.0\n",
    "noise = np.random.normal(0,sigma,size = N_obs)\n",
    "\n",
    "\"\"\"\n",
    "Data draws.\n",
    "\"\"\"\n",
    "\n",
    "u = np.random.uniform(size=N_obs)\n",
    "logM_t=log_M(alpha0_t, N_obs, M_max,M_min)\n",
    "d_i = noise + logM_t  # observations made of noise + true population.\n",
    "d_i_selbias = d_i[d_i>dth]\n",
    "N_det = len(d_i_selbias)\n",
    "\n",
    "print('Out of', N_obs,'possible events,', N_det,'are detected.')\n",
    "\n",
    "\"\"\"\n",
    "Data array. The structure of data is such that Data[i,j] is the jth posterior sample from event i.\n",
    "We assume the observation model p(d|theta) is a normal gaussian with noise variance sigma.\n",
    "\n",
    "\"\"\"\n",
    "\n",
    "\n",
    "logM_obs_selbias=np.zeros((N_det,N_samps_likelihoods))\n",
    "for i in np.arange(N_det):\n",
    "    logM_obs_selbias[i,:]=np.random.normal(d_i_selbias[i],sigma,size=N_samps_likelihoods)\n",
    "data = logM_obs_selbias\n"
   ]
  },
  {
   "cell_type": "code",
   "execution_count": 4,
   "id": "bdf577f9",
   "metadata": {},
   "outputs": [
    {
     "data": {
      "text/plain": [
       "<matplotlib.legend.Legend at 0x7fbdcaa00c40>"
      ]
     },
     "execution_count": 4,
     "metadata": {},
     "output_type": "execute_result"
    },
    {
     "data": {
      "image/png": "[encoded data removed]",
      "text/plain": [
       "<Figure size 432x360 with 1 Axes>"
      ]
     },
     "metadata": {
      "needs_background": "light"
     },
     "output_type": "display_data"
    }
   ],
   "source": [
    "fig, ax = plt.subplots(1,1,figsize=(6,5))\n",
    "plt.hist(np.log10(np.exp(d_i)),density=True,bins=10,histtype = 'stepfilled',\n",
    "                               color ='gainsboro', alpha=0.7, edgecolor='white')\n",
    "sns.kdeplot(np.array(np.log10(np.exp(d_i))), label='True population',c='k')\n",
    "plt.hist(np.log10(np.exp(d_i_selbias)),density=True,bins=10,histtype = 'stepfilled',\n",
    "                            color ='lightpink', alpha=0.7, edgecolor='white')\n",
    "sns.kdeplot(np.array(np.log10(np.exp(d_i_selbias))), label='Observed population',c='red')\n",
    "    \n",
    "plt.axvline(x=np.log10(np.exp(np.mean(logM_t))), label='True mean', c='orange',ls='--',lw=3)\n",
    "\n",
    "plt.xlabel('$\\log(M_{obs}/M_\\odot)$')\n",
    "plt.ylabel('Density')\n",
    "plt.legend()"
   ]
  },
  {
   "cell_type": "markdown",
   "id": "0fc31e79",
   "metadata": {},
   "source": [
    "### Fitting"
   ]
  },
  {
   "cell_type": "code",
   "execution_count": 5,
   "id": "9e65d9a7",
   "metadata": {},
   "outputs": [
    {
     "name": "stderr",
     "output_type": "stream",
     "text": [
      "100%|████████████████████████████████████| 10000/10000 [00:17<00:00, 575.45it/s]\n"
     ]
    }
   ],
   "source": [
    "# Limits of (flat) hyperpriors.\n",
    "\n",
    "hyperprior_min = -10.0\n",
    "hyperprior_max = 10.0\n",
    "\n",
    "# Iterations, ndims and walkers.\n",
    "\n",
    "n_iter = 10000\n",
    "ndim = 1; nwalkers = 2\n",
    "\n",
    "# Initialization of the MCMC. Perturb away from true values.\n",
    "\n",
    "pos_init0 = [alpha0_t]\n",
    "p0 = pos_init0*(1+0.001* np.random.randn(nwalkers, ndim))\n",
    "\n",
    "# Sampling\n",
    "\n",
    "sampler = emcee.EnsembleSampler(nwalkers, ndim, log_likelihood, \n",
    "                                args=[data,hyperprior_min,hyperprior_max,\n",
    "                                      N_samps_selfunction, M_max, M_min, sigma, dth, N_det])\n",
    "run = sampler.run_mcmc(p0, n_iter, progress=True)"
   ]
  },
  {
   "cell_type": "code",
   "execution_count": 6,
   "id": "83b38a4a",
   "metadata": {},
   "outputs": [],
   "source": [
    "\"\"\"\n",
    "Collect the samples here.\n",
    "\"\"\"\n",
    "burnin = 1500\n",
    "\n",
    "chains = sampler.get_chain(discard=burnin, thin=1, flat=False)\n",
    "alpha_samples = chains[:,:,0].flatten()"
   ]
  },
  {
   "cell_type": "code",
   "execution_count": 7,
   "id": "f8e8c4a8",
   "metadata": {},
   "outputs": [
    {
     "data": {
      "image/png": "[encoded data removed]",
      "text/plain": [
       "<Figure size 432x288 with 1 Axes>"
      ]
     },
     "metadata": {
      "needs_background": "light"
     },
     "output_type": "display_data"
    }
   ],
   "source": [
    "plt.plot(alpha_samples, \"k\", alpha=0.3)\n",
    "plt.tight_layout()\n",
    "plt.show()"
   ]
  },
  {
   "cell_type": "markdown",
   "id": "7914ad1d",
   "metadata": {},
   "source": [
    "### Fisher estimates"
   ]
  },
  {
   "cell_type": "markdown",
   "id": "49d212e2",
   "metadata": {},
   "source": [
    "The Fisher matrix for population inference in full glory is\n",
    "\n",
    "$$\n",
    "\\begin{align}\n",
    "(\\Gamma_\\lambda)_{ij} \n",
    "&=-\\int \\frac{\\partial^2 \\ln (p(\\vec\\theta_0 | \\vec\\lambda)/p_{\\rm det,m}(\\vec\\lambda))}{\\partial\\lambda^i \\partial\\lambda^j} \\, \\frac{p_{\\rm det,m}(\\vec\\theta_0)}{p_{\\rm det,m}(\\vec\\lambda)} p(\\vec\\theta_0 | \\vec\\lambda) {\\rm d} \\vec\\theta_0 \\nonumber \\\\\n",
    "&\\hspace{2cm}+ \\frac{1}{2} \\int \\frac{\\partial^2 \\ln {\\rm det}(\\Gamma+H)}{\\partial\\lambda^i \\partial\\lambda^j} \\, \\frac{p_{\\rm det,m}(\\vec\\theta_0)}{p_{\\rm det,m}(\\vec\\lambda)} p(\\vec\\theta_0 | \\vec\\lambda) {\\rm d} \\vec\\theta_0\\nonumber \\\\\n",
    "&\\hspace{2cm} - \\frac{1}{2} \\int \\frac{\\partial^2}{\\partial\\lambda^i \\partial\\lambda^j}\\left[(\\Gamma+H)^{-1}_{kl}\\right] D_{m,kl} \\, \\frac{p(\\vec\\theta_0 | \\vec\\lambda)}{p_{\\rm det,m}(\\vec\\lambda)}  {\\rm d} \\vec\\theta_0 \\nonumber \\\\\n",
    "&\\hspace{2cm} -  \\int \\frac{\\partial^2}{\\partial\\lambda^i \\partial\\lambda^j} \\left[ P_k(\\Gamma+H)^{-1}_{kl}\\right]D_{m,l} \\, \\frac{p(\\vec\\theta_0 | \\vec\\lambda)}{p_{\\rm det,m}(\\vec\\lambda)}  {\\rm d} \\vec\\theta_0 \\nonumber \\\\\n",
    "&\\hspace{2cm} - \\frac{1}{2} \\int \\frac{\\partial^2}{\\partial\\lambda^i \\partial\\lambda^j} \\left[ P_k (\\Gamma+H)^{-1}_{kl} P_l \\right] \\, \\frac{p_{\\rm det,m}(\\vec\\theta_0)}{p_{\\rm det,m}(\\vec\\lambda)} p(\\vec\\theta_0 | \\vec\\lambda) {\\rm d} \\vec\\theta_0\n",
    "\\end{align}\n",
    "$$\n",
    "\n",
    "We define first, second, third, .., terms in $(\\Gamma_\\lambda)_{ij}$ according to the order of the terms above. We further define\n",
    "\n",
    "$$\n",
    "D_{t,i} \\equiv \\int \\left( \\mathbf{n} \\bigg| \\frac{\\partial \\mathbf{h}}{\\partial\\theta^i} \\right) p(\\mathbf{n}) {\\rm d}\\mathbf{n} = \\frac{\\partial p_{\\rm det,t}(\\vec\\theta_0)}{\\partial\\theta^i}\\,, \\quad \n",
    "        D_{t,ij} \\equiv \\int \\left( \\mathbf{n} \\bigg| \\frac{\\partial \\mathbf{h}}{\\partial\\theta^i} \\right) \\left( \\mathbf{n} \\bigg| \\frac{\\partial \\mathbf{h}}{\\partial\\theta^j} \\right) p(\\mathbf{n}) {\\rm d}\\mathbf{n} = \\Gamma_{ij} = \\frac{1}{\\sigma^2}\\,, \\quad P_i =  \\frac{\\partial \\ln p(\\vec\\theta|\\vec\\lambda)}{\\partial \\theta^i}\\,, \\qquad H_{ij} = -\\frac{\\partial^2 \\ln p(\\vec\\theta|\\vec\\lambda)}{\\partial \\theta^i \\partial \\theta^j}.\n",
    "$$\n",
    "\n",
    "Notice that, in our case, $\\lambda = \\{\\alpha\\}$ and $\\theta=\\{\\ln M\\}$."
   ]
  },
  {
   "cell_type": "markdown",
   "id": "1de2a8dd",
   "metadata": {},
   "source": [
    "----\n",
    "\n",
    "In the case without selection effects, we model all terms in the Fisher matrix for extra sense of security.\n",
    "\n",
    "We solve the integral with the Monte Carlo method, implying that we only focus on the arguments $X(\\theta)$ of integrals of the form\n",
    "$$\n",
    "\\int X(\\theta) p(\\theta|\\lambda) d\\theta \\approx \\frac{1}{N_\\text{samp}}\\sum X(\\theta_{ij}), \\quad \\text{with } \\theta_{ij}\\sim p(\\theta|\\lambda)\n",
    "$$\n",
    "\n",
    "The arguments for each integral are calulcated offline using Mathematica and imported here."
   ]
  },
  {
   "cell_type": "markdown",
   "id": "a8ad1960",
   "metadata": {},
   "source": [
    "We also need the expressions for the selection functions of $\\lambda$ and $\\theta$, \n",
    "$$\n",
    "p_\\text{det}(\\theta) =  \\frac{1}{2}\\text{erfc}\\left[\\frac{d_\\text{th}-\\theta}{\\sqrt{2}\\sigma}\\right], \\quad\n",
    "p_\\text{det}(\\lambda) = \\int p_\\text{det}(\\theta) p(\\theta|\\lambda) d\\theta \\approx \\frac{1}{N_\\text{samp}}\\sum \\frac{1}{2}\\text{erfc}\\left[\\frac{d_\\text{th}-\\theta_{ij}}{\\sqrt{2}\\sigma}\\right] (\\text{with } \\theta_{ij}\\sim p(\\theta|\\lambda)).\n",
    "$$\n",
    "\n",
    "The first and second derivatives of $p_\\text{det}(\\lambda)$ can be integrated in the same way using that\n",
    "\n",
    "$$\n",
    "\\frac{\\partial p_\\text{det}(\\lambda)}{\\partial \\lambda} = \\int p_\\text{det}(\\theta) \\frac{\\partial p(\\theta|\\lambda)}{\\partial \\lambda} d\\theta = \\int p_\\text{det}(\\theta) \\frac{\\partial \\ln p(\\theta|\\lambda)}{\\partial \\lambda}p(\\theta|\\lambda) d\\theta\n",
    "$$\n",
    "and \n",
    "$$\n",
    "\\frac{\\partial^2 p_\\text{det}(\\lambda)}{\\partial \\lambda^2} = \\int p_\\text{det}(\\theta) \\frac{\\partial^2 p(\\theta|\\lambda)}{\\partial \\lambda^2} d\\theta = \\int p_\\text{det}(\\theta) \\left[\\frac{\\partial^2 \\ln p(\\theta|\\lambda)}{\\partial \\lambda^2}+\\left(\\frac{\\partial \\ln p(\\theta|\\lambda)}{\\partial \\lambda}\\right)^2\\right]p(\\theta|\\lambda) d\\theta\n",
    "$$\n",
    "\n",
    "The derivatives of $\\ln p(\\theta|\\lambda)$, coded below, are obtained using $\\texttt{Mathematica}$."
   ]
  },
  {
   "cell_type": "markdown",
   "id": "7f2eafcf",
   "metadata": {},
   "source": [
    "The results above are enough to obtain the simplified version of the Fisher matrix, which only retains the first term (\"Gamma_1_term\")."
   ]
  },
  {
   "cell_type": "markdown",
   "id": "fb7f7660",
   "metadata": {},
   "source": [
    "The other terms can be found in terms of $\\alpha$ and $\\ln M$ in the Mathematica notebook.\n",
    "We start from $\\frac{\\partial^2 \\ln {\\rm det}(\\Gamma+H)}{\\partial\\lambda^i \\partial\\lambda^j}$, which is inserted in \"Gamma_2_term\". "
   ]
  },
  {
   "cell_type": "code",
   "execution_count": 8,
   "id": "fe4feddd",
   "metadata": {},
   "outputs": [
    {
     "name": "stdout",
     "output_type": "stream",
     "text": [
      "------------------------------------------------\n",
      "The first term in the FM takes 0 s to evaluate\n",
      "First integral: 57.17808723449711\n",
      "------------------------------------------------\n",
      "The second term in the FM takes 22 s to evaluate\n",
      "Second integral: -0.2886665114608345\n",
      "------------------------------------------------\n",
      "The third term in the FM takes 24 s to evaluate\n",
      "Third integral: -1.0651230486661587\n",
      "------------------------------------------------\n",
      "The fourth term in the FM takes 31 s to evaluate\n",
      "Fourth integral: 0.02309507348913829\n",
      "------------------------------------------------\n",
      "The fifth term in the FM takes 20 s to evaluate\n",
      "Fifth integral: -0.222983496016347\n",
      "------------------------------------------------\n",
      "Gamma_lambda: 55.62440925184292\n"
     ]
    }
   ],
   "source": [
    "#samples drawn from PDF to be used in the Monte Carlo integral.\n",
    "\n",
    "theta_ij = log_M(alpha0_t,N_samps_selfunction,M_max,M_min) \n",
    "gamma_lambda = FM_1D_powerlaw(theta_ij,alpha0_t,M_max,M_min,sigma,dth,N_samps_selfunction,N_det) #Gamma_lambda(theta_ij,alpha0_t,M_max,M_min,sigma,dth,N_samps_selfunction,N_det)\n",
    "print('Gamma_lambda:', gamma_lambda)"
   ]
  },
  {
   "cell_type": "code",
   "execution_count": 9,
   "id": "c353ed09",
   "metadata": {
    "scrolled": true
   },
   "outputs": [
    {
     "data": {
      "image/png": "[encoded data removed]",
      "text/plain": [
       "<Figure size 432x288 with 1 Axes>"
      ]
     },
     "metadata": {
      "needs_background": "light"
     },
     "output_type": "display_data"
    }
   ],
   "source": [
    "\"\"\"\n",
    "Posteriors with Fisher estimates\n",
    "\"\"\"\n",
    "\n",
    "\n",
    "_, bins_alpha, _= plt.hist(alpha_samples, 30, histtype = 'bar', color ='gainsboro', density=True, edgecolor='black', label='MCMC')\n",
    "bins_alpha= np.array(bins_alpha)\n",
    "Da=np.sqrt(1/gamma_lambda)\n",
    "plt.plot(bins_alpha, gaussian(bins_alpha,np.median(bins_alpha),Da**2), color='black', lw=2.5,label='Fisher')\n",
    "    \n",
    "\n",
    "plt.axvline(x=alpha0_t, label='True', c='orange',ls='--',lw=3)\n",
    "plt.xlabel('alpha')\n",
    "plt.ylabel('PDF')\n",
    "plt.legend()\n",
    "plt.show()"
   ]
  },
  {
   "cell_type": "code",
   "execution_count": null,
   "id": "de917254",
   "metadata": {},
   "outputs": [],
   "source": []
  }
 ],
 "metadata": {
  "interpreter": {
   "hash": "6a4c3f65261587b55a0f30d9b7a4892a0c55342535808fcf5e158d1bb0d89e5f"
  },
  "kernelspec": {
   "display_name": "Python 3 (ipykernel)",
   "language": "python",
   "name": "python3"
  },
  "language_info": {
   "codemirror_mode": {
    "name": "ipython",
    "version": 3
   },
   "file_extension": ".py",
   "mimetype": "text/x-python",
   "name": "python",
   "nbconvert_exporter": "python",
   "pygments_lexer": "ipython3",
   "version": "3.8.8"
  }
 },
 "nbformat": 4,
 "nbformat_minor": 5
}
