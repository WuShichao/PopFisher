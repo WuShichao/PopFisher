{
 "cells": [
  {
   "cell_type": "markdown",
   "id": "72f28fb7",
   "metadata": {},
   "source": [
    "# Example: the EMRI mass function."
   ]
  },
  {
   "cell_type": "markdown",
   "id": "3073c56e",
   "metadata": {},
   "source": [
    "In this notebook, we validate a 1-dimensional population Fisher-matrix for the spectral index of the EMRI mass function against numerical MCMC results.\n",
    "\n",
    "The model is the same used in the [tutorial here](https://github.com/aantonelli94/PopFisher/blob/main/GW_like_examples/tutorial_EMRI_mass_function_no_selectioneffects.ipynb). As a result, the code will not be as heavily commented."
   ]
  },
  {
   "cell_type": "code",
   "execution_count": 1,
   "id": "c0228a2a",
   "metadata": {},
   "outputs": [],
   "source": [
    "import numpy as np\n",
    "import matplotlib.pyplot as plt\n",
    "import emcee\n",
    "import matplotlib as mpl\n",
    "import seaborn as sns\n",
    "import time\n",
    "\n",
    "\n",
    "from scipy.special import erfc\n",
    "from sympy.parsing import mathematica as M\n",
    "\n",
    "\n",
    "from MCMC_PowerLaw   import * # Import utils to perform the MCMC analysis.\n",
    "from Fisher_PowerLaw import * # Import utils to calculate the Fisher estimates.\n",
    "\n",
    "\n",
    "%matplotlib inline\n",
    "np.random.seed(1234)\n",
    "\n",
    "\n",
    "params = {'axes.labelsize': 18,\n",
    "          'font.family': 'serif',\n",
    "          'font.serif': 'Computer Modern Raman',\n",
    "          'font.size': 18,\n",
    "          'axes.linewidth': 1,\n",
    "          'legend.fontsize': 15,\n",
    "          'xtick.labelsize': 18,\n",
    "          'xtick.top': True,\n",
    "          'ytick.labelsize': 18,\n",
    "          'ytick.right': True,\n",
    "          'axes.grid' : True,\n",
    "          'text.usetex': True,\n",
    "          'savefig.dpi' : 100,\n",
    "          'lines.markersize' : 14,\n",
    "          'axes.formatter.limits' : (-3,3)}\n",
    "\n",
    "mpl.rcParams.update(params)"
   ]
  },
  {
   "cell_type": "markdown",
   "id": "b97be972",
   "metadata": {},
   "source": [
    "### Generate data"
   ]
  },
  {
   "cell_type": "markdown",
   "id": "08b0a593",
   "metadata": {},
   "source": [
    "The data are generated in the same way as the tutorial, with a spectral index that is flat in the log of the masses and lower and upper limits $10^4 M_\\odot < M < 10^7 M_\\odot$."
   ]
  },
  {
   "cell_type": "code",
   "execution_count": 2,
   "id": "6d833251",
   "metadata": {},
   "outputs": [],
   "source": [
    "\"\"\"\n",
    "Parameters\n",
    "\"\"\"\n",
    "\n",
    "N_obs = 100\n",
    "N_samps_likelihoods = 10\n",
    "N_samps_selfunction = 5000 # Needs to be high to sample well the selection function's integral.\n",
    "                            # but small enough to avoid slowing the Fisher calculation too much.\n",
    "\n",
    "\n",
    "alpha0_t = 0.00001 # Choose flat spectral profile.\n",
    "M_min=10000. ;   logM_min = np.log(M_min) # M runs from 10^4\n",
    "M_max=10000000.; logM_max = np.log(M_max) # to 10^7 solar masses."
   ]
  },
  {
   "cell_type": "markdown",
   "id": "b16c2b12",
   "metadata": {},
   "source": [
    "The analytical inversion of the power-law to get samples for the masses has been coded up in the $\\texttt{log_M()}$ function. See the [tutorial](https://github.com/aantonelli94/PopFisher/blob/main/GW_like_examples/tutorial_EMRI_mass_function_no_selectioneffects.ipynb) for more details as to how this is done.\n"
   ]
  },
  {
   "cell_type": "code",
   "execution_count": 3,
   "id": "7c3d6261",
   "metadata": {},
   "outputs": [
    {
     "name": "stdout",
     "output_type": "stream",
     "text": [
      "Out of 100 possible events, 47 are detected.\n"
     ]
    }
   ],
   "source": [
    "\"\"\"\n",
    "Noise characteristics.\n",
    "\"\"\"\n",
    "\n",
    "sigma = 1.\n",
    "dth = 13.0\n",
    "noise = np.random.normal(0,sigma,size = N_obs)\n",
    "\n",
    "\"\"\"\n",
    "Data draws.\n",
    "\"\"\"\n",
    "\n",
    "u = np.random.uniform(size=N_obs)\n",
    "logM_t=log_M(alpha0_t, N_obs, M_max,M_min)\n",
    "d_i = noise + logM_t  # observations made of noise + true population.\n",
    "d_i_selbias = d_i[d_i>dth]\n",
    "N_det = len(d_i_selbias)\n",
    "\n",
    "print('Out of', N_obs,'possible events,', N_det,'are detected.')\n",
    "\n",
    "\"\"\"\n",
    "Data array. The structure of data is such that Data[i,j] is the jth posterior sample from event i.\n",
    "We assume the observation model p(d|theta) is a normal gaussian with noise variance sigma.\n",
    "\n",
    "\"\"\"\n",
    "\n",
    "logM_obs_selbias=np.zeros((N_det,N_samps_likelihoods))\n",
    "for i in np.arange(N_det):\n",
    "    logM_obs_selbias[i,:]=np.random.normal(d_i_selbias[i],sigma,size=N_samps_likelihoods)\n",
    "data = logM_obs_selbias\n"
   ]
  },
  {
   "cell_type": "markdown",
   "id": "5ab4c15a",
   "metadata": {},
   "source": [
    "Plot the true and observed populations. If a threshold lower than the lower limit of integration in the masses has been chosen, the two populations will be clearly distinguishable."
   ]
  },
  {
   "cell_type": "code",
   "execution_count": 4,
   "id": "bdf577f9",
   "metadata": {},
   "outputs": [
    {
     "data": {
      "text/plain": [
       "<matplotlib.legend.Legend at 0x7f82bd8513d0>"
      ]
     },
     "execution_count": 4,
     "metadata": {},
     "output_type": "execute_result"
    },
    {
     "data": {
      "image/png": "[encoded data removed]",
      "text/plain": [
       "<Figure size 432x360 with 1 Axes>"
      ]
     },
     "metadata": {
      "needs_background": "light"
     },
     "output_type": "display_data"
    }
   ],
   "source": [
    "fig, ax = plt.subplots(1,1,figsize=(6,5))\n",
    "plt.hist(np.log10(np.exp(d_i)),density=True,bins=10,histtype = 'stepfilled',\n",
    "                               color ='gainsboro', alpha=0.7, edgecolor='white')\n",
    "sns.kdeplot(np.array(np.log10(np.exp(d_i))), label='True population',c='k')\n",
    "plt.hist(np.log10(np.exp(d_i_selbias)),density=True,bins=10,histtype = 'stepfilled',\n",
    "                            color ='lightpink', alpha=0.7, edgecolor='white')\n",
    "sns.kdeplot(np.array(np.log10(np.exp(d_i_selbias))), label='Observed population',c='red')\n",
    "    \n",
    "plt.axvline(x=np.log10(np.exp(np.mean(logM_t))), label='True mean', c='orange',ls='--',lw=3)\n",
    "\n",
    "plt.xlabel('$\\log(M_{obs}/M_\\odot)$')\n",
    "plt.ylabel('Density')\n",
    "plt.legend()"
   ]
  },
  {
   "cell_type": "markdown",
   "id": "0fc31e79",
   "metadata": {},
   "source": [
    "### Fitting"
   ]
  },
  {
   "cell_type": "markdown",
   "id": "7517aaf1",
   "metadata": {},
   "source": [
    "We fit the population likelihood here assuming flat gaussian priors on $\\alpha$. Notice that the relevant function for the log_likelihood-- \"log_likelihood()\" -- is found in MCMC_PowerLaw.py. The argument it requires are fed into the args option in the \"EnsembleSampler\".\n",
    "\n",
    "Notice that the \"log_likelihood()\" function takes into account selection effects. These are obtained solving the following integral with Monte Carlo methods,\n",
    "\n",
    "  $$p_\\text{det}(\\lambda) = \\int p_\\text{det}(\\theta) p(\\theta|\\lambda) d\\theta \\approx \\frac{1}{N_\\text{samp}}\\sum \\frac{p_\\text{det}(\\theta_{ij})}{2}\\text{erfc}\\left[\\frac{d_\\text{th}-\\theta_{ij}}{\\sqrt{2}\\sigma}\\right]\\quad (\\text{with } \\theta_{ij}\\sim p(\\theta|\\lambda)).$$\n",
    "\n",
    "This integration is performed in the \"selection_function\" function called by \"log_likelihood()\"."
   ]
  },
  {
   "cell_type": "code",
   "execution_count": 5,
   "id": "9e65d9a7",
   "metadata": {},
   "outputs": [
    {
     "name": "stderr",
     "output_type": "stream",
     "text": [
      "100%|████████████████████████████████████| 10000/10000 [00:16<00:00, 618.19it/s]\n"
     ]
    }
   ],
   "source": [
    "# Limits of (flat) hyperpriors.\n",
    "\n",
    "hyperprior_min = -10.0\n",
    "hyperprior_max = 10.0\n",
    "\n",
    "# Iterations, ndims and walkers.\n",
    "\n",
    "n_iter = 10000\n",
    "ndim = 1; nwalkers = 2\n",
    "\n",
    "# Initialization of the MCMC. Perturb away from true values.\n",
    "\n",
    "pos_init0 = [alpha0_t]\n",
    "p0 = pos_init0*(1+0.001* np.random.randn(nwalkers, ndim))\n",
    "\n",
    "# Sampling\n",
    "\n",
    "sampler = emcee.EnsembleSampler(nwalkers, ndim, log_likelihood, \n",
    "                                args=[data,hyperprior_min,hyperprior_max,\n",
    "                                      N_samps_selfunction, M_max, M_min, sigma, dth, N_det])\n",
    "run = sampler.run_mcmc(p0, n_iter, progress=True)"
   ]
  },
  {
   "cell_type": "markdown",
   "id": "b75d0d48",
   "metadata": {},
   "source": [
    "Prepare samples and check the trace."
   ]
  },
  {
   "cell_type": "code",
   "execution_count": 6,
   "id": "83b38a4a",
   "metadata": {},
   "outputs": [
    {
     "data": {
      "image/png": "[encoded data removed]",
      "text/plain": [
       "<Figure size 432x288 with 1 Axes>"
      ]
     },
     "metadata": {
      "needs_background": "light"
     },
     "output_type": "display_data"
    }
   ],
   "source": [
    "\"\"\"\n",
    "Collect the samples here.\n",
    "\"\"\"\n",
    "burnin = 1500\n",
    "\n",
    "chains = sampler.get_chain(discard=burnin, thin=1, flat=False)\n",
    "alpha_samples = chains[:,:,0].flatten()\n",
    "\n",
    "plt.plot(alpha_samples, \"k\", alpha=0.3)\n",
    "plt.tight_layout()\n",
    "plt.show()"
   ]
  },
  {
   "cell_type": "markdown",
   "id": "7914ad1d",
   "metadata": {},
   "source": [
    "### Fisher estimates"
   ]
  },
  {
   "cell_type": "markdown",
   "id": "fb7f7660",
   "metadata": {},
   "source": [
    "This expressions has been coded up for a mono-parametric (but generic) power-law model in the function \"FM_1D_powerlaw\" function below, which is found in Fisher_PowerLaw.py.\n",
    "\n",
    "Details as to how this is calculated and implemented are reported in [this note](https://github.com/aantonelli94/PopFisher/blob/main/GW_like_examples/code_for_paper_results/Notes_1D_FM_PowerLaw.ipynb)."
   ]
  },
  {
   "cell_type": "code",
   "execution_count": 7,
   "id": "fe4feddd",
   "metadata": {},
   "outputs": [
    {
     "name": "stdout",
     "output_type": "stream",
     "text": [
      "------------------------------------------------\n",
      "The first term in the FM takes 14 s to evaluate\n",
      "First integral: 59.66133499145512\n",
      "------------------------------------------------\n",
      "The second term in the FM takes 20 s to evaluate\n",
      "Second integral: -0.30271505141886296\n",
      "------------------------------------------------\n",
      "The third term in the FM takes 22 s to evaluate\n",
      "Third integral: -1.1309088062414228\n",
      "------------------------------------------------\n",
      "The fourth term in the FM takes 30 s to evaluate\n",
      "Fourth integral: 0.024744400724888913\n",
      "------------------------------------------------\n",
      "The fifth term in the FM takes 21 s to evaluate\n",
      "Fifth integral: -0.23347345311810624\n",
      "------------------------------------------------\n",
      "Gamma_lambda: 58.01898208140162\n"
     ]
    }
   ],
   "source": [
    "#samples drawn from PDF to be used in the Monte Carlo integral.\n",
    "\n",
    "theta_ij = log_M(alpha0_t,N_samps_selfunction,M_max,M_min) \n",
    "gamma_lambda = FM_1D_powerlaw(theta_ij,alpha0_t,M_max,M_min,sigma,dth,N_samps_selfunction,N_det) #Gamma_lambda(theta_ij,alpha0_t,M_max,M_min,sigma,dth,N_samps_selfunction,N_det)\n",
    "print('Gamma_lambda:', gamma_lambda)"
   ]
  },
  {
   "cell_type": "markdown",
   "id": "ba352465",
   "metadata": {},
   "source": [
    "Finally, plot the Fisher estimate against the MCMC posterior below."
   ]
  },
  {
   "cell_type": "code",
   "execution_count": 8,
   "id": "c353ed09",
   "metadata": {
    "scrolled": true
   },
   "outputs": [
    {
     "data": {
      "image/png": "[encoded data removed]",
      "text/plain": [
       "<Figure size 432x288 with 1 Axes>"
      ]
     },
     "metadata": {
      "needs_background": "light"
     },
     "output_type": "display_data"
    }
   ],
   "source": [
    "\"\"\"\n",
    "Posteriors with Fisher estimates\n",
    "\"\"\"\n",
    "\n",
    "\n",
    "_, bins_alpha, _= plt.hist(alpha_samples, 30, histtype = 'bar', color ='gainsboro', density=True, edgecolor='black', label='MCMC')\n",
    "bins_alpha= np.array(bins_alpha)\n",
    "Da=np.sqrt(1/gamma_lambda)\n",
    "plt.plot(bins_alpha, gaussian(bins_alpha,np.median(bins_alpha),Da**2), color='black', lw=2.5,label='Fisher')\n",
    "    \n",
    "\n",
    "plt.axvline(x=alpha0_t, label='True', c='orange',ls='--',lw=3)\n",
    "plt.xlabel('alpha')\n",
    "plt.ylabel('PDF')\n",
    "plt.legend()\n",
    "plt.show()"
   ]
  }
 ],
 "metadata": {
  "interpreter": {
   "hash": "6a4c3f65261587b55a0f30d9b7a4892a0c55342535808fcf5e158d1bb0d89e5f"
  },
  "kernelspec": {
   "display_name": "Python 3 (ipykernel)",
   "language": "python",
   "name": "python3"
  },
  "language_info": {
   "codemirror_mode": {
    "name": "ipython",
    "version": 3
   },
   "file_extension": ".py",
   "mimetype": "text/x-python",
   "name": "python",
   "nbconvert_exporter": "python",
   "pygments_lexer": "ipython3",
   "version": "3.8.8"
  }
 },
 "nbformat": 4,
 "nbformat_minor": 5
}
