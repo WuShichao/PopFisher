{
 "cells": [
  {
   "cell_type": "markdown",
   "id": "41de7c63",
   "metadata": {},
   "source": [
    "### Notes on calculating the 1D population Fisher matrix for a generic power-law model."
   ]
  },
  {
   "cell_type": "markdown",
   "id": "49d212e2",
   "metadata": {},
   "source": [
    "The Fisher matrix for population inference in full glory is\n",
    "\n",
    "$$\n",
    "\\begin{align}\n",
    "(\\Gamma_\\lambda)_{ij} \n",
    "&=-\\int \\frac{\\partial^2 \\ln (p(\\vec\\theta_0 | \\vec\\lambda)/p_{\\rm det,m}(\\vec\\lambda))}{\\partial\\lambda^i \\partial\\lambda^j} \\, \\frac{p_{\\rm det,m}(\\vec\\theta_0)}{p_{\\rm det,m}(\\vec\\lambda)} p(\\vec\\theta_0 | \\vec\\lambda) {\\rm d} \\vec\\theta_0 \\nonumber \\\\\n",
    "&\\hspace{2cm}+ \\frac{1}{2} \\int \\frac{\\partial^2 \\ln {\\rm det}(\\Gamma+H)}{\\partial\\lambda^i \\partial\\lambda^j} \\, \\frac{p_{\\rm det,m}(\\vec\\theta_0)}{p_{\\rm det,m}(\\vec\\lambda)} p(\\vec\\theta_0 | \\vec\\lambda) {\\rm d} \\vec\\theta_0\\nonumber \\\\\n",
    "&\\hspace{2cm} - \\frac{1}{2} \\int \\frac{\\partial^2}{\\partial\\lambda^i \\partial\\lambda^j}\\left[(\\Gamma+H)^{-1}_{kl}\\right] D_{m,kl} \\, \\frac{p(\\vec\\theta_0 | \\vec\\lambda)}{p_{\\rm det,m}(\\vec\\lambda)}  {\\rm d} \\vec\\theta_0 \\nonumber \\\\\n",
    "&\\hspace{2cm} -  \\int \\frac{\\partial^2}{\\partial\\lambda^i \\partial\\lambda^j} \\left[ P_k(\\Gamma+H)^{-1}_{kl}\\right]D_{m,l} \\, \\frac{p(\\vec\\theta_0 | \\vec\\lambda)}{p_{\\rm det,m}(\\vec\\lambda)}  {\\rm d} \\vec\\theta_0 \\nonumber \\\\\n",
    "&\\hspace{2cm} - \\frac{1}{2} \\int \\frac{\\partial^2}{\\partial\\lambda^i \\partial\\lambda^j} \\left[ P_k (\\Gamma+H)^{-1}_{kl} P_l \\right] \\, \\frac{p_{\\rm det,m}(\\vec\\theta_0)}{p_{\\rm det,m}(\\vec\\lambda)} p(\\vec\\theta_0 | \\vec\\lambda) {\\rm d} \\vec\\theta_0\n",
    "\\end{align}\n",
    "$$\n",
    "\n",
    "We define first, second, third, .., terms in $(\\Gamma_\\lambda)_{ij}$ according to the order of the terms above. We further define\n",
    "\n",
    "$$\n",
    "D_{t,i} \\equiv \\int \\left( \\mathbf{n} \\bigg| \\frac{\\partial \\mathbf{h}}{\\partial\\theta^i} \\right) p(\\mathbf{n}) {\\rm d}\\mathbf{n} = \\frac{\\partial p_{\\rm det,t}(\\vec\\theta_0)}{\\partial\\theta^i}\\,, \\quad \n",
    "        D_{t,ij} \\equiv \\int \\left( \\mathbf{n} \\bigg| \\frac{\\partial \\mathbf{h}}{\\partial\\theta^i} \\right) \\left( \\mathbf{n} \\bigg| \\frac{\\partial \\mathbf{h}}{\\partial\\theta^j} \\right) p(\\mathbf{n}) {\\rm d}\\mathbf{n} = \\Gamma_{ij} = \\frac{1}{\\sigma^2}\\,, \\quad P_i =  \\frac{\\partial \\ln p(\\vec\\theta|\\vec\\lambda)}{\\partial \\theta^i}\\,, \\qquad H_{ij} = -\\frac{\\partial^2 \\ln p(\\vec\\theta|\\vec\\lambda)}{\\partial \\theta^i \\partial \\theta^j}.\n",
    "$$\n",
    "\n",
    "Notice that, in our case, $\\lambda = \\{\\alpha\\}$ and $\\theta=\\{\\ln M\\}$."
   ]
  },
  {
   "cell_type": "markdown",
   "id": "0ac68b46",
   "metadata": {},
   "source": [
    "To simplify the mess above for practical calculation, we can define\n",
    "\n",
    "$$\n",
    "A(\\theta) = - \\frac{\\partial^2 \\ln (p(\\vec\\theta_0 | \\vec\\lambda)/p_{\\rm det,m}(\\vec\\lambda))}{\\partial\\lambda^i \\partial\\lambda^j}, \\quad B(\\theta)=\\frac{1}{2} \\frac{\\partial^2 \\ln {\\rm det}(\\Gamma+H)}{\\partial\\lambda^i \\partial\\lambda^j}, \\quad C(\\theta)=- \\frac{1}{2} \\frac{\\partial^2}{\\partial\\lambda^i \\partial\\lambda^j}\\left[(\\Gamma+H)^{-1}_{kl}\\right] D_{m,kl}, \\quad D(\\theta)=-  \\frac{\\partial^2}{\\partial\\lambda^i \\partial\\lambda^j} \\left[ P_k(\\Gamma+H)^{-1}_{kl}\\right]D_{m,l}, \\quad E(\\theta)=- \\frac{1}{2} \\int \\frac{\\partial^2}{\\partial\\lambda^i \\partial\\lambda^j} \\left[ P_k (\\Gamma+H)^{-1}_{kl} P_l \\right].\n",
    "$$\n",
    "\n",
    "This way the integral becomes\n",
    "\n",
    "$$\n",
    "(\\Gamma_\\lambda)_{ij} \n",
    "=\\int A(\\theta) \\frac{p_{\\rm det,m}(\\vec\\theta_0)}{p_{\\rm det,m}(\\vec\\lambda)} p(\\vec\\theta_0 | \\vec\\lambda) {\\rm d} \\vec\\theta_0 +\\int B(\\theta) \\frac{p_{\\rm det,m}(\\vec\\theta_0)}{p_{\\rm det,m}(\\vec\\lambda)} p(\\vec\\theta_0 | \\vec\\lambda) {\\rm d} \\vec\\theta_0 + \\int C(\\theta) \\frac{p(\\vec\\theta_0 | \\vec\\lambda)}{p_{\\rm det,m}(\\vec\\lambda)}  {\\rm d} \\vec\\theta_0 + \\int D(\\theta) \\frac{p(\\vec\\theta_0 | \\vec\\lambda)}{p_{\\rm det,m}(\\vec\\lambda)}  {\\rm d} \\vec\\theta_0 + \\int E(\\theta) \\frac{p_{\\rm det,m}(\\vec\\theta_0)}{p_{\\rm det,m}(\\vec\\lambda)} p(\\vec\\theta_0 | \\vec\\lambda) {\\rm d} \\vec\\theta_0.\n",
    "$$\n",
    "\n",
    "\n",
    "The advantage of this redefinitions is that the functions $A(\\theta)$ to $E(\\theta)$ can be evaluated analytically. We have done this in Mathematica, obtaining results in InputForm which we pickle below into a dictionary."
   ]
  },
  {
   "cell_type": "markdown",
   "id": "9f21c006",
   "metadata": {},
   "source": [
    "We solve the integrals with the Monte Carlo method, implying that we only focus on the arguments $X(\\theta)$ of integrals of the form\n",
    "$$\n",
    "\\int X(\\theta) p(\\theta|\\lambda) d\\theta \\approx \\frac{1}{N_\\text{samp}}\\sum X(\\theta_{ij}), \\quad \\text{with } \\theta_{ij}\\sim p(\\theta|\\lambda)\n",
    "$$\n",
    "\n",
    "The arguments are the analytical expressions loaded before, reweighted by the appropriate probabilities of detecting $\\theta$ and $\\lambda$, namely $p_\\text{det}(\\theta)$ and $p_\\text{det}(\\lambda)$ defined below \n",
    "\n",
    "$$\n",
    "p_\\text{det}(\\theta) =  \\frac{1}{2}\\text{erfc}\\left[\\frac{d_\\text{th}-\\theta}{\\sqrt{2}\\sigma}\\right], \\quad\n",
    "p_\\text{det}(\\lambda) = \\int p_\\text{det}(\\theta) p(\\theta|\\lambda) d\\theta \\approx \\frac{1}{N_\\text{samp}}\\sum \\frac{1}{2}\\text{erfc}\\left[\\frac{d_\\text{th}-\\theta_{ij}}{\\sqrt{2}\\sigma}\\right] p_\\text{det}(\\theta_{ij}), \\quad (\\text{with } \\theta_{ij}\\sim p(\\theta|\\lambda)).\n",
    "$$\n",
    "\n",
    "In fact, in the analytical expressions themselves we need $p_\\text{det}(\\lambda)$ and its derivatives.\n",
    "The first and second derivatives of $p_\\text{det}(\\lambda)$ can be solved more easily noting that \n",
    "\n",
    "$$\n",
    "\\frac{\\partial p_\\text{det}(\\lambda)}{\\partial \\lambda} = \\int p_\\text{det}(\\theta) \\frac{\\partial p(\\theta|\\lambda)}{\\partial \\lambda} d\\theta = \\int p_\\text{det}(\\theta) \\frac{\\partial \\ln p(\\theta|\\lambda)}{\\partial \\lambda}p(\\theta|\\lambda) d\\theta\n",
    "$$\n",
    "and \n",
    "$$\n",
    "\\frac{\\partial^2 p_\\text{det}(\\lambda)}{\\partial \\lambda^2} = \\int p_\\text{det}(\\theta) \\frac{\\partial^2 p(\\theta|\\lambda)}{\\partial \\lambda^2} d\\theta = \\int p_\\text{det}(\\theta) \\left[\\frac{\\partial^2 \\ln p(\\theta|\\lambda)}{\\partial \\lambda^2}+\\left(\\frac{\\partial \\ln p(\\theta|\\lambda)}{\\partial \\lambda}\\right)^2\\right]p(\\theta|\\lambda) d\\theta\n",
    "$$\n",
    "\n",
    "This way we can solve the Monte Carlo integrals in the same way as before. We calculate the derivatives of $p(\\theta|\\lambda)$ in the argument with Mathematica as well. These expressions are the last two included in the pickled dictionary."
   ]
  },
  {
   "cell_type": "code",
   "execution_count": 3,
   "id": "f72b8d22",
   "metadata": {},
   "outputs": [
    {
     "name": "stdout",
     "output_type": "stream",
     "text": [
      "True\n"
     ]
    }
   ],
   "source": [
    "import pickle\n",
    "\n",
    "a = {'Da_no_sel_firstterm': 'Sqrt[1/(Nobs*(alpha^(-2) - (Mmax^alpha*Mmin^alpha*(Log[Mmax] - Log[Mmin])^2)/(Mmax^alpha - Mmin^alpha)^2))]',\n",
    "     'A_theta':'alpha^(-2) + (-derselfct^2 + dderselfct*selfct)/selfct^2 - (Mmax^alpha*Mmin^alpha*(Log[Mmax] - Log[Mmin])^2)/(Mmax^alpha - Mmin^alpha)^2',\n",
    "     'B_theta': '(lnM^(-6 + alpha)*(-(lnM^alpha*((2 + 3*(-2 + alpha)*alpha)*(Mmax^alpha - Mmin^alpha) + (-2 + alpha)*(-1 + alpha)*alpha*(Mmax^alpha*(Log[lnM] - Log[Mmax]) + Mmin^alpha*(-Log[lnM] + Log[Mmin])))^2) - (lnM^3*(Mmax^alpha - Mmin^alpha - (-2 + alpha)*(-1 + alpha)*alpha*lnM^(-3 + alpha)*sigma^2)*(6*(-1 + alpha)*(Mmax^alpha - Mmin^alpha)^2 + Mmax^(2*alpha)*(4 + 6*(-2 + alpha)*alpha + (-2 + alpha)*(-1 + alpha)*alpha*(Log[lnM] - Log[Mmax]))*(Log[lnM] - Log[Mmax]) + Mmin^(2*alpha)*(4 + 6*(-2 + alpha)*alpha + (-2 + alpha)*(-1 + alpha)*alpha*(Log[lnM] - Log[Mmin]))*(Log[lnM] - Log[Mmin]) + Mmax^alpha*Mmin^alpha*(-2*(-2 + alpha)*(-1 + alpha)*alpha*Log[lnM]^2 + 4*(Log[Mmax] + Log[Mmin]) + 2*Log[lnM]*(-4 - 6*(-2 + alpha)*alpha + (-2 + alpha)*(-1 + alpha)*alpha*(Log[Mmax] + Log[Mmin])) + (-2 + alpha)*alpha*((-1 + alpha)*Log[Mmax]^2 + Log[Mmax]*(6 - 4*(-1 + alpha)*Log[Mmin]) + Log[Mmin]*(6 + (-1 + alpha)*Log[Mmin])))))/sigma^2))/(2*(Mmax^alpha - Mmin^alpha)^4*(((-2 + alpha)*(-1 + alpha)*alpha*lnM^(-3 + alpha))/(-Mmax^alpha + Mmin^alpha) + sigma^(-2))^2)',\n",
    "     'C_theta':'-1/2*(lnM^(-6 + alpha)*(2*lnM^alpha*((2 + 3*(-2 + alpha)*alpha)*(Mmax^alpha - Mmin^alpha) + (-2 + alpha)*(-1 + alpha)*alpha*(Mmax^alpha*(Log[lnM] - Log[Mmax]) + Mmin^alpha*(-Log[lnM] + Log[Mmin])))^2 + (lnM^3*(Mmax^alpha - Mmin^alpha - (-2 + alpha)*(-1 + alpha)*alpha*lnM^(-3 + alpha)*sigma^2)*(6*(-1 + alpha)*(Mmax^alpha - Mmin^alpha)^2 + Mmax^(2*alpha)*(4 + 6*(-2 + alpha)*alpha + (-2 + alpha)*(-1 + alpha)*alpha*(Log[lnM] - Log[Mmax]))*(Log[lnM] - Log[Mmax]) + Mmin^(2*alpha)*(4 + 6*(-2 + alpha)*alpha + (-2 + alpha)*(-1 + alpha)*alpha*(Log[lnM] - Log[Mmin]))*(Log[lnM] - Log[Mmin]) + Mmax^alpha*Mmin^alpha*(-2*(-2 + alpha)*(-1 + alpha)*alpha*Log[lnM]^2 + 4*(Log[Mmax] + Log[Mmin]) + 2*Log[lnM]*(-4 - 6*(-2 + alpha)*alpha + (-2 + alpha)*(-1 + alpha)*alpha*(Log[Mmax] + Log[Mmin])) + (-2 + alpha)*alpha*((-1 + alpha)*Log[Mmax]^2 + Log[Mmax]*(6 - 4*(-1 + alpha)*Log[Mmin]) + Log[Mmin]*(6 + (-1 + alpha)*Log[Mmin])))))/sigma^2))/((Mmax^alpha - Mmin^alpha)^4*(((-2 + alpha)*(-1 + alpha)*alpha*lnM^(-3 + alpha))/(-Mmax^alpha + Mmin^alpha) + sigma^(-2))^3*sigma^2)',\n",
    "     'D_theta':'(lnM^(-7 + alpha)*(2*(Mmax^alpha - Mmin^alpha)*(lnM^3*(-Mmax^alpha + Mmin^alpha) + (-2 + alpha)*(-1 + alpha)*alpha*lnM^alpha*sigma^2)*((2 + 3*(-2 + alpha)*alpha)*(Mmax^alpha - Mmin^alpha) + (-2 + alpha)*(-1 + alpha)*alpha*(Mmax^alpha*(Log[lnM] - Log[Mmax]) + Mmin^alpha*(-Log[lnM] + Log[Mmin]))) + 2*(1 - alpha)*lnM^alpha*sigma^2*((2 + 3*(-2 + alpha)*alpha)*(Mmax^alpha - Mmin^alpha) + (-2 + alpha)*(-1 + alpha)*alpha*(Mmax^alpha*(Log[lnM] - Log[Mmax]) + Mmin^alpha*(-Log[lnM] + Log[Mmin])))^2 + (1 - alpha)*lnM^3*(Mmax^alpha - Mmin^alpha - (-2 + alpha)*(-1 + alpha)*alpha*lnM^(-3 + alpha)*sigma^2)*(6*(-1 + alpha)*(Mmax^alpha - Mmin^alpha)^2 + Mmax^(2*alpha)*(4 + 6*(-2 + alpha)*alpha + (-2 + alpha)*(-1 + alpha)*alpha*(Log[lnM] - Log[Mmax]))*(Log[lnM] - Log[Mmax]) + Mmin^(2*alpha)*(4 + 6*(-2 + alpha)*alpha + (-2 + alpha)*(-1 + alpha)*alpha*(Log[lnM] - Log[Mmin]))*(Log[lnM] - Log[Mmin]) + Mmax^alpha*Mmin^alpha*(-2*(-2 + alpha)*(-1 + alpha)*alpha*Log[lnM]^2 + 4*(Log[Mmax] + Log[Mmin]) + 2*Log[lnM]*(-4 - 6*(-2 + alpha)*alpha + (-2 + alpha)*(-1 + alpha)*alpha*(Log[Mmax] + Log[Mmin])) + (-2 + alpha)*alpha*((-1 + alpha)*Log[Mmax]^2 + Log[Mmax]*(6 - 4*(-1 + alpha)*Log[Mmin]) + Log[Mmin]*(6 + (-1 + alpha)*Log[Mmin]))))))/(E^((dth - lnM)^2/(2*sigma^2))*(Mmax^alpha - Mmin^alpha)^4*Sqrt[2*Pi]*(((-2 + alpha)*(-1 + alpha)*alpha*lnM^(-3 + alpha))/(-Mmax^alpha + Mmin^alpha) + sigma^(-2))^3*(sigma^2)^(3/2))',\n",
    "     'E_theta':'-1/2*(2 + (2*(-1 + alpha)^3*lnM^(-6 + alpha)*sigma^2*(7*lnM^3*(Mmax^alpha - Mmin^alpha) + (-1 + alpha)*(4 + (-2 + alpha)*alpha)*lnM^alpha*sigma^2))/(Mmax^alpha - Mmin^alpha)^2 + ((-1 + alpha)^2*lnM^(-6 + alpha)*sigma^2*((-2 + alpha)*(-1 + alpha)*alpha*(Mmax^alpha - Mmin^alpha)*(lnM^3*(Mmax^alpha - Mmin^alpha) + (-2 + alpha)*(-1 + alpha)*alpha*lnM^alpha*sigma^2)*Log[lnM]^2 + (-2 + alpha)*(-1 + alpha)*alpha*Mmax^alpha*(lnM^3*(Mmax^alpha + Mmin^alpha) + (-2 + alpha)*(-1 + alpha)*alpha*lnM^alpha*sigma^2)*Log[Mmax]^2 + 2*Mmax^alpha*Log[Mmax]*(-((2 + 5*(-2 + alpha)*alpha)*lnM^3*(Mmax^alpha - Mmin^alpha)) - (-2 + alpha)*(-1 + alpha)*alpha*(2 + (-2 + alpha)*alpha)*lnM^alpha*sigma^2 - 2*(-2 + alpha)*(-1 + alpha)*alpha*lnM^3*Mmin^alpha*Log[Mmin]) + Mmin^alpha*Log[Mmin]*(2*((2 + 5*(-2 + alpha)*alpha)*lnM^3*(Mmax^alpha - Mmin^alpha) + (-2 + alpha)*(-1 + alpha)*alpha*(2 + (-2 + alpha)*alpha)*lnM^alpha*sigma^2) + (-2 + alpha)*(-1 + alpha)*alpha*(lnM^3*(Mmax^alpha + Mmin^alpha) - (-2 + alpha)*(-1 + alpha)*alpha*lnM^alpha*sigma^2)*Log[Mmin]) + 2*Log[lnM]*((Mmax^alpha - Mmin^alpha)*((2 + 5*(-2 + alpha)*alpha)*lnM^3*(Mmax^alpha - Mmin^alpha) + (-2 + alpha)*(-1 + alpha)*alpha*(2 + (-2 + alpha)*alpha)*lnM^alpha*sigma^2) - (-2 + alpha)*(-1 + alpha)*alpha*(lnM^3*(Mmax^alpha - Mmin^alpha) + (-2 + alpha)*(-1 + alpha)*alpha*lnM^alpha*sigma^2)*(Mmax^alpha*Log[Mmax] - Mmin^alpha*Log[Mmin]))))/(Mmax^alpha - Mmin^alpha)^3)/(lnM^2*(((-2 + alpha)*(-1 + alpha)*alpha*lnM^(-3 + alpha))/(-Mmax^alpha + Mmin^alpha) + sigma^(-2))^3*sigma^4)',\n",
    "     'arg_der_plambda': 'alpha^(-1) + Log[E^lnM] + (Mmax^alpha*(Log[Mmax] - Log[Mmin]))/(-Mmax^alpha + Mmin^alpha) - Log[Mmin]',\n",
    "     'arg_doubleder_plambda': '(Mmax^alpha*(2 + alpha*(2*Log[E^lnM] + Log[Mmax] - 3*Log[Mmin]))*(Log[Mmax] - Log[Mmin]))/(alpha*(-Mmax^alpha + Mmin^alpha)) + (2*Mmax^(2*alpha)*(Log[Mmax] - Log[Mmin])^2)/(Mmax^alpha - Mmin^alpha)^2 + ((Log[E^lnM] - Log[Mmin])*(2 + alpha*Log[E^lnM] - alpha*Log[Mmin]))/alpha'\n",
    "    }\n",
    "\n",
    "with open('Fisher_expressions.pickle', 'wb') as handle:\n",
    "    pickle.dump(a, handle, protocol=pickle.HIGHEST_PROTOCOL)\n",
    "\n",
    "with open('Fisher_expressions.pickle', 'rb') as handle:\n",
    "    b = pickle.load(handle)\n",
    "\n",
    "print(a == b)"
   ]
  },
  {
   "cell_type": "code",
   "execution_count": null,
   "id": "d7552719",
   "metadata": {},
   "outputs": [],
   "source": []
  }
 ],
 "metadata": {
  "kernelspec": {
   "display_name": "Python 3 (ipykernel)",
   "language": "python",
   "name": "python3"
  },
  "language_info": {
   "codemirror_mode": {
    "name": "ipython",
    "version": 3
   },
   "file_extension": ".py",
   "mimetype": "text/x-python",
   "name": "python",
   "nbconvert_exporter": "python",
   "pygments_lexer": "ipython3",
   "version": "3.8.8"
  }
 },
 "nbformat": 4,
 "nbformat_minor": 5
}
