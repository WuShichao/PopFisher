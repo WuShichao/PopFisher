{
 "cells": [
  {
   "cell_type": "markdown",
   "id": "41de7c63",
   "metadata": {},
   "source": [
    "### Notes on calculating the 1D population Fisher matrix for a generic power-law model."
   ]
  },
  {
   "cell_type": "markdown",
   "id": "49d212e2",
   "metadata": {},
   "source": [
    "The Fisher matrix for population inference in full glory is\n",
    "\n",
    "$$\n",
    "\\begin{align}\n",
    "(\\Gamma_\\lambda)_{ij} \n",
    "&=-\\int \\frac{\\partial^2 \\ln (p(\\vec\\theta_0 | \\vec\\lambda)/p_{\\rm det,m}(\\vec\\lambda))}{\\partial\\lambda^i \\partial\\lambda^j} \\, \\frac{p_{\\rm det,m}(\\vec\\theta_0)}{p_{\\rm det,m}(\\vec\\lambda)} p(\\vec\\theta_0 | \\vec\\lambda) {\\rm d} \\vec\\theta_0 \\nonumber \\\\\n",
    "&\\hspace{2cm}+ \\frac{1}{2} \\int \\frac{\\partial^2 \\ln {\\rm det}(\\Gamma+H)}{\\partial\\lambda^i \\partial\\lambda^j} \\, \\frac{p_{\\rm det,m}(\\vec\\theta_0)}{p_{\\rm det,m}(\\vec\\lambda)} p(\\vec\\theta_0 | \\vec\\lambda) {\\rm d} \\vec\\theta_0\\nonumber \\\\\n",
    "&\\hspace{2cm} - \\frac{1}{2} \\int \\frac{\\partial^2}{\\partial\\lambda^i \\partial\\lambda^j}\\left[(\\Gamma+H)^{-1}_{kl}\\right] D_{m,kl} \\, \\frac{p(\\vec\\theta_0 | \\vec\\lambda)}{p_{\\rm det,m}(\\vec\\lambda)}  {\\rm d} \\vec\\theta_0 \\nonumber \\\\\n",
    "&\\hspace{2cm} -  \\int \\frac{\\partial^2}{\\partial\\lambda^i \\partial\\lambda^j} \\left[ P_k(\\Gamma+H)^{-1}_{kl}\\right]D_{m,l} \\, \\frac{p(\\vec\\theta_0 | \\vec\\lambda)}{p_{\\rm det,m}(\\vec\\lambda)}  {\\rm d} \\vec\\theta_0 \\nonumber \\\\\n",
    "&\\hspace{2cm} - \\frac{1}{2} \\int \\frac{\\partial^2}{\\partial\\lambda^i \\partial\\lambda^j} \\left[ P_k (\\Gamma+H)^{-1}_{kl} P_l \\right] \\, \\frac{p_{\\rm det,m}(\\vec\\theta_0)}{p_{\\rm det,m}(\\vec\\lambda)} p(\\vec\\theta_0 | \\vec\\lambda) {\\rm d} \\vec\\theta_0\n",
    "\\end{align}\n",
    "$$\n",
    "\n",
    "We define first, second, third, .., terms in $(\\Gamma_\\lambda)_{ij}$ according to the order of the terms above. We further define\n",
    "\n",
    "$$\n",
    "D_{t,i} \\equiv \\int \\left( \\mathbf{n} \\bigg| \\frac{\\partial \\mathbf{h}}{\\partial\\theta^i} \\right) p(\\mathbf{n}) {\\rm d}\\mathbf{n} = \\frac{\\partial p_{\\rm det,t}(\\vec\\theta_0)}{\\partial\\theta^i}\\,, \\quad \n",
    "        D_{t,ij} \\equiv \\int \\left( \\mathbf{n} \\bigg| \\frac{\\partial \\mathbf{h}}{\\partial\\theta^i} \\right) \\left( \\mathbf{n} \\bigg| \\frac{\\partial \\mathbf{h}}{\\partial\\theta^j} \\right) p(\\mathbf{n}) {\\rm d}\\mathbf{n} = \\Gamma_{ij} = \\frac{1}{\\sigma^2}\\,, \\quad P_i =  \\frac{\\partial \\ln p(\\vec\\theta|\\vec\\lambda)}{\\partial \\theta^i}\\,, \\qquad H_{ij} = -\\frac{\\partial^2 \\ln p(\\vec\\theta|\\vec\\lambda)}{\\partial \\theta^i \\partial \\theta^j}.\n",
    "$$\n",
    "\n",
    "Notice that, in our case, $\\lambda = \\{\\alpha\\}$ and $\\theta=\\{\\ln M\\}$."
   ]
  },
  {
   "cell_type": "markdown",
   "id": "9f21c006",
   "metadata": {},
   "source": [
    "----\n",
    "\n",
    "In the case without selection effects, we model all terms in the Fisher matrix for extra sense of security.\n",
    "\n",
    "We solve the integral with the Monte Carlo method, implying that we only focus on the arguments $X(\\theta)$ of integrals of the form\n",
    "$$\n",
    "\\int X(\\theta) p(\\theta|\\lambda) d\\theta \\approx \\frac{1}{N_\\text{samp}}\\sum X(\\theta_{ij}), \\quad \\text{with } \\theta_{ij}\\sim p(\\theta|\\lambda)\n",
    "$$\n",
    "\n",
    "The arguments for each integral are calulcated offline using Mathematica and imported here."
   ]
  },
  {
   "cell_type": "markdown",
   "id": "296e33e5",
   "metadata": {},
   "source": [
    "We also need the expressions for the selection functions of $\\lambda$ and $\\theta$, \n",
    "$$\n",
    "p_\\text{det}(\\theta) =  \\frac{1}{2}\\text{erfc}\\left[\\frac{d_\\text{th}-\\theta}{\\sqrt{2}\\sigma}\\right], \\quad\n",
    "p_\\text{det}(\\lambda) = \\int p_\\text{det}(\\theta) p(\\theta|\\lambda) d\\theta \\approx \\frac{1}{N_\\text{samp}}\\sum \\frac{1}{2}\\text{erfc}\\left[\\frac{d_\\text{th}-\\theta_{ij}}{\\sqrt{2}\\sigma}\\right] p_\\text{det}(\\theta_{ij}) (\\text{with } \\theta_{ij}\\sim p(\\theta|\\lambda)).\n",
    "$$\n",
    "\n",
    "The first and second derivatives of $p_\\text{det}(\\lambda)$ can be integrated in the same way using that\n",
    "\n",
    "$$\n",
    "\\frac{\\partial p_\\text{det}(\\lambda)}{\\partial \\lambda} = \\int p_\\text{det}(\\theta) \\frac{\\partial p(\\theta|\\lambda)}{\\partial \\lambda} d\\theta = \\int p_\\text{det}(\\theta) \\frac{\\partial \\ln p(\\theta|\\lambda)}{\\partial \\lambda}p(\\theta|\\lambda) d\\theta\n",
    "$$\n",
    "and \n",
    "$$\n",
    "\\frac{\\partial^2 p_\\text{det}(\\lambda)}{\\partial \\lambda^2} = \\int p_\\text{det}(\\theta) \\frac{\\partial^2 p(\\theta|\\lambda)}{\\partial \\lambda^2} d\\theta = \\int p_\\text{det}(\\theta) \\left[\\frac{\\partial^2 \\ln p(\\theta|\\lambda)}{\\partial \\lambda^2}+\\left(\\frac{\\partial \\ln p(\\theta|\\lambda)}{\\partial \\lambda}\\right)^2\\right]p(\\theta|\\lambda) d\\theta\n",
    "$$\n",
    "\n",
    "The derivatives of $\\ln p(\\theta|\\lambda)$, coded below, are obtained using $\\texttt{Mathematica}$."
   ]
  },
  {
   "cell_type": "code",
   "execution_count": null,
   "id": "f72b8d22",
   "metadata": {},
   "outputs": [],
   "source": []
  }
 ],
 "metadata": {
  "kernelspec": {
   "display_name": "Python 3 (ipykernel)",
   "language": "python",
   "name": "python3"
  },
  "language_info": {
   "codemirror_mode": {
    "name": "ipython",
    "version": 3
   },
   "file_extension": ".py",
   "mimetype": "text/x-python",
   "name": "python",
   "nbconvert_exporter": "python",
   "pygments_lexer": "ipython3",
   "version": "3.8.8"
  }
 },
 "nbformat": 4,
 "nbformat_minor": 5
}
