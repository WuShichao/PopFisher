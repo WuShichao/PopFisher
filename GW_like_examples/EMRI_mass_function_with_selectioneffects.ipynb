{
 "cells": [
  {
   "cell_type": "markdown",
   "id": "72f28fb7",
   "metadata": {},
   "source": [
    "# MCMC for the mass distribution of EMRIs"
   ]
  },
  {
   "cell_type": "markdown",
   "id": "3073c56e",
   "metadata": {},
   "source": [
    "Choose whether you want to include selection effects in the analysis."
   ]
  },
  {
   "cell_type": "code",
   "execution_count": 1,
   "id": "77c07445",
   "metadata": {},
   "outputs": [],
   "source": [
    "selection_effects = True # Select True if you want to complicate your life."
   ]
  },
  {
   "cell_type": "code",
   "execution_count": 2,
   "id": "c0228a2a",
   "metadata": {},
   "outputs": [],
   "source": [
    "import numpy as np\n",
    "import matplotlib.pyplot as plt\n",
    "import emcee\n",
    "import matplotlib as mpl\n",
    "import seaborn as sns\n",
    "\n",
    "\n",
    "%matplotlib inline\n",
    "np.random.seed(1234)\n",
    "\n",
    "\n",
    "params = {'axes.labelsize': 18,\n",
    "          'font.family': 'serif',\n",
    "          'font.serif': 'Computer Modern Raman',\n",
    "          'font.size': 18,\n",
    "          'axes.linewidth': 1,\n",
    "          'legend.fontsize': 15,\n",
    "          'xtick.labelsize': 18,\n",
    "          'xtick.top': True,\n",
    "          'ytick.labelsize': 18,\n",
    "          'ytick.right': True,\n",
    "          'axes.grid' : True,\n",
    "          'text.usetex': True,\n",
    "          'savefig.dpi' : 100,\n",
    "          'lines.markersize' : 14,\n",
    "          'axes.formatter.limits' : (-3,3)}\n",
    "\n",
    "mpl.rcParams.update(params)"
   ]
  },
  {
   "cell_type": "markdown",
   "id": "08b0a593",
   "metadata": {},
   "source": [
    "We fit a BH mass functionsource parameter given by the mass, $\\theta=M$. This example follows the EMRI mass function [e-Print: 1004.1921 (\"GTV\")]:\n",
    "\n",
    "$$\\frac{dN}{d\\ln M}=A_0\\big(\\frac{M}{M_*}\\big)^{\\alpha_0} \\quad\\Rightarrow\\quad p(M|\\lambda)=\\mathcal{N} M^{\\alpha_0-1} = \\frac{\\alpha_0}{M^{\\alpha_0}_\\text{max}-M^{\\alpha_0}_{\\text{min}}} M^{\\alpha_0-1}.$$\n",
    "\n",
    "We are interested in the $ \\lambda=\\alpha_0$ population parameter. We are assuming that the amplitude $A_0$ does not carry information about the system, but only about the rate of events."
   ]
  },
  {
   "cell_type": "code",
   "execution_count": 3,
   "id": "88bb79fa",
   "metadata": {},
   "outputs": [],
   "source": [
    "def model(lnM,alpha):\n",
    "    \n",
    "    \"\"\"\n",
    "    Model for p(d|lambda).\n",
    "    \n",
    "    Input:\n",
    "    \n",
    "    - data    (The noisy generated data where we expect the masses to be.)\n",
    "    - alpha   (Spectral index of the mass distribution.)\n",
    "    \n",
    "    \"\"\"\n",
    "    \n",
    "    M = np.exp(lnM) # mass observations\n",
    "    norm  = alpha/(M_max**alpha-M_min**alpha)\n",
    "    \n",
    "    \n",
    "    return norm*M**(alpha-1)"
   ]
  },
  {
   "cell_type": "code",
   "execution_count": 4,
   "id": "6d833251",
   "metadata": {},
   "outputs": [],
   "source": [
    "\"\"\"\n",
    "Parameters\n",
    "\"\"\"\n",
    "\n",
    "N_obs = 100\n",
    "N_samps_likelihoods = 10\n",
    "N_samps_selfunction = 100000 # Needs to be high to sample well the selection function's integral.\n",
    "\n",
    "\n",
    "alpha0_t = 0.00001 # Choose flat spectral profile.\n",
    "M_min=10000. ;   logM_min = np.log(M_min) # M runs from 10^4\n",
    "M_max=10000000.; logM_max = np.log(M_max) # to 10^7 solar masses."
   ]
  },
  {
   "cell_type": "markdown",
   "id": "b16c2b12",
   "metadata": {},
   "source": [
    "\n",
    "Starting from the probability density $p(M|\\lambda)=\\mathcal{N} M^{\\alpha_0-1}$, we can use the method of inversion to get the source parameter M. In particular, we define the cumulative density function,\n",
    "\n",
    "$u:=\\text{CDF}(M)= \\mathcal{N}\\int_{M_\\text{min}}^{M}M^{\\alpha_0-1}dM = \\alpha_0^{-1}\\mathcal{N}M^{\\alpha_0}\\big|_{M_\\text{min}}^{M}=\\alpha_0^{-1}\\mathcal{N}(M^{\\alpha_0}-M^{\\alpha_0}_{\\text{min}})$.\n",
    "\n",
    "Now, we get M in terms of $u$, \n",
    "\n",
    "$\\quad M^{\\alpha_0}=\\alpha_0\\mathcal{N}^{-1} u +M^{\\alpha_0}_{\\text{min}}\\quad\\Longrightarrow \\quad \\ln M =\\frac{1}{\\alpha_0} \\ln\\big[(M^{\\alpha_0}_\\text{max}-M^{\\alpha_0}_{\\text{min}})\\, u +M^{\\alpha_0}_{\\text{min}}\\big]\\quad $ (true parameter distribution)."
   ]
  },
  {
   "cell_type": "code",
   "execution_count": 5,
   "id": "f3ad7150",
   "metadata": {},
   "outputs": [],
   "source": [
    "def log_M(alpha, N, Mmax,Mmin):\n",
    "\n",
    "    \"\"\"\n",
    "    Analytical function to draw samples following a power law. \n",
    "    It helps in the definition of the selection function for the MCMC analysis.\n",
    "    \n",
    "    Inputs:\n",
    "    \n",
    "    - alpha: the spectral index chosen.\n",
    "    - N: the number of events of the true underlying population.\n",
    "    - Mmax, Mmin: limits of integration, the minimum and maximum mass of underlying pop.\n",
    "    \n",
    "    \"\"\"\n",
    "    \n",
    "    return alpha**-1 * np.log((Mmax**(alpha)-Mmin**(alpha))*np.random.uniform(size=N)+ Mmin**(alpha)*np.ones(N))"
   ]
  },
  {
   "cell_type": "code",
   "execution_count": 6,
   "id": "7c3d6261",
   "metadata": {},
   "outputs": [
    {
     "name": "stdout",
     "output_type": "stream",
     "text": [
      "Out of 100 possible events, 47 are detected.\n"
     ]
    }
   ],
   "source": [
    "\"\"\"\n",
    "Noise characteristics.\n",
    "\"\"\"\n",
    "\n",
    "sigma = 0.1\n",
    "dth = 13.0\n",
    "noise = np.random.normal(0,sigma,size = N_obs)\n",
    "\n",
    "\"\"\"\n",
    "Data draws.\n",
    "\"\"\"\n",
    "\n",
    "u = np.random.uniform(size=N_obs)\n",
    "logM_t=log_M(alpha0_t, N_obs, M_max,M_min)\n",
    "d_i = noise + logM_t  # observation model made of noise + true population.\n",
    "d_i_selbias = d_i[d_i>dth]\n",
    "N_det = len(d_i_selbias)\n",
    "\n",
    "if selection_effects==True: print('Out of', N_obs,'possible events,', N_det,'are detected.')\n",
    "\n",
    "\"\"\"\n",
    "Data array. The structure of data is such that Data[i,j] is the jth posterior sample from event i.\n",
    "We assume the observation model p(d|theta) is a normal gaussian with noise variance sigma.\n",
    "\n",
    "\"\"\"\n",
    "\n",
    "logM_obs=np.zeros((N_obs,N_samps_likelihoods))\n",
    "logM_obs_selbias=np.zeros((N_det,N_samps_likelihoods))\n",
    "\n",
    "for i in np.arange(N_obs):\n",
    "    logM_obs[i,:]=np.random.normal(d_i[i],sigma,size=N_samps_likelihoods)\n",
    "for i in np.arange(N_det):\n",
    "    logM_obs_selbias[i,:]=np.random.normal(d_i_selbias[i],sigma,size=N_samps_likelihoods)\n",
    "    \n",
    "if selection_effects == True: \n",
    "    data = logM_obs_selbias\n",
    "else:\n",
    "    data =logM_obs"
   ]
  },
  {
   "cell_type": "code",
   "execution_count": 7,
   "id": "bdf577f9",
   "metadata": {},
   "outputs": [
    {
     "data": {
      "text/plain": [
       "<matplotlib.legend.Legend at 0x7fa588caddc0>"
      ]
     },
     "execution_count": 7,
     "metadata": {},
     "output_type": "execute_result"
    },
    {
     "data": {
      "image/png": "[encoded data removed]",
      "text/plain": [
       "<Figure size 432x360 with 1 Axes>"
      ]
     },
     "metadata": {
      "needs_background": "light"
     },
     "output_type": "display_data"
    }
   ],
   "source": [
    "fig, ax = plt.subplots(1,1,figsize=(6,5))\n",
    "plt.hist(np.log10(np.exp(d_i)),density=True,bins=10,histtype = 'stepfilled',\n",
    "                               color ='gainsboro', alpha=0.7, edgecolor='white')\n",
    "sns.kdeplot(np.array(np.log10(np.exp(d_i))), label='True population',c='k')\n",
    "\n",
    "if selection_effects==True:\n",
    "    plt.hist(np.log10(np.exp(d_i_selbias)),density=True,bins=10,histtype = 'stepfilled',\n",
    "                               color ='lightpink', alpha=0.7, edgecolor='white')\n",
    "    sns.kdeplot(np.array(np.log10(np.exp(d_i_selbias))), label='Observed population',c='red')\n",
    "    \n",
    "plt.axvline(x=np.log10(np.exp(np.mean(logM_t))), label='True mean', c='orange',ls='--',lw=3)\n",
    "\n",
    "plt.xlabel('$\\log(M_{obs}/M_\\odot)$')\n",
    "plt.ylabel('Density')\n",
    "plt.legend()"
   ]
  },
  {
   "cell_type": "code",
   "execution_count": 8,
   "id": "d5b40c4c",
   "metadata": {},
   "outputs": [],
   "source": [
    "from scipy.special import erfc\n",
    "\n",
    "# Limits of (flat) hyperpriors.\n",
    "\n",
    "hyperprior_min = -10.0\n",
    "hyperprior_max = 10.0\n",
    "\n",
    "\n",
    "def selection_function(Lambda,number_samples_for_integration,upper_limit,lower_limit,noise_var,threshold):\n",
    "    \n",
    "    \"\"\"\n",
    "    This function is redefined in such a way that the hyperparameter appears as an input.\n",
    "    One must generate samples at each iteration of lambda in the MCMC.\n",
    "    \"\"\"\n",
    "    theta_ij = log_M(Lambda,number_samples_for_integration,upper_limit,lower_limit)\n",
    "    \n",
    "    return np.sum(0.5*erfc((threshold-theta_ij)/np.sqrt(2)/noise_var))/number_samples_for_integration\n",
    "\n",
    "def log_likelihood(params, data):\n",
    "    \n",
    "    \"\"\"\n",
    "    Support.\n",
    "    \"\"\"\n",
    "     \n",
    "    support = ( # Here is the support limits for hyperpriors.\n",
    "                (params[0] >= hyperprior_min)&\n",
    "                (params[0] <= hyperprior_max)\n",
    "                )\n",
    "    \n",
    "    log_likelihood=0\n",
    "\n",
    "    \"\"\"\n",
    "    Selection function.\n",
    "    \"\"\"\n",
    "    \n",
    "    if selection_effects == True:\n",
    "        pdet = selection_function(params[0],N_samps_selfunction,M_max,M_min,sigma,dth)\n",
    "        Nsources = N_det\n",
    "    else: \n",
    "        pdet = 1.\n",
    "        Nsources = N_obs\n",
    "    \n",
    "    \"\"\"\n",
    "    Population likelihood.\n",
    "    \"\"\"\n",
    "\n",
    "    for i in np.arange(Nsources):\n",
    "        \n",
    "        ppop_ij = model(data[i,:],params[0])           # N_samp-long array for population model.\n",
    "        sum_ppop = np.sum(ppop_ij)                     # Internal sum of population model over N_samp.\n",
    "        log_likelihood += np.log(sum_ppop/pdet)        # Add the samples drawn over N_obs in the loop\n",
    "                                                       # and divide by the selection function at each step.\n",
    "    \n",
    "    \n",
    "    \"\"\"\n",
    "    Output without infinities and within the specified hyperpriors.\n",
    "    \"\"\"\n",
    "    out = np.where(support,log_likelihood,-np.inf)     # Only retain likelihood if supported.\n",
    "    \n",
    "    \n",
    "    # Force nans away.\n",
    "    if np.isfinite(out):\n",
    "        return out\n",
    "    else:\n",
    "        return -np.inf"
   ]
  },
  {
   "cell_type": "code",
   "execution_count": 9,
   "id": "9e65d9a7",
   "metadata": {},
   "outputs": [
    {
     "name": "stderr",
     "output_type": "stream",
     "text": [
      "100%|████████████████████████████████████| 10000/10000 [01:23<00:00, 119.28it/s]\n"
     ]
    }
   ],
   "source": [
    "n_iter = 10000\n",
    "ndim = 1; nwalkers = 2\n",
    "\n",
    "pos_init0 = [alpha0_t]\n",
    "p0 = pos_init0*(1+0.001* np.random.randn(nwalkers, ndim))\n",
    "\n",
    "sampler = emcee.EnsembleSampler(nwalkers, ndim, log_likelihood, args=[data])\n",
    "run = sampler.run_mcmc(p0, n_iter, progress=True)"
   ]
  },
  {
   "cell_type": "code",
   "execution_count": 10,
   "id": "83b38a4a",
   "metadata": {},
   "outputs": [],
   "source": [
    "\"\"\"\n",
    "Collect the samples here.\n",
    "\"\"\"\n",
    "burnin = 1500\n",
    "\n",
    "chains = sampler.get_chain(discard=burnin, thin=1, flat=False)\n",
    "alpha_samples = chains[:,:,0].flatten()"
   ]
  },
  {
   "cell_type": "code",
   "execution_count": 11,
   "id": "f8e8c4a8",
   "metadata": {},
   "outputs": [
    {
     "data": {
      "image/png": "[encoded data removed]",
      "text/plain": [
       "<Figure size 432x288 with 1 Axes>"
      ]
     },
     "metadata": {
      "needs_background": "light"
     },
     "output_type": "display_data"
    }
   ],
   "source": [
    "plt.plot(alpha_samples, \"k\", alpha=0.3)\n",
    "plt.tight_layout()\n",
    "plt.show()"
   ]
  },
  {
   "cell_type": "markdown",
   "id": "7914ad1d",
   "metadata": {},
   "source": [
    "### Fisher estimates"
   ]
  },
  {
   "cell_type": "markdown",
   "id": "eb3c4096",
   "metadata": {},
   "source": [
    "In both the case with and without selection effects the Fisher estimate is dominated by the first term in the integral, which from the paper reads\n",
    "\n",
    "$$\n",
    "(\\Gamma_\\lambda)_{ij} \\approx -\\int \\frac{\\partial^2 \\ln (p(\\theta | \\lambda)/p_{\\rm det}(\\lambda))}{\\partial\\lambda^i \\partial\\lambda^j} \\, \\frac{p_{\\rm det}(\\theta)}{p_{\\rm det}(\\lambda)} p(\\theta |\\lambda) {\\rm d} \\theta.\n",
    "$$"
   ]
  },
  {
   "cell_type": "markdown",
   "id": "9ee8b050",
   "metadata": {},
   "source": [
    "In the simplifying case in which there are no selection effects, the estimate is analytically found to be (see $\\texttt{Mathematica}$ notebook)\n",
    "\n",
    "$$\n",
    "\\Gamma_\\alpha \\approx N_\\text{obs}\\left(\\frac{1}{\\alpha^2}-\\frac{M_\\text{max}^\\alpha M_\\text{min}^\\alpha (\\ln M_\\text{max}-\\ln M_\\text{min})^2}{(M_\\text{max}^\\alpha-M_\\text{min}^\\alpha)^2}\\right)\n",
    "$$"
   ]
  },
  {
   "cell_type": "code",
   "execution_count": 12,
   "id": "4d2b9f8f",
   "metadata": {},
   "outputs": [],
   "source": [
    "# Estimates without selection effects.\n",
    "\n",
    "def Dalpha(Nobs,alpha,Mmin,Mmax):\n",
    "    \"\"\"\n",
    "    This expression is only valid for 1D fitting, and crucially it only accounts for the first \n",
    "    term in the FM. More accurate estimates can be obtained with the accompanying Mathematica \n",
    "    notebook.\n",
    "    \"\"\"\n",
    "    den = Nobs * (alpha**-2 - (Mmax**alpha * Mmin**alpha * np.log(Mmax/Mmin)**2)/(Mmax**alpha-Mmin**alpha)**2)\n",
    "    return np.sqrt(1/den)\n",
    "\n",
    "def gaussian(d,mu,Sigma_sq): \n",
    "    num = np.exp(-0.5*(d-mu)**2/Sigma_sq)\n",
    "    den = np.sqrt(2*np.pi*Sigma_sq)\n",
    "    return num/den"
   ]
  },
  {
   "cell_type": "markdown",
   "id": "1de2a8dd",
   "metadata": {},
   "source": [
    "In the case without selection effects, we model all terms in the Fisher matrix for extra sense of security.\n",
    "\n",
    "We solve the integral with the Monte Carlo method, implying that we only focus on the arguments $X(\\theta)$ of integrals of the form\n",
    "$$\n",
    "\\int X(\\theta) p(\\theta|\\lambda) d\\theta \\approx \\frac{1}{N_\\text{samp}}\\sum X(\\theta_{ij}), \\quad \\text{with } \\theta_{ij}\\sim p(\\theta|\\lambda)\n",
    "$$\n",
    "For the first term, the argument is\n",
    "$$\n",
    "-\\frac{\\partial^2 \\ln (p(\\theta | \\lambda)/p_{\\rm det}(\\lambda))}{\\partial\\lambda^i \\partial\\lambda^j} \\, \\frac{p_{\\rm det}(\\theta)}{p_{\\rm det}(\\lambda)},\n",
    "$$\n",
    "where we further use that (with primes indicating derivatives wrt $\\lambda$)\n",
    "$$\n",
    "-\\frac{\\partial^2 \\ln (p(\\vec\\theta_0 | \\vec\\lambda)/p_{\\rm det,m}(\\vec\\lambda))}{\\partial\\lambda^i \\partial\\lambda^j} = \\frac{p'(\\theta|\\lambda)^2 -p(\\theta|\\lambda)p''(\\theta|\\lambda)}{p(\\theta|\\lambda)^2} + \\frac{p_\\text{det}(\\lambda)p''_\\text{det}(\\lambda)-p'_\\text{det}(\\lambda)^2}{p_\\text{det}(\\lambda)^2}.\n",
    "$$\n",
    "\n",
    "The derivatives $p'(\\theta|\\lambda)$ and $p''(\\theta|\\lambda)$ can be calculated analytically (see Mathematica notebook). We code those expressions below. "
   ]
  },
  {
   "cell_type": "code",
   "execution_count": 13,
   "id": "2734f601",
   "metadata": {},
   "outputs": [],
   "source": [
    "# Derivatives of population model\n",
    "\n",
    "def dppop_dlambda(theta, Lambda =alpha0_t,theta_min=M_min,theta_max =M_max):  \n",
    "\n",
    "    norm= theta_max**Lambda -theta_min**Lambda\n",
    "    num = np.exp(theta)**(Lambda-1) * (norm+norm*Lambda*theta-theta_max**Lambda*Lambda*np.log(theta_max)+ theta_min**Lambda*Lambda*np.log(theta_min))\n",
    "    den = norm**2\n",
    "    return num/den\n",
    "\n",
    "def ddppop_ddlambda(theta, Lambda =alpha0_t,theta_min=M_min,theta_max =M_max):  \n",
    "\n",
    "    norm = theta_max**Lambda -theta_min**Lambda\n",
    "    num_1 = theta_max**(2*Lambda)*(theta-np.log(theta_max))*(2+Lambda*theta-Lambda* np.log(theta_max))\n",
    "    num_2 = theta_min**(2*Lambda)*(theta-np.log(theta_min))*(2+Lambda*theta-Lambda* np.log(theta_min))\n",
    "    num_3 = theta_max**(Lambda)*theta_min**(Lambda)*(-2*Lambda*theta**2+2*(np.log(theta_max)+np.log(theta_min))+Lambda*(np.log(theta_max)**2-4*np.log(theta_max)*np.log(theta_min)+np.log(theta_min)**2)+2*theta*(-2+Lambda*(np.log(theta_max)+np.log(theta_min))))\n",
    "    num = num_1 +num_2 + num_3\n",
    "    den = norm**3\n",
    "    return np.exp(theta)**(Lambda-1)*num/den"
   ]
  },
  {
   "cell_type": "markdown",
   "id": "a8ad1960",
   "metadata": {},
   "source": [
    "We also need the expressions for the selection functions of $\\lambda$ and $\\theta$, \n",
    "$$\n",
    "p_\\text{det}(\\theta) =  \\frac{1}{2}\\text{erfc}\\left[\\frac{d_\\text{th}-\\theta}{\\sqrt{2}\\sigma}\\right], \\quad\n",
    "p_\\text{det}(\\lambda) = \\int p_\\text{det}(\\theta) p(\\theta|\\lambda) d\\theta \\approx \\frac{1}{N_\\text{samp}}\\sum \\frac{1}{2}\\text{erfc}\\left[\\frac{d_\\text{th}-\\theta_{ij}}{\\sqrt{2}\\sigma}\\right] (\\text{with } \\theta_{ij}\\sim p(\\theta|\\lambda)).\n",
    "$$\n",
    "\n",
    "The first and second derivatives of $p_\\text{det}(\\lambda)$ can be integrated in the same way using that\n",
    "\n",
    "$$\n",
    "\\frac{\\partial p_\\text{det}(\\lambda)}{\\partial \\lambda} = \\int p_\\text{det}(\\theta) \\frac{\\partial p(\\theta|\\lambda)}{\\partial \\lambda} d\\theta = \\int p_\\text{det}(\\theta) \\frac{\\partial \\ln p(\\theta|\\lambda)}{\\partial \\lambda}p(\\theta|\\lambda) d\\theta\n",
    "$$\n",
    "and \n",
    "$$\n",
    "\\frac{\\partial^2 p_\\text{det}(\\lambda)}{\\partial \\lambda^2} = \\int p_\\text{det}(\\theta) \\frac{\\partial^2 p(\\theta|\\lambda)}{\\partial \\lambda^2} d\\theta = \\int p_\\text{det}(\\theta) \\left[\\frac{\\partial^2 \\ln p(\\theta|\\lambda)}{\\partial \\lambda^2}+\\left(\\frac{\\partial \\ln p(\\theta|\\lambda)}{\\partial \\lambda}\\right)^2\\right]p(\\theta|\\lambda) d\\theta\n",
    "$$\n",
    "\n",
    "The derivatives of $\\ln p(\\theta|\\lambda)$, coded below, are obtained using $\\texttt{Mathematica}$."
   ]
  },
  {
   "cell_type": "code",
   "execution_count": 14,
   "id": "c31eb6d0",
   "metadata": {},
   "outputs": [],
   "source": [
    "# Selection function and derivatives.\n",
    "\n",
    "def pdet_lambda(theta_samples): \n",
    "    return 0.5*N_samps_selfunction**-1*np.sum(erfc((dth-theta_samples)/np.sqrt(2)/sigma))\n",
    "def pdet_theta(theta): \n",
    "    return 0.5* erfc((dth-theta)/np.sqrt(2)/sigma)\n",
    "\n",
    "def dpdet_dlambda(theta_samples, Lambda =alpha0_t,theta_min=M_min,theta_max =M_max):     \n",
    "    \"\"\"\n",
    "    Obtained as outlined above with derivatives of p(theta|lambda) from Mathematica.\n",
    "    \"\"\"\n",
    "    norm = theta_max**Lambda -theta_min**Lambda\n",
    "    num = norm + norm*Lambda*theta_samples - theta_max**Lambda * Lambda * np.log(theta_max) + theta_min**Lambda* Lambda * np.log(theta_min)\n",
    "    den = norm * Lambda\n",
    "    \n",
    "    arg = pdet_theta(theta_samples) * num/den\n",
    "    \n",
    "    return N_samps_selfunction**-1*np.sum(arg)  \n",
    "\n",
    "def ddpdet_ddlambda(theta_samples, Lambda =alpha0_t,theta_min=M_min,theta_max =M_max):  \n",
    "    \"\"\"\n",
    "    Obtained as outlined above with derivatives of p(theta|lambda) from Mathematica.\n",
    "    \"\"\"\n",
    "    norm = theta_max**Lambda -theta_min**Lambda\n",
    "    num_1 = - norm**2 + theta_max**Lambda * theta_min**Lambda * Lambda**2 * np.log(theta_max)**2 - 2*theta_max**Lambda * theta_min**Lambda * Lambda**2 * np.log(theta_max)*np.log(theta_min) + theta_max**Lambda * theta_min**Lambda * Lambda**2 * np.log(theta_min)**2\n",
    "    den_1 = norm**2 * Lambda**2\n",
    "    num_2 = norm + norm*Lambda*theta_samples - theta_max**Lambda * Lambda * np.log(theta_max) + theta_min**Lambda* Lambda * np.log(theta_min)\n",
    "    den_2 = norm * Lambda\n",
    "    \n",
    "    arg = pdet_theta(theta_samples) * (num_1/den_1 + (num_2/den_2)**2)\n",
    "    \n",
    "    return N_samps_selfunction**-1*np.sum(arg) "
   ]
  },
  {
   "cell_type": "markdown",
   "id": "7f2eafcf",
   "metadata": {},
   "source": [
    "The results above are enough to obtain the simplified version of the Fisher matrix, which only retains the first term."
   ]
  },
  {
   "cell_type": "code",
   "execution_count": 32,
   "id": "59e874c9",
   "metadata": {},
   "outputs": [],
   "source": [
    "# Final expression for the Fisher matrix\n",
    "\n",
    "def Gamma_lambda(theta_samples,Lambda =alpha0_t):\n",
    "\n",
    "    \n",
    "    ppop = model(theta_samples,Lambda)\n",
    "    \n",
    "    #Various terms of the Fisher matrix, as calculated above and in the Mathematica notebook.\n",
    "    Gamma_1_term = ((dppop_dlambda(theta_samples)**2-ppop*ddppop_ddlambda(theta_samples))/ppop**2 + (pdet_lambda(theta_samples)*ddpdet_ddlambda(theta_samples)-dpdet_dlambda(theta_samples)**2)/pdet_lambda(theta_samples)**2)* pdet_theta(theta_samples)/pdet_lambda(theta_samples)\n",
    "    \n",
    "    \n",
    "    # Integral calculated here.\n",
    "    # Notice that the normalization is over the number of detected events.\n",
    "    \n",
    "    Gamma_tot = Gamma_1_term\n",
    "    integral = N_samps_selfunction**-1*np.sum(N_det *Gamma_tot)\n",
    "    \n",
    "    return integral"
   ]
  },
  {
   "cell_type": "code",
   "execution_count": 35,
   "id": "fe4feddd",
   "metadata": {},
   "outputs": [
    {
     "name": "stdout",
     "output_type": "stream",
     "text": [
      "First derivative pdet: 0.8510037610557877\n",
      "Second derivative pdet: 0.16773143871134458\n",
      "First derivative ppop: [-4.23147060e-06 -8.58547146e-06  5.07844551e-08 ... -1.28718460e-05\n",
      "  5.32929802e-08  7.71370949e-08]\n",
      "Second derivative ppop: [-2.92531741e-06  2.80944917e-06  1.15102541e-07 ...  9.80402630e-06\n",
      "  1.15575888e-07  1.12134632e-07]\n",
      "Gamma_lambda: 34.3474189763179\n"
     ]
    }
   ],
   "source": [
    "#samples drawn from PDF to be used in the Monte Carlo integral.\n",
    "theta_ij = log_M(alpha0_t,N_samps_selfunction,M_max,M_min) \n",
    "\n",
    "\n",
    "print('First derivative pdet:', dpdet_dlambda(theta_ij)) # must be a number\n",
    "print('Second derivative pdet:', ddpdet_ddlambda(theta_ij))# must be a number\n",
    "print('First derivative ppop:', dppop_dlambda(theta_ij))# must be an array\n",
    "print('Second derivative ppop:', ddppop_ddlambda(theta_ij))# must be an array\n",
    "\n",
    "\n",
    "print('Gamma_lambda:', Gamma_lambda(theta_ij))"
   ]
  },
  {
   "cell_type": "code",
   "execution_count": 36,
   "id": "c353ed09",
   "metadata": {
    "scrolled": true
   },
   "outputs": [
    {
     "data": {
      "image/png": "[encoded data removed]",
      "text/plain": [
       "<Figure size 432x288 with 1 Axes>"
      ]
     },
     "metadata": {
      "needs_background": "light"
     },
     "output_type": "display_data"
    }
   ],
   "source": [
    "\"\"\"\n",
    "Posteriors with Fisher estimates\n",
    "\"\"\"\n",
    "\n",
    "\n",
    "_, bins_alpha, _= plt.hist(alpha_samples, 30, histtype = 'bar', color ='gainsboro', density=True, edgecolor='black', label='MCMC')\n",
    "bins_alpha= np.array(bins_alpha)\n",
    "\n",
    "if selection_effects == False: \n",
    "    \n",
    "    # Fisher estimate without selection effects.\n",
    "    Da = Dalpha(N_obs,alpha0_t,M_min,M_max)\n",
    "    plt.plot(bins_alpha, gaussian(bins_alpha,alpha0_t,Da**2), color='black', lw=2.5,label='Fisher')\n",
    "    \n",
    "else:\n",
    "    Da=np.sqrt(1/Gamma_lambda(theta_ij))#dalpha_v1(logM_t,alpha0_t)\n",
    "    plt.plot(bins_alpha, gaussian(bins_alpha,alpha0_t-0.18,Da**2), color='black', lw=2.5,label='Fisher')\n",
    "    \n",
    "\n",
    "plt.axvline(x=alpha0_t, label='True', c='orange',ls='--',lw=3)\n",
    "plt.xlabel('alpha')\n",
    "plt.ylabel('PDF')\n",
    "plt.legend()\n",
    "plt.show()"
   ]
  },
  {
   "cell_type": "code",
   "execution_count": null,
   "id": "cd9319f6",
   "metadata": {},
   "outputs": [],
   "source": []
  },
  {
   "cell_type": "code",
   "execution_count": null,
   "id": "c76a84ae",
   "metadata": {},
   "outputs": [],
   "source": []
  }
 ],
 "metadata": {
  "interpreter": {
   "hash": "6a4c3f65261587b55a0f30d9b7a4892a0c55342535808fcf5e158d1bb0d89e5f"
  },
  "kernelspec": {
   "display_name": "Python 3 (ipykernel)",
   "language": "python",
   "name": "python3"
  },
  "language_info": {
   "codemirror_mode": {
    "name": "ipython",
    "version": 3
   },
   "file_extension": ".py",
   "mimetype": "text/x-python",
   "name": "python",
   "nbconvert_exporter": "python",
   "pygments_lexer": "ipython3",
   "version": "3.8.8"
  }
 },
 "nbformat": 4,
 "nbformat_minor": 5
}
