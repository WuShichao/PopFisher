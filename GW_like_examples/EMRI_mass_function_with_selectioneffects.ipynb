{
 "cells": [
  {
   "cell_type": "markdown",
   "id": "72f28fb7",
   "metadata": {},
   "source": [
    "# MCMC for the mass distribution of EMRIs"
   ]
  },
  {
   "cell_type": "code",
   "execution_count": 1,
   "id": "77c07445",
   "metadata": {},
   "outputs": [],
   "source": [
    "selection_effects = True # Select True if you want to complicate your life."
   ]
  },
  {
   "cell_type": "code",
   "execution_count": 2,
   "id": "c0228a2a",
   "metadata": {},
   "outputs": [],
   "source": [
    "import numpy as np\n",
    "import matplotlib.pyplot as plt\n",
    "import emcee\n",
    "import matplotlib as mpl\n",
    "import seaborn as sns\n",
    "\n",
    "\n",
    "%matplotlib inline\n",
    "np.random.seed(1234)\n",
    "\n",
    "\n",
    "params = {'axes.labelsize': 18,\n",
    "          'font.family': 'serif',\n",
    "          'font.serif': 'Computer Modern Raman',\n",
    "          'font.size': 18,\n",
    "          'axes.linewidth': 1,\n",
    "          'legend.fontsize': 15,\n",
    "          'xtick.labelsize': 18,\n",
    "          'xtick.top': True,\n",
    "          'ytick.labelsize': 18,\n",
    "          'ytick.right': True,\n",
    "          'axes.grid' : True,\n",
    "          'text.usetex': True,\n",
    "          'savefig.dpi' : 100,\n",
    "          'lines.markersize' : 14,\n",
    "          'axes.formatter.limits' : (-3,3)}\n",
    "\n",
    "mpl.rcParams.update(params)"
   ]
  },
  {
   "cell_type": "markdown",
   "id": "08b0a593",
   "metadata": {},
   "source": [
    "We fit a BH mass functionsource parameter given by the mass, $\\theta=M$. This example follows the EMRI mass function [e-Print: 1004.1921 (\"GTV\")]:\n",
    "\n",
    "$$\\frac{dN}{d\\ln M}=A_0\\big(\\frac{M}{M_*}\\big)^{\\alpha_0} \\quad\\Rightarrow\\quad p(M|\\lambda)=\\mathcal{N} M^{\\alpha_0-1} = \\frac{\\alpha_0}{M^{\\alpha_0}_\\text{max}-M^{\\alpha_0}_{\\text{min}}} M^{\\alpha_0-1}.$$\n",
    "\n",
    "We are interested in the $ \\lambda=\\alpha_0$ population parameter. We are assuming that the amplitude $A_0$ does not carry information about the system, but only about the rate of events."
   ]
  },
  {
   "cell_type": "code",
   "execution_count": 3,
   "id": "88bb79fa",
   "metadata": {},
   "outputs": [],
   "source": [
    "def model(lnM,alpha):\n",
    "    \n",
    "    \"\"\"\n",
    "    Model for p(d|lambda).\n",
    "    \n",
    "    Input:\n",
    "    \n",
    "    - data    (The noisy generated data where we expect the masses to be.)\n",
    "    - alpha   (Spectral index of the mass distribution.)\n",
    "    \n",
    "    \"\"\"\n",
    "    \n",
    "    M = np.exp(lnM) # mass observations\n",
    "    norm  = alpha/(M_max**alpha-M_min**alpha)\n",
    "    \n",
    "    \n",
    "    return norm*M**(alpha-1)"
   ]
  },
  {
   "cell_type": "code",
   "execution_count": 4,
   "id": "6d833251",
   "metadata": {},
   "outputs": [],
   "source": [
    "\"\"\"\n",
    "Parameters\n",
    "\"\"\"\n",
    "\n",
    "N_obs = 100\n",
    "N_samps_likelihoods = 10\n",
    "N_samps_selfunction = 100000 # Needs to be high to sample well the selection function's integral.\n",
    "\n",
    "\n",
    "alpha0_t = 0.00001 # Choose flat spectral profile.\n",
    "M_min=10000. ;   logM_min = np.log(M_min) # M runs from 10^4\n",
    "M_max=10000000.; logM_max = np.log(M_max) # to 10^7 solar masses."
   ]
  },
  {
   "cell_type": "markdown",
   "id": "b16c2b12",
   "metadata": {},
   "source": [
    "\n",
    "Starting from the probability density $p(M|\\lambda)=\\mathcal{N} M^{\\alpha_0-1}$, we can use the method of inversion to get the source parameter M. In particular, we define the cumulative density function,\n",
    "\n",
    "$u:=\\text{CDF}(M)= \\mathcal{N}\\int_{M_\\text{min}}^{M}M^{\\alpha_0-1}dM = \\alpha_0^{-1}\\mathcal{N}M^{\\alpha_0}\\big|_{M_\\text{min}}^{M}=\\alpha_0^{-1}\\mathcal{N}(M^{\\alpha_0}-M^{\\alpha_0}_{\\text{min}})$.\n",
    "\n",
    "Now, we get M in terms of $u$, \n",
    "\n",
    "$\\quad M^{\\alpha_0}=\\alpha_0\\mathcal{N}^{-1} u +M^{\\alpha_0}_{\\text{min}}\\quad\\Longrightarrow \\quad \\ln M =\\frac{1}{\\alpha_0} \\ln\\big[(M^{\\alpha_0}_\\text{max}-M^{\\alpha_0}_{\\text{min}})\\, u +M^{\\alpha_0}_{\\text{min}}\\big]\\quad $ (true parameter distribution)."
   ]
  },
  {
   "cell_type": "code",
   "execution_count": 5,
   "id": "f3ad7150",
   "metadata": {},
   "outputs": [],
   "source": [
    "def log_M(alpha, N, Mmax,Mmin):\n",
    "\n",
    "    \"\"\"\n",
    "    Analytical function to draw samples following a power law. It helps in the definition of the selection function for the MCMC analysis.\n",
    "    \n",
    "    Inputs:\n",
    "    \n",
    "    - alpha: the spectral index chosen.\n",
    "    - N: the number of events of the true underlying population.\n",
    "    - Mmax, Mmin: limits of integration, corresponding to minimum and maximum mass of underlying pop.\n",
    "    \"\"\"\n",
    "    \n",
    "    return alpha**-1 * np.log((Mmax**(alpha)-Mmin**(alpha))*np.random.uniform(size=N)+ Mmin**(alpha)*np.ones(N))"
   ]
  },
  {
   "cell_type": "code",
   "execution_count": 6,
   "id": "7c3d6261",
   "metadata": {},
   "outputs": [
    {
     "name": "stdout",
     "output_type": "stream",
     "text": [
      "Out of 100 possible events, 47 are detected.\n"
     ]
    }
   ],
   "source": [
    "\"\"\"\n",
    "Noise characteristics.\n",
    "\"\"\"\n",
    "\n",
    "sigma = 0.1\n",
    "dth = 13.0\n",
    "noise = np.random.normal(0,sigma,size = N_obs)\n",
    "\n",
    "\"\"\"\n",
    "Data draws.\n",
    "\"\"\"\n",
    "\n",
    "u = np.random.uniform(size=N_obs)\n",
    "logM_t=log_M(alpha0_t, N_obs, M_max,M_min)\n",
    "d_i = noise + logM_t  # observation model made of noise + true population.\n",
    "d_i_selbias = d_i[d_i>dth]\n",
    "N_det = len(d_i_selbias)\n",
    "\n",
    "if selection_effects==True: print('Out of', N_obs,'possible events,', N_det,'are detected.')\n",
    "\n",
    "\"\"\"\n",
    "Data array. The structure of data is such that Data[i,j] is the jth posterior sample from event i.\n",
    "We assume the observation model p(d|theta) is a normal gaussian with noise variance sigma.\n",
    "\n",
    "\"\"\"\n",
    "\n",
    "logM_obs=np.zeros((N_obs,N_samps_likelihoods))\n",
    "logM_obs_selbias=np.zeros((N_det,N_samps_likelihoods))\n",
    "\n",
    "for i in np.arange(N_obs):\n",
    "    logM_obs[i,:]=np.random.normal(d_i[i],sigma,size=N_samps_likelihoods)\n",
    "for i in np.arange(N_det):\n",
    "    logM_obs_selbias[i,:]=np.random.normal(d_i_selbias[i],sigma,size=N_samps_likelihoods)\n",
    "    \n",
    "if selection_effects == True: \n",
    "    data = logM_obs_selbias\n",
    "else:\n",
    "    data =logM_obs"
   ]
  },
  {
   "cell_type": "code",
   "execution_count": 7,
   "id": "bdf577f9",
   "metadata": {},
   "outputs": [
    {
     "data": {
      "text/plain": [
       "<matplotlib.legend.Legend at 0x7fda91e370a0>"
      ]
     },
     "execution_count": 7,
     "metadata": {},
     "output_type": "execute_result"
    },
    {
     "data": {
      "image/png": "[encoded data removed]",
      "text/plain": [
       "<Figure size 432x360 with 1 Axes>"
      ]
     },
     "metadata": {
      "needs_background": "light"
     },
     "output_type": "display_data"
    }
   ],
   "source": [
    "fig, ax = plt.subplots(1,1,figsize=(6,5))\n",
    "plt.hist(np.log10(np.exp(d_i)),density=True,bins=10,histtype = 'stepfilled',\n",
    "                               color ='gainsboro', alpha=0.7, edgecolor='white')\n",
    "sns.kdeplot(np.array(np.log10(np.exp(d_i))), label='True population',c='k')\n",
    "\n",
    "if selection_effects==True:\n",
    "    plt.hist(np.log10(np.exp(d_i_selbias)),density=True,bins=10,histtype = 'stepfilled',\n",
    "                               color ='lightpink', alpha=0.7, edgecolor='white')\n",
    "    sns.kdeplot(np.array(np.log10(np.exp(d_i_selbias))), label='Observed population',c='red')\n",
    "    \n",
    "plt.axvline(x=np.log10(np.exp(np.mean(logM_t))), label='True mean', c='orange',ls='--',lw=3)\n",
    "\n",
    "plt.xlabel('$\\log(M_{obs}/M_\\odot)$')\n",
    "plt.ylabel('Density')\n",
    "plt.legend()"
   ]
  },
  {
   "cell_type": "code",
   "execution_count": 8,
   "id": "d5b40c4c",
   "metadata": {},
   "outputs": [],
   "source": [
    "from scipy.special import erfc\n",
    "\n",
    "# Limits of (flat) hyperpriors.\n",
    "\n",
    "hyperprior_min = -10.0\n",
    "hyperprior_max = 10.0\n",
    "\n",
    "\n",
    "def selection_function(Lambda,number_samples_for_integration,upper_limit,lower_limit,noise_var,threshold):\n",
    "    \n",
    "    \"\"\"\n",
    "    This function is redefined in such a way that the hyperparameter appears as an input.\n",
    "    One must generate samples at each iteration of lambda in the MCMC.\n",
    "    \"\"\"\n",
    "    theta_ij = log_M(Lambda,number_samples_for_integration,upper_limit,lower_limit)\n",
    "    \n",
    "    return np.sum(0.5*erfc((threshold-theta_ij)/np.sqrt(2)/noise_var))/number_samples_for_integration\n",
    "\n",
    "def log_likelihood(params, data):\n",
    "    \n",
    "    \"\"\"\n",
    "    Support.\n",
    "    \"\"\"\n",
    "     \n",
    "    support = ( # Here is the support limits for hyperpriors.\n",
    "                (params[0] >= hyperprior_min)&\n",
    "                (params[0] <= hyperprior_max)\n",
    "                )\n",
    "    \n",
    "    log_likelihood=0\n",
    "\n",
    "    \"\"\"\n",
    "    Selection function.\n",
    "    \"\"\"\n",
    "    \n",
    "    if selection_effects == True:\n",
    "        pdet = selection_function(params[0],N_samps_selfunction,M_max,M_min,sigma,dth)\n",
    "        Nsources = N_det\n",
    "    else: \n",
    "        pdet = 1.\n",
    "        Nsources = N_obs\n",
    "    \n",
    "    \"\"\"\n",
    "    Population likelihood.\n",
    "    \"\"\"\n",
    "\n",
    "    for i in np.arange(Nsources):\n",
    "        \n",
    "        ppop_ij = model(data[i,:],params[0])           # N_samp-long array for population model.\n",
    "        sum_ppop = np.sum(ppop_ij)                     # Internal sum of population model over N_samp.\n",
    "        log_likelihood += np.log(sum_ppop/pdet)        # Add the samples drawn over N_obs in the loop\n",
    "                                                       # and divide by the selection function at each step.\n",
    "    \n",
    "    \n",
    "    \"\"\"\n",
    "    Output without infinities and within the specified hyperpriors.\n",
    "    \"\"\"\n",
    "    out = np.where(support,log_likelihood,-np.inf)     # Only retain likelihood if supported.\n",
    "    \n",
    "    \n",
    "    # Force nans away.\n",
    "    if np.isfinite(out):\n",
    "        return out\n",
    "    else:\n",
    "        return -np.inf"
   ]
  },
  {
   "cell_type": "code",
   "execution_count": 9,
   "id": "9e65d9a7",
   "metadata": {},
   "outputs": [
    {
     "name": "stderr",
     "output_type": "stream",
     "text": [
      "100%|████████████████████████████████████| 10000/10000 [01:29<00:00, 111.19it/s]\n"
     ]
    },
    {
     "data": {
      "text/plain": [
       "State([[-0.22399703]\n",
       " [ 0.12214626]], log_prob=[-622.40269654 -624.15305572], blobs=None, random_state=('MT19937', array([2209347806, 1455763380,  709510636, 3440843077, 3752617489,\n",
       "        952088491,  775820782, 3265816795, 2607858076, 2131653488,\n",
       "        367262757,   69774036, 2471148712,  334551069, 2530767509,\n",
       "       3778372721, 2232825961, 2484599706,  536755321, 1726053193,\n",
       "       1405787848, 1403658940, 1058375347, 3711841685, 1464080188,\n",
       "       4088532797,  521907408, 2551004495,  508623852, 1870710050,\n",
       "       1507605330, 1357887546, 1662696059,  487750145, 2972828509,\n",
       "       4127227867, 2933099517, 3169747188, 3396143777, 2543587073,\n",
       "        177375178, 2909857872, 1445229585, 2815489797, 2083182109,\n",
       "        997998635, 3615565821, 2455040128,  523563430, 1172772658,\n",
       "        342667079,   72367162, 1542499455,  622308796,  699108808,\n",
       "       4186053107,  852556511,  760193008,    8451847, 1700102640,\n",
       "       1797000450, 4162255694, 3043794009, 1781440522, 2423510124,\n",
       "       3972951293, 2941502214,  752126584,   88434849,  261875474,\n",
       "       3997381892,  862032706,  648613741, 3185520301, 2141818487,\n",
       "       3844409487, 1067458251, 3105019254, 2301034156, 2407781075,\n",
       "       1801550308, 2425316527, 3972456249, 3356634656, 3421879325,\n",
       "       1554938820, 1446710172,  963406087, 2318557070, 3332911686,\n",
       "       1697370642,  886523605, 1965080812, 3784759373, 3584853079,\n",
       "        596565803, 1784169949, 4181422845, 3637368800, 3592466196,\n",
       "        765465443, 2135995175, 1889193354,  582602760, 1856279463,\n",
       "       2526190700,  625625736, 1111629501, 1628429261, 2975791116,\n",
       "        535107803,  350510753,  179645705, 2009845052, 3724979174,\n",
       "       1357940312, 1477026764, 3308411629,  317307447,  987355210,\n",
       "       1743704154, 2947767289, 2531803194, 2142883835, 3689262133,\n",
       "        572227798, 4150535816,  141503400, 2843944102,  181067715,\n",
       "       2718297330, 2958307521, 3093788757,  883545995, 2527439743,\n",
       "       3879131906, 2048745772, 3733371157, 2750430589, 3274646609,\n",
       "       1499516136, 3737057083,   33441905, 2009569005, 4196264658,\n",
       "       3943816799, 2701186003, 3813582118, 2035541999, 3377553627,\n",
       "       2850298566, 3420885171, 3353789373, 2477709622, 4120686593,\n",
       "       3751775689, 3929194349, 1204087010, 2718922002,  711536276,\n",
       "       3726306917, 1983327999, 2038381411, 3398551572, 1654478507,\n",
       "       1332830658, 2007003500, 1330410271, 3285377913,  367952868,\n",
       "       3791235112,  862051498,  316392177, 2701621044,  570407091,\n",
       "       1004221944, 1632438795, 3356530084, 3140607526, 3799844070,\n",
       "       3700595720, 3593804365, 3824886947, 2089494729, 1971632273,\n",
       "       1507718813, 1598429180, 2112510107, 3573679814,  291960040,\n",
       "        942177127, 3181766095, 3452078416,  903095450, 2987672233,\n",
       "       1390858972,  239703664, 3070836874, 1920317100,  570645966,\n",
       "        636699231, 2679476547,  712248982,  905360736, 1913434504,\n",
       "        519125113, 2651620994, 1748961533, 1675596992, 2263666657,\n",
       "        442382548, 3480838211,  844821810,  830005649, 2550605575,\n",
       "       3731024705, 1130710287, 4174433843,  630461698, 3362678697,\n",
       "       3611742077,  731516700, 1719240919, 1831692140,  172875168,\n",
       "       1687139901, 3324285959, 1470203850, 2667663211, 2144838315,\n",
       "        607834255, 3205529652, 2064470056,  695066421, 1450255113,\n",
       "       3230826533,  557583633,    4626344, 3531085180, 2061802253,\n",
       "       1003328561, 2222560059, 3458867136, 4159293628, 2726999554,\n",
       "        583716962,  850917101, 3463453715, 2879837824,  721703112,\n",
       "       1511325431, 2183262549, 1618054601, 1941515680, 1165802146,\n",
       "       2482795427,  643291549, 1398378538, 1685898532,  172914646,\n",
       "       1335529517,  529929130,   20898360,  699904874, 1657781348,\n",
       "       2859086579, 3117828401, 4170376321, 1659508002,  214245319,\n",
       "       2720821978,  973970677,  828925539, 2283699012, 1556563777,\n",
       "       2066009693,  750308910, 1406460694, 3612958448, 1804700661,\n",
       "        110617710, 2875923632,  799812382,  773525384, 3235074371,\n",
       "        935124599, 3746423974, 4040808754, 1692690472, 4200029497,\n",
       "       2748137079, 1679431794, 1132790893, 4139122556, 3244978325,\n",
       "       3344301589, 1023000286, 2083802439, 1395034957, 3237622637,\n",
       "       2520956345, 3205302625,  874095181,  912596505,  255573623,\n",
       "        168958217, 4114205462, 3677783007,  516225562, 3004038979,\n",
       "       2918534993,  249438546,   38751615, 2822554123,  556612025,\n",
       "       2163632081, 4067829298, 2151621074, 3344050688, 2977907262,\n",
       "       1696527101,  993935144, 2065671092, 1341983037, 2245234079,\n",
       "        626201412, 1074407122, 3620642578,  245442336, 3505280256,\n",
       "        655441859, 3658987769, 1798725069, 3662849630, 2238967354,\n",
       "       2647290190, 3378012026, 3387354954, 3040385338, 3247047540,\n",
       "       2590601661,  326528145,  383892954,  960064829,  799804838,\n",
       "       1713254161, 1673270228, 4291858932, 1131424620, 2835418972,\n",
       "       4199502267, 4080299845, 2255402823, 2556852779, 3611764015,\n",
       "       2566114016, 3037987691,  803094209, 1593125552, 4026486227,\n",
       "       3570250051, 2692056010, 1547193474,  357133463, 4079443032,\n",
       "        734135192, 3763032513,   99469086,  370795393, 3108753429,\n",
       "       1748874332, 1466748700, 1158708952,  384534607, 1850289529,\n",
       "       2138921897, 2824428191, 2583241143, 2228403956, 3965975501,\n",
       "       3403660104, 2227718237, 3402158792, 1656952472, 3545770547,\n",
       "       2209776326, 2511734940, 1514088801, 3271569727, 3479527154,\n",
       "       3130528524, 1568126053, 1662403113, 1894081337, 3240170642,\n",
       "       1478914228,   23419511,  113571358, 1767423395,  309579105,\n",
       "       2528257851, 2934841989, 2989052502, 4206716315, 3310288022,\n",
       "       2106643007, 2411257164, 3636067452, 4002743219,  987294227,\n",
       "       3649496007, 2588051923, 4135215098, 2473640300, 1674548733,\n",
       "       2635251421,  804095758, 2465061830,  640166019, 2000741381,\n",
       "       1557034015,  211521624, 2894130640, 1291329570, 3421363684,\n",
       "       4262341631, 3688045635,  996100465, 4100895882, 1933496867,\n",
       "       2703913638, 1326037409,  370046595, 1690375749,  899364381,\n",
       "       1838629656, 2768171518, 3644008077, 2367848319, 1739913620,\n",
       "       1272201050, 3412361144, 3610157239, 3398686680, 1593175620,\n",
       "       1685595518, 3708991728, 1462600466, 2850860193, 2051774712,\n",
       "       1599052426, 1818262107, 2437900250,  446964555, 3910686509,\n",
       "       1308410497, 2937753342, 3985655509,  622849711, 1867791541,\n",
       "       2252702884, 2318049945, 2957858271, 2884242816, 3446336699,\n",
       "       3108606141, 1966031568, 2444682032, 2647650159, 3422813721,\n",
       "       3056722256, 2163738127, 2827774694, 4132914958, 2931152375,\n",
       "       1878898062,  959277249, 2551996131, 3468478709, 2635682317,\n",
       "       1012989308, 1321355084, 1162550726, 3495581539, 1222027397,\n",
       "       3795260584, 2316043124, 2850195115,  183607141,  702902794,\n",
       "        931655984, 1167010481, 3339059382, 3727068415, 1855563349,\n",
       "       2137449562, 2167569868,  517831173,  722650415, 1261869011,\n",
       "       2347920288,  598071755, 2386791997, 1717843430,  797986825,\n",
       "       1170831002, 1300210412, 1544590172, 1993825545,  877099255,\n",
       "       4062385132, 3599447718, 2713182087, 3062322054, 2071156162,\n",
       "        477205436, 2026738111, 3471270579,  551030280, 3205686066,\n",
       "       2655492814, 2952952572,  531048035, 1593032459, 1927343533,\n",
       "       2660626169, 1246673988, 2359525371,   72948774, 1182863383,\n",
       "       1347952656, 1418390052, 1991112328,  153929791, 2031837886,\n",
       "       3925784195, 4174642621, 2587050858,   44192483, 3025233550,\n",
       "       3827337381, 2003636002, 1115985939, 3799348311, 4180364137,\n",
       "       2699989994, 1359893666, 1877384999, 1381077801,  442796434,\n",
       "       1602151152, 3145414204,  486745585, 3142122339, 1225279342,\n",
       "       4022157079,   66887228, 1774910667, 3217062985, 2305523568,\n",
       "       3069527571,  751948094, 2426336244,   68860972,  219345927,\n",
       "       3809929909,  455473738, 1708617811, 2642020562,  768250723,\n",
       "       1849969662, 2565114359, 2220972727, 2627317507, 3417305220,\n",
       "       1214435350, 4189139635,  733776294, 3631372990, 2559115677,\n",
       "        117795287, 4174020124,   95114716, 1394098975, 1216027760,\n",
       "       1136670645, 2647100462,  389920029,  242391789, 1244125725,\n",
       "        559014910, 3611114287, 2074375211, 1481025108, 4093680773,\n",
       "       3983347229, 2716832892, 2504773175, 3688221951, 2001696819,\n",
       "       2715492968,  265534985, 2773811043, 1288936638, 2708522424,\n",
       "       2913587888, 4238443424, 1872405743, 1999643410,  955874695,\n",
       "       3275302323, 1207287104,  619155858, 3838406931, 3726551493,\n",
       "       4086513286, 1018183089,  821743389, 1260449357,  843349240,\n",
       "       4223285659, 1356966402, 1986924334,   11707928], dtype=uint32), 360, 0, 0.0))"
      ]
     },
     "execution_count": 9,
     "metadata": {},
     "output_type": "execute_result"
    }
   ],
   "source": [
    "n_iter = 10000\n",
    "ndim = 1; nwalkers = 2\n",
    "\n",
    "pos_init0 = [alpha0_t]\n",
    "p0 = pos_init0*(1+0.001* np.random.randn(nwalkers, ndim))\n",
    "\n",
    "sampler = emcee.EnsembleSampler(nwalkers, ndim, log_likelihood, args=[data])\n",
    "\n",
    "sampler.run_mcmc(p0, n_iter, progress=True)"
   ]
  },
  {
   "cell_type": "code",
   "execution_count": 10,
   "id": "83b38a4a",
   "metadata": {},
   "outputs": [],
   "source": [
    "\"\"\"\n",
    "Collect the samples here.\n",
    "\"\"\"\n",
    "burnin = 1500\n",
    "\n",
    "chains = sampler.get_chain(discard=burnin, thin=1, flat=False)\n",
    "alpha_samples = chains[:,:,0].flatten()"
   ]
  },
  {
   "cell_type": "code",
   "execution_count": 11,
   "id": "f8e8c4a8",
   "metadata": {},
   "outputs": [
    {
     "data": {
      "image/png": "[encoded data removed]",
      "text/plain": [
       "<Figure size 432x288 with 1 Axes>"
      ]
     },
     "metadata": {
      "needs_background": "light"
     },
     "output_type": "display_data"
    }
   ],
   "source": [
    "plt.plot(alpha_samples, \"k\", alpha=0.3)\n",
    "plt.tight_layout()\n",
    "plt.show()"
   ]
  },
  {
   "cell_type": "markdown",
   "id": "7914ad1d",
   "metadata": {},
   "source": [
    "### Fisher estimates"
   ]
  },
  {
   "cell_type": "code",
   "execution_count": 12,
   "id": "4d2b9f8f",
   "metadata": {},
   "outputs": [],
   "source": [
    "# Estimates without selection effects.\n",
    "\n",
    "def Dalpha(Nobs,alpha,Mmin,Mmax):\n",
    "    \"\"\"\n",
    "    This expression is only valid for 1D fitting, and crucially it only accounts for the first \n",
    "    term in the FM in the case, in the case in which there are no selection effects.\n",
    "    In short, be extremely careful in using it. However, it is an excellent approximation in the case without selection effects.\n",
    "    \"\"\"\n",
    "    den = Nobs * (alpha**-2 - (Mmax**alpha * Mmin**alpha * np.log(Mmax/Mmin)**2)/(Mmax**alpha-Mmin**alpha)**2)\n",
    "    return np.sqrt(1/den)\n",
    "\n",
    "def gaussian(d,mu,Sigma_sq): \n",
    "    num = np.exp(-0.5*(d-mu)**2/Sigma_sq)\n",
    "    den = np.sqrt(2*np.pi*Sigma_sq)\n",
    "    return num/den"
   ]
  },
  {
   "cell_type": "code",
   "execution_count": 13,
   "id": "f7562c5e",
   "metadata": {},
   "outputs": [],
   "source": [
    "# Estimates with selection effects.\n",
    "\n",
    "def pdet_lambda(theta):         return 0.5*N_samps_selfunction**-1*np.sum(erfc((dth-theta)/np.sqrt(2)/sigma))\n",
    "def dpdet_dlambda(theta):       return 0.5*N_samps_selfunction**-1*np.sum(erfc((dth-theta)/np.sqrt(2)/sigma)*theta)    #to check.\n",
    "def ddpdet_ddlambda(theta):     return 0.5*N_samps_selfunction**-1*np.sum(erfc((dth-theta)/np.sqrt(2)/sigma)*theta**2) #to check.\n",
    "\n",
    "def pdet_theta(theta):          return np.sum(0.5* erfc((dth-theta)/np.sqrt(2)/sigma))\n",
    "\n",
    "def dppop_dlambda(theta, Lambda =alpha0_t,theta_min=M_min,theta_max =M_max):  \n",
    "\n",
    "    norm= theta_max**Lambda -theta_min**Lambda\n",
    "    num = np.exp(theta)**(Lambda-1) * (norm+norm*Lambda*theta-theta_max**Lambda*Lambda*np.log(theta_max)+ theta_min**Lambda*Lambda*np.log(theta_min))\n",
    "    den = norm**2\n",
    "    return np.sum(num/den)\n",
    "\n",
    "def ddppop_ddlambda(theta, Lambda =alpha0_t,theta_min=M_min,theta_max =M_max):  \n",
    "\n",
    "    norm = theta_max**Lambda -theta_min**Lambda\n",
    "    num_1 = theta_max**(2*Lambda)*(theta-np.log(theta_max))*(2+Lambda*theta-Lambda* np.log(theta_max))\n",
    "    num_2 = theta_min**(2*Lambda)*(theta-np.log(theta_min))*(2+Lambda*theta-Lambda* np.log(theta_min))\n",
    "    num_3 = theta_max**(Lambda)*theta_min**(Lambda)*(-2*Lambda*theta**2+2*(np.log(theta_max)+np.log(theta_min))+Lambda*(np.log(theta_max)**2-4*np.log(theta_max)*np.log(theta_min)+np.log(theta_min)**2)+2*theta*(-2+Lambda*(np.log(theta_max)+np.log(theta_min))))\n",
    "    num = num_1 +num_2 + num_3\n",
    "    den = norm**3\n",
    "    return np.sum(np.exp(theta)**(Lambda-1)*num/den)\n",
    "\n",
    "def Gamma_lambda(theta,Lambda =alpha0_t):\n",
    "    \n",
    "    # Only the first term in Gamma_lambda, integrated out with theta_ij from p(theta|lambda).\n",
    "    # Watch out with the minus sign!\n",
    "    \n",
    "    ppop = np.sum(model(theta,Lambda))\n",
    "    \n",
    "    doub_der = (dppop_dlambda(theta)**2-ppop*ddppop_ddlambda(theta))/ppop**2 + (pdet_lambda(theta)*ddpdet_ddlambda(theta)-dpdet_dlambda(theta)**2)/pdet_lambda(theta)**2\n",
    "    first_term = N_det *doub_der * pdet_theta(theta)/pdet_lambda(theta)\n",
    "    return first_term\n",
    "\n",
    "def Gamma_lambda_v1(theta,Lambda =alpha0_t):\n",
    "    \n",
    "    # Only the first term in Gamma_lambda, integrated out with theta_ij from p(theta|lambda).\n",
    "    # Watch out with the minus sign!\n",
    "    \n",
    "    ppop = np.sum(model(theta,Lambda))\n",
    "    \n",
    "    doub_der = (dppop_dlambda(theta)**2-ppop*ddppop_ddlambda(theta))/ppop**2 + (pdet_lambda(theta)*ddpdet_ddlambda(theta)-dpdet_dlambda(theta)**2)/pdet_lambda(theta)**2\n",
    "    first_term = N_det *doub_der * pdet_theta(theta)/pdet_lambda(theta)\n",
    "    return first_term"
   ]
  },
  {
   "cell_type": "code",
   "execution_count": 24,
   "id": "fe4feddd",
   "metadata": {},
   "outputs": [
    {
     "name": "stdout",
     "output_type": "stream",
     "text": [
      "First derivative pdet: 6.582474930340792\n",
      "Second derivative pdet: 96.17245366212882\n",
      "First derivative ppop: -0.5150474412648878\n",
      "Second derivative ppop: 0.6344620820292357\n",
      "First term Gamma_lambda: 18056809.663590778\n"
     ]
    }
   ],
   "source": [
    "theta_ij = log_M(alpha0_t,N_samps_selfunction,M_max,M_min) #samples drawn from PDF to be used in the MC integral.\n",
    "\n",
    "\n",
    "print('First derivative pdet:', dpdet_dlambda(theta_ij))\n",
    "print('Second derivative pdet:', ddpdet_ddlambda(theta_ij))\n",
    "print('First derivative ppop:', dppop_dlambda(theta_ij))\n",
    "print('Second derivative ppop:', ddppop_ddlambda(theta_ij))\n",
    "\n",
    "\n",
    "print('First term Gamma_lambda:', Gamma_lambda(theta_ij))"
   ]
  },
  {
   "cell_type": "code",
   "execution_count": 30,
   "id": "e1052d10",
   "metadata": {
    "scrolled": true
   },
   "outputs": [
    {
     "name": "stdout",
     "output_type": "stream",
     "text": [
      "precision without selection effects: 0.04978162894482727\n",
      "Precision found numerically: 0.0002353311894565933\n"
     ]
    }
   ],
   "source": [
    "print('precision without selection effects:',Dalpha(N_obs,alpha0_t,M_min,M_max))\n",
    "print('Precision found numerically:',np.sqrt(1/Gamma_lambda(theta_ij)))"
   ]
  },
  {
   "cell_type": "code",
   "execution_count": 31,
   "id": "0c598fe0",
   "metadata": {},
   "outputs": [
    {
     "data": {
      "text/plain": [
       "0.0002353311894565933"
      ]
     },
     "execution_count": 31,
     "metadata": {},
     "output_type": "execute_result"
    }
   ],
   "source": [
    "np.sqrt(1/Gamma_lambda(theta_ij))"
   ]
  },
  {
   "cell_type": "code",
   "execution_count": 32,
   "id": "c353ed09",
   "metadata": {},
   "outputs": [
    {
     "data": {
      "image/png": "[encoded data removed]",
      "text/plain": [
       "<Figure size 432x288 with 1 Axes>"
      ]
     },
     "metadata": {
      "needs_background": "light"
     },
     "output_type": "display_data"
    }
   ],
   "source": [
    "\"\"\"\n",
    "Posteriors with Fisher estimates\n",
    "\"\"\"\n",
    "\n",
    "\n",
    "_, bins_alpha, _= plt.hist(alpha_samples, 30, histtype = 'bar', color ='gainsboro', density=True, edgecolor='black', label='MCMC')\n",
    "bins_alpha= np.array(bins_alpha)\n",
    "\n",
    "if selection_effects == False: \n",
    "    \n",
    "    # Fisher estimate without selection effects.\n",
    "    Da = Dalpha(N_obs,alpha0_t,M_min,M_max)\n",
    "    plt.plot(bins_alpha, gaussian(bins_alpha,alpha0_t,Da**2), color='black', lw=2.5,label='Fisher')\n",
    "    \n",
    "else:\n",
    "    Da=np.sqrt(1/Gamma_lambda(theta_ij))#dalpha_v1(logM_t,alpha0_t)\n",
    "    plt.plot(bins_alpha, gaussian(bins_alpha,alpha0_t,Da**2), color='black', lw=2.5,label='Fisher')\n",
    "    \n",
    "\n",
    "plt.axvline(x=alpha0_t, label='True', c='orange',ls='--',lw=3)\n",
    "plt.xlabel('alpha')\n",
    "plt.ylabel('PDF')\n",
    "plt.legend()\n",
    "plt.show()"
   ]
  },
  {
   "cell_type": "code",
   "execution_count": 33,
   "id": "9771b802",
   "metadata": {},
   "outputs": [
    {
     "data": {
      "text/plain": [
       "[<matplotlib.lines.Line2D at 0x7fda92f75520>]"
      ]
     },
     "execution_count": 33,
     "metadata": {},
     "output_type": "execute_result"
    },
    {
     "data": {
      "image/png": "[encoded data removed]",
      "text/plain": [
       "<Figure size 432x288 with 1 Axes>"
      ]
     },
     "metadata": {
      "needs_background": "light"
     },
     "output_type": "display_data"
    }
   ],
   "source": [
    "Da=np.sqrt(1/Gamma_lambda(theta_ij))\n",
    "plt.plot(bins_alpha, gaussian(bins_alpha,alpha0_t,Da**2), color='black', lw=2.5,label='Fisher')"
   ]
  },
  {
   "cell_type": "markdown",
   "id": "0272d674",
   "metadata": {},
   "source": [
    "# Dumpster"
   ]
  },
  {
   "cell_type": "code",
   "execution_count": null,
   "id": "cd7d47ca",
   "metadata": {},
   "outputs": [],
   "source": [
    "# from scipy.misc import derivative\n",
    "\n",
    "# theta_mean = 12.62\n",
    "# M_mean = np.exp(theta_mean)\n",
    "\n",
    "# def ppop_mean(hyperpar): return hyperpar/(M_max**hyperpar-M_min**hyperpar)*M_mean**(hyperpar-1)\n",
    "# def log_ppop(hyperpar): return np.log(ppop_mean(hyperpar))\n",
    "\n",
    "# print('first der:', derivative(log_ppop, alpha0_t, dx=1e-4,n=1,order=3))\n",
    "# print('second der:',derivative(log_ppop, alpha0_t, dx=1e-4,n=2,order=3))"
   ]
  },
  {
   "cell_type": "code",
   "execution_count": null,
   "id": "8fb57d8a",
   "metadata": {},
   "outputs": [],
   "source": [
    "\n",
    "# def log_M_norm(alpha, Mmax,Mmin):\n",
    "#     return alpha/(Mmax**(alpha)-Mmin**(alpha))\n",
    "\n",
    "\n",
    "# def selection_function_firstderiv(Lambda,number_samples_for_integration,upper_limit,lower_limit,noise_var,threshold):\n",
    "    \n",
    "#     theta_ij = log_M(Lambda-1.0,number_samples_for_integration,upper_limit,lower_limit)\n",
    "    \n",
    "#     #return np.sum((Lambda-1.0)*log_M_norm(Lambda,upper_limit,lower_limit)*(theta_ij**-10)/np.sqrt(2)/noise_var/log_M_norm(Lambda-1.0,upper_limit,lower_limit))/number_samples_for_integration\n",
    "#     return np.sum((Lambda-1.0)*log_M_norm(Lambda,upper_limit,lower_limit)*0.5*erfc((threshold-theta_ij)/np.sqrt(2)/noise_var)/log_M_norm(Lambda-1.0,upper_limit,lower_limit))/number_samples_for_integration\n",
    "#     #return np.sum(log_M_norm(Lambda,upper_limit,lower_limit)/log_M_norm(Lambda-1.0,upper_limit,lower_limit))\n",
    "\n",
    "# def selection_function_firstderivAlt(Lambda,number_samples_for_integration,upper_limit,lower_limit,noise_var,threshold):\n",
    "    \n",
    "#     theta_ij = log_M(Lambda,number_samples_for_integration,upper_limit,lower_limit)\n",
    "    \n",
    "#     #return np.sum((Lambda-1.0)*(theta_ij**-10)/np.sqrt(2)/noise_var/np.exp(theta_ij))/number_samples_for_integration\n",
    "#     return np.sum((Lambda-1.0)*0.5*erfc((threshold-theta_ij)/np.sqrt(2)/noise_var)/np.exp(theta_ij))/number_samples_for_integration\n",
    "#     #return np.sum(1.0/np.exp(theta_ij))/number_samples_for_integration\n",
    "\n",
    "# def selection_function_secondderiv(Lambda,number_samples_for_integration,upper_limit,lower_limit,noise_var,threshold):\n",
    "    \n",
    "#     theta_ij = log_M(Lambda-2.0,number_samples_for_integration,upper_limit,lower_limit)\n",
    "    \n",
    "#     return np.sum((Lambda-2.0)*(Lambda-1.0)*log_M_norm(Lambda,upper_limit,lower_limit)*0.5*erfc((threshold-theta_ij)/np.sqrt(2)/noise_var)/log_M_norm(Lambda-2.0,upper_limit,lower_limit))/number_samples_for_integration\n",
    "\n",
    "# def d_pdet_lambda(hyperpar): return selection_function_firstderiv(hyperpar,N_samps_selfunction,M_max,M_min,sigma,dth)\n",
    "# def Alt_d_pdet_lambda(hyperpar): return selection_function_firstderivAlt(hyperpar,N_samps_selfunction,M_max,M_min,sigma,dth)\n",
    "# def dd_pdet_lambda(hyperpar): return selection_function_secondderiv(hyperpar,N_samps_selfunction,M_max,M_min,sigma,dth)"
   ]
  },
  {
   "cell_type": "code",
   "execution_count": null,
   "id": "936d03ad",
   "metadata": {},
   "outputs": [],
   "source": [
    "\n",
    "# print(d_pdet_lambda(alpha0_t)/pdet_lambda(alpha0_t))\n",
    "# print(Alt_d_pdet_lambda(alpha0_t)/pdet_lambda(alpha0_t))\n",
    "# print('ratio:', d_pdet_lambda(alpha0_t)/Alt_d_pdet_lambda(alpha0_t))"
   ]
  },
  {
   "cell_type": "code",
   "execution_count": null,
   "id": "5dde95ef",
   "metadata": {},
   "outputs": [],
   "source": [
    "# print(d_pdet_lambda(alpha0_t))\n",
    "# Alt_d_pdet_lambda(alpha0_t)"
   ]
  },
  {
   "cell_type": "code",
   "execution_count": null,
   "id": "c6b51d00",
   "metadata": {},
   "outputs": [],
   "source": [
    "# Dumpster.\n",
    "\n",
    "def dppop_dlambda_v1(theta, Lambda = alpha0_t,theta_min=M_min,theta_max=M_max):  \n",
    "\n",
    "    term1 = Lambda**-1\n",
    "    term2 = theta -np.log(theta_min)\n",
    "    term3 = - theta_max**Lambda/(theta_max**Lambda -theta_min**Lambda)*(np.log(theta_max/theta_min))\n",
    "    return np.sum(term1 + term2 + term3)\n",
    "\n",
    "\n",
    "#def ddppop_ddlambda(theta):     return np.sum(model(theta,alpha0_t)*theta**2)\n",
    "\n",
    "#def term_1(theta): return (ddppop_ddlambda(theta)-ddpdet_ddlambda(theta))*pdet_theta(theta)/pdet_lambda(theta)"
   ]
  },
  {
   "cell_type": "code",
   "execution_count": null,
   "id": "214d244e",
   "metadata": {},
   "outputs": [],
   "source": [
    "# Helper functions\n",
    "\n",
    "def pdet_lambda(hyperpar): return selection_function(hyperpar,N_samps_selfunction,M_max,M_min,sigma,dth)\n",
    "def pdet_theta(theta):     return 0.5* erfc((dth-theta)/np.sqrt(2)/sigma)\n",
    "def ppop(theta,hyperpar):  return model(theta,hyperpar)\n",
    "\n",
    "def Gamma_lambda_v1(theta,hyperpar): \n",
    "    \n",
    "    ptheta=np.sum(pdet_theta(theta))\n",
    "    plambda = pdet_lambda(hyperpar)\n",
    "    sigma_lambda_prime = 6.571860642416611\n",
    "    sigma_lambda_doubprime = 96.0130766100902\n",
    "    num = (-0.00731241 + 5.03501* ptheta-0.1596* ptheta)*plambda**2 - ptheta*sigma_lambda_prime**2 + ptheta*plambda*sigma_lambda_doubprime\n",
    "    den = pdet_lambda(hyperpar)**3\n",
    "    return N_det*num/den\n",
    "    #return N_det*(-0.00731241 + 5.03501* ptheta-0.1596* ptheta)/pdet_lambda(hyperpar)\n",
    "\n",
    "    \n",
    "def dalpha_v1(theta,hyperpar):    return np.sqrt(1/Gamma_lambda_v1(theta,hyperpar))"
   ]
  },
  {
   "cell_type": "code",
   "execution_count": null,
   "id": "992f107f",
   "metadata": {},
   "outputs": [],
   "source": [
    "print('precision without selection effects:',Dalpha(N_obs,alpha0_t,M_min,M_max))\n",
    "print('precision with selection effects:',dalpha_v1(logM_t,alpha0_t))"
   ]
  },
  {
   "cell_type": "code",
   "execution_count": null,
   "id": "4a639655",
   "metadata": {},
   "outputs": [],
   "source": []
  }
 ],
 "metadata": {
  "interpreter": {
   "hash": "6a4c3f65261587b55a0f30d9b7a4892a0c55342535808fcf5e158d1bb0d89e5f"
  },
  "kernelspec": {
   "display_name": "Python 3 (ipykernel)",
   "language": "python",
   "name": "python3"
  },
  "language_info": {
   "codemirror_mode": {
    "name": "ipython",
    "version": 3
   },
   "file_extension": ".py",
   "mimetype": "text/x-python",
   "name": "python",
   "nbconvert_exporter": "python",
   "pygments_lexer": "ipython3",
   "version": "3.8.8"
  }
 },
 "nbformat": 4,
 "nbformat_minor": 5
}
