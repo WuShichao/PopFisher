{
 "cells": [
  {
   "cell_type": "markdown",
   "id": "satellite-worth",
   "metadata": {},
   "source": [
    "# MCMC for the mass distribution of EMRIs"
   ]
  },
  {
   "cell_type": "code",
   "execution_count": 1,
   "id": "0c2728a8",
   "metadata": {},
   "outputs": [],
   "source": [
    "import numpy as np\n",
    "import matplotlib.pyplot as plt\n",
    "import emcee\n",
    "import corner\n",
    "import matplotlib as mpl\n",
    "import seaborn as sns\n",
    "\n",
    "\n",
    "%matplotlib inline\n",
    "np.random.seed(1234)\n",
    "\n",
    "\n",
    "params = {'axes.labelsize': 18,\n",
    "          'font.family': 'serif',\n",
    "          'font.serif': 'Computer Modern Raman',\n",
    "          'font.size': 18,\n",
    "          'axes.linewidth': 1,\n",
    "          'legend.fontsize': 15,\n",
    "          'xtick.labelsize': 18,\n",
    "          'xtick.top': True,\n",
    "          'ytick.labelsize': 18,\n",
    "          'ytick.right': True,\n",
    "          'axes.grid' : True,\n",
    "          'text.usetex': True,\n",
    "          'savefig.dpi' : 100,\n",
    "          'lines.markersize' : 14,\n",
    "          'axes.formatter.limits' : (-3,3)}\n",
    "\n",
    "mpl.rcParams.update(params)"
   ]
  },
  {
   "cell_type": "markdown",
   "id": "a3dce3e3",
   "metadata": {},
   "source": [
    "We fit a BH mass functionsource parameter given by the mass, $\\theta=M$. This example follows the EMRI mass function [e-Print: 1004.1921 (\"GTV\")]:\n",
    "\n",
    "$$\\frac{dN}{d\\ln M}=A_0\\big(\\frac{M}{M_*}\\big)^{\\alpha_0} \\quad\\Rightarrow\\quad p(M|\\lambda)=\\mathcal{N} M^{\\alpha_0-1}.$$\n",
    "\n",
    "We are interested in the $ \\lambda=\\alpha_0$ population parameter. We are assuming that the amplitude $A_0$ does not carry information about the system, but only about the rate of events."
   ]
  },
  {
   "cell_type": "code",
   "execution_count": 2,
   "id": "f7eda7ac",
   "metadata": {},
   "outputs": [],
   "source": [
    "\"\"\"\n",
    "Parameters\n",
    "\"\"\"\n",
    "\n",
    "N_obs = 1000\n",
    "N_samp_per_obs = 10\n",
    "\n",
    "# Inputs to get the true ln M distribution.\n",
    "# Notice that M runs from 10^4 to 10^7 in GTV.\n",
    "\n",
    "alpha0_t = 0.00001 # Choose flat spectral profile.\n",
    "M_min=10000. ;   logM_min = np.log(M_min)\n",
    "M_max=10000000.; logM_max = np.log(M_max)"
   ]
  },
  {
   "cell_type": "code",
   "execution_count": 3,
   "id": "a581b72c",
   "metadata": {},
   "outputs": [],
   "source": [
    "def model(lnM,alpha):\n",
    "    \n",
    "    \"\"\"\n",
    "    Model for p(d|lambda).\n",
    "    \n",
    "    Input:\n",
    "    \n",
    "    - data    (The noisy generated data where we expect the masses to be.)\n",
    "    - alpha   (Spectral index of the mass distribution.)\n",
    "    \n",
    "    \"\"\"\n",
    "    \n",
    "    M = np.exp(lnM) # mass observations\n",
    "    norm  = alpha/(M_max**alpha-M_min**alpha)\n",
    "    \n",
    "    \n",
    "    return norm*M**(alpha-1)"
   ]
  },
  {
   "cell_type": "markdown",
   "id": "0c373548",
   "metadata": {},
   "source": [
    "The hyperlikelihood is (with $\\theta = \\ln M$ and $\\lambda=\\alpha$):\n",
    "\n",
    "$$\n",
    "p(d|\\lambda) = \\prod_{i=1}^{N_\\text{obs}} p(d_i|\\lambda) = \\prod_{i=1}^{N_\\text{obs}} \\int p(d_i|\\theta_i)p_\\text{pop}(\\theta_i|\\lambda) d\\theta_i,\n",
    "$$\n",
    "\n",
    "which can be rearranged through Bayes theorem to give\n",
    "\n",
    "$$\n",
    "    p(d|\\lambda) = \\prod_{i=1}^{N_\\text{obs}} \\int \\frac{p(\\theta_i|d_i) p(\\theta_i)}{p(d_i)}p_\\text{pop}(\\theta_i|\\lambda) d\\theta_i.\n",
    "$$\n",
    "\n",
    "The integral can be solved with Monte Carlo methods drawing $N_\\text{samp}$ samples from the posterior, $\\theta_{ij}\\sim p(\\theta_{i}|d_i)$ ($j$ indexing the samples),\n",
    "\n",
    "$$\n",
    "   p(d|\\lambda) = \\prod_{i=1}^{N_\\text{obs}} \\frac{1}{N_\\text{samp}}\\sum_{j=1}^{N_\\text{samp}} \\frac{p(\\theta_{ij})}{p(d_i)}p_\\text{pop}(\\theta_{ij}|\\lambda)\\quad \\Rightarrow \\quad \\log p(d|\\lambda)\\propto \\sum_{i=1}^{N_\\text{obs}}\\sum_{j=1}^{N_\\text{samp}} p_\\text{pop}(\\theta_{ij}|\\lambda)\\equiv \\sum_{i=1}^{N_\\text{obs}}\\sum_{j=1}^{N_\\text{samp}} p_{\\text{pop},ij}.\n",
    "$$\n",
    "\n",
    "In the last line, we ignore normalization factors and take the log of the hyperlikelihood. The final expression is coded up below."
   ]
  },
  {
   "cell_type": "markdown",
   "id": "9e4ab8e7",
   "metadata": {},
   "source": [
    "\n",
    "Starting from the probability density $p(M|\\lambda)=\\mathcal{N} M^{\\alpha_0-1}$, we can use the method of inversion to get the source parameter M. In particular, we define the cumulative density function,\n",
    "\n",
    "$u:=\\text{CDF}(M)= \\mathcal{N}\\int_{M_\\text{min}}^{M}M^{\\alpha_0-1}dM = \\alpha_0^{-1}\\mathcal{N}M^{\\alpha_0}\\big|_{M_\\text{min}}^{M}=\\alpha_0^{-1}\\mathcal{N}(M^{\\alpha_0}-M^{\\alpha_0}_{\\text{min}})$.\n",
    "\n",
    "The normalization factor can be calculated imposing that $\\lim_{M\\rightarrow M_{\\text{min}}} u=1$, which gives immediately:\n",
    "\n",
    "$\\mathcal{N}=\\frac{\\alpha_0}{M^{\\alpha_0}_\\text{max}-M^{\\alpha_0}_{\\text{min}}}$.\n",
    "\n",
    "Now, we get M in terms of $u$, \n",
    "\n",
    "$\\quad M^{\\alpha_0}=\\alpha_0\\mathcal{N}^{-1} u +M^{\\alpha_0}_{\\text{min}}\\quad\\Longrightarrow \\quad \\ln M =\\frac{1}{\\alpha_0} \\ln\\big[(M^{\\alpha_0}_\\text{max}-M^{\\alpha_0}_{\\text{min}})\\, u +M^{\\alpha_0}_{\\text{min}}\\big]\\quad $ (true parameter distribution)."
   ]
  },
  {
   "cell_type": "code",
   "execution_count": 6,
   "id": "5d5835dd",
   "metadata": {},
   "outputs": [],
   "source": [
    "from scipy.special import erfc\n",
    "\n",
    "sigma = 0.1\n",
    "dth = 12.0\n",
    "noise = np.random.normal(0,sigma,size = N_obs)\n",
    "\n",
    "\"\"\"\n",
    "Data draws.\n",
    "\"\"\"\n",
    "\n",
    "u = np.random.uniform(size=N_obs)\n",
    "logM_t=alpha0_t**-1 * np.log((M_max**(alpha0_t)-M_min**(alpha0_t))*u+ M_min**(alpha0_t)*np.ones(N_obs))\n",
    "logM_obs = 0.5 * erfc((dth - logM_t)/np.sqrt(2*sigma**2))\n",
    "\n",
    "\n",
    "d_i = noise + logM_t  # observation model made of noise + true population.\n",
    "d_i_selbias = d_i[d_i>dth]\n",
    "\n",
    "N_det = len(d_i)\n",
    "\n",
    "\"\"\"\n",
    "Data array. The structure of data is such that Data[i,j] is the jth posterior sample from event i.\n",
    "We assume the observation model p(d|theta) is a normal gaussian.\n",
    "\n",
    "\"\"\"\n",
    "\n",
    "data=np.zeros((N_det,N_samp_per_obs))\n",
    "for i in np.arange(N_det):\n",
    "    \n",
    "    data[i,:]=np.random.normal(d_i[i],sigma,size=N_samp_per_obs)"
   ]
  },
  {
   "cell_type": "code",
   "execution_count": 17,
   "id": "edd8f1cc",
   "metadata": {},
   "outputs": [
    {
     "data": {
      "text/plain": [
       "<matplotlib.legend.Legend at 0x7f91f41675e0>"
      ]
     },
     "execution_count": 17,
     "metadata": {},
     "output_type": "execute_result"
    },
    {
     "data": {
      "image/png": "[encoded data removed]",
      "text/plain": [
       "<Figure size 432x360 with 1 Axes>"
      ]
     },
     "metadata": {
      "needs_background": "light"
     },
     "output_type": "display_data"
    }
   ],
   "source": [
    "fig, ax = plt.subplots(1,1,figsize=(6,5))\n",
    "plt.hist(np.log10(np.exp(d_i)),density=True,bins=10,histtype = 'stepfilled',\n",
    "                               color ='gainsboro', alpha=0.7, edgecolor='white')\n",
    "plt.hist(np.log10(np.exp(d_i_selbias)),density=True,bins=10,histtype = 'stepfilled',\n",
    "                               color ='lightpink', alpha=0.7, edgecolor='white')\n",
    "sns.kdeplot(np.array(np.log10(np.exp(d_i))), label='True population',c='k')\n",
    "sns.kdeplot(np.array(np.log10(np.exp(d_i_selbias))), label='Observed population',c='red')\n",
    "plt.axvline(x=np.log10(np.exp(np.mean(logM_t))), label='True mean', c='orange',ls='--',lw=3)\n",
    "\n",
    "plt.xlabel('$\\log(M_{obs}/M_\\odot)$')\n",
    "plt.ylabel('Density')\n",
    "plt.legend()"
   ]
  },
  {
   "cell_type": "code",
   "execution_count": 4,
   "id": "3a338510",
   "metadata": {},
   "outputs": [],
   "source": [
    "# Limits of (flat) hyperpriors.\n",
    "\n",
    "hyperprior_min = -10.0\n",
    "hyperprior_max = 10.0\n",
    "\n",
    "def log_likelihood_numerical(params, data):\n",
    "    \n",
    "     \n",
    "    support = ( # Here is the support limits for hyperpriors.\n",
    "                (params[0] >= hyperprior_min)&\n",
    "                (params[0] <= hyperprior_max)\n",
    "                )\n",
    "    \n",
    "    log_likelihood=0\n",
    "    \n",
    "    for i in np.arange(N_obs):\n",
    "        \n",
    "        ppop_ij = model(data[i,:],params[0])  # N_samp-long array for population model.\n",
    "        sum_ppop = np.sum(ppop_ij)            # internal sum of population model over N_samp.\n",
    "        log_likelihood += np.log(sum_ppop)    # add the samples drawn over N_obs in the loop.\n",
    "        \n",
    "    out = np.where(support,log_likelihood,-np.inf)  # Only retain likelihood if supported.\n",
    "    \n",
    "    \n",
    "    # Force nans away.\n",
    "    if np.isfinite(out):\n",
    "        return out\n",
    "    else:\n",
    "        return -np.inf"
   ]
  },
  {
   "cell_type": "code",
   "execution_count": 21,
   "id": "e01dd79b",
   "metadata": {},
   "outputs": [],
   "source": [
    "\"\"\"\n",
    "Choose which data and likelihood.\n",
    "\"\"\"\n",
    "\n",
    "which_likelihood = log_likelihood_numerical\n",
    "which_data = data"
   ]
  },
  {
   "cell_type": "code",
   "execution_count": 22,
   "id": "8de984ec",
   "metadata": {},
   "outputs": [
    {
     "name": "stdout",
     "output_type": "stream",
     "text": [
      "emcee: Exception while calling your likelihood function:\n",
      "  params: [9.9967999e-06]\n",
      "  args: [array([[13.69579093, 13.60527742, 13.63738662, ..., 13.60360623,\n",
      "        13.63386776, 13.53850752],\n",
      "       [13.43316102, 13.49413712, 13.56649801, ..., 13.37056675,\n",
      "        13.28952999, 13.28185821],\n",
      "       [13.53217859, 13.83555312, 13.59467362, ..., 13.63007601,\n",
      "        13.53906279, 13.54301814],\n",
      "       ...,\n",
      "       [14.75990969, 14.93340564, 14.67863622, ..., 14.54449086,\n",
      "        14.7400169 , 14.75485176],\n",
      "       [13.77712787, 13.82854208, 13.90930323, ..., 13.85518077,\n",
      "        13.5914373 , 13.7079693 ],\n",
      "       [15.80815965, 15.5490108 , 15.52748879, ..., 15.49697836,\n",
      "        15.47555991, 15.35968989]])]\n",
      "  kwargs: {}\n",
      "  exception:\n"
     ]
    },
    {
     "name": "stderr",
     "output_type": "stream",
     "text": [
      "Traceback (most recent call last):\n",
      "  File \"/opt/anaconda3/envs/emcee_env/lib/python3.8/site-packages/emcee/ensemble.py\", line 545, in __call__\n",
      "    return self.f(x, *self.args, **self.kwargs)\n",
      "  File \"<ipython-input-4-babd4afcc89e>\", line 18, in log_likelihood_numerical\n",
      "    ppop_ij = model(data[i,:],params[0])  # N_samp-long array for population model.\n",
      "IndexError: index 601 is out of bounds for axis 0 with size 601\n"
     ]
    },
    {
     "ename": "IndexError",
     "evalue": "index 601 is out of bounds for axis 0 with size 601",
     "output_type": "error",
     "traceback": [
      "\u001b[0;31m---------------------------------------------------------------------------\u001b[0m",
      "\u001b[0;31mIndexError\u001b[0m                                Traceback (most recent call last)",
      "\u001b[0;32m<ipython-input-22-0e3de733a343>\u001b[0m in \u001b[0;36m<module>\u001b[0;34m\u001b[0m\n\u001b[1;32m      7\u001b[0m \u001b[0msampler\u001b[0m \u001b[0;34m=\u001b[0m \u001b[0memcee\u001b[0m\u001b[0;34m.\u001b[0m\u001b[0mEnsembleSampler\u001b[0m\u001b[0;34m(\u001b[0m\u001b[0mnwalkers\u001b[0m\u001b[0;34m,\u001b[0m \u001b[0mndim\u001b[0m\u001b[0;34m,\u001b[0m \u001b[0mwhich_likelihood\u001b[0m\u001b[0;34m,\u001b[0m \u001b[0margs\u001b[0m\u001b[0;34m=\u001b[0m\u001b[0;34m[\u001b[0m\u001b[0mwhich_data\u001b[0m\u001b[0;34m]\u001b[0m\u001b[0;34m)\u001b[0m\u001b[0;34m\u001b[0m\u001b[0;34m\u001b[0m\u001b[0m\n\u001b[1;32m      8\u001b[0m \u001b[0;34m\u001b[0m\u001b[0m\n\u001b[0;32m----> 9\u001b[0;31m \u001b[0msampler\u001b[0m\u001b[0;34m.\u001b[0m\u001b[0mrun_mcmc\u001b[0m\u001b[0;34m(\u001b[0m\u001b[0mp0\u001b[0m\u001b[0;34m,\u001b[0m \u001b[0mn_iter\u001b[0m\u001b[0;34m,\u001b[0m \u001b[0mprogress\u001b[0m\u001b[0;34m=\u001b[0m\u001b[0;32mTrue\u001b[0m\u001b[0;34m)\u001b[0m\u001b[0;34m\u001b[0m\u001b[0;34m\u001b[0m\u001b[0m\n\u001b[0m",
      "\u001b[0;32m/opt/anaconda3/envs/emcee_env/lib/python3.8/site-packages/emcee/ensemble.py\u001b[0m in \u001b[0;36mrun_mcmc\u001b[0;34m(self, initial_state, nsteps, **kwargs)\u001b[0m\n\u001b[1;32m    382\u001b[0m \u001b[0;34m\u001b[0m\u001b[0m\n\u001b[1;32m    383\u001b[0m         \u001b[0mresults\u001b[0m \u001b[0;34m=\u001b[0m \u001b[0;32mNone\u001b[0m\u001b[0;34m\u001b[0m\u001b[0;34m\u001b[0m\u001b[0m\n\u001b[0;32m--> 384\u001b[0;31m         \u001b[0;32mfor\u001b[0m \u001b[0mresults\u001b[0m \u001b[0;32min\u001b[0m \u001b[0mself\u001b[0m\u001b[0;34m.\u001b[0m\u001b[0msample\u001b[0m\u001b[0;34m(\u001b[0m\u001b[0minitial_state\u001b[0m\u001b[0;34m,\u001b[0m \u001b[0miterations\u001b[0m\u001b[0;34m=\u001b[0m\u001b[0mnsteps\u001b[0m\u001b[0;34m,\u001b[0m \u001b[0;34m**\u001b[0m\u001b[0mkwargs\u001b[0m\u001b[0;34m)\u001b[0m\u001b[0;34m:\u001b[0m\u001b[0;34m\u001b[0m\u001b[0;34m\u001b[0m\u001b[0m\n\u001b[0m\u001b[1;32m    385\u001b[0m             \u001b[0;32mpass\u001b[0m\u001b[0;34m\u001b[0m\u001b[0;34m\u001b[0m\u001b[0m\n\u001b[1;32m    386\u001b[0m \u001b[0;34m\u001b[0m\u001b[0m\n",
      "\u001b[0;32m/opt/anaconda3/envs/emcee_env/lib/python3.8/site-packages/emcee/ensemble.py\u001b[0m in \u001b[0;36msample\u001b[0;34m(self, initial_state, log_prob0, rstate0, blobs0, iterations, tune, skip_initial_state_check, thin_by, thin, store, progress)\u001b[0m\n\u001b[1;32m    283\u001b[0m             \u001b[0mstate\u001b[0m\u001b[0;34m.\u001b[0m\u001b[0mblobs\u001b[0m \u001b[0;34m=\u001b[0m \u001b[0mblobs0\u001b[0m\u001b[0;34m\u001b[0m\u001b[0;34m\u001b[0m\u001b[0m\n\u001b[1;32m    284\u001b[0m         \u001b[0;32mif\u001b[0m \u001b[0mstate\u001b[0m\u001b[0;34m.\u001b[0m\u001b[0mlog_prob\u001b[0m \u001b[0;32mis\u001b[0m \u001b[0;32mNone\u001b[0m\u001b[0;34m:\u001b[0m\u001b[0;34m\u001b[0m\u001b[0;34m\u001b[0m\u001b[0m\n\u001b[0;32m--> 285\u001b[0;31m             \u001b[0mstate\u001b[0m\u001b[0;34m.\u001b[0m\u001b[0mlog_prob\u001b[0m\u001b[0;34m,\u001b[0m \u001b[0mstate\u001b[0m\u001b[0;34m.\u001b[0m\u001b[0mblobs\u001b[0m \u001b[0;34m=\u001b[0m \u001b[0mself\u001b[0m\u001b[0;34m.\u001b[0m\u001b[0mcompute_log_prob\u001b[0m\u001b[0;34m(\u001b[0m\u001b[0mstate\u001b[0m\u001b[0;34m.\u001b[0m\u001b[0mcoords\u001b[0m\u001b[0;34m)\u001b[0m\u001b[0;34m\u001b[0m\u001b[0;34m\u001b[0m\u001b[0m\n\u001b[0m\u001b[1;32m    286\u001b[0m         \u001b[0;32mif\u001b[0m \u001b[0mnp\u001b[0m\u001b[0;34m.\u001b[0m\u001b[0mshape\u001b[0m\u001b[0;34m(\u001b[0m\u001b[0mstate\u001b[0m\u001b[0;34m.\u001b[0m\u001b[0mlog_prob\u001b[0m\u001b[0;34m)\u001b[0m \u001b[0;34m!=\u001b[0m \u001b[0;34m(\u001b[0m\u001b[0mself\u001b[0m\u001b[0;34m.\u001b[0m\u001b[0mnwalkers\u001b[0m\u001b[0;34m,\u001b[0m\u001b[0;34m)\u001b[0m\u001b[0;34m:\u001b[0m\u001b[0;34m\u001b[0m\u001b[0;34m\u001b[0m\u001b[0m\n\u001b[1;32m    287\u001b[0m             \u001b[0;32mraise\u001b[0m \u001b[0mValueError\u001b[0m\u001b[0;34m(\u001b[0m\u001b[0;34m\"incompatible input dimensions\"\u001b[0m\u001b[0;34m)\u001b[0m\u001b[0;34m\u001b[0m\u001b[0;34m\u001b[0m\u001b[0m\n",
      "\u001b[0;32m/opt/anaconda3/envs/emcee_env/lib/python3.8/site-packages/emcee/ensemble.py\u001b[0m in \u001b[0;36mcompute_log_prob\u001b[0;34m(self, coords)\u001b[0m\n\u001b[1;32m    424\u001b[0m             \u001b[0;32melse\u001b[0m\u001b[0;34m:\u001b[0m\u001b[0;34m\u001b[0m\u001b[0;34m\u001b[0m\u001b[0m\n\u001b[1;32m    425\u001b[0m                 \u001b[0mmap_func\u001b[0m \u001b[0;34m=\u001b[0m \u001b[0mmap\u001b[0m\u001b[0;34m\u001b[0m\u001b[0;34m\u001b[0m\u001b[0m\n\u001b[0;32m--> 426\u001b[0;31m             results = list(\n\u001b[0m\u001b[1;32m    427\u001b[0m                 \u001b[0mmap_func\u001b[0m\u001b[0;34m(\u001b[0m\u001b[0mself\u001b[0m\u001b[0;34m.\u001b[0m\u001b[0mlog_prob_fn\u001b[0m\u001b[0;34m,\u001b[0m \u001b[0;34m(\u001b[0m\u001b[0mp\u001b[0m\u001b[0;34m[\u001b[0m\u001b[0mi\u001b[0m\u001b[0;34m]\u001b[0m \u001b[0;32mfor\u001b[0m \u001b[0mi\u001b[0m \u001b[0;32min\u001b[0m \u001b[0mrange\u001b[0m\u001b[0;34m(\u001b[0m\u001b[0mlen\u001b[0m\u001b[0;34m(\u001b[0m\u001b[0mp\u001b[0m\u001b[0;34m)\u001b[0m\u001b[0;34m)\u001b[0m\u001b[0;34m)\u001b[0m\u001b[0;34m)\u001b[0m\u001b[0;34m\u001b[0m\u001b[0;34m\u001b[0m\u001b[0m\n\u001b[1;32m    428\u001b[0m             )\n",
      "\u001b[0;32m/opt/anaconda3/envs/emcee_env/lib/python3.8/site-packages/emcee/ensemble.py\u001b[0m in \u001b[0;36m__call__\u001b[0;34m(self, x)\u001b[0m\n\u001b[1;32m    543\u001b[0m     \u001b[0;32mdef\u001b[0m \u001b[0m__call__\u001b[0m\u001b[0;34m(\u001b[0m\u001b[0mself\u001b[0m\u001b[0;34m,\u001b[0m \u001b[0mx\u001b[0m\u001b[0;34m)\u001b[0m\u001b[0;34m:\u001b[0m\u001b[0;34m\u001b[0m\u001b[0;34m\u001b[0m\u001b[0m\n\u001b[1;32m    544\u001b[0m         \u001b[0;32mtry\u001b[0m\u001b[0;34m:\u001b[0m\u001b[0;34m\u001b[0m\u001b[0;34m\u001b[0m\u001b[0m\n\u001b[0;32m--> 545\u001b[0;31m             \u001b[0;32mreturn\u001b[0m \u001b[0mself\u001b[0m\u001b[0;34m.\u001b[0m\u001b[0mf\u001b[0m\u001b[0;34m(\u001b[0m\u001b[0mx\u001b[0m\u001b[0;34m,\u001b[0m \u001b[0;34m*\u001b[0m\u001b[0mself\u001b[0m\u001b[0;34m.\u001b[0m\u001b[0margs\u001b[0m\u001b[0;34m,\u001b[0m \u001b[0;34m**\u001b[0m\u001b[0mself\u001b[0m\u001b[0;34m.\u001b[0m\u001b[0mkwargs\u001b[0m\u001b[0;34m)\u001b[0m\u001b[0;34m\u001b[0m\u001b[0;34m\u001b[0m\u001b[0m\n\u001b[0m\u001b[1;32m    546\u001b[0m         \u001b[0;32mexcept\u001b[0m\u001b[0;34m:\u001b[0m  \u001b[0;31m# pragma: no cover\u001b[0m\u001b[0;34m\u001b[0m\u001b[0;34m\u001b[0m\u001b[0m\n\u001b[1;32m    547\u001b[0m             \u001b[0;32mimport\u001b[0m \u001b[0mtraceback\u001b[0m\u001b[0;34m\u001b[0m\u001b[0;34m\u001b[0m\u001b[0m\n",
      "\u001b[0;32m<ipython-input-4-babd4afcc89e>\u001b[0m in \u001b[0;36mlog_likelihood_numerical\u001b[0;34m(params, data)\u001b[0m\n\u001b[1;32m     16\u001b[0m     \u001b[0;32mfor\u001b[0m \u001b[0mi\u001b[0m \u001b[0;32min\u001b[0m \u001b[0mnp\u001b[0m\u001b[0;34m.\u001b[0m\u001b[0marange\u001b[0m\u001b[0;34m(\u001b[0m\u001b[0mN_obs\u001b[0m\u001b[0;34m)\u001b[0m\u001b[0;34m:\u001b[0m\u001b[0;34m\u001b[0m\u001b[0;34m\u001b[0m\u001b[0m\n\u001b[1;32m     17\u001b[0m \u001b[0;34m\u001b[0m\u001b[0m\n\u001b[0;32m---> 18\u001b[0;31m         \u001b[0mppop_ij\u001b[0m \u001b[0;34m=\u001b[0m \u001b[0mmodel\u001b[0m\u001b[0;34m(\u001b[0m\u001b[0mdata\u001b[0m\u001b[0;34m[\u001b[0m\u001b[0mi\u001b[0m\u001b[0;34m,\u001b[0m\u001b[0;34m:\u001b[0m\u001b[0;34m]\u001b[0m\u001b[0;34m,\u001b[0m\u001b[0mparams\u001b[0m\u001b[0;34m[\u001b[0m\u001b[0;36m0\u001b[0m\u001b[0;34m]\u001b[0m\u001b[0;34m)\u001b[0m  \u001b[0;31m# N_samp-long array for population model.\u001b[0m\u001b[0;34m\u001b[0m\u001b[0;34m\u001b[0m\u001b[0m\n\u001b[0m\u001b[1;32m     19\u001b[0m         \u001b[0msum_ppop\u001b[0m \u001b[0;34m=\u001b[0m \u001b[0mnp\u001b[0m\u001b[0;34m.\u001b[0m\u001b[0msum\u001b[0m\u001b[0;34m(\u001b[0m\u001b[0mppop_ij\u001b[0m\u001b[0;34m)\u001b[0m            \u001b[0;31m# internal sum of population model over N_samp.\u001b[0m\u001b[0;34m\u001b[0m\u001b[0;34m\u001b[0m\u001b[0m\n\u001b[1;32m     20\u001b[0m         \u001b[0mlog_likelihood\u001b[0m \u001b[0;34m+=\u001b[0m \u001b[0mnp\u001b[0m\u001b[0;34m.\u001b[0m\u001b[0mlog\u001b[0m\u001b[0;34m(\u001b[0m\u001b[0msum_ppop\u001b[0m\u001b[0;34m)\u001b[0m    \u001b[0;31m# add the samples drawn over N_obs in the loop.\u001b[0m\u001b[0;34m\u001b[0m\u001b[0;34m\u001b[0m\u001b[0m\n",
      "\u001b[0;31mIndexError\u001b[0m: index 601 is out of bounds for axis 0 with size 601"
     ]
    }
   ],
   "source": [
    "n_iter = 10000\n",
    "ndim = 1; nwalkers = 2\n",
    "\n",
    "pos_init0 = [alpha0_t]\n",
    "p0 = pos_init0*(1+0.001* np.random.randn(nwalkers, ndim))\n",
    "\n",
    "sampler = emcee.EnsembleSampler(nwalkers, ndim, which_likelihood, args=[which_data])\n",
    "\n",
    "sampler.run_mcmc(p0, n_iter, progress=True)"
   ]
  },
  {
   "cell_type": "code",
   "execution_count": 15,
   "id": "59f8c72c",
   "metadata": {},
   "outputs": [],
   "source": [
    "\"\"\"\n",
    "Collect the samples here.\n",
    "\"\"\"\n",
    "burnin = 1500\n",
    "\n",
    "chains = sampler.get_chain(discard=burnin, thin=1, flat=False)\n",
    "alpha_samples = chains[:,:,0].flatten()"
   ]
  },
  {
   "cell_type": "code",
   "execution_count": 16,
   "id": "c817adce",
   "metadata": {},
   "outputs": [
    {
     "data": {
      "image/png": "[encoded data removed]",
      "text/plain": [
       "<Figure size 432x288 with 1 Axes>"
      ]
     },
     "metadata": {
      "needs_background": "light"
     },
     "output_type": "display_data"
    }
   ],
   "source": [
    "plt.plot(alpha_samples, \"k\", alpha=0.3)\n",
    "plt.tight_layout()\n",
    "plt.show()"
   ]
  },
  {
   "cell_type": "code",
   "execution_count": 17,
   "id": "cf791ca3",
   "metadata": {},
   "outputs": [],
   "source": [
    "def gaussian(d,mu,Sigma_sq):\n",
    "    \n",
    "    num = np.exp(-0.5*(d-mu)**2/Sigma_sq)\n",
    "    den = np.sqrt(2*np.pi*Sigma_sq)\n",
    "    return num/den"
   ]
  },
  {
   "cell_type": "code",
   "execution_count": 18,
   "id": "4dafd1bc",
   "metadata": {},
   "outputs": [],
   "source": [
    "\"\"\"\n",
    "WARNING:\n",
    "This expression is only valid for 1D fitting, and crucially it only accounts for the first \n",
    "term in the FM. In short, be extremely careful in using it. Better to obtain FM estimates \n",
    "offline with the dedicated Mathematica notebook.\n",
    "\n",
    "(It is used mostly for debugging reasons.)\n",
    "\"\"\"\n",
    "\n",
    "def Dalpha(Nobs,alpha,Mmin,Mmax):\n",
    "    \n",
    "    den = Nobs * (alpha**-2 - (Mmax**alpha * Mmin**alpha * np.log(Mmax/Mmin)**2)/(Mmax**alpha-Mmin**alpha)**2)\n",
    "    \n",
    "    return np.sqrt(1/den)"
   ]
  },
  {
   "cell_type": "code",
   "execution_count": 21,
   "id": "e432fe2d",
   "metadata": {},
   "outputs": [
    {
     "data": {
      "image/png": "[encoded data removed]",
      "text/plain": [
       "<Figure size 432x288 with 1 Axes>"
      ]
     },
     "metadata": {
      "needs_background": "light"
     },
     "output_type": "display_data"
    }
   ],
   "source": [
    "\"\"\"\n",
    "Posteriors with Fisher estimates\n",
    "\"\"\"\n",
    "\n",
    "\n",
    "_, bins_alpha, _= plt.hist(alpha_samples, 30, histtype = 'bar',\n",
    "                               color ='gainsboro', density=True, edgecolor='black', label='MCMC')\n",
    "\n",
    "\n",
    "Da = Dalpha(N_obs,alpha0_t,M_min,M_max) # From Mathematica notebook.\n",
    "bins_alpha= np.array(bins_alpha)\n",
    "plt.plot(bins_alpha, gaussian(bins_alpha,alpha0_t+0.002,Da**2), color='black', \n",
    "         lw=2.5,label='Fisher')\n",
    "\n",
    "\n",
    "plt.axvline(x=alpha0_t, label='True', c='orange',ls='--',lw=3)\n",
    "plt.xlabel('alpha')\n",
    "plt.ylabel('PDF')\n",
    "plt.legend()\n",
    "plt.show()"
   ]
  },
  {
   "cell_type": "code",
   "execution_count": null,
   "id": "4fcb2b43",
   "metadata": {},
   "outputs": [],
   "source": []
  }
 ],
 "metadata": {
  "kernelspec": {
   "display_name": "Python 3",
   "language": "python",
   "name": "python3"
  },
  "language_info": {
   "codemirror_mode": {
    "name": "ipython",
    "version": 3
   },
   "file_extension": ".py",
   "mimetype": "text/x-python",
   "name": "python",
   "nbconvert_exporter": "python",
   "pygments_lexer": "ipython3",
   "version": "3.8.8"
  }
 },
 "nbformat": 4,
 "nbformat_minor": 5
}
