{
 "cells": [
  {
   "cell_type": "markdown",
   "id": "72f28fb7",
   "metadata": {},
   "source": [
    "# MCMC for the mass distribution of EMRIs"
   ]
  },
  {
   "cell_type": "markdown",
   "id": "3073c56e",
   "metadata": {},
   "source": [
    "Choose whether you want to include selection effects in the analysis."
   ]
  },
  {
   "cell_type": "code",
   "execution_count": 1,
   "id": "77c07445",
   "metadata": {},
   "outputs": [],
   "source": [
    "selection_effects = True # Select True if you want to complicate your life."
   ]
  },
  {
   "cell_type": "code",
   "execution_count": 2,
   "id": "c0228a2a",
   "metadata": {},
   "outputs": [],
   "source": [
    "import numpy as np\n",
    "import matplotlib.pyplot as plt\n",
    "import emcee\n",
    "import matplotlib as mpl\n",
    "import seaborn as sns\n",
    "import time\n",
    "\n",
    "\n",
    "from scipy.special import erfc\n",
    "from sympy.parsing import mathematica as M\n",
    "\n",
    "\n",
    "\n",
    "%matplotlib inline\n",
    "np.random.seed(1234)\n",
    "\n",
    "\n",
    "params = {'axes.labelsize': 18,\n",
    "          'font.family': 'serif',\n",
    "          'font.serif': 'Computer Modern Raman',\n",
    "          'font.size': 18,\n",
    "          'axes.linewidth': 1,\n",
    "          'legend.fontsize': 15,\n",
    "          'xtick.labelsize': 18,\n",
    "          'xtick.top': True,\n",
    "          'ytick.labelsize': 18,\n",
    "          'ytick.right': True,\n",
    "          'axes.grid' : True,\n",
    "          'text.usetex': True,\n",
    "          'savefig.dpi' : 100,\n",
    "          'lines.markersize' : 14,\n",
    "          'axes.formatter.limits' : (-3,3)}\n",
    "\n",
    "mpl.rcParams.update(params)"
   ]
  },
  {
   "cell_type": "markdown",
   "id": "08b0a593",
   "metadata": {},
   "source": [
    "We fit a BH mass functionsource parameter given by the mass, $\\theta=M$. This example follows the EMRI mass function [e-Print: 1004.1921 (\"GTV\")]:\n",
    "\n",
    "$$\\frac{dN}{d\\ln M}=A_0\\big(\\frac{M}{M_*}\\big)^{\\alpha_0} \\quad\\Rightarrow\\quad p(M|\\lambda)=\\mathcal{N} M^{\\alpha_0-1} = \\frac{\\alpha_0}{M^{\\alpha_0}_\\text{max}-M^{\\alpha_0}_{\\text{min}}} M^{\\alpha_0-1}.$$\n",
    "\n",
    "We are interested in the $ \\lambda=\\alpha_0$ population parameter. We are assuming that the amplitude $A_0$ does not carry information about the system, but only about the rate of events."
   ]
  },
  {
   "cell_type": "code",
   "execution_count": 3,
   "id": "88bb79fa",
   "metadata": {},
   "outputs": [],
   "source": [
    "def model(lnM,alpha):\n",
    "    \n",
    "    \"\"\"\n",
    "    Model for p(d|lambda).\n",
    "    \n",
    "    Input:\n",
    "    \n",
    "    - data    (The noisy generated data where we expect the masses to be.)\n",
    "    - alpha   (Spectral index of the mass distribution.)\n",
    "    \n",
    "    \"\"\"\n",
    "    \n",
    "    M = np.exp(lnM) # mass observations\n",
    "    norm  = alpha/(M_max**alpha-M_min**alpha)\n",
    "    \n",
    "    \n",
    "    return norm*M**(alpha-1)"
   ]
  },
  {
   "cell_type": "code",
   "execution_count": 4,
   "id": "6d833251",
   "metadata": {},
   "outputs": [],
   "source": [
    "\"\"\"\n",
    "Parameters\n",
    "\"\"\"\n",
    "\n",
    "N_obs = 50\n",
    "N_samps_likelihoods = 10\n",
    "N_samps_selfunction = 5000 # Needs to be high to sample well the selection function's integral.\n",
    "                            # but small enough to avoid slowing the Fisher calculation too much.\n",
    "\n",
    "\n",
    "alpha0_t = 0.00001 # Choose flat spectral profile.\n",
    "M_min=10000. ;   logM_min = np.log(M_min) # M runs from 10^4\n",
    "M_max=10000000.; logM_max = np.log(M_max) # to 10^7 solar masses."
   ]
  },
  {
   "cell_type": "markdown",
   "id": "b16c2b12",
   "metadata": {},
   "source": [
    "\n",
    "Starting from the probability density $p(M|\\lambda)=\\mathcal{N} M^{\\alpha_0-1}$, we can use the method of inversion to get the source parameter M. In particular, we define the cumulative density function,\n",
    "\n",
    "$u:=\\text{CDF}(M)= \\mathcal{N}\\int_{M_\\text{min}}^{M}M^{\\alpha_0-1}dM = \\alpha_0^{-1}\\mathcal{N}M^{\\alpha_0}\\big|_{M_\\text{min}}^{M}=\\alpha_0^{-1}\\mathcal{N}(M^{\\alpha_0}-M^{\\alpha_0}_{\\text{min}})$.\n",
    "\n",
    "Now, we get M in terms of $u$, \n",
    "\n",
    "$\\quad M^{\\alpha_0}=\\alpha_0\\mathcal{N}^{-1} u +M^{\\alpha_0}_{\\text{min}}\\quad\\Longrightarrow \\quad \\ln M =\\frac{1}{\\alpha_0} \\ln\\big[(M^{\\alpha_0}_\\text{max}-M^{\\alpha_0}_{\\text{min}})\\, u +M^{\\alpha_0}_{\\text{min}}\\big]\\quad $ (true parameter distribution)."
   ]
  },
  {
   "cell_type": "code",
   "execution_count": 5,
   "id": "f3ad7150",
   "metadata": {},
   "outputs": [],
   "source": [
    "def log_M(alpha, N, Mmax,Mmin):\n",
    "\n",
    "    \"\"\"\n",
    "    Analytical function to draw samples following a power law. \n",
    "    It helps in the definition of the selection function for the MCMC analysis.\n",
    "    \n",
    "    Inputs:\n",
    "    \n",
    "    - alpha: the spectral index chosen.\n",
    "    - N: the number of events of the true underlying population.\n",
    "    - Mmax, Mmin: limits of integration, the minimum and maximum mass of underlying pop.\n",
    "    \n",
    "    \"\"\"\n",
    "    \n",
    "    return alpha**-1 * np.log((Mmax**(alpha)-Mmin**(alpha))*np.random.uniform(size=N)+ Mmin**(alpha)*np.ones(N))"
   ]
  },
  {
   "cell_type": "code",
   "execution_count": 6,
   "id": "7c3d6261",
   "metadata": {},
   "outputs": [
    {
     "name": "stdout",
     "output_type": "stream",
     "text": [
      "Out of 50 possible events, 21 are detected.\n"
     ]
    }
   ],
   "source": [
    "\"\"\"\n",
    "Noise characteristics.\n",
    "\"\"\"\n",
    "\n",
    "sigma = 1.\n",
    "dth = 13.0\n",
    "noise = np.random.normal(0,sigma,size = N_obs)\n",
    "\n",
    "\"\"\"\n",
    "Data draws.\n",
    "\"\"\"\n",
    "\n",
    "u = np.random.uniform(size=N_obs)\n",
    "logM_t=log_M(alpha0_t, N_obs, M_max,M_min)\n",
    "d_i = noise + logM_t  # observation model made of noise + true population.\n",
    "d_i_selbias = d_i[d_i>dth]\n",
    "N_det = len(d_i_selbias)\n",
    "\n",
    "if selection_effects==True: print('Out of', N_obs,'possible events,', N_det,'are detected.')\n",
    "\n",
    "\"\"\"\n",
    "Data array. The structure of data is such that Data[i,j] is the jth posterior sample from event i.\n",
    "We assume the observation model p(d|theta) is a normal gaussian with noise variance sigma.\n",
    "\n",
    "\"\"\"\n",
    "\n",
    "logM_obs=np.zeros((N_obs,N_samps_likelihoods))\n",
    "logM_obs_selbias=np.zeros((N_det,N_samps_likelihoods))\n",
    "\n",
    "for i in np.arange(N_obs):\n",
    "    logM_obs[i,:]=np.random.normal(d_i[i],sigma,size=N_samps_likelihoods)\n",
    "for i in np.arange(N_det):\n",
    "    logM_obs_selbias[i,:]=np.random.normal(d_i_selbias[i],sigma,size=N_samps_likelihoods)\n",
    "    \n",
    "if selection_effects == True: \n",
    "    data = logM_obs_selbias\n",
    "else:\n",
    "    data =logM_obs"
   ]
  },
  {
   "cell_type": "code",
   "execution_count": 7,
   "id": "bdf577f9",
   "metadata": {},
   "outputs": [
    {
     "data": {
      "text/plain": [
       "<matplotlib.legend.Legend at 0x7fb5ffa058b0>"
      ]
     },
     "execution_count": 7,
     "metadata": {},
     "output_type": "execute_result"
    },
    {
     "data": {
      "image/png": "[encoded data removed]",
      "text/plain": [
       "<Figure size 432x360 with 1 Axes>"
      ]
     },
     "metadata": {
      "needs_background": "light"
     },
     "output_type": "display_data"
    }
   ],
   "source": [
    "fig, ax = plt.subplots(1,1,figsize=(6,5))\n",
    "plt.hist(np.log10(np.exp(d_i)),density=True,bins=10,histtype = 'stepfilled',\n",
    "                               color ='gainsboro', alpha=0.7, edgecolor='white')\n",
    "sns.kdeplot(np.array(np.log10(np.exp(d_i))), label='True population',c='k')\n",
    "\n",
    "if selection_effects==True:\n",
    "    plt.hist(np.log10(np.exp(d_i_selbias)),density=True,bins=10,histtype = 'stepfilled',\n",
    "                               color ='lightpink', alpha=0.7, edgecolor='white')\n",
    "    sns.kdeplot(np.array(np.log10(np.exp(d_i_selbias))), label='Observed population',c='red')\n",
    "    \n",
    "plt.axvline(x=np.log10(np.exp(np.mean(logM_t))), label='True mean', c='orange',ls='--',lw=3)\n",
    "\n",
    "plt.xlabel('$\\log(M_{obs}/M_\\odot)$')\n",
    "plt.ylabel('Density')\n",
    "plt.legend()"
   ]
  },
  {
   "cell_type": "code",
   "execution_count": 8,
   "id": "d5b40c4c",
   "metadata": {},
   "outputs": [],
   "source": [
    "# Limits of (flat) hyperpriors.\n",
    "\n",
    "hyperprior_min = -10.0\n",
    "hyperprior_max = 10.0\n",
    "\n",
    "\n",
    "def selection_function(Lambda,number_samples_for_integration,upper_limit,lower_limit,noise_var,threshold):\n",
    "    \n",
    "    \"\"\"\n",
    "    This function is redefined in such a way that the hyperparameter appears as an input.\n",
    "    One must generate samples at each iteration of lambda in the MCMC.\n",
    "    \"\"\"\n",
    "    theta_ij = log_M(Lambda,number_samples_for_integration,upper_limit,lower_limit)\n",
    "    \n",
    "    return np.sum(0.5*erfc((threshold-theta_ij)/np.sqrt(2)/noise_var))/number_samples_for_integration\n",
    "\n",
    "def log_likelihood(params, data):\n",
    "    \n",
    "    \"\"\"\n",
    "    Support.\n",
    "    \"\"\"\n",
    "     \n",
    "    support = ( # Here is the support limits for hyperpriors.\n",
    "                (params[0] >= hyperprior_min)&\n",
    "                (params[0] <= hyperprior_max)\n",
    "                )\n",
    "    \n",
    "    log_likelihood=0\n",
    "\n",
    "    \"\"\"\n",
    "    Selection function.\n",
    "    \"\"\"\n",
    "    \n",
    "    if selection_effects == True:\n",
    "        pdet = selection_function(params[0],N_samps_selfunction,M_max,M_min,sigma,dth)\n",
    "        Nsources = N_det\n",
    "    else: \n",
    "        pdet = 1.\n",
    "        Nsources = N_obs\n",
    "    \n",
    "    \"\"\"\n",
    "    Population likelihood.\n",
    "    \"\"\"\n",
    "\n",
    "    for i in np.arange(Nsources):\n",
    "        \n",
    "        ppop_ij = model(data[i,:],params[0])           # N_samp-long array for population model.\n",
    "        sum_ppop = np.sum(ppop_ij)                     # Internal sum of population model over N_samp.\n",
    "        log_likelihood += np.log(sum_ppop/pdet)        # Add the samples drawn over N_obs in the loop\n",
    "                                                       # and divide by the selection function at each step.\n",
    "    \n",
    "    \n",
    "    \"\"\"\n",
    "    Output without infinities and within the specified hyperpriors.\n",
    "    \"\"\"\n",
    "    out = np.where(support,log_likelihood,-np.inf)     # Only retain likelihood if supported.\n",
    "    \n",
    "    \n",
    "    # Force nans away.\n",
    "    if np.isfinite(out):\n",
    "        return out\n",
    "    else:\n",
    "        return -np.inf"
   ]
  },
  {
   "cell_type": "code",
   "execution_count": 9,
   "id": "9e65d9a7",
   "metadata": {},
   "outputs": [
    {
     "name": "stderr",
     "output_type": "stream",
     "text": [
      "100%|████████████████████████████████████| 10000/10000 [00:13<00:00, 750.30it/s]\n"
     ]
    }
   ],
   "source": [
    "n_iter = 10000\n",
    "ndim = 1; nwalkers = 2\n",
    "\n",
    "pos_init0 = [alpha0_t]\n",
    "p0 = pos_init0*(1+0.001* np.random.randn(nwalkers, ndim))\n",
    "\n",
    "sampler = emcee.EnsembleSampler(nwalkers, ndim, log_likelihood, args=[data])\n",
    "run = sampler.run_mcmc(p0, n_iter, progress=True)"
   ]
  },
  {
   "cell_type": "code",
   "execution_count": 10,
   "id": "83b38a4a",
   "metadata": {},
   "outputs": [],
   "source": [
    "\"\"\"\n",
    "Collect the samples here.\n",
    "\"\"\"\n",
    "burnin = 1500\n",
    "\n",
    "chains = sampler.get_chain(discard=burnin, thin=1, flat=False)\n",
    "alpha_samples = chains[:,:,0].flatten()"
   ]
  },
  {
   "cell_type": "code",
   "execution_count": 11,
   "id": "f8e8c4a8",
   "metadata": {},
   "outputs": [
    {
     "data": {
      "image/png": "[encoded data removed]",
      "text/plain": [
       "<Figure size 432x288 with 1 Axes>"
      ]
     },
     "metadata": {
      "needs_background": "light"
     },
     "output_type": "display_data"
    }
   ],
   "source": [
    "plt.plot(alpha_samples, \"k\", alpha=0.3)\n",
    "plt.tight_layout()\n",
    "plt.show()"
   ]
  },
  {
   "cell_type": "markdown",
   "id": "7914ad1d",
   "metadata": {},
   "source": [
    "### Fisher estimates"
   ]
  },
  {
   "cell_type": "markdown",
   "id": "49d212e2",
   "metadata": {},
   "source": [
    "The Fisher matrix for population inference in full glory is\n",
    "\n",
    "$$\n",
    "\\begin{align}\n",
    "(\\Gamma_\\lambda)_{ij} \n",
    "&=-\\int \\frac{\\partial^2 \\ln (p(\\vec\\theta_0 | \\vec\\lambda)/p_{\\rm det,m}(\\vec\\lambda))}{\\partial\\lambda^i \\partial\\lambda^j} \\, \\frac{p_{\\rm det,m}(\\vec\\theta_0)}{p_{\\rm det,m}(\\vec\\lambda)} p(\\vec\\theta_0 | \\vec\\lambda) {\\rm d} \\vec\\theta_0 \\nonumber \\\\\n",
    "&\\hspace{2cm}+ \\frac{1}{2} \\int \\frac{\\partial^2 \\ln {\\rm det}(\\Gamma+H)}{\\partial\\lambda^i \\partial\\lambda^j} \\, \\frac{p_{\\rm det,m}(\\vec\\theta_0)}{p_{\\rm det,m}(\\vec\\lambda)} p(\\vec\\theta_0 | \\vec\\lambda) {\\rm d} \\vec\\theta_0\\nonumber \\\\\n",
    "&\\hspace{2cm} - \\frac{1}{2} \\int \\frac{\\partial^2}{\\partial\\lambda^i \\partial\\lambda^j}\\left[(\\Gamma+H)^{-1}_{kl}\\right] D_{m,kl} \\, \\frac{p(\\vec\\theta_0 | \\vec\\lambda)}{p_{\\rm det,m}(\\vec\\lambda)}  {\\rm d} \\vec\\theta_0 \\nonumber \\\\\n",
    "&\\hspace{2cm} -  \\int \\frac{\\partial^2}{\\partial\\lambda^i \\partial\\lambda^j} \\left[ P_k(\\Gamma+H)^{-1}_{kl}\\right]D_{m,l} \\, \\frac{p(\\vec\\theta_0 | \\vec\\lambda)}{p_{\\rm det,m}(\\vec\\lambda)}  {\\rm d} \\vec\\theta_0 \\nonumber \\\\\n",
    "&\\hspace{2cm} - \\frac{1}{2} \\int \\frac{\\partial^2}{\\partial\\lambda^i \\partial\\lambda^j} \\left[ P_k (\\Gamma+H)^{-1}_{kl} P_l \\right] \\, \\frac{p_{\\rm det,m}(\\vec\\theta_0)}{p_{\\rm det,m}(\\vec\\lambda)} p(\\vec\\theta_0 | \\vec\\lambda) {\\rm d} \\vec\\theta_0\n",
    "\\end{align}\n",
    "$$\n",
    "\n",
    "We define first, second, third, .., terms in $(\\Gamma_\\lambda)_{ij}$ according to the order of the terms above. We further define\n",
    "\n",
    "$$\n",
    "D_{t,i} \\equiv \\int \\left( \\mathbf{n} \\bigg| \\frac{\\partial \\mathbf{h}}{\\partial\\theta^i} \\right) p(\\mathbf{n}) {\\rm d}\\mathbf{n} = \\frac{\\partial p_{\\rm det,t}(\\vec\\theta_0)}{\\partial\\theta^i}\\,, \\quad \n",
    "        D_{t,ij} \\equiv \\int \\left( \\mathbf{n} \\bigg| \\frac{\\partial \\mathbf{h}}{\\partial\\theta^i} \\right) \\left( \\mathbf{n} \\bigg| \\frac{\\partial \\mathbf{h}}{\\partial\\theta^j} \\right) p(\\mathbf{n}) {\\rm d}\\mathbf{n} = \\Gamma_{ij} = \\frac{1}{\\sigma^2}\\,, \\quad P_i =  \\frac{\\partial \\ln p(\\vec\\theta|\\vec\\lambda)}{\\partial \\theta^i}\\,, \\qquad H_{ij} = -\\frac{\\partial^2 \\ln p(\\vec\\theta|\\vec\\lambda)}{\\partial \\theta^i \\partial \\theta^j}.\n",
    "$$\n",
    "\n",
    "Notice that, in our case, $\\lambda = \\{\\alpha\\}$ and $\\theta=\\{\\ln M\\}$."
   ]
  },
  {
   "cell_type": "markdown",
   "id": "eb3c4096",
   "metadata": {},
   "source": [
    "In both the case with and without selection effects the Fisher estimate is dominated by the first term in the integral when the noise variance is small,\n",
    "\n",
    "$$\n",
    "(\\Gamma_\\lambda)_{ij} \\approx -\\int \\frac{\\partial^2 \\ln (p(\\theta | \\lambda)/p_{\\rm det}(\\lambda))}{\\partial\\lambda^i \\partial\\lambda^j} \\, \\frac{p_{\\rm det}(\\theta)}{p_{\\rm det}(\\lambda)} p(\\theta |\\lambda) {\\rm d} \\theta.\n",
    "$$\n",
    "\n",
    "----------"
   ]
  },
  {
   "cell_type": "markdown",
   "id": "9ee8b050",
   "metadata": {},
   "source": [
    "In the simplifying case in which there are no selection effects, the estimate is analytically found to be (see $\\texttt{Mathematica}$ notebook)\n",
    "\n",
    "$$\n",
    "\\Gamma_\\alpha \\approx N_\\text{obs}\\left(\\frac{1}{\\alpha^2}-\\frac{M_\\text{max}^\\alpha M_\\text{min}^\\alpha (\\ln M_\\text{max}-\\ln M_\\text{min})^2}{(M_\\text{max}^\\alpha-M_\\text{min}^\\alpha)^2}\\right)\n",
    "$$\n",
    "\n",
    "We can simpify the expression as done below."
   ]
  },
  {
   "cell_type": "code",
   "execution_count": 12,
   "id": "4d2b9f8f",
   "metadata": {},
   "outputs": [
    {
     "name": "stdout",
     "output_type": "stream",
     "text": [
      "Analytical expression for the variance, including the first term only:\n"
     ]
    },
    {
     "data": {
      "text/latex": [
       "$\\displaystyle \\sqrt{\\frac{1}{Nobs \\left(- \\frac{Mmax^{\\alpha} Mmin^{\\alpha} \\left(\\log{\\left(Mmax \\right)} - \\log{\\left(Mmin \\right)}\\right)^{2}}{\\left(Mmax^{\\alpha} - Mmin^{\\alpha}\\right)^{2}} + \\frac{1}{\\alpha^{2}}\\right)}}$"
      ],
      "text/plain": [
       "sqrt(1/(Nobs*(-Mmax**alpha*Mmin**alpha*(log(Mmax) - log(Mmin))**2/(Mmax**alpha - Mmin**alpha)**2 + alpha**(-2))))"
      ]
     },
     "execution_count": 12,
     "metadata": {},
     "output_type": "execute_result"
    }
   ],
   "source": [
    "# Estimates without selection effects.\n",
    "\n",
    "#This expression is only valid for 1D fitting, and crucially it only accounts for the first \n",
    "#term in the FM. More accurate estimates can be obtained with the accompanying Mathematica \n",
    "#notebook. However we check that other terms are subdominant compared to the one used here.\n",
    "\n",
    "from sympy.parsing import mathematica as M\n",
    "\n",
    "def Dalpha(Nobs,alpha,Mmin,Mmax):\n",
    "    \n",
    "    Dalpha_simpified = M.mathematica('Sqrt[1/(Nobs*(alpha^(-2) - (Mmax^alpha*Mmin^alpha*(Log[Mmax] - Log[Mmin])^2)/(Mmax^alpha - Mmin^alpha)^2))]')\n",
    "    out = Dalpha_simpified.subs([('Nobs',Nobs),('alpha',alpha),('Mmax',Mmax),('Mmin',Mmin)]).evalf()\n",
    "    \n",
    "    return float(out)\n",
    "\n",
    "def gaussian(d,mu,Sigma_sq): \n",
    "    num = np.exp(-0.5*(d-mu)**2/Sigma_sq)\n",
    "    den = np.sqrt(2*np.pi*Sigma_sq)\n",
    "    return num/den\n",
    "\n",
    "print('Analytical expression for the variance, including the first term only:')\n",
    "M.mathematica('Sqrt[1/(Nobs*(alpha^(-2) - (Mmax^alpha*Mmin^alpha*(Log[Mmax] - Log[Mmin])^2)/(Mmax^alpha - Mmin^alpha)^2))]')"
   ]
  },
  {
   "cell_type": "markdown",
   "id": "1de2a8dd",
   "metadata": {},
   "source": [
    "----\n",
    "\n",
    "In the case without selection effects, we model all terms in the Fisher matrix for extra sense of security.\n",
    "\n",
    "We solve the integral with the Monte Carlo method, implying that we only focus on the arguments $X(\\theta)$ of integrals of the form\n",
    "$$\n",
    "\\int X(\\theta) p(\\theta|\\lambda) d\\theta \\approx \\frac{1}{N_\\text{samp}}\\sum X(\\theta_{ij}), \\quad \\text{with } \\theta_{ij}\\sim p(\\theta|\\lambda)\n",
    "$$\n",
    "\n",
    "The arguments for each integral are calulcated offline using Mathematica and imported here."
   ]
  },
  {
   "cell_type": "markdown",
   "id": "a8ad1960",
   "metadata": {},
   "source": [
    "We also need the expressions for the selection functions of $\\lambda$ and $\\theta$, \n",
    "$$\n",
    "p_\\text{det}(\\theta) =  \\frac{1}{2}\\text{erfc}\\left[\\frac{d_\\text{th}-\\theta}{\\sqrt{2}\\sigma}\\right], \\quad\n",
    "p_\\text{det}(\\lambda) = \\int p_\\text{det}(\\theta) p(\\theta|\\lambda) d\\theta \\approx \\frac{1}{N_\\text{samp}}\\sum \\frac{1}{2}\\text{erfc}\\left[\\frac{d_\\text{th}-\\theta_{ij}}{\\sqrt{2}\\sigma}\\right] (\\text{with } \\theta_{ij}\\sim p(\\theta|\\lambda)).\n",
    "$$\n",
    "\n",
    "The first and second derivatives of $p_\\text{det}(\\lambda)$ can be integrated in the same way using that\n",
    "\n",
    "$$\n",
    "\\frac{\\partial p_\\text{det}(\\lambda)}{\\partial \\lambda} = \\int p_\\text{det}(\\theta) \\frac{\\partial p(\\theta|\\lambda)}{\\partial \\lambda} d\\theta = \\int p_\\text{det}(\\theta) \\frac{\\partial \\ln p(\\theta|\\lambda)}{\\partial \\lambda}p(\\theta|\\lambda) d\\theta\n",
    "$$\n",
    "and \n",
    "$$\n",
    "\\frac{\\partial^2 p_\\text{det}(\\lambda)}{\\partial \\lambda^2} = \\int p_\\text{det}(\\theta) \\frac{\\partial^2 p(\\theta|\\lambda)}{\\partial \\lambda^2} d\\theta = \\int p_\\text{det}(\\theta) \\left[\\frac{\\partial^2 \\ln p(\\theta|\\lambda)}{\\partial \\lambda^2}+\\left(\\frac{\\partial \\ln p(\\theta|\\lambda)}{\\partial \\lambda}\\right)^2\\right]p(\\theta|\\lambda) d\\theta\n",
    "$$\n",
    "\n",
    "The derivatives of $\\ln p(\\theta|\\lambda)$, coded below, are obtained using $\\texttt{Mathematica}$."
   ]
  },
  {
   "cell_type": "code",
   "execution_count": 13,
   "id": "c31eb6d0",
   "metadata": {},
   "outputs": [],
   "source": [
    "# Selection function and derivatives.\n",
    "\n",
    "def pdet_lambda(theta_samples): \n",
    "    return 0.5*N_samps_selfunction**-1*np.sum(erfc((dth-theta_samples)/np.sqrt(2)/sigma))\n",
    "def pdet_theta(theta): \n",
    "    return 0.5* erfc((dth-theta)/np.sqrt(2)/sigma)\n",
    "\n",
    "def dpdet_dlambda(theta_samples, Lambda =alpha0_t,theta_min=M_min,theta_max =M_max):     \n",
    "    \"\"\"\n",
    "    Obtained as outlined above with derivatives of p(theta|lambda) from Mathematica.\n",
    "    \"\"\"\n",
    "    norm = theta_max**Lambda -theta_min**Lambda\n",
    "    num = norm + norm*Lambda*theta_samples - theta_max**Lambda * Lambda * np.log(theta_max) + theta_min**Lambda* Lambda * np.log(theta_min)\n",
    "    den = norm * Lambda\n",
    "    \n",
    "    arg = pdet_theta(theta_samples) * num/den\n",
    "    \n",
    "    return N_samps_selfunction**-1*np.sum(arg)  \n",
    "\n",
    "def ddpdet_ddlambda(theta_samples, Lambda =alpha0_t,theta_min=M_min,theta_max =M_max):  \n",
    "    \"\"\"\n",
    "    Obtained as outlined above with derivatives of p(theta|lambda) from Mathematica.\n",
    "    \"\"\"\n",
    "    norm = theta_max**Lambda -theta_min**Lambda\n",
    "    num_1 = - norm**2 + theta_max**Lambda * theta_min**Lambda * Lambda**2 * np.log(theta_max)**2 - 2*theta_max**Lambda * theta_min**Lambda * Lambda**2 * np.log(theta_max)*np.log(theta_min) + theta_max**Lambda * theta_min**Lambda * Lambda**2 * np.log(theta_min)**2\n",
    "    den_1 = norm**2 * Lambda**2\n",
    "    num_2 = norm + norm*Lambda*theta_samples - theta_max**Lambda * Lambda * np.log(theta_max) + theta_min**Lambda* Lambda * np.log(theta_min)\n",
    "    den_2 = norm * Lambda\n",
    "    \n",
    "    arg = pdet_theta(theta_samples) * (num_1/den_1 + (num_2/den_2)**2)\n",
    "    \n",
    "    return N_samps_selfunction**-1*np.sum(arg) "
   ]
  },
  {
   "cell_type": "markdown",
   "id": "7f2eafcf",
   "metadata": {},
   "source": [
    "The results above are enough to obtain the simplified version of the Fisher matrix, which only retains the first term (\"Gamma_1_term\")."
   ]
  },
  {
   "cell_type": "markdown",
   "id": "fb7f7660",
   "metadata": {},
   "source": [
    "The other terms can be found in terms of $\\alpha$ and $\\ln M$ in the Mathematica notebook.\n",
    "We start from $\\frac{\\partial^2 \\ln {\\rm det}(\\Gamma+H)}{\\partial\\lambda^i \\partial\\lambda^j}$, which is inserted in \"Gamma_2_term\". "
   ]
  },
  {
   "cell_type": "code",
   "execution_count": 18,
   "id": "c8453c8d",
   "metadata": {},
   "outputs": [],
   "source": [
    "def Gamma_lambda(theta_samples,Lambda,upperlimit,lowerlimit,var,threshold,NsampsSelFct,Ndetections):\n",
    "    \n",
    "    t0 = time.time()\n",
    "    \n",
    "    # Load analytical expressions for the arguments of the integrals to solve here.\n",
    "    \n",
    "    GammaI_arg   = M.mathematica('alpha^(-2) + (-derselfct^2 + dderselfct*selfct)/selfct^2 - (Mmax^alpha*Mmin^alpha*(Log[Mmax] - Log[Mmin])^2)/(Mmax^alpha - Mmin^alpha)^2')\n",
    "    GammaII_arg  = M.mathematica('(lnM^(-6 + alpha)*(-(lnM^alpha*((2 + 3*(-2 + alpha)*alpha)*(Mmax^alpha - Mmin^alpha) + (-2 + alpha)*(-1 + alpha)*alpha*(Mmax^alpha*(Log[lnM] - Log[Mmax]) + Mmin^alpha*(-Log[lnM] + Log[Mmin])))^2) - (lnM^3*(Mmax^alpha - Mmin^alpha - (-2 + alpha)*(-1 + alpha)*alpha*lnM^(-3 + alpha)*sigma^2)*(6*(-1 + alpha)*(Mmax^alpha - Mmin^alpha)^2 + Mmax^(2*alpha)*(4 + 6*(-2 + alpha)*alpha + (-2 + alpha)*(-1 + alpha)*alpha*(Log[lnM] - Log[Mmax]))*(Log[lnM] - Log[Mmax]) + Mmin^(2*alpha)*(4 + 6*(-2 + alpha)*alpha + (-2 + alpha)*(-1 + alpha)*alpha*(Log[lnM] - Log[Mmin]))*(Log[lnM] - Log[Mmin]) + Mmax^alpha*Mmin^alpha*(-2*(-2 + alpha)*(-1 + alpha)*alpha*Log[lnM]^2 + 4*(Log[Mmax] + Log[Mmin]) + 2*Log[lnM]*(-4 - 6*(-2 + alpha)*alpha + (-2 + alpha)*(-1 + alpha)*alpha*(Log[Mmax] + Log[Mmin])) + (-2 + alpha)*alpha*((-1 + alpha)*Log[Mmax]^2 + Log[Mmax]*(6 - 4*(-1 + alpha)*Log[Mmin]) + Log[Mmin]*(6 + (-1 + alpha)*Log[Mmin])))))/sigma^2))/(2*(Mmax^alpha - Mmin^alpha)^4*(((-2 + alpha)*(-1 + alpha)*alpha*lnM^(-3 + alpha))/(-Mmax^alpha + Mmin^alpha) + sigma^(-2))^2)')\n",
    "    GammaIII_arg = M.mathematica('-1/2*(lnM^(-6 + alpha)*(2*lnM^alpha*((2 + 3*(-2 + alpha)*alpha)*(Mmax^alpha - Mmin^alpha) + (-2 + alpha)*(-1 + alpha)*alpha*(Mmax^alpha*(Log[lnM] - Log[Mmax]) + Mmin^alpha*(-Log[lnM] + Log[Mmin])))^2 + (lnM^3*(Mmax^alpha - Mmin^alpha - (-2 + alpha)*(-1 + alpha)*alpha*lnM^(-3 + alpha)*sigma^2)*(6*(-1 + alpha)*(Mmax^alpha - Mmin^alpha)^2 + Mmax^(2*alpha)*(4 + 6*(-2 + alpha)*alpha + (-2 + alpha)*(-1 + alpha)*alpha*(Log[lnM] - Log[Mmax]))*(Log[lnM] - Log[Mmax]) + Mmin^(2*alpha)*(4 + 6*(-2 + alpha)*alpha + (-2 + alpha)*(-1 + alpha)*alpha*(Log[lnM] - Log[Mmin]))*(Log[lnM] - Log[Mmin]) + Mmax^alpha*Mmin^alpha*(-2*(-2 + alpha)*(-1 + alpha)*alpha*Log[lnM]^2 + 4*(Log[Mmax] + Log[Mmin]) + 2*Log[lnM]*(-4 - 6*(-2 + alpha)*alpha + (-2 + alpha)*(-1 + alpha)*alpha*(Log[Mmax] + Log[Mmin])) + (-2 + alpha)*alpha*((-1 + alpha)*Log[Mmax]^2 + Log[Mmax]*(6 - 4*(-1 + alpha)*Log[Mmin]) + Log[Mmin]*(6 + (-1 + alpha)*Log[Mmin])))))/sigma^2))/((Mmax^alpha - Mmin^alpha)^4*(((-2 + alpha)*(-1 + alpha)*alpha*lnM^(-3 + alpha))/(-Mmax^alpha + Mmin^alpha) + sigma^(-2))^3*sigma^2)')\n",
    "    GammaIV_arg  = M.mathematica('(lnM^(-7 + alpha)*(2*(Mmax^alpha - Mmin^alpha)*(lnM^3*(-Mmax^alpha + Mmin^alpha) + (-2 + alpha)*(-1 + alpha)*alpha*lnM^alpha*sigma^2)*((2 + 3*(-2 + alpha)*alpha)*(Mmax^alpha - Mmin^alpha) + (-2 + alpha)*(-1 + alpha)*alpha*(Mmax^alpha*(Log[lnM] - Log[Mmax]) + Mmin^alpha*(-Log[lnM] + Log[Mmin]))) + 2*(1 - alpha)*lnM^alpha*sigma^2*((2 + 3*(-2 + alpha)*alpha)*(Mmax^alpha - Mmin^alpha) + (-2 + alpha)*(-1 + alpha)*alpha*(Mmax^alpha*(Log[lnM] - Log[Mmax]) + Mmin^alpha*(-Log[lnM] + Log[Mmin])))^2 + (1 - alpha)*lnM^3*(Mmax^alpha - Mmin^alpha - (-2 + alpha)*(-1 + alpha)*alpha*lnM^(-3 + alpha)*sigma^2)*(6*(-1 + alpha)*(Mmax^alpha - Mmin^alpha)^2 + Mmax^(2*alpha)*(4 + 6*(-2 + alpha)*alpha + (-2 + alpha)*(-1 + alpha)*alpha*(Log[lnM] - Log[Mmax]))*(Log[lnM] - Log[Mmax]) + Mmin^(2*alpha)*(4 + 6*(-2 + alpha)*alpha + (-2 + alpha)*(-1 + alpha)*alpha*(Log[lnM] - Log[Mmin]))*(Log[lnM] - Log[Mmin]) + Mmax^alpha*Mmin^alpha*(-2*(-2 + alpha)*(-1 + alpha)*alpha*Log[lnM]^2 + 4*(Log[Mmax] + Log[Mmin]) + 2*Log[lnM]*(-4 - 6*(-2 + alpha)*alpha + (-2 + alpha)*(-1 + alpha)*alpha*(Log[Mmax] + Log[Mmin])) + (-2 + alpha)*alpha*((-1 + alpha)*Log[Mmax]^2 + Log[Mmax]*(6 - 4*(-1 + alpha)*Log[Mmin]) + Log[Mmin]*(6 + (-1 + alpha)*Log[Mmin]))))))/(E^((dth - lnM)^2/(2*sigma^2))*(Mmax^alpha - Mmin^alpha)^4*Sqrt[2*Pi]*(((-2 + alpha)*(-1 + alpha)*alpha*lnM^(-3 + alpha))/(-Mmax^alpha + Mmin^alpha) + sigma^(-2))^3*(sigma^2)^(3/2))')\n",
    "    GammaV_arg   = M.mathematica('-1/2*(2 + (2*(-1 + alpha)^3*lnM^(-6 + alpha)*sigma^2*(7*lnM^3*(Mmax^alpha - Mmin^alpha) + (-1 + alpha)*(4 + (-2 + alpha)*alpha)*lnM^alpha*sigma^2))/(Mmax^alpha - Mmin^alpha)^2 + ((-1 + alpha)^2*lnM^(-6 + alpha)*sigma^2*((-2 + alpha)*(-1 + alpha)*alpha*(Mmax^alpha - Mmin^alpha)*(lnM^3*(Mmax^alpha - Mmin^alpha) + (-2 + alpha)*(-1 + alpha)*alpha*lnM^alpha*sigma^2)*Log[lnM]^2 + (-2 + alpha)*(-1 + alpha)*alpha*Mmax^alpha*(lnM^3*(Mmax^alpha + Mmin^alpha) + (-2 + alpha)*(-1 + alpha)*alpha*lnM^alpha*sigma^2)*Log[Mmax]^2 + 2*Mmax^alpha*Log[Mmax]*(-((2 + 5*(-2 + alpha)*alpha)*lnM^3*(Mmax^alpha - Mmin^alpha)) - (-2 + alpha)*(-1 + alpha)*alpha*(2 + (-2 + alpha)*alpha)*lnM^alpha*sigma^2 - 2*(-2 + alpha)*(-1 + alpha)*alpha*lnM^3*Mmin^alpha*Log[Mmin]) + Mmin^alpha*Log[Mmin]*(2*((2 + 5*(-2 + alpha)*alpha)*lnM^3*(Mmax^alpha - Mmin^alpha) + (-2 + alpha)*(-1 + alpha)*alpha*(2 + (-2 + alpha)*alpha)*lnM^alpha*sigma^2) + (-2 + alpha)*(-1 + alpha)*alpha*(lnM^3*(Mmax^alpha + Mmin^alpha) - (-2 + alpha)*(-1 + alpha)*alpha*lnM^alpha*sigma^2)*Log[Mmin]) + 2*Log[lnM]*((Mmax^alpha - Mmin^alpha)*((2 + 5*(-2 + alpha)*alpha)*lnM^3*(Mmax^alpha - Mmin^alpha) + (-2 + alpha)*(-1 + alpha)*alpha*(2 + (-2 + alpha)*alpha)*lnM^alpha*sigma^2) - (-2 + alpha)*(-1 + alpha)*alpha*(lnM^3*(Mmax^alpha - Mmin^alpha) + (-2 + alpha)*(-1 + alpha)*alpha*lnM^alpha*sigma^2)*(Mmax^alpha*Log[Mmax] - Mmin^alpha*Log[Mmin]))))/(Mmax^alpha - Mmin^alpha)^3)/(lnM^2*(((-2 + alpha)*(-1 + alpha)*alpha*lnM^(-3 + alpha))/(-Mmax^alpha + Mmin^alpha) + sigma^(-2))^3*sigma^4)')\n",
    "\n",
    "    substitutions = [('selfct',pdet_lambda(theta_samples)), # outside of loop because single number.\n",
    "                     ('derselfct',dpdet_dlambda(theta_samples)), # outside of loop because single number.\n",
    "                     ('dderselfct',ddpdet_ddlambda(theta_samples)), # outside of loop because single number.\n",
    "                     ('alpha',Lambda),\n",
    "                     ('Mmax',upperlimit),\n",
    "                     ('Mmin',lowerlimit),\n",
    "                     ('sigma',var),\n",
    "                     ('dth',threshold)\n",
    "                    ]\n",
    "    \n",
    "    \n",
    "    ###################################\n",
    "    # MC integration of the first term.\n",
    "    ###################################\n",
    "    \n",
    "    \n",
    "    GammaI_out = GammaI_arg.subs(substitutions).evalf() \n",
    "    GammaI_out = GammaI_out * pdet_theta(theta_samples)/pdet_lambda(theta_samples) # set up argument of integral.\n",
    "    GammaI_int = float(NsampsSelFct**-1*np.sum(GammaI_out)) # perform the MC integration here.\n",
    "    \n",
    "    tI = time.time()\n",
    "    print('------------------------------------------------')\n",
    "    print('The first term in the FM takes', int(tI-t0), 's to evaluate')\n",
    "    print('First integral:',  Ndetections *GammaI_int)\n",
    "    print('------------------------------------------------')\n",
    "    \n",
    "    \n",
    "    ###################################\n",
    "    # MC integration of the second term.\n",
    "    ###################################\n",
    "    \n",
    "    \n",
    "    GammaII_list=[]\n",
    "    GammaII_arg_temp = GammaII_arg.subs(substitutions).evalf() #Help the loop by evaluating common variables.\n",
    "    \n",
    "    for lnM in theta_samples:\n",
    "        \n",
    "        # The simpy expressions are evaluated into a list for each sample of the masses.\n",
    "        out = GammaII_arg_temp.subs([('lnM',lnM)]).evalf()\n",
    "        GammaII_list.append(float(out))\n",
    "    \n",
    "    GammaII_arg = GammaII_list*pdet_theta(theta_samples)/pdet_lambda(theta_samples) #set up argument of integral.\n",
    "    GammaII_int = NsampsSelFct**-1*np.sum(GammaII_arg)# perform the MC integration here.\n",
    "    \n",
    "    tII = time.time()\n",
    "    print('The second term in the FM takes', int(tII-tI), 's to evaluate')\n",
    "    print('Second integral:', Ndetections *GammaII_int)\n",
    "    print('------------------------------------------------')\n",
    "    \n",
    "    \n",
    "    ###################################\n",
    "    # MC integration of the third term.\n",
    "    ###################################\n",
    "    \n",
    "    \n",
    "    GammaIII_list=[]\n",
    "    GammaIII_arg_temp = GammaIII_arg.subs(substitutions).evalf() #Help the loop by evaluating common variables.\n",
    "    \n",
    "    for lnM in theta_samples:\n",
    "        \n",
    "        # The simpy expressions are evaluated into a list for each sample of the masses.\n",
    "        out = GammaIII_arg_temp.subs([('lnM',lnM)]).evalf()\n",
    "        GammaIII_list.append(float(out))\n",
    "    \n",
    "    GammaIII_arg = GammaIII_list/pdet_lambda(theta_samples)    #set up argument of integral.\n",
    "    GammaIII_int = NsampsSelFct**-1*np.sum(GammaIII_arg)# perform the MC integration here.\n",
    "    \n",
    "    tIII = time.time()\n",
    "    print('The third term in the FM takes', int(tIII-tII), 's to evaluate')\n",
    "    print('Third integral:',  Ndetections *GammaIII_int)\n",
    "    print('------------------------------------------------')\n",
    "    \n",
    "    \n",
    "    ###################################\n",
    "    # MC integration of the fourth term.\n",
    "    ###################################\n",
    "    \n",
    "    \n",
    "    GammaIV_list=[]\n",
    "    GammaIV_arg_temp = GammaIV_arg.subs(substitutions).evalf() #Help the loop by evaluating common variables.\n",
    "    \n",
    "    for lnM in theta_samples:\n",
    "        \n",
    "        # The simpy expressions are evaluated into a list for each sample of the masses.\n",
    "        out = GammaIV_arg_temp.subs([('lnM',lnM)]).evalf()\n",
    "        GammaIV_list.append(float(out))\n",
    "    \n",
    "    GammaIV_arg = GammaIV_list/pdet_lambda(theta_samples)    #set up argument of integral.\n",
    "    GammaIV_int = NsampsSelFct**-1*np.sum(GammaIV_arg)# perform the MC integration here.\n",
    "    \n",
    "    tIV = time.time()\n",
    "    print('The fourth term in the FM takes', int(tIV-tIII), 's to evaluate')\n",
    "    print('Fourth integral:', Ndetections *GammaIV_int)\n",
    "    print('------------------------------------------------')\n",
    "    \n",
    "    ###################################\n",
    "    # MC integration of the fifth term.\n",
    "    ###################################\n",
    "    \n",
    "    \n",
    "    GammaV_list=[]\n",
    "    GammaV_arg_temp = GammaV_arg.subs(substitutions).evalf() #Help the loop by evaluating common variables.\n",
    "    \n",
    "    for lnM in theta_samples:\n",
    "        \n",
    "        # The simpy expressions are evaluated into a list for each sample of the masses.\n",
    "        out = GammaV_arg_temp.subs([('lnM',lnM)]).evalf()\n",
    "        GammaV_list.append(float(out))\n",
    "    \n",
    "    GammaV_arg = GammaV_list*pdet_theta(theta_samples)/pdet_lambda(theta_samples)    #set up argument of integral.\n",
    "    GammaV_int = NsampsSelFct**-1*np.sum(GammaV_arg)# perform the MC integration here.\n",
    "    \n",
    "    tV = time.time()\n",
    "    print('The fifth term in the FM takes', int(tV-tIV), 's to evaluate')\n",
    "    print('Fifth integral:',  Ndetections *GammaV_int)\n",
    "    print('------------------------------------------------')\n",
    "    \n",
    "    return Ndetections * (GammaI_int + GammaII_int + GammaIII_int + GammaIV_int + GammaV_int)\n"
   ]
  },
  {
   "cell_type": "code",
   "execution_count": 20,
   "id": "fe4feddd",
   "metadata": {},
   "outputs": [
    {
     "name": "stdout",
     "output_type": "stream",
     "text": [
      "------------------------------------------------\n",
      "The first term in the FM takes 0 s to evaluate\n",
      "First integral: 26.84612846374506\n",
      "------------------------------------------------\n",
      "The second term in the FM takes 24 s to evaluate\n",
      "Second integral: -0.1357576859706238\n",
      "------------------------------------------------\n",
      "The third term in the FM takes 23 s to evaluate\n",
      "Third integral: -0.5296020820798593\n",
      "------------------------------------------------\n",
      "The fourth term in the FM takes 32 s to evaluate\n",
      "Fourth integral: 0.01129861687734344\n",
      "------------------------------------------------\n",
      "The fifth term in the FM takes 21 s to evaluate\n",
      "Fifth integral: -0.10456042050440995\n",
      "------------------------------------------------\n",
      "Gamma_lambda: 26.08750689206751\n"
     ]
    }
   ],
   "source": [
    "#samples drawn from PDF to be used in the Monte Carlo integral.\n",
    "\n",
    "theta_ij = log_M(alpha0_t,N_samps_selfunction,M_max,M_min) \n",
    "gamma_lambda = Gamma_lambda(theta_ij,alpha0_t,M_max,M_min,sigma,dth,N_samps_selfunction,N_det)\n",
    "print('Gamma_lambda:', gamma_lambda)"
   ]
  },
  {
   "cell_type": "code",
   "execution_count": 21,
   "id": "c353ed09",
   "metadata": {
    "scrolled": true
   },
   "outputs": [
    {
     "data": {
      "image/png": "[encoded data removed]",
      "text/plain": [
       "<Figure size 432x288 with 1 Axes>"
      ]
     },
     "metadata": {
      "needs_background": "light"
     },
     "output_type": "display_data"
    }
   ],
   "source": [
    "\"\"\"\n",
    "Posteriors with Fisher estimates\n",
    "\"\"\"\n",
    "\n",
    "\n",
    "_, bins_alpha, _= plt.hist(alpha_samples, 30, histtype = 'bar', color ='gainsboro', density=True, edgecolor='black', label='MCMC')\n",
    "bins_alpha= np.array(bins_alpha)\n",
    "\n",
    "if selection_effects == False: \n",
    "    \n",
    "    # Fisher estimate without selection effects.\n",
    "    Da = Dalpha(N_obs,alpha0_t,M_min,M_max)\n",
    "    plt.plot(bins_alpha, gaussian(bins_alpha,alpha0_t,Da**2), color='black', lw=2.5,label='Fisher')\n",
    "    \n",
    "else:\n",
    "    Da=np.sqrt(1/gamma_lambda)\n",
    "    plt.plot(bins_alpha, gaussian(bins_alpha,alpha0_t,Da**2), color='black', lw=2.5,label='Fisher')\n",
    "    \n",
    "\n",
    "plt.axvline(x=alpha0_t, label='True', c='orange',ls='--',lw=3)\n",
    "plt.xlabel('alpha')\n",
    "plt.ylabel('PDF')\n",
    "plt.legend()\n",
    "plt.show()"
   ]
  },
  {
   "cell_type": "code",
   "execution_count": null,
   "id": "de917254",
   "metadata": {},
   "outputs": [],
   "source": []
  }
 ],
 "metadata": {
  "interpreter": {
   "hash": "6a4c3f65261587b55a0f30d9b7a4892a0c55342535808fcf5e158d1bb0d89e5f"
  },
  "kernelspec": {
   "display_name": "Python 3 (ipykernel)",
   "language": "python",
   "name": "python3"
  },
  "language_info": {
   "codemirror_mode": {
    "name": "ipython",
    "version": 3
   },
   "file_extension": ".py",
   "mimetype": "text/x-python",
   "name": "python",
   "nbconvert_exporter": "python",
   "pygments_lexer": "ipython3",
   "version": "3.8.8"
  }
 },
 "nbformat": 4,
 "nbformat_minor": 5
}
