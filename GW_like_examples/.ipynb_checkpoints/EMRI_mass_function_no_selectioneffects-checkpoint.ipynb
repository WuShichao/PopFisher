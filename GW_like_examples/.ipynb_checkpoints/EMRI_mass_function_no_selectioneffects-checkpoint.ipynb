{
 "cells": [
  {
   "cell_type": "markdown",
   "id": "satellite-worth",
   "metadata": {},
   "source": [
    "# MCMC for the mass distribution of EMRIs"
   ]
  },
  {
   "cell_type": "code",
   "execution_count": 1,
   "id": "0c2728a8",
   "metadata": {},
   "outputs": [],
   "source": [
    "import numpy as np\n",
    "import matplotlib.pyplot as plt\n",
    "import emcee\n",
    "import corner\n",
    "import matplotlib as mpl\n",
    "import seaborn as sns\n",
    "\n",
    "\n",
    "%matplotlib inline\n",
    "np.random.seed(1234)\n",
    "\n",
    "\n",
    "params = {'axes.labelsize': 18,\n",
    "          'font.family': 'serif',\n",
    "          'font.serif': 'Computer Modern Raman',\n",
    "          'font.size': 18,\n",
    "          'axes.linewidth': 1,\n",
    "          'legend.fontsize': 15,\n",
    "          'xtick.labelsize': 18,\n",
    "          'xtick.top': True,\n",
    "          'ytick.labelsize': 18,\n",
    "          'ytick.right': True,\n",
    "          'axes.grid' : True,\n",
    "          'text.usetex': True,\n",
    "          'savefig.dpi' : 100,\n",
    "          'lines.markersize' : 14,\n",
    "          'axes.formatter.limits' : (-3,3)}\n",
    "\n",
    "mpl.rcParams.update(params)"
   ]
  },
  {
   "cell_type": "markdown",
   "id": "a3dce3e3",
   "metadata": {},
   "source": [
    "We fit a BH mass functionsource parameter given by the mass, $\\theta=M$. This example follows the EMRI mass function [e-Print: 1004.1921 (\"GTV\")]:\n",
    "\n",
    "$$\\frac{dN}{d\\ln M}=A_0\\big(\\frac{M}{M_*}\\big)^{\\alpha_0} \\quad\\Rightarrow\\quad p(M|\\lambda)=\\mathcal{N} M^{\\alpha_0-1}.$$\n",
    "\n",
    "We are interested in the $ \\lambda=\\alpha_0$ population parameter. We are assuming that the amplitude $A_0$ does not carry information about the system, but only about the rate of events."
   ]
  },
  {
   "cell_type": "code",
   "execution_count": 2,
   "id": "f7eda7ac",
   "metadata": {},
   "outputs": [],
   "source": [
    "\"\"\"\n",
    "Parameters\n",
    "\"\"\"\n",
    "\n",
    "N_obs = 1000\n",
    "N_samp_per_obs = 10\n",
    "\n",
    "# Inputs to get the true ln M distribution.\n",
    "# Notice that M runs from 10^4 to 10^7 in GTV.\n",
    "\n",
    "alpha0_t = 0.00001 # Choose flat spectral profile.\n",
    "M_min=10000. ;   logM_min = np.log(M_min)\n",
    "M_max=10000000.; logM_max = np.log(M_max)"
   ]
  },
  {
   "cell_type": "code",
   "execution_count": 3,
   "id": "a581b72c",
   "metadata": {},
   "outputs": [],
   "source": [
    "def model(lnM,alpha):\n",
    "    \n",
    "    \"\"\"\n",
    "    Model for p(d|lambda).\n",
    "    \n",
    "    Input:\n",
    "    \n",
    "    - data    (The noisy generated data where we expect the masses to be.)\n",
    "    - alpha   (Spectral index of the mass distribution.)\n",
    "    \n",
    "    \"\"\"\n",
    "    \n",
    "    M = np.exp(lnM) # mass observations\n",
    "    norm  = alpha/(M_max**alpha-M_min**alpha)\n",
    "    \n",
    "    \n",
    "    return norm*M**(alpha-1)"
   ]
  },
  {
   "cell_type": "markdown",
   "id": "0c373548",
   "metadata": {},
   "source": [
    "The hyperlikelihood is (with $\\theta = \\ln M$ and $\\lambda=\\alpha$):\n",
    "\n",
    "$$\n",
    "p(d|\\lambda) = \\prod_{i=1}^{N_\\text{obs}} p(d_i|\\lambda) = \\prod_{i=1}^{N_\\text{obs}} \\int p(d_i|\\theta_i)p_\\text{pop}(\\theta_i|\\lambda) d\\theta_i,\n",
    "$$\n",
    "\n",
    "which can be rearranged through Bayes theorem to give\n",
    "\n",
    "$$\n",
    "    p(d|\\lambda) = \\prod_{i=1}^{N_\\text{obs}} \\int \\frac{p(\\theta_i|d_i) p(\\theta_i)}{p(d_i)}p_\\text{pop}(\\theta_i|\\lambda) d\\theta_i.\n",
    "$$\n",
    "\n",
    "The integral can be solved with Monte Carlo methods drawing $N_\\text{samp}$ samples from the posterior, $\\theta_{ij}\\sim p(\\theta_{i}|d_i)$ ($j$ indexing the samples),\n",
    "\n",
    "$$\n",
    "   p(d|\\lambda) = \\prod_{i=1}^{N_\\text{obs}} \\frac{1}{N_\\text{samp}}\\sum_{j=1}^{N_\\text{samp}} \\frac{p(\\theta_{ij})}{p(d_i)}p_\\text{pop}(\\theta_{ij}|\\lambda)\\quad \\Rightarrow \\quad \\log p(d|\\lambda)\\propto \\sum_{i=1}^{N_\\text{obs}}\\sum_{j=1}^{N_\\text{samp}} p_\\text{pop}(\\theta_{ij}|\\lambda)\\equiv \\sum_{i=1}^{N_\\text{obs}}\\sum_{j=1}^{N_\\text{samp}} p_{\\text{pop},ij}.\n",
    "$$\n",
    "\n",
    "In the last line, we ignore normalization factors and take the log of the hyperlikelihood. The final expression is coded up below."
   ]
  },
  {
   "cell_type": "code",
   "execution_count": 4,
   "id": "3a338510",
   "metadata": {},
   "outputs": [],
   "source": [
    "# Limits of (flat) hyperpriors.\n",
    "\n",
    "hyperprior_min = -10.0\n",
    "hyperprior_max = 10.0\n",
    "\n",
    "def log_likelihood_numerical(params, data):\n",
    "    \n",
    "     \n",
    "    support = ( # Here is the support limits for hyperpriors.\n",
    "                (params[0] >= hyperprior_min)&\n",
    "                (params[0] <= hyperprior_max)\n",
    "                )\n",
    "    \n",
    "    log_likelihood=0\n",
    "    \n",
    "    for i in np.arange(N_obs):\n",
    "        \n",
    "        ppop_ij = model(data[i,:],params[0])  # N_samp-long array for population model.\n",
    "        sum_ppop = np.sum(ppop_ij)            # internal sum of population model over N_samp.\n",
    "        log_likelihood += np.log(sum_ppop)    # add the samples drawn over N_obs in the loop.\n",
    "        \n",
    "    out = np.where(support,log_likelihood,-np.inf)  # Only retain likelihood if supported.\n",
    "    \n",
    "    \n",
    "    # Force nans away.\n",
    "    if np.isfinite(out):\n",
    "        return out\n",
    "    else:\n",
    "        return -np.inf"
   ]
  },
  {
   "cell_type": "markdown",
   "id": "9e4ab8e7",
   "metadata": {},
   "source": [
    "\n",
    "Starting from the probability density $p(M|\\lambda)=\\mathcal{N} M^{\\alpha_0-1}$, we can use the method of inversion to get the source parameter M. In particular, we define the cumulative density function,\n",
    "\n",
    "$u:=\\text{CDF}(M)= \\mathcal{N}\\int_{M_\\text{min}}^{M}M^{\\alpha_0-1}dM = \\alpha_0^{-1}\\mathcal{N}M^{\\alpha_0}\\big|_{M_\\text{min}}^{M}=\\alpha_0^{-1}\\mathcal{N}(M^{\\alpha_0}-M^{\\alpha_0}_{\\text{min}})$.\n",
    "\n",
    "The normalization factor can be calculated imposing that $\\lim_{M\\rightarrow M_{\\text{min}}} u=1$, which gives immediately:\n",
    "\n",
    "$\\mathcal{N}=\\frac{\\alpha_0}{M^{\\alpha_0}_\\text{max}-M^{\\alpha_0}_{\\text{min}}}$.\n",
    "\n",
    "Now, we get M in terms of $u$, \n",
    "\n",
    "$\\quad M^{\\alpha_0}=\\alpha_0\\mathcal{N}^{-1} u +M^{\\alpha_0}_{\\text{min}}\\quad\\Longrightarrow \\quad \\ln M =\\frac{1}{\\alpha_0} \\ln\\big[(M^{\\alpha_0}_\\text{max}-M^{\\alpha_0}_{\\text{min}})\\, u +M^{\\alpha_0}_{\\text{min}}\\big]\\quad $ (true parameter distribution)."
   ]
  },
  {
   "cell_type": "code",
   "execution_count": 5,
   "id": "5d5835dd",
   "metadata": {},
   "outputs": [],
   "source": [
    "sigma = 0.1\n",
    "noise = np.random.normal(0,sigma,size = N_obs)\n",
    "\n",
    "\"\"\"\n",
    "Data draws.\n",
    "\"\"\"\n",
    "\n",
    "u = np.random.uniform(size=N_obs)\n",
    "logM_t=alpha0_t**-1 * np.log((M_max**(alpha0_t)-M_min**(alpha0_t))*u+ M_min**(alpha0_t)*np.ones(N_obs))\n",
    "\n",
    "d_i = noise + logM_t  # observation model made of noise + true population.\n",
    "\n",
    "\n",
    "\"\"\"\n",
    "Data array. The structure of data is such that Data[i,j] is the jth posterior sample from event i.\n",
    "We assume the observation model p(d|theta) is a normal gaussian.\n",
    "\n",
    "\"\"\"\n",
    "\n",
    "data=np.zeros((N_obs,N_samp_per_obs))\n",
    "for i in np.arange(N_obs):\n",
    "    \n",
    "    data[i,:]=np.random.normal(d_i[i],sigma,size=N_samp_per_obs)"
   ]
  },
  {
   "cell_type": "code",
   "execution_count": 6,
   "id": "edd8f1cc",
   "metadata": {},
   "outputs": [
    {
     "data": {
      "text/plain": [
       "<matplotlib.legend.Legend at 0x7f9af1dd1b80>"
      ]
     },
     "execution_count": 6,
     "metadata": {},
     "output_type": "execute_result"
    },
    {
     "data": {
      "image/png": "[encoded data removed]",
      "text/plain": [
       "<Figure size 432x360 with 1 Axes>"
      ]
     },
     "metadata": {
      "needs_background": "light"
     },
     "output_type": "display_data"
    }
   ],
   "source": [
    "fig, ax = plt.subplots(1,1,figsize=(6,5))\n",
    "plt.hist(np.log10(np.exp(d_i)),density=True,label='Sample',bins=10,histtype = 'bar',\n",
    "                               color ='gainsboro', edgecolor='black')\n",
    "sns.kdeplot(np.array(np.log10(np.exp(d_i))), label='KDE',c='k')\n",
    "plt.axvline(x=np.log10(np.exp(np.mean(logM_t))), label='True mean', c='orange',ls='--',lw=3)\n",
    "\n",
    "plt.xlabel('$\\log_{10}(M_{obs}/M_\\odot)$')\n",
    "plt.ylabel('Density')\n",
    "plt.legend(loc='best')"
   ]
  },
  {
   "cell_type": "code",
   "execution_count": 7,
   "id": "e01dd79b",
   "metadata": {},
   "outputs": [],
   "source": [
    "\"\"\"\n",
    "Choose which data and likelihood.\n",
    "\"\"\"\n",
    "\n",
    "which_likelihood = log_likelihood_numerical\n",
    "which_data = data"
   ]
  },
  {
   "cell_type": "code",
   "execution_count": 8,
   "id": "8de984ec",
   "metadata": {},
   "outputs": [
    {
     "name": "stderr",
     "output_type": "stream",
     "text": [
      "100%|█████████████████████████████████████| 10000/10000 [03:28<00:00, 48.06it/s]\n"
     ]
    }
   ],
   "source": [
    "n_iter = 10000\n",
    "ndim = 1; nwalkers = 2\n",
    "\n",
    "pos_init0 = [alpha0_t]\n",
    "p0 = pos_init0*(1+0.001* np.random.randn(nwalkers, ndim))\n",
    "\n",
    "sampler = emcee.EnsembleSampler(nwalkers, ndim, which_likelihood, args=[which_data])\n",
    "\n",
    "run = sampler.run_mcmc(p0, n_iter, progress=True)"
   ]
  },
  {
   "cell_type": "code",
   "execution_count": 9,
   "id": "59f8c72c",
   "metadata": {},
   "outputs": [],
   "source": [
    "\"\"\"\n",
    "Collect the samples here.\n",
    "\"\"\"\n",
    "burnin = 1500\n",
    "\n",
    "chains = sampler.get_chain(discard=burnin, thin=1, flat=False)\n",
    "alpha_samples = chains[:,:,0].flatten()"
   ]
  },
  {
   "cell_type": "code",
   "execution_count": 10,
   "id": "c817adce",
   "metadata": {},
   "outputs": [
    {
     "data": {
      "image/png": "[encoded data removed]",
      "text/plain": [
       "<Figure size 432x288 with 1 Axes>"
      ]
     },
     "metadata": {
      "needs_background": "light"
     },
     "output_type": "display_data"
    }
   ],
   "source": [
    "plt.plot(alpha_samples, \"k\", alpha=0.3)\n",
    "plt.tight_layout()\n",
    "plt.show()"
   ]
  },
  {
   "cell_type": "code",
   "execution_count": 11,
   "id": "cf791ca3",
   "metadata": {},
   "outputs": [],
   "source": [
    "def gaussian(d,mu,Sigma_sq):\n",
    "    \n",
    "    num = np.exp(-0.5*(d-mu)**2/Sigma_sq)\n",
    "    den = np.sqrt(2*np.pi*Sigma_sq)\n",
    "    return num/den"
   ]
  },
  {
   "cell_type": "markdown",
   "id": "c453b146",
   "metadata": {},
   "source": [
    "In both the case with and without selection effects the Fisher estimate is dominated by the first term in the integral, which from the paper reads\n",
    "\n",
    "$$\n",
    "(\\Gamma_\\lambda)_{ij} \\approx -\\int \\frac{\\partial^2 \\ln (p(\\theta | \\lambda)/p_{\\rm det}(\\lambda))}{\\partial\\lambda^i \\partial\\lambda^j} \\, \\frac{p_{\\rm det}(\\theta)}{p_{\\rm det}(\\lambda)} p(\\theta |\\lambda) {\\rm d} \\theta.\n",
    "$$"
   ]
  },
  {
   "cell_type": "markdown",
   "id": "ef8be967",
   "metadata": {},
   "source": [
    "In the simplifying case in which there are no selection effects, the estimate is analytically found to be (see $\\texttt{Mathematica}$ notebook)\n",
    "\n",
    "$$\n",
    "\\Gamma_\\alpha \\approx N_\\text{obs}\\left(\\frac{1}{\\alpha^2}-\\frac{M_\\text{max}^\\alpha M_\\text{min}^\\alpha (\\ln M_\\text{max}-\\ln M_\\text{min})^2}{(M_\\text{max}^\\alpha-M_\\text{min}^\\alpha)^2}\\right)\n",
    "$$"
   ]
  },
  {
   "cell_type": "code",
   "execution_count": 12,
   "id": "4dafd1bc",
   "metadata": {},
   "outputs": [
    {
     "name": "stdout",
     "output_type": "stream",
     "text": [
      "Analytical expression for the variance on the spectral index:\n"
     ]
    },
    {
     "data": {
      "text/latex": [
       "$\\displaystyle \\sqrt{\\frac{1}{Nobs \\left(- \\frac{Mmax^{\\alpha} Mmin^{\\alpha} \\left(\\log{\\left(Mmax \\right)} - \\log{\\left(Mmin \\right)}\\right)^{2}}{\\left(Mmax^{\\alpha} - Mmin^{\\alpha}\\right)^{2}} + \\frac{1}{\\alpha^{2}}\\right)}}$"
      ],
      "text/plain": [
       "sqrt(1/(Nobs*(-Mmax**alpha*Mmin**alpha*(log(Mmax) - log(Mmin))**2/(Mmax**alpha - Mmin**alpha)**2 + alpha**(-2))))"
      ]
     },
     "execution_count": 12,
     "metadata": {},
     "output_type": "execute_result"
    }
   ],
   "source": [
    "# Estimates without selection effects.\n",
    "\n",
    "\n",
    "#This expression is only valid for 1D fitting, and crucially it only accounts for the first \n",
    "#term in the FM. More accurate estimates can be obtained with the accompanying Mathematica \n",
    "#notebook. However we check that other terms are subdominant compared to the one used here.\n",
    "\n",
    "from sympy.parsing import mathematica as M\n",
    "Dalpha_simpified = M.mathematica('Sqrt[1/(Nobs*(alpha^(-2) - (Mmax^alpha*Mmin^alpha*(Log[Mmax] - Log[Mmin])^2)/(Mmax^alpha - Mmin^alpha)^2))]')\n",
    "\n",
    "def Dalpha(Nobs,alpha,Mmin,Mmax):\n",
    "    \n",
    "    out = Dalpha_simpified.subs([('Nobs',Nobs),('alpha',alpha),('Mmax',Mmax),('Mmin',Mmin)]).evalf()\n",
    "    \n",
    "    return float(out)\n",
    "\n",
    "print('Analytical expression for the variance on the spectral index:')\n",
    "Dalpha_simpified\n"
   ]
  },
  {
   "cell_type": "code",
   "execution_count": 13,
   "id": "e432fe2d",
   "metadata": {},
   "outputs": [
    {
     "data": {
      "image/png": "[encoded data removed]",
      "text/plain": [
       "<Figure size 432x288 with 1 Axes>"
      ]
     },
     "metadata": {
      "needs_background": "light"
     },
     "output_type": "display_data"
    }
   ],
   "source": [
    "\"\"\"\n",
    "Posteriors with Fisher estimates\n",
    "\"\"\"\n",
    "\n",
    "\n",
    "_, bins_alpha, _= plt.hist(alpha_samples, 30, histtype = 'bar',\n",
    "                               color ='gainsboro', density=True, edgecolor='black', label='MCMC')\n",
    "\n",
    "\n",
    "Da = Dalpha(N_obs,alpha0_t,M_min,M_max) # From Mathematica notebook.\n",
    "bins_alpha= np.array(bins_alpha)\n",
    "plt.plot(bins_alpha, gaussian(bins_alpha,alpha0_t-0.01,Da**2), color='black', \n",
    "         lw=2.5,label='Fisher')\n",
    "\n",
    "\n",
    "plt.axvline(x=alpha0_t, label='True', c='orange',ls='--',lw=3)\n",
    "plt.xlabel('alpha')\n",
    "plt.ylabel('PDF')\n",
    "plt.legend()\n",
    "plt.show()\n",
    "\n"
   ]
  }
 ],
 "metadata": {
  "kernelspec": {
   "display_name": "Python 3 (ipykernel)",
   "language": "python",
   "name": "python3"
  },
  "language_info": {
   "codemirror_mode": {
    "name": "ipython",
    "version": 3
   },
   "file_extension": ".py",
   "mimetype": "text/x-python",
   "name": "python",
   "nbconvert_exporter": "python",
   "pygments_lexer": "ipython3",
   "version": "3.8.8"
  }
 },
 "nbformat": 4,
 "nbformat_minor": 5
}
