{
 "cells": [
  {
   "cell_type": "markdown",
   "id": "satellite-worth",
   "metadata": {},
   "source": [
    "# MCMC for the mass distribution of EMRIs"
   ]
  },
  {
   "cell_type": "code",
   "execution_count": 2,
   "id": "0c2728a8",
   "metadata": {},
   "outputs": [],
   "source": [
    "import numpy as np\n",
    "import matplotlib.pyplot as plt\n",
    "import emcee\n",
    "import corner\n",
    "import matplotlib as mpl\n",
    "import seaborn as sns\n",
    "\n",
    "\n",
    "%matplotlib inline\n",
    "np.random.seed(1234)\n",
    "\n",
    "\n",
    "params = {'axes.labelsize': 18,\n",
    "          'font.family': 'serif',\n",
    "          'font.serif': 'Computer Modern Raman',\n",
    "          'font.size': 18,\n",
    "          'axes.linewidth': 1,\n",
    "          'legend.fontsize': 15,\n",
    "          'xtick.labelsize': 18,\n",
    "          'xtick.top': True,\n",
    "          'ytick.labelsize': 18,\n",
    "          'ytick.right': True,\n",
    "          'axes.grid' : True,\n",
    "          'text.usetex': True,\n",
    "          'savefig.dpi' : 100,\n",
    "          'lines.markersize' : 14,\n",
    "          'axes.formatter.limits' : (-3,3)}\n",
    "\n",
    "mpl.rcParams.update(params)"
   ]
  },
  {
   "cell_type": "markdown",
   "id": "a3dce3e3",
   "metadata": {},
   "source": [
    "We fit a BH mass functionsource parameter given by the mass, $\\theta=M$. This example follows the EMRI mass function [e-Print: 1004.1921 (\"GTV\")]:\n",
    "\n",
    "$$\\frac{dN}{d\\ln M}=A_0\\big(\\frac{M}{M_*}\\big)^{\\alpha_0} \\quad\\Rightarrow\\quad p(M|\\lambda)=\\mathcal{N} M^{\\alpha_0-1}.$$\n",
    "\n",
    "We are interested in the $ \\lambda=\\alpha_0$ population parameter. We are assuming that the amplitude $A_0$ does not carry information about the system, but only about the rate of events."
   ]
  },
  {
   "cell_type": "code",
   "execution_count": 3,
   "id": "f7eda7ac",
   "metadata": {},
   "outputs": [],
   "source": [
    "\"\"\"\n",
    "Parameters\n",
    "\"\"\"\n",
    "\n",
    "N_obs = 1000\n",
    "N_samp_per_obs = 10\n",
    "\n",
    "# Inputs to get the true ln M distribution.\n",
    "# Notice that M runs from 10^4 to 10^7 in GTV.\n",
    "\n",
    "alpha0_t = 0.00001 # Choose flat spectral profile.\n",
    "M_min=10000. ;   logM_min = np.log(M_min)\n",
    "M_max=10000000.; logM_max = np.log(M_max)"
   ]
  },
  {
   "cell_type": "code",
   "execution_count": 4,
   "id": "a581b72c",
   "metadata": {},
   "outputs": [],
   "source": [
    "def model(lnM,alpha):\n",
    "    \n",
    "    \"\"\"\n",
    "    Model for p(d|lambda).\n",
    "    \n",
    "    Input:\n",
    "    \n",
    "    - data    (The noisy generated data where we expect the masses to be.)\n",
    "    - alpha   (Spectral index of the mass distribution.)\n",
    "    \n",
    "    \"\"\"\n",
    "    \n",
    "    M = np.exp(lnM) # mass observations\n",
    "    norm  = alpha/(M_max**alpha-M_min**alpha)\n",
    "    \n",
    "    \n",
    "    return norm*M**(alpha-1)"
   ]
  },
  {
   "cell_type": "markdown",
   "id": "0c373548",
   "metadata": {},
   "source": [
    "The hyperlikelihood is (with $\\theta = \\ln M$ and $\\lambda=\\alpha$):\n",
    "\n",
    "$$\n",
    "p(d|\\lambda) = \\prod_{i=1}^{N_\\text{obs}} p(d_i|\\lambda) = \\prod_{i=1}^{N_\\text{obs}} \\int p(d_i|\\theta_i)p_\\text{pop}(\\theta_i|\\lambda) d\\theta_i,\n",
    "$$\n",
    "\n",
    "which can be rearranged through Bayes theorem to give\n",
    "\n",
    "$$\n",
    "    p(d|\\lambda) = \\prod_{i=1}^{N_\\text{obs}} \\int \\frac{p(\\theta_i|d_i) p(\\theta_i)}{p(d_i)}p_\\text{pop}(\\theta_i|\\lambda) d\\theta_i.\n",
    "$$\n",
    "\n",
    "The integral can be solved with Monte Carlo methods drawing $N_\\text{samp}$ samples from the posterior, $\\theta_{ij}\\sim p(\\theta_{i}|d_i)$ ($j$ indexing the samples),\n",
    "\n",
    "$$\n",
    "   p(d|\\lambda) = \\prod_{i=1}^{N_\\text{obs}} \\frac{1}{N_\\text{samp}}\\sum_{j=1}^{N_\\text{samp}} \\frac{p(\\theta_{ij})}{p(d_i)}p_\\text{pop}(\\theta_{ij}|\\lambda)\\quad \\Rightarrow \\quad \\log p(d|\\lambda)\\propto \\sum_{i=1}^{N_\\text{obs}}\\sum_{j=1}^{N_\\text{samp}} p_\\text{pop}(\\theta_{ij}|\\lambda)\\equiv \\sum_{i=1}^{N_\\text{obs}}\\sum_{j=1}^{N_\\text{samp}} p_{\\text{pop},ij}.\n",
    "$$\n",
    "\n",
    "In the last line, we ignore normalization factors and take the log of the hyperlikelihood. The final expression is coded up below."
   ]
  },
  {
   "cell_type": "code",
   "execution_count": 5,
   "id": "3a338510",
   "metadata": {},
   "outputs": [],
   "source": [
    "# Limits of (flat) hyperpriors.\n",
    "\n",
    "hyperprior_min = -10.0\n",
    "hyperprior_max = 10.0\n",
    "\n",
    "def log_likelihood_numerical(params, data):\n",
    "    \n",
    "     \n",
    "    support = ( # Here is the support limits for hyperpriors.\n",
    "                (params[0] >= hyperprior_min)&\n",
    "                (params[0] <= hyperprior_max)\n",
    "                )\n",
    "    \n",
    "    log_likelihood=0\n",
    "    \n",
    "    for i in np.arange(N_obs):\n",
    "        \n",
    "        ppop_ij = model(data[i,:],params[0])  # N_samp-long array for population model.\n",
    "        sum_ppop = np.sum(ppop_ij)            # internal sum of population model over N_samp.\n",
    "        log_likelihood += np.log(sum_ppop)    # add the samples drawn over N_obs in the loop.\n",
    "        \n",
    "    out = np.where(support,log_likelihood,-np.inf)  # Only retain likelihood if supported.\n",
    "    \n",
    "    \n",
    "    # Force nans away.\n",
    "    if np.isfinite(out):\n",
    "        return out\n",
    "    else:\n",
    "        return -np.inf"
   ]
  },
  {
   "cell_type": "markdown",
   "id": "9e4ab8e7",
   "metadata": {},
   "source": [
    "\n",
    "Starting from the probability density $p(M|\\lambda)=\\mathcal{N} M^{\\alpha_0-1}$, we can use the method of inversion to get the source parameter M. In particular, we define the cumulative density function,\n",
    "\n",
    "$u:=\\text{CDF}(M)= \\mathcal{N}\\int_{M_\\text{min}}^{M}M^{\\alpha_0-1}dM = \\alpha_0^{-1}\\mathcal{N}M^{\\alpha_0}\\big|_{M_\\text{min}}^{M}=\\alpha_0^{-1}\\mathcal{N}(M^{\\alpha_0}-M^{\\alpha_0}_{\\text{min}})$.\n",
    "\n",
    "The normalization factor can be calculated imposing that $\\lim_{M\\rightarrow M_{\\text{min}}} u=1$, which gives immediately:\n",
    "\n",
    "$\\mathcal{N}=\\frac{\\alpha_0}{M^{\\alpha_0}_\\text{max}-M^{\\alpha_0}_{\\text{min}}}$.\n",
    "\n",
    "Now, we get M in terms of $u$, \n",
    "\n",
    "$\\quad M^{\\alpha_0}=\\alpha_0\\mathcal{N}^{-1} u +M^{\\alpha_0}_{\\text{min}}\\quad\\Longrightarrow \\quad \\ln M =\\frac{1}{\\alpha_0} \\ln\\big[(M^{\\alpha_0}_\\text{max}-M^{\\alpha_0}_{\\text{min}})\\, u +M^{\\alpha_0}_{\\text{min}}\\big]\\quad $ (true parameter distribution)."
   ]
  },
  {
   "cell_type": "code",
   "execution_count": 6,
   "id": "5d5835dd",
   "metadata": {},
   "outputs": [],
   "source": [
    "sigma = 0.1\n",
    "noise = np.random.normal(0,sigma,size = N_obs)\n",
    "\n",
    "\"\"\"\n",
    "Data draws.\n",
    "\"\"\"\n",
    "\n",
    "u = np.random.uniform(size=N_obs)\n",
    "logM_t=alpha0_t**-1 * np.log((M_max**(alpha0_t)-M_min**(alpha0_t))*u+ M_min**(alpha0_t)*np.ones(N_obs))\n",
    "\n",
    "d_i = noise + logM_t  # observation model made of noise + true population.\n",
    "\n",
    "\n",
    "\"\"\"\n",
    "Data array. The structure of data is such that Data[i,j] is the jth posterior sample from event i.\n",
    "We assume the observation model p(d|theta) is a normal gaussian.\n",
    "\n",
    "\"\"\"\n",
    "\n",
    "data=np.zeros((N_obs,N_samp_per_obs))\n",
    "for i in np.arange(N_obs):\n",
    "    \n",
    "    data[i,:]=np.random.normal(d_i[i],sigma,size=N_samp_per_obs)"
   ]
  },
  {
   "cell_type": "code",
   "execution_count": 13,
   "id": "edd8f1cc",
   "metadata": {},
   "outputs": [
    {
     "data": {
      "text/plain": [
       "<matplotlib.legend.Legend at 0x7fe19db3f6d0>"
      ]
     },
     "execution_count": 13,
     "metadata": {},
     "output_type": "execute_result"
    },
    {
     "data": {
      "image/png": "[encoded data removed]",
      "text/plain": [
       "<Figure size 432x360 with 1 Axes>"
      ]
     },
     "metadata": {
      "needs_background": "light"
     },
     "output_type": "display_data"
    }
   ],
   "source": [
    "fig, ax = plt.subplots(1,1,figsize=(6,5))\n",
    "plt.hist(np.log10(np.exp(d_i)),density=True,label='Sample',bins=10,histtype = 'bar',\n",
    "                               color ='gainsboro', edgecolor='black')\n",
    "sns.kdeplot(np.array(np.log10(np.exp(d_i))), label='KDE',c='k')\n",
    "plt.axvline(x=np.log10(np.exp(np.mean(logM_t))), label='True mean', c='orange',ls='--',lw=3)\n",
    "\n",
    "plt.xlabel('$\\log_{10}(M_{obs}/M_\\odot)$')\n",
    "plt.ylabel('Density')\n",
    "plt.legend(loc='best')"
   ]
  },
  {
   "cell_type": "code",
   "execution_count": 13,
   "id": "e01dd79b",
   "metadata": {},
   "outputs": [],
   "source": [
    "\"\"\"\n",
    "Choose which data and likelihood.\n",
    "\"\"\"\n",
    "\n",
    "which_likelihood = log_likelihood_numerical\n",
    "which_data = data"
   ]
  },
  {
   "cell_type": "code",
   "execution_count": 14,
   "id": "8de984ec",
   "metadata": {},
   "outputs": [
    {
     "name": "stderr",
     "output_type": "stream",
     "text": [
      "100%|██████████| 10000/10000 [03:22<00:00, 49.33it/s]\n"
     ]
    },
    {
     "data": {
      "text/plain": [
       "State([[-0.00436847]\n",
       " [ 0.02999137]], log_prob=[-12310.06438926 -12311.42574975], blobs=None, random_state=('MT19937', array([3719471755, 1381259669,  237815280, 1654108505,  940300849,\n",
       "       1753003938, 1003284379,  849542577, 3718236942,  651730276,\n",
       "       3582280636, 1730229602, 3145473801, 2319381598, 3880226559,\n",
       "       3015695917, 1042538508, 1727661825, 2441537546,  994490213,\n",
       "       3315637035, 1060270881, 2927991875, 4035566226,  746362903,\n",
       "       2190588468,  486924076, 3400914194, 1432350680, 2081847872,\n",
       "        679018523, 4080687410, 2338187611,  783849431,  825326231,\n",
       "       3822064156,  376020534, 2488622980, 1500874214, 2331817739,\n",
       "       3804727952,  824901825, 3947662966, 1593872151, 3801548397,\n",
       "       4281819666, 2191904894, 3699024130, 2368930483, 2048280964,\n",
       "        860628358, 3189945028, 2654705050, 4078770455, 2341862623,\n",
       "       1483615659, 2409220930, 3167589704, 2200971770, 3930727840,\n",
       "       2056598067, 2771812568, 2986786254, 4017605300, 2122776361,\n",
       "       2581140361, 3500623069,  193226541, 1534580301, 1370792111,\n",
       "       1231785764, 4020843570, 2480129658, 2294490307, 2164958814,\n",
       "       4175983743, 1518637716, 1583468017, 1936999788, 2615727060,\n",
       "       2843847084,  108380642, 2389333513, 3344683745,  300148839,\n",
       "        373162526, 1639797905,  575254797, 3601479758, 2786759464,\n",
       "       2661345488, 2209326224, 3283302118, 3360974969,  733041897,\n",
       "       2641655948, 1289743192, 1679499354, 1834576275, 1628419608,\n",
       "        959143545, 1723185704, 3583645977, 2133918581, 2097675664,\n",
       "       3113333943,  163324214,  840288225,  289950496, 3089071877,\n",
       "       3562092038, 1073317629, 3531814306, 2124434012, 3579946936,\n",
       "       2500658757, 1208809849, 1403966587, 2316186574,  652696547,\n",
       "         38743414, 2479173283, 2411697662,  541482725, 4255612137,\n",
       "       1456090157, 2871794419, 3161954020, 3712331744,  911083508,\n",
       "        637748866, 1569699672, 2098915141, 2303225481,  582888089,\n",
       "       1514191560,  543702037, 2598778565, 3171956257, 2902946166,\n",
       "       2417216753, 2463044231, 3341497664, 2917344954, 3539115076,\n",
       "       2235376925,  661442978, 2967365121, 2900541192, 2567744740,\n",
       "       1157471797, 1329115496, 4092034628, 1930805419, 1816460113,\n",
       "       1398889512,  122911155, 3217587694, 3448426987,  939216202,\n",
       "       3379010277, 3404765968, 3635194075,  620228736, 4123901390,\n",
       "        169055661, 2899042756, 1568981317, 1202774510,  179307535,\n",
       "       2277963893, 3765743632, 1861590438, 3083797467, 2237646130,\n",
       "       3305525857,  285155288,  165259922,  471022958, 3372333197,\n",
       "         82028332, 1169661695,  688224872, 3013230425, 1611377973,\n",
       "       1975069976,  145809470,  898212661, 3284915259, 2628806847,\n",
       "       2353639831,  562983748, 3180405292, 1483793706, 3672816687,\n",
       "       3401781561, 2500850706, 3272131014,  173508674, 2794575298,\n",
       "       1982542920, 3999739053, 3266158440, 2864708575, 1342101152,\n",
       "       1551772050,  116379128,  430931060, 1470856354, 1170705409,\n",
       "        280114059, 1297036281, 3201358314, 2898726954,  961370435,\n",
       "       1805926426, 2561431825, 4076785239, 2458624975,  386250464,\n",
       "       4170512171,  199047620, 1332149099, 3459694901, 2791726761,\n",
       "       2550641613, 1495391596, 2500021875, 2161485927, 2494983975,\n",
       "        280693764, 2406236050,  376994121, 1602318002, 2627745969,\n",
       "       2469304135,  989898215, 3938144768, 3358662620, 3072936764,\n",
       "       3417446629,  901061524, 2965719442,  102512354, 1549987982,\n",
       "       1570460091, 2698844947,  818328984, 1282609631, 2277003046,\n",
       "       4085509786,  201173461, 2085055391, 3733679316, 2637060559,\n",
       "       1088426981, 2488263842, 1025782478, 4125911054, 1481030698,\n",
       "        808906672, 4292012901, 2893124479, 1682569853, 2549258172,\n",
       "        152647363, 1213229170,  610040037, 2461801262, 1222960056,\n",
       "       1676482287, 3920092644, 4260821065,  110972142, 1294351261,\n",
       "       3319771864, 1477795089,  197219760, 3677974690,  376573211,\n",
       "        122345393, 3215225680,   62544420,  224769106, 4206082630,\n",
       "       2659508132, 3143367850,  443111414, 4287335728, 1558937713,\n",
       "        591911129, 3655448839, 3923489372, 3622527903, 3275161576,\n",
       "       1125695202, 2189735307,  392443931,  416526703, 2350027315,\n",
       "       3215533579, 2982593462, 2782260412, 1244794660,  948487339,\n",
       "       2479094155, 1608974952, 2001629637, 2569381563, 1153122788,\n",
       "       2892315987, 2882272061,  216306306, 4062005281,  803429990,\n",
       "       2957893939, 1614919207,  548497947, 2103107880,  234279440,\n",
       "       2380447800, 2740191841, 1475741790, 3417626426, 2705676717,\n",
       "       2253221380, 2845418220, 2022199179, 3773003020,  918730825,\n",
       "       4165802745, 1412131092, 3426359197,  589283026, 1669729777,\n",
       "       1093061136, 3747518197, 1207182739, 3028681454,  104680885,\n",
       "       1335874360, 3461926318,  802286972, 3806048750, 1946528667,\n",
       "       3414734550, 1462476051,  509663905, 3218817382, 2832273566,\n",
       "       3420243549, 4294092321, 3635917685, 2726815460, 2760318137,\n",
       "       3741981185, 1785772122, 2861085800, 1656978706, 3358090304,\n",
       "       1580152143, 2375254787, 4248500521, 3698016044, 3195224776,\n",
       "       1016989445, 2464146861, 3172349330,   44797447,  791550620,\n",
       "       3933384663,  799724013,  221285754, 1118517057, 2268587289,\n",
       "       3410254986, 1431770448, 3481273912, 2209673587, 2909102307,\n",
       "       1808519515, 1375127517, 2894377611, 3271048982, 1475257333,\n",
       "       1455251860, 3815235544, 3494558026, 2273352813, 3465332620,\n",
       "       2219348142, 3516446970,  995698275, 3689490111, 3860644704,\n",
       "       1984747422, 2993426395,  734282644, 3352058656, 1252567783,\n",
       "       2382518517, 1561437214, 2658732482, 1616137542,  815401532,\n",
       "        339116740,  621785877, 1383434889, 1208813411, 3958845219,\n",
       "       2999654885, 1521526159, 2697671406,  963786672, 1673365061,\n",
       "       2660273712,  139693195, 1728779820, 1055532508, 3601939353,\n",
       "        568139218, 1360531854, 1787187049, 1769687199, 2398476412,\n",
       "       1603798815, 3097498249, 2241763334, 3685330854, 3603158938,\n",
       "       2913327831,  258866048, 1934189868,  167234780, 3791031513,\n",
       "        296050701, 3049162545, 3902857147, 4019361643, 3069197976,\n",
       "        407985805,  234208483, 1308827417, 3059452205, 3921721116,\n",
       "       2152554637, 1842743103,   91777145,  358264887, 1146659076,\n",
       "       1335839321, 2515214909,   92749267,  663099430,  936688733,\n",
       "       1933250225, 2228357248, 1312144934,  355576248, 1103751864,\n",
       "       2697836270, 2003851912, 1977582960, 1644630280, 3466286944,\n",
       "       3787998615, 2475931530, 3886801445, 2673734823, 2955799675,\n",
       "        406530894,  139410388, 3799446313, 3431940892, 2553937770,\n",
       "       1138777808, 1984984806, 3523628400, 4076886678,  113826119,\n",
       "        812425269,   21738074,  592102028, 1086430029, 1764501340,\n",
       "       1449761182,  539115840, 1210866611, 2739295541, 1160850257,\n",
       "       1061496376, 2803080776,  467111391, 3196136121, 2697369809,\n",
       "       2683251851,  385277565, 1522029570, 1427084818, 3898308557,\n",
       "        348906254, 2041364002,  143763626, 1031205750,  702305409,\n",
       "       1074126575, 4136695050, 4128143342, 1617904550, 2429292426,\n",
       "       1077835977, 2737471392,  456309355,  425947557, 1835208895,\n",
       "       3428909380, 3650596353, 2095854629, 2904195461,  404247659,\n",
       "        615598028, 2533714748, 4126933127, 1630269041, 1445186287,\n",
       "       1005038570, 3459159181, 1018243567, 2679054271, 2442349833,\n",
       "       3524661136,  255303234, 4068514431, 1003234717,  650525849,\n",
       "       2049064033, 1063550305,  204639070, 1707994832, 1146801015,\n",
       "       1671674087, 2237250972, 4271066929,  336239243,  484812949,\n",
       "       3109757433, 1189036266,  295995476, 1320610753, 3928114679,\n",
       "       3044495195,  824938511,  803951742, 3984533600, 1497896823,\n",
       "       3834298587,  844665967,  821981879, 4116259929, 3454026963,\n",
       "        510796747, 2755722388, 1562339073, 2019411049, 2884864427,\n",
       "       2187384549, 4060222338, 1584428159, 4024989327, 1879312424,\n",
       "       2985937336, 3709901093,  170297483,  725557565, 2758404775,\n",
       "        531827160, 2976898953, 3706606499, 2238302669, 2633224090,\n",
       "       1524014462, 1288458965, 3326972648,   75240924, 2422640887,\n",
       "        536315896, 1013790016, 1855574569, 2281895699, 1846138339,\n",
       "       2605356007,  693072079,  155841911, 1869756970, 3557665364,\n",
       "       3721231243, 1616421248, 2767880658,  334385953, 1502627812,\n",
       "       1054661735, 3036762654, 3488812806, 3890541278, 2828172258,\n",
       "       1259540684,   37460668,  947466388, 3212016244, 1342208222,\n",
       "        695774084,  466393957, 3962497076,  419078900,  363687345,\n",
       "        399925721,  424896867, 3257232918,  366417764,  400530625,\n",
       "       1737082783,  702890283, 3656486357, 1170075201], dtype=uint32), 232, 0, 0.0))"
      ]
     },
     "execution_count": 14,
     "metadata": {},
     "output_type": "execute_result"
    }
   ],
   "source": [
    "n_iter = 10000\n",
    "ndim = 1; nwalkers = 2\n",
    "\n",
    "pos_init0 = [alpha0_t]\n",
    "p0 = pos_init0*(1+0.001* np.random.randn(nwalkers, ndim))\n",
    "\n",
    "sampler = emcee.EnsembleSampler(nwalkers, ndim, which_likelihood, args=[which_data])\n",
    "\n",
    "sampler.run_mcmc(p0, n_iter, progress=True)"
   ]
  },
  {
   "cell_type": "code",
   "execution_count": 15,
   "id": "59f8c72c",
   "metadata": {},
   "outputs": [],
   "source": [
    "\"\"\"\n",
    "Collect the samples here.\n",
    "\"\"\"\n",
    "burnin = 1500\n",
    "\n",
    "chains = sampler.get_chain(discard=burnin, thin=1, flat=False)\n",
    "alpha_samples = chains[:,:,0].flatten()"
   ]
  },
  {
   "cell_type": "code",
   "execution_count": 16,
   "id": "c817adce",
   "metadata": {},
   "outputs": [
    {
     "data": {
      "image/png": "[encoded data removed]",
      "text/plain": [
       "<Figure size 432x288 with 1 Axes>"
      ]
     },
     "metadata": {
      "needs_background": "light"
     },
     "output_type": "display_data"
    }
   ],
   "source": [
    "plt.plot(alpha_samples, \"k\", alpha=0.3)\n",
    "plt.tight_layout()\n",
    "plt.show()"
   ]
  },
  {
   "cell_type": "code",
   "execution_count": 17,
   "id": "cf791ca3",
   "metadata": {},
   "outputs": [],
   "source": [
    "def gaussian(d,mu,Sigma_sq):\n",
    "    \n",
    "    num = np.exp(-0.5*(d-mu)**2/Sigma_sq)\n",
    "    den = np.sqrt(2*np.pi*Sigma_sq)\n",
    "    return num/den"
   ]
  },
  {
   "cell_type": "code",
   "execution_count": 18,
   "id": "4dafd1bc",
   "metadata": {},
   "outputs": [],
   "source": [
    "\"\"\"\n",
    "WARNING:\n",
    "This expression is only valid for 1D fitting, and crucially it only accounts for the first \n",
    "term in the FM. In short, be extremely careful in using it. Better to obtain FM estimates \n",
    "offline with the dedicated Mathematica notebook.\n",
    "\n",
    "(It is used mostly for debugging reasons.)\n",
    "\"\"\"\n",
    "\n",
    "def Dalpha(Nobs,alpha,Mmin,Mmax):\n",
    "    \n",
    "    den = Nobs * (alpha**-2 - (Mmax**alpha * Mmin**alpha * np.log(Mmax/Mmin)**2)/(Mmax**alpha-Mmin**alpha)**2)\n",
    "    \n",
    "    return np.sqrt(1/den)"
   ]
  },
  {
   "cell_type": "code",
   "execution_count": 21,
   "id": "e432fe2d",
   "metadata": {},
   "outputs": [
    {
     "data": {
      "image/png": "[encoded data removed]",
      "text/plain": [
       "<Figure size 432x288 with 1 Axes>"
      ]
     },
     "metadata": {
      "needs_background": "light"
     },
     "output_type": "display_data"
    }
   ],
   "source": [
    "\"\"\"\n",
    "Posteriors with Fisher estimates\n",
    "\"\"\"\n",
    "\n",
    "\n",
    "_, bins_alpha, _= plt.hist(alpha_samples, 30, histtype = 'bar',\n",
    "                               color ='gainsboro', density=True, edgecolor='black', label='MCMC')\n",
    "\n",
    "\n",
    "Da = Dalpha(N_obs,alpha0_t,M_min,M_max) # From Mathematica notebook.\n",
    "bins_alpha= np.array(bins_alpha)\n",
    "plt.plot(bins_alpha, gaussian(bins_alpha,alpha0_t+0.002,Da**2), color='black', \n",
    "         lw=2.5,label='Fisher')\n",
    "\n",
    "\n",
    "plt.axvline(x=alpha0_t, label='True', c='orange',ls='--',lw=3)\n",
    "plt.xlabel('alpha')\n",
    "plt.ylabel('PDF')\n",
    "plt.legend()\n",
    "plt.show()"
   ]
  },
  {
   "cell_type": "code",
   "execution_count": null,
   "id": "4fcb2b43",
   "metadata": {},
   "outputs": [],
   "source": []
  }
 ],
 "metadata": {
  "kernelspec": {
   "display_name": "Python 3",
   "language": "python",
   "name": "python3"
  },
  "language_info": {
   "codemirror_mode": {
    "name": "ipython",
    "version": 3
   },
   "file_extension": ".py",
   "mimetype": "text/x-python",
   "name": "python",
   "nbconvert_exporter": "python",
   "pygments_lexer": "ipython3",
   "version": "3.8.8"
  }
 },
 "nbformat": 4,
 "nbformat_minor": 5
}
