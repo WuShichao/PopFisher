{
 "cells": [
  {
   "cell_type": "markdown",
   "id": "ff82c071",
   "metadata": {},
   "source": [
    "# Plotting Fisher predictions for $\\Delta\\alpha$ against numerical simulations"
   ]
  },
  {
   "cell_type": "markdown",
   "id": "cbb24856",
   "metadata": {},
   "source": [
    "Import packages."
   ]
  },
  {
   "cell_type": "code",
   "execution_count": 74,
   "id": "b6aac897",
   "metadata": {},
   "outputs": [],
   "source": [
    "import numpy as np\n",
    "import matplotlib.pyplot as plt\n",
    "import matplotlib as mpl\n",
    "\n",
    "import arviz as az\n",
    "from sympy.parsing import mathematica as M\n",
    "\n",
    "\n",
    "%matplotlib inline\n",
    "np.random.seed(1234)\n",
    "\n",
    "az.style.use(\"arviz-darkgrid\")\n",
    "\n",
    "# Nice plotting options.\n",
    "\n",
    "params = {'axes.labelsize': 14,\n",
    "          'font.size': 14,\n",
    "          'axes.linewidth': 1,\n",
    "          'legend.fontsize': 11,\n",
    "          'xtick.labelsize': 14,\n",
    "          'xtick.top': True,\n",
    "          'ytick.labelsize': 14,\n",
    "          'ytick.right': True,\n",
    "          'axes.grid' : True,\n",
    "          'savefig.dpi' : 100,\n",
    "          'lines.markersize' : 4,\n",
    "          'axes.formatter.limits' : (-3,3)}\n",
    "\n",
    "mpl.rcParams.update(params)\n",
    "\n",
    "# LaTeX rendering.\n",
    "\n",
    "from matplotlib import rc\n",
    "rc('text', usetex=True)"
   ]
  },
  {
   "cell_type": "markdown",
   "id": "ef9071e8",
   "metadata": {},
   "source": [
    "For this exercise, we use the expression for $\\Delta\\alpha$ obtained retaining the first term in the integral only, when no selection effects are present."
   ]
  },
  {
   "cell_type": "code",
   "execution_count": 75,
   "id": "75bd288e",
   "metadata": {},
   "outputs": [
    {
     "name": "stdout",
     "output_type": "stream",
     "text": [
      "Analytical expression for the variance on the spectral index:\n"
     ]
    },
    {
     "data": {
      "text/latex": [
       "$\\displaystyle \\sqrt{\\frac{1}{Nobs \\left(- \\frac{Mmax^{\\alpha} Mmin^{\\alpha} \\left(\\log{\\left(Mmax \\right)} - \\log{\\left(Mmin \\right)}\\right)^{2}}{\\left(Mmax^{\\alpha} - Mmin^{\\alpha}\\right)^{2}} + \\frac{1}{\\alpha^{2}}\\right)}}$"
      ],
      "text/plain": [
       "sqrt(1/(Nobs*(-Mmax**alpha*Mmin**alpha*(log(Mmax) - log(Mmin))**2/(Mmax**alpha - Mmin**alpha)**2 + alpha**(-2))))"
      ]
     },
     "execution_count": 75,
     "metadata": {},
     "output_type": "execute_result"
    }
   ],
   "source": [
    "from sympy.parsing import mathematica as M\n",
    "Dalpha_simpified = M.mathematica('Sqrt[1/(Nobs*(alpha^(-2) - (Mmax^alpha*Mmin^alpha*(Log[Mmax] - Log[Mmin])^2)/(Mmax^alpha - Mmin^alpha)^2))]')\n",
    "\n",
    "def Dalpha(Nobs,alpha,Mmin,Mmax):\n",
    "    \n",
    "    out = Dalpha_simpified.subs([('Nobs',Nobs),('alpha',alpha),('Mmax',Mmax),('Mmin',Mmin)]).evalf()\n",
    "    \n",
    "    return float(out)\n",
    "\n",
    "print('Analytical expression for the variance on the spectral index:')\n",
    "Dalpha_simpified"
   ]
  },
  {
   "cell_type": "markdown",
   "id": "5a88564b",
   "metadata": {},
   "source": [
    "We define some true parameters that we need in the analytical expression above."
   ]
  },
  {
   "cell_type": "code",
   "execution_count": 76,
   "id": "6cdc28eb",
   "metadata": {},
   "outputs": [],
   "source": [
    "\"\"\"\n",
    "Parameters\n",
    "\"\"\"\n",
    "\n",
    "# Inputs to get the true ln M distribution.\n",
    "# Notice that M runs from 10^4 to 10^7 in GTV.\n",
    "\n",
    "alpha0_t = 0.00001 # Choose flat spectral profile.\n",
    "M_min=10000. \n",
    "M_max=10000000."
   ]
  },
  {
   "cell_type": "markdown",
   "id": "41756aa4",
   "metadata": {},
   "source": [
    "We create a list of $\\Delta\\alpha$ as a function of $N_\\text{obs}$"
   ]
  },
  {
   "cell_type": "code",
   "execution_count": 77,
   "id": "6e85d35f",
   "metadata": {},
   "outputs": [],
   "source": [
    "# List without selection effects.\n",
    "\n",
    "Da_list =[]\n",
    "for N in range(1,110):\n",
    "    Da_list.append(Dalpha(N,alpha0_t,M_min,M_max))\n",
    "    \n",
    "# List with selection effects.\n",
    "\n",
    "Da_list_sel =[]\n",
    "for N_det in range(1,110):\n",
    "    Da_list_sel.append(np.sqrt(106/(N_det*86.39531326294203)))"
   ]
  },
  {
   "cell_type": "markdown",
   "id": "ee9e92af",
   "metadata": {},
   "source": [
    "We plot this against a scatter plot of widths obtained through MCMC analyses in the case without selection effects."
   ]
  },
  {
   "cell_type": "code",
   "execution_count": 81,
   "id": "848fb591",
   "metadata": {},
   "outputs": [
    {
     "data": {
      "image/png": "[encoded data removed]",
      "text/plain": [
       "<Figure size 500x300 with 1 Axes>"
      ]
     },
     "metadata": {},
     "output_type": "display_data"
    }
   ],
   "source": [
    "# Obtained without selection effects with tutorial code.\n",
    "N_mcmc_nosel = [1, 2, 3, 4, 5, 6, 7, 8, 9, 10, 20, 30, 40, 50, 60, 70, 80, 90, 100]\n",
    "widths_mcmc_nosel = [0.6644635195625176, 0.4241413342171043, 0.31524169596667206, 0.2738077487796176, 0.2564915824737737, 0.23475584261784793, 0.22054742341735029, 0.19752499334909973, 0.1757346577603143, 0.16086199517143002, 0.1098834936814631, 0.09283415521246546, 0.08025321201940053, 0.07209979572140537, 0.0618071927857337, 0.0610174386988298, 0.05645250676195151, 0.052183028854714396,  0.05063649210478289]\n",
    "\n",
    "\n",
    "# Obtained with selection effects.\n",
    "\n",
    "N_det_sel = [48, 52, 62, 68, 71, 76, 84, 89, 98, 106]\n",
    "widths_det_sel = [0.20702084445352492, 0.17211353149359374, 0.15326039800732422, 0.11566804500777134, 0.11988814912838182, 0.11277899905751691, 0.12043067409177341, 0.08970035203296005, 0.09528134087457643, 0.0747798922285255]\n",
    "\n",
    "# Plot\n",
    "\n",
    "fig, ax = plt.subplots(1,1,figsize=(5,3))\n",
    "plt.plot(Da_list,c='orange',lw=2, label='Fisher (no selection effects)')\n",
    "plt.plot(Da_list_sel,c='orange', ls='--',lw=2, label='Fisher (with selection effects)')\n",
    "plt.scatter(N_mcmc_nosel,widths_mcmc_nosel,c='red', marker='o', label='MCMC (no selection effects)')\n",
    "plt.scatter(N_det_sel,widths_det_sel,c='black', marker='o', label='MCMC (with selection effects)')\n",
    "plt.axvline(x=10., label='$N=10$', c='gray',ls='--',lw=2)\n",
    "\n",
    "plt.xlabel('$N$')\n",
    "plt.ylabel('$\\Delta\\\\alpha$')\n",
    "plt.legend(loc='best')\n",
    "\n",
    "#plt.savefig('Da_vs_N.pdf')"
   ]
  },
  {
   "cell_type": "markdown",
   "id": "69933045",
   "metadata": {},
   "source": [
    "We note that the Fisher prediction agrees remarkably well for sufficiently high observations $N\\geq 10$, even if we are only retaining the first term in the Fisher matrix. "
   ]
  }
 ],
 "metadata": {
  "kernelspec": {
   "display_name": "Python 3 (ipykernel)",
   "language": "python",
   "name": "python3"
  },
  "language_info": {
   "codemirror_mode": {
    "name": "ipython",
    "version": 3
   },
   "file_extension": ".py",
   "mimetype": "text/x-python",
   "name": "python",
   "nbconvert_exporter": "python",
   "pygments_lexer": "ipython3",
   "version": "3.8.8"
  }
 },
 "nbformat": 4,
 "nbformat_minor": 5
}
