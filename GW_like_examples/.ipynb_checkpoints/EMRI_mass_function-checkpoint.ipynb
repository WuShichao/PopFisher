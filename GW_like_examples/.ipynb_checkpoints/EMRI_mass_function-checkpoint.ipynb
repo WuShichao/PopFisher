{
 "cells": [
  {
   "cell_type": "markdown",
   "id": "satellite-worth",
   "metadata": {},
   "source": [
    "# MCMC for a population model $ p(M|\\alpha)= M^\\alpha$"
   ]
  },
  {
   "cell_type": "code",
   "execution_count": 1,
   "id": "0c2728a8",
   "metadata": {},
   "outputs": [],
   "source": [
    "import numpy as np\n",
    "import matplotlib.pyplot as plt\n",
    "import emcee\n",
    "import corner\n",
    "import matplotlib as mpl\n",
    "import seaborn as sns\n",
    "\n",
    "\n",
    "%matplotlib inline\n",
    "np.random.seed(1234)\n",
    "\n",
    "\n",
    "params = {'axes.labelsize': 18,\n",
    "          'font.family': 'serif',\n",
    "          'font.serif': 'Computer Modern Raman',\n",
    "          'font.size': 18,\n",
    "          'axes.linewidth': 1,\n",
    "          'legend.fontsize': 15,\n",
    "          'xtick.labelsize': 18,\n",
    "          'xtick.top': True,\n",
    "          'ytick.labelsize': 18,\n",
    "          'ytick.right': True,\n",
    "          'axes.grid' : True,\n",
    "          'text.usetex': True,\n",
    "          'savefig.dpi' : 100,\n",
    "          'lines.markersize' : 14,\n",
    "          'axes.formatter.limits' : (-3,3)}\n",
    "\n",
    "mpl.rcParams.update(params)"
   ]
  },
  {
   "cell_type": "markdown",
   "id": "a3dce3e3",
   "metadata": {},
   "source": [
    "We fit a BH mass functionsource parameter given by the mass, $\\theta=M$. This example follows the EMRI mass function [e-Print: 1004.1921 (\"GTV\")]:\n",
    "\n",
    "$$\\frac{dN}{d\\ln M}=A_0\\big(\\frac{M}{M_*}\\big)^{\\alpha_0} \\quad\\Rightarrow\\quad p(M|\\lambda)=\\mathcal{N} M^{\\alpha_0-1}.$$\n",
    "\n",
    "We are interested in the $ \\lambda=\\alpha_0$ population parameter. We are assuming that the amplitude $A_0$ does not carry information about the system, but only about the rate of events."
   ]
  },
  {
   "cell_type": "code",
   "execution_count": 29,
   "id": "f7eda7ac",
   "metadata": {},
   "outputs": [],
   "source": [
    "\"\"\"\n",
    "Parameters\n",
    "\"\"\"\n",
    "\n",
    "N_obs = 1000\n",
    "N_samp_per_obs = 30\n",
    "\n",
    "# Inputs to get the true ln M distribution.\n",
    "# Notice that M runs from 10^4 to 10^7 in GTV.\n",
    "\n",
    "alpha0_t = 0.01\n",
    "M_min=10000. ;   logM_min = np.log(M_min)\n",
    "M_max=10000000.; logM_max = np.log(M_max)"
   ]
  },
  {
   "cell_type": "code",
   "execution_count": 30,
   "id": "a581b72c",
   "metadata": {},
   "outputs": [],
   "source": [
    "def model(lnM,alpha):\n",
    "    \n",
    "    \"\"\"\n",
    "    Model for p(d|lambda).\n",
    "    \n",
    "    Input:\n",
    "    \n",
    "    - data    (The noisy generated data where we expect the masses to be.)\n",
    "    - alpha   (Spectral index of the mass distribution.)\n",
    "    \n",
    "    \"\"\"\n",
    "    \n",
    "    M = np.exp(lnM) # mass \n",
    "    norm  = alpha/(M_max**alpha-M_min**alpha)\n",
    "    \n",
    "    \n",
    "    return norm*M**(alpha-1)"
   ]
  },
  {
   "cell_type": "code",
   "execution_count": 31,
   "id": "3a338510",
   "metadata": {},
   "outputs": [],
   "source": [
    "alpha_min = -10.0\n",
    "alpha_max = 10.0\n",
    "\n",
    "def log_likelihood_generic(params, data):\n",
    "    \n",
    "    \n",
    "    support = (\n",
    "                (params[0] >= alpha_min)&\n",
    "                (params[0] <= alpha_max)\n",
    "                )\n",
    "    \n",
    "    log_likelihood=0\n",
    "    \n",
    "    for i in np.arange(N_obs):\n",
    "        \n",
    "        mod = model(data[i,:],params[0]) \n",
    "        log_likelihood += np.log(np.sum(mod)) \n",
    "        \n",
    "    out = np.where(support,log_likelihood,-np.inf)\n",
    "    \n",
    "    \n",
    "    # Force nans away.\n",
    "    if np.isfinite(out):\n",
    "        return out\n",
    "    else:\n",
    "        return -np.inf"
   ]
  },
  {
   "cell_type": "markdown",
   "id": "9e4ab8e7",
   "metadata": {},
   "source": [
    "\n",
    "Starting from the probability density $p(M|\\lambda)=\\mathcal{N} M^{\\alpha_0-1}$, we can use the method of inversion to get the source parameter M. In particular, we define the cumulative density function,\n",
    "\n",
    "$u:=\\text{CDF}(M)= \\mathcal{N}\\int_{M_\\text{min}}^{M}M^{\\alpha_0-1}dM = \\alpha_0^{-1}\\mathcal{N}M^{\\alpha_0}\\big|_{M_\\text{min}}^{M}=\\alpha_0^{-1}\\mathcal{N}(M^{\\alpha_0}-M^{\\alpha_0}_{\\text{min}})$.\n",
    "\n",
    "The normalization factor can be calculated imposing that $\\lim_{M\\rightarrow M_{\\text{min}}} u=1$, which gives immediately:\n",
    "\n",
    "$\\mathcal{N}=\\frac{\\alpha_0}{M^{\\alpha_0}_\\text{max}-M^{\\alpha_0}_{\\text{min}}}$.\n",
    "\n",
    "Now, we get M in terms of $u$, \n",
    "\n",
    "$\\quad M^{\\alpha_0}=\\alpha_0\\mathcal{N}^{-1} u +M^{\\alpha_0}_{\\text{min}}\\quad\\Longrightarrow \\quad \\ln M =\\frac{1}{\\alpha_0} \\ln\\big[(M^{\\alpha_0}_\\text{max}-M^{\\alpha_0}_{\\text{min}})\\, u +M^{\\alpha_0}_{\\text{min}}\\big]\\quad $ (true parameter distribution)."
   ]
  },
  {
   "cell_type": "code",
   "execution_count": 32,
   "id": "5d5835dd",
   "metadata": {},
   "outputs": [],
   "source": [
    "sigma = 0.1\n",
    "noise = np.random.normal(0,sigma,size = N_obs)\n",
    "\n",
    "\"\"\"\n",
    "This changes with different models.\n",
    "\"\"\"\n",
    "\n",
    "u = np.random.uniform(size=N_obs)\n",
    "logM_t=alpha0_t**-1 * np.log((M_max**(alpha0_t)-M_min**(alpha0_t))*u+ M_min**(alpha0_t)*np.ones(N_obs))\n",
    "\n",
    "d_i = noise + logM_t  # observation model made of noise + true population.\n",
    "\n",
    "\n",
    "\"\"\"\n",
    "This does not change with different population models. \n",
    "Would change with different observation model, i.e., p(d|theta).\n",
    "The structure of data is such that Data[i,j] is the jth posterior sample from event i.\n",
    "\n",
    "\"\"\"\n",
    "\n",
    "data=np.zeros((N_obs,N_samp_per_obs))\n",
    "for i in np.arange(N_obs):\n",
    "    \n",
    "    data[i,:]=np.random.normal(d_i[i],sigma,size=N_samp_per_obs)"
   ]
  },
  {
   "cell_type": "code",
   "execution_count": 33,
   "id": "edd8f1cc",
   "metadata": {},
   "outputs": [
    {
     "data": {
      "text/plain": [
       "<matplotlib.legend.Legend at 0x7fdce4a41cd0>"
      ]
     },
     "execution_count": 33,
     "metadata": {},
     "output_type": "execute_result"
    },
    {
     "data": {
      "image/png": "[encoded data removed]",
      "text/plain": [
       "<Figure size 432x360 with 1 Axes>"
      ]
     },
     "metadata": {
      "needs_background": "light"
     },
     "output_type": "display_data"
    }
   ],
   "source": [
    "fig, ax = plt.subplots(1,1,figsize=(6,5))\n",
    "plt.hist(d_i,density=True,label='Sample',bins=10,histtype = 'bar',\n",
    "                               color ='gainsboro', edgecolor='black')\n",
    "sns.kdeplot(np.array(d_i), label='KDE',c='k')\n",
    "plt.axvline(x=np.mean(logM_t), label='True mean', c='orange',ls='--',lw=3)\n",
    "\n",
    "plt.xlabel('$\\log(M_{obs}/M_\\odot)$')\n",
    "plt.ylabel('Density')\n",
    "plt.legend(loc='best')"
   ]
  },
  {
   "cell_type": "code",
   "execution_count": 34,
   "id": "e01dd79b",
   "metadata": {},
   "outputs": [],
   "source": [
    "\"\"\"\n",
    "Choose which data and likelihood.\n",
    "\"\"\"\n",
    "\n",
    "which_likelihood = log_likelihood_generic\n",
    "which_data = data"
   ]
  },
  {
   "cell_type": "code",
   "execution_count": 35,
   "id": "8de984ec",
   "metadata": {},
   "outputs": [
    {
     "name": "stderr",
     "output_type": "stream",
     "text": [
      "100%|██████████| 10000/10000 [03:28<00:00, 47.98it/s]\n"
     ]
    },
    {
     "data": {
      "text/plain": [
       "State([[0.02978923]\n",
       " [0.01117163]], log_prob=[-11265.6916245  -11265.39701435], blobs=None, random_state=('MT19937', array([2337103049, 3004329904,  331367108, 3222724907, 3427232436,\n",
       "       2058579211, 3968969911, 2642543805, 1940486542, 3621766194,\n",
       "       2604480635, 3909569841, 4111968704,  782259301, 3724196602,\n",
       "       1311805523,  431442807, 4292882686,  595153897, 1957604796,\n",
       "       3789258805, 3262892885, 2149572184, 1358279899, 1323803838,\n",
       "        787714257, 4063811042, 3542346758, 2176706454, 2045682059,\n",
       "       2243292477, 3850199728, 1386660918,  722179840, 3431656859,\n",
       "       1464014697, 1304505342, 2068974185, 4151463653,  241036555,\n",
       "        404579666, 4233683707, 1706966850, 1483598990, 1484048645,\n",
       "       1942172136, 1553328587,  481281905, 4282889958, 2677534790,\n",
       "       3628564942, 2092547544, 1044260313, 1611392137, 1493926240,\n",
       "       3874269322, 2417188117,  541618767, 2152036780,  694072639,\n",
       "       1415089584, 3847695093, 2132836865,  635035194, 3465978967,\n",
       "       3278707722,  763112310, 2612008318, 2276864315, 3452771534,\n",
       "       3315969172, 1911546971, 1206456674, 3493277423, 1812867803,\n",
       "       3820523884, 1438412439, 2072154814, 1323778632,  680789242,\n",
       "       3197937892,  912197249,  166105419, 1324530181,  243890579,\n",
       "       2013330917, 1246597821, 3574193376, 2357049621, 3352722898,\n",
       "       2060927839, 2092509877, 3733323893,  532186012,  699862940,\n",
       "       3890170694, 1557748484, 2097708619,  956715084, 3304098501,\n",
       "       1618227541, 3247607760, 3044356031, 1390738312, 1970843092,\n",
       "       1716618586,   84935558, 2444715808, 3704840781, 3009016598,\n",
       "       1565824192,  510695017, 3084871866,  410371902, 3075533659,\n",
       "       2855877912,  244582873, 1009060067, 1567633652, 1109839825,\n",
       "       2960054362,  791269158,   78267200, 1411559035,  440858284,\n",
       "       3762007876,  975763944, 3069734556, 4090423108, 3534372214,\n",
       "       1623906711, 1125268191, 1508903062, 3162445891, 1518001820,\n",
       "       3481596571, 1371623983, 1616272020, 1856892617, 2305063570,\n",
       "       4055307899, 3144333344, 2015997022, 3905922036, 2939260780,\n",
       "        273997910, 4165850704, 2384531721,  480125441, 3830060658,\n",
       "        439541154,  775293741, 3131182867,  603075161,  584044264,\n",
       "       1773114933, 2710754887, 1293421288, 1199802068, 3061304758,\n",
       "         86268388,  321431497, 3096657804, 1181911132, 1457912298,\n",
       "        835897551, 2062665293, 1072820619, 3660510366, 1503261263,\n",
       "       1835469835, 3345723983, 3982363187, 2555144637, 1640199372,\n",
       "       4074008812,   56543965,  767745980, 1185392692, 1919667437,\n",
       "       1655880649, 1923920563,  103655683, 3483851805, 2864262144,\n",
       "        597582074, 2389117687, 2051743303,  390924942, 1234685924,\n",
       "       3455937328, 3061401992, 2526623171, 3878350003, 3494199502,\n",
       "       1264286052, 3125759927, 1956421084, 1926572057, 2415301731,\n",
       "        177638935, 3138587731, 2182450291,  962489243, 1666713274,\n",
       "       3886955007, 2447150329, 3309653687, 3538032280, 3872918320,\n",
       "        145093571, 2646494992,  460392731, 2902355254, 1895745905,\n",
       "        525585255, 2572101754, 2620779158, 1260155389, 2259777986,\n",
       "       1283715646, 1659854835,  417646267,  351237950, 3354184437,\n",
       "       3810896486,  626156259, 2540130354, 2107030375, 3570160187,\n",
       "        101229108, 2576072014, 1390286024, 3809930242, 2953090338,\n",
       "       3365144512,   19363930, 2871527715, 2091450760, 2445934850,\n",
       "        911292288, 2356797561, 3658629643,  437389549,  675513013,\n",
       "       2546447173, 2538695285,   92126054, 1062301185, 3803910099,\n",
       "       2231983704,  179630307, 2121025673, 3850525225, 2519748446,\n",
       "       1732939533, 3426836320,  801219280, 2925789610,   26053369,\n",
       "       2079581727, 3309070130,  860954253, 1414726126, 3014075150,\n",
       "       4099234840, 3905027014, 2480764593, 2701122593, 4158609035,\n",
       "       3842481401,  616280290, 2326441143, 2926875192, 3319529361,\n",
       "       2288756464, 2058520439,  705025703,   16408088,  627472034,\n",
       "       1457221721, 2908507195, 3615138453, 4093214603, 1366054582,\n",
       "        985125001, 3609104545, 2835850868,  468736046, 3375900858,\n",
       "       3497165289, 2476733962, 1985685356, 2941499601, 1083242683,\n",
       "       4217769867,  414642195, 1627218778, 2201588994, 4207035705,\n",
       "         35601823, 3118648113, 1862976847,   57930081,  387035057,\n",
       "       1016283429, 3340010069, 4242460167, 3885521646, 2393643862,\n",
       "       3071278034, 3163232982, 1629216663, 1381147574, 3088359435,\n",
       "        874511908, 4237512265,  636816896, 3420649005, 1291601623,\n",
       "       1431916817, 1500374941, 2578243720, 1481623861, 3540487559,\n",
       "        507119577,  273221468, 1171029677, 3328055473, 3890942668,\n",
       "        420127918, 3136059502,  858568941, 4009746887,  596913350,\n",
       "       2549216093, 3867861778, 2578955397, 3312429276, 2554960019,\n",
       "       3535346743, 3527623311, 3972441608,  581859260, 1993778255,\n",
       "        538025387, 2103983879, 3091009004, 2594086583, 2401601025,\n",
       "       3409600363,  790475884, 3097990992, 2504676817, 1239271515,\n",
       "       3539927494,  993204185,  142645396, 2388739773,  944353784,\n",
       "       4091477647, 3058564819, 1422913275, 2888918965,  187113426,\n",
       "         99769382,   60418228, 3074801181, 1707174021, 1168169456,\n",
       "       1871347168, 3809951984, 1042102361,  163465456, 2271940058,\n",
       "       1197544798, 3417999689, 1106096008, 4111472575,  380800817,\n",
       "        340731928, 2408542280, 4070219184,  416752980, 2660480154,\n",
       "       3071662578, 1429039929,  436151963, 1496438537, 3208816766,\n",
       "       3647336685,  836608243, 2292324982, 4109950977, 1283696919,\n",
       "          2237943,  376922017, 4057679487, 1414816104, 2687990669,\n",
       "       3449658727, 1127538304, 2010560658, 4198737804,  710968983,\n",
       "       1835906565,  131237538, 3857184315, 4246580778, 3717896801,\n",
       "       1199119167, 2149314008, 3819510250, 2568850893, 1873056425,\n",
       "        772152599, 1987379876,  986264841, 1849037992,  420331488,\n",
       "         92985079, 2533191157, 3077888404, 3370452637,  915172637,\n",
       "       2855787893, 3393539445, 1920578220, 3008393219, 3206175724,\n",
       "       2632171745, 1343867572, 1729566469,  745640902, 1646320600,\n",
       "       4015674058, 3010098219, 2458707426, 2235365977, 1859231274,\n",
       "       1718561177,  161114803,  950830374, 3934874204, 1221767329,\n",
       "        487389107,  459192961, 3645501017, 1361854524,   90046981,\n",
       "       1251715183, 2415706446, 2994217560, 4042565288, 3240637466,\n",
       "       1992382725,  434539805, 2095432548, 3646626440, 3446746134,\n",
       "       3782759543, 3838653343, 3671154133, 1018287675, 3536856253,\n",
       "       2882049858,  284138046,  604422543, 3980645284, 1381503153,\n",
       "       1391297565,   17991716, 1677505883,  332576676, 2233510438,\n",
       "       2261365935, 3347053219,  703847803, 2912898050,  340224109,\n",
       "       1227641590, 3652339832, 1759831719,  766229561, 2872587750,\n",
       "       1232092256, 2392463383, 3699843755,  567830635, 3297888569,\n",
       "       1634823473, 4114262440, 3088402064,  158444621, 1702517430,\n",
       "       4075430908,  149378217, 1230196826, 3935884200, 2595923706,\n",
       "        988504180, 3212914555,  655033287, 3501487998, 3005399363,\n",
       "       3340219277,  657097089,   40111611, 2306837908,   50015826,\n",
       "       1045377658, 2549518850, 1524878105, 3396904846, 2457418429,\n",
       "       3514324260,  945146927,  313253434, 1453264107, 1306857941,\n",
       "       3152546986, 4093251492,  683363870,  755094192, 2704830247,\n",
       "       4149106536, 1186101521, 2797218107, 3037131982, 3318840254,\n",
       "       2728963151, 1225557998,  474815304,  836968083, 4032332895,\n",
       "        873967037, 2435740399,  595054285, 4293344806, 3146763245,\n",
       "        553070609, 3431311520, 2962143472,   45739840,  888232289,\n",
       "       3576738052,  375385775, 3070861582, 3206682488,  301232705,\n",
       "       3390618901, 1149397057,  126376733, 1558337027, 2394397102,\n",
       "        909170274, 3092544815, 1549573868,   74362096,  296705275,\n",
       "       1786788484, 2339559410,  541364755,  578054035, 1290961397,\n",
       "       3507403351, 3626378823, 2590046173, 2531103911, 3930335850,\n",
       "       4279538066,  885529422,  503094175, 1296949955, 4060649824,\n",
       "        591476570,  225062516, 2270328677, 3924213064,  283769495,\n",
       "       1923223432, 2402348830,  933254150, 3567250794, 3220812076,\n",
       "       1231583715, 3527470719, 3726070257,  382699476, 1031744800,\n",
       "       2751259161, 3032660568, 1873406566, 1015082337, 2984845768,\n",
       "       2021815488,  234929925, 1165346925,  625291992, 1854234702,\n",
       "       1202707672,  949707300, 2645420333, 3989715311,  535752652,\n",
       "        348022530, 1664830066, 1771273850, 3311560100, 3499851405,\n",
       "        966611729, 4245450179, 4152307060, 3166816613, 3574136998,\n",
       "       3444344234,  937470733,  391988518,  707356579, 1205623648,\n",
       "       4241935007,  685570383,  635013453, 3403235610], dtype=uint32), 572, 1, -0.3072659620624485))"
      ]
     },
     "execution_count": 35,
     "metadata": {},
     "output_type": "execute_result"
    }
   ],
   "source": [
    "n_iter = 10000\n",
    "ndim = 1; nwalkers = 2\n",
    "\n",
    "pos_init0 = [alpha0_t]\n",
    "p0 = pos_init0*(1+0.001* np.random.randn(nwalkers, ndim))\n",
    "\n",
    "sampler = emcee.EnsembleSampler(nwalkers, ndim, which_likelihood, args=[which_data])\n",
    "\n",
    "sampler.run_mcmc(p0, n_iter, progress=True)"
   ]
  },
  {
   "cell_type": "code",
   "execution_count": 36,
   "id": "59f8c72c",
   "metadata": {},
   "outputs": [],
   "source": [
    "\"\"\"\n",
    "Collect the samples here.\n",
    "\"\"\"\n",
    "burnin = 1500\n",
    "\n",
    "chains = sampler.get_chain(discard=burnin, thin=1, flat=False)\n",
    "alpha_samples = chains[:,:,0].flatten()"
   ]
  },
  {
   "cell_type": "code",
   "execution_count": 37,
   "id": "c817adce",
   "metadata": {},
   "outputs": [
    {
     "data": {
      "image/png": "[encoded data removed]",
      "text/plain": [
       "<Figure size 432x288 with 1 Axes>"
      ]
     },
     "metadata": {
      "needs_background": "light"
     },
     "output_type": "display_data"
    }
   ],
   "source": [
    "plt.plot(alpha_samples, \"k\", alpha=0.3)\n",
    "plt.tight_layout()\n",
    "plt.show()"
   ]
  },
  {
   "cell_type": "code",
   "execution_count": 38,
   "id": "e432fe2d",
   "metadata": {},
   "outputs": [
    {
     "data": {
      "image/png": "[encoded data removed]",
      "text/plain": [
       "<Figure size 432x288 with 1 Axes>"
      ]
     },
     "metadata": {
      "needs_background": "light"
     },
     "output_type": "display_data"
    }
   ],
   "source": [
    "\"\"\"\n",
    "Posteriors with Fisher estimates\n",
    "\"\"\"\n",
    "\n",
    "\n",
    "_, bins_alpha, _= plt.hist(alpha_samples, 30, histtype = 'bar',\n",
    "                               color ='gainsboro', density=True, edgecolor='black', label='MCMC')\n",
    "\n",
    "plt.axvline(x=alpha0_t, label='True', c='orange',ls='--',lw=3)\n",
    "plt.xlabel('alpha')\n",
    "plt.ylabel('PDF')\n",
    "plt.legend()\n",
    "plt.show()"
   ]
  },
  {
   "cell_type": "code",
   "execution_count": null,
   "id": "7ee85d94",
   "metadata": {},
   "outputs": [],
   "source": []
  }
 ],
 "metadata": {
  "kernelspec": {
   "display_name": "Python 3",
   "language": "python",
   "name": "python3"
  },
  "language_info": {
   "codemirror_mode": {
    "name": "ipython",
    "version": 3
   },
   "file_extension": ".py",
   "mimetype": "text/x-python",
   "name": "python",
   "nbconvert_exporter": "python",
   "pygments_lexer": "ipython3",
   "version": "3.8.8"
  }
 },
 "nbformat": 4,
 "nbformat_minor": 5
}
