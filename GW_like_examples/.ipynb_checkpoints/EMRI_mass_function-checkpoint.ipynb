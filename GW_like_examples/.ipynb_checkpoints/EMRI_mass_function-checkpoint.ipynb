{
 "cells": [
  {
   "cell_type": "markdown",
   "id": "satellite-worth",
   "metadata": {},
   "source": [
    "# MCMC for the mass distribution of EMRIs"
   ]
  },
  {
   "cell_type": "code",
   "execution_count": 1,
   "id": "0c2728a8",
   "metadata": {},
   "outputs": [],
   "source": [
    "import numpy as np\n",
    "import matplotlib.pyplot as plt\n",
    "import emcee\n",
    "import corner\n",
    "import matplotlib as mpl\n",
    "import seaborn as sns\n",
    "\n",
    "\n",
    "%matplotlib inline\n",
    "np.random.seed(1234)\n",
    "\n",
    "\n",
    "params = {'axes.labelsize': 18,\n",
    "          'font.family': 'serif',\n",
    "          'font.serif': 'Computer Modern Raman',\n",
    "          'font.size': 18,\n",
    "          'axes.linewidth': 1,\n",
    "          'legend.fontsize': 15,\n",
    "          'xtick.labelsize': 18,\n",
    "          'xtick.top': True,\n",
    "          'ytick.labelsize': 18,\n",
    "          'ytick.right': True,\n",
    "          'axes.grid' : True,\n",
    "          'text.usetex': True,\n",
    "          'savefig.dpi' : 100,\n",
    "          'lines.markersize' : 14,\n",
    "          'axes.formatter.limits' : (-3,3)}\n",
    "\n",
    "mpl.rcParams.update(params)"
   ]
  },
  {
   "cell_type": "markdown",
   "id": "a3dce3e3",
   "metadata": {},
   "source": [
    "We fit a BH mass functionsource parameter given by the mass, $\\theta=M$. This example follows the EMRI mass function [e-Print: 1004.1921 (\"GTV\")]:\n",
    "\n",
    "$$\\frac{dN}{d\\ln M}=A_0\\big(\\frac{M}{M_*}\\big)^{\\alpha_0} \\quad\\Rightarrow\\quad p(M|\\lambda)=\\mathcal{N} M^{\\alpha_0-1}.$$\n",
    "\n",
    "We are interested in the $ \\lambda=\\alpha_0$ population parameter. We are assuming that the amplitude $A_0$ does not carry information about the system, but only about the rate of events."
   ]
  },
  {
   "cell_type": "code",
   "execution_count": 2,
   "id": "f7eda7ac",
   "metadata": {},
   "outputs": [],
   "source": [
    "\"\"\"\n",
    "Parameters\n",
    "\"\"\"\n",
    "\n",
    "N_obs = 10\n",
    "N_samp_per_obs = 10\n",
    "\n",
    "# Inputs to get the true ln M distribution.\n",
    "# Notice that M runs from 10^4 to 10^7 in GTV.\n",
    "\n",
    "alpha0_t = 0.00001 # Choose flat spectral profile.\n",
    "M_min=10000. ;   logM_min = np.log(M_min)\n",
    "M_max=10000000.; logM_max = np.log(M_max)"
   ]
  },
  {
   "cell_type": "code",
   "execution_count": 3,
   "id": "a581b72c",
   "metadata": {},
   "outputs": [],
   "source": [
    "def model(lnM,alpha):\n",
    "    \n",
    "    \"\"\"\n",
    "    Model for p(d|lambda).\n",
    "    \n",
    "    Input:\n",
    "    \n",
    "    - data    (The noisy generated data where we expect the masses to be.)\n",
    "    - alpha   (Spectral index of the mass distribution.)\n",
    "    \n",
    "    \"\"\"\n",
    "    \n",
    "    M = np.exp(lnM) # mass observations\n",
    "    norm  = alpha/(M_max**alpha-M_min**alpha)\n",
    "    \n",
    "    \n",
    "    return norm*M**(alpha-1)"
   ]
  },
  {
   "cell_type": "markdown",
   "id": "3a2a4309",
   "metadata": {},
   "source": [
    "The hyperlikelihood is (with $\\theta = \\ln M$ and $\\lambda=\\alpha$):\n",
    "\n",
    "$$\n",
    "p(d|\\lambda) = \\prod_{i=1}^{N_\\text{obs}} p(d_i|\\lambda) = \\prod_{i=1}^{N_\\text{obs}} \\int p(d_i|\\theta_i)p_\\text{pop}(\\theta_i|\\lambda) d\\theta_i,\n",
    "$$\n",
    "\n",
    "which can be rearranged through Bayes theorem to give\n",
    "\n",
    "$$\n",
    "    p(d|\\lambda) = \\prod_{i=1}^{N_\\text{obs}} \\int \\frac{p(\\theta_i|d_i) p(\\theta_i)}{p(d_i)}p_\\text{pop}(\\theta_i|\\lambda) d\\theta_i.\n",
    "$$\n",
    "\n",
    "The integral can be solved with Monte Carlo methods drawing $N_\\text{samp}$ samples from the posterior, $\\theta_{ij}\\sim p(\\theta_{i}|d_i)$ ($j$ indexing the samples),\n",
    "\n",
    "$$\n",
    "   p(d|\\lambda) = \\prod_{i=1}^{N_\\text{obs}} \\frac{1}{N_\\text{samp}}\\sum_{j=1}^{N_\\text{samp}} \\frac{p(\\theta_{ij})}{p(d_i)}p_\\text{pop}(\\theta_{ij}|\\lambda)\\quad \\Rightarrow \\quad \\log p(d|\\lambda)\\propto \\sum_{i=1}^{N_\\text{obs}}\\sum_{j=1}^{N_\\text{samp}} p_\\text{pop}(\\theta_{ij}|\\lambda)\\equiv \\sum_{i=1}^{N_\\text{obs}}\\sum_{j=1}^{N_\\text{samp}} p_{\\text{pop},ij}.\n",
    "$$\n",
    "\n",
    "In the last line, we ignore normalization factors and take the log of the hyperlikelihood. The final expression is coded up below."
   ]
  },
  {
   "cell_type": "code",
   "execution_count": 4,
   "id": "3a338510",
   "metadata": {},
   "outputs": [],
   "source": [
    "# Limits of (flat) hyperpriors.\n",
    "\n",
    "hyperprior_min = -10.0\n",
    "hyperprior_max = 10.0\n",
    "\n",
    "def log_likelihood_numerical(params, data):\n",
    "    \n",
    "     \n",
    "    support = ( # Here is the support limits for hyperpriors.\n",
    "                (params[0] >= hyperprior_min)&\n",
    "                (params[0] <= hyperprior_max)\n",
    "                )\n",
    "    \n",
    "    log_likelihood=0\n",
    "    \n",
    "    for i in np.arange(N_obs):\n",
    "        \n",
    "        ppop_ij = model(data[i,:],params[0])  # N_samp-long array for population model.\n",
    "        sum_ppop = np.sum(ppop_ij)            # internal sum of population model over N_samp.\n",
    "        log_likelihood += np.log(sum_ppop)    # add the samples drawn over N_obs in the loop.\n",
    "        \n",
    "    out = np.where(support,log_likelihood,-np.inf)  # Only retain likelihood if supported.\n",
    "    \n",
    "    \n",
    "    # Force nans away.\n",
    "    if np.isfinite(out):\n",
    "        return out\n",
    "    else:\n",
    "        return -np.inf"
   ]
  },
  {
   "cell_type": "markdown",
   "id": "9e4ab8e7",
   "metadata": {},
   "source": [
    "\n",
    "Starting from the probability density $p(M|\\lambda)=\\mathcal{N} M^{\\alpha_0-1}$, we can use the method of inversion to get the source parameter M. In particular, we define the cumulative density function,\n",
    "\n",
    "$u:=\\text{CDF}(M)= \\mathcal{N}\\int_{M_\\text{min}}^{M}M^{\\alpha_0-1}dM = \\alpha_0^{-1}\\mathcal{N}M^{\\alpha_0}\\big|_{M_\\text{min}}^{M}=\\alpha_0^{-1}\\mathcal{N}(M^{\\alpha_0}-M^{\\alpha_0}_{\\text{min}})$.\n",
    "\n",
    "The normalization factor can be calculated imposing that $\\lim_{M\\rightarrow M_{\\text{min}}} u=1$, which gives immediately:\n",
    "\n",
    "$\\mathcal{N}=\\frac{\\alpha_0}{M^{\\alpha_0}_\\text{max}-M^{\\alpha_0}_{\\text{min}}}$.\n",
    "\n",
    "Now, we get M in terms of $u$, \n",
    "\n",
    "$\\quad M^{\\alpha_0}=\\alpha_0\\mathcal{N}^{-1} u +M^{\\alpha_0}_{\\text{min}}\\quad\\Longrightarrow \\quad \\ln M =\\frac{1}{\\alpha_0} \\ln\\big[(M^{\\alpha_0}_\\text{max}-M^{\\alpha_0}_{\\text{min}})\\, u +M^{\\alpha_0}_{\\text{min}}\\big]\\quad $ (true parameter distribution)."
   ]
  },
  {
   "cell_type": "code",
   "execution_count": 5,
   "id": "5d5835dd",
   "metadata": {},
   "outputs": [],
   "source": [
    "sigma = 0.1\n",
    "noise = np.random.normal(0,sigma,size = N_obs)\n",
    "\n",
    "\"\"\"\n",
    "Data draws.\n",
    "\"\"\"\n",
    "\n",
    "u = np.random.uniform(size=N_obs)\n",
    "logM_t=alpha0_t**-1 * np.log((M_max**(alpha0_t)-M_min**(alpha0_t))*u+ M_min**(alpha0_t)*np.ones(N_obs))\n",
    "\n",
    "d_i = noise + logM_t  # observation model made of noise + true population.\n",
    "\n",
    "\n",
    "\"\"\"\n",
    "Data array. The structure of data is such that Data[i,j] is the jth posterior sample from event i.\n",
    "We assume the observation model p(d|theta) is a normal gaussian.\n",
    "\n",
    "\"\"\"\n",
    "\n",
    "data=np.zeros((N_obs,N_samp_per_obs))\n",
    "for i in np.arange(N_obs):\n",
    "    \n",
    "    data[i,:]=np.random.normal(d_i[i],sigma,size=N_samp_per_obs)"
   ]
  },
  {
   "cell_type": "code",
   "execution_count": 6,
   "id": "edd8f1cc",
   "metadata": {},
   "outputs": [
    {
     "data": {
      "text/plain": [
       "<matplotlib.legend.Legend at 0x7f828e6b27c0>"
      ]
     },
     "execution_count": 6,
     "metadata": {},
     "output_type": "execute_result"
    },
    {
     "data": {
      "image/png": "[encoded data removed]",
      "text/plain": [
       "<Figure size 432x360 with 1 Axes>"
      ]
     },
     "metadata": {
      "needs_background": "light"
     },
     "output_type": "display_data"
    }
   ],
   "source": [
    "fig, ax = plt.subplots(1,1,figsize=(6,5))\n",
    "plt.hist(d_i,density=True,label='Sample',bins=10,histtype = 'bar',\n",
    "                               color ='gainsboro', edgecolor='black')\n",
    "sns.kdeplot(np.array(d_i), label='KDE',c='k')\n",
    "plt.axvline(x=np.mean(logM_t), label='True mean', c='orange',ls='--',lw=3)\n",
    "\n",
    "plt.xlabel('$\\log(M_{obs}/M_\\odot)$')\n",
    "plt.ylabel('Density')\n",
    "plt.legend(loc='best')"
   ]
  },
  {
   "cell_type": "code",
   "execution_count": 7,
   "id": "e01dd79b",
   "metadata": {},
   "outputs": [],
   "source": [
    "\"\"\"\n",
    "Choose which data and likelihood.\n",
    "\"\"\"\n",
    "\n",
    "which_likelihood = log_likelihood_numerical\n",
    "which_data = data"
   ]
  },
  {
   "cell_type": "code",
   "execution_count": 8,
   "id": "8de984ec",
   "metadata": {},
   "outputs": [
    {
     "name": "stderr",
     "output_type": "stream",
     "text": [
      "100%|██████████| 10000/10000 [00:05<00:00, 1830.33it/s]\n"
     ]
    },
    {
     "data": {
      "text/plain": [
       "State([[0.08558792]\n",
       " [0.02829771]], log_prob=[-125.99312847 -126.0433441 ], blobs=None, random_state=('MT19937', array([ 824394086, 1889892037, 3469859681,  585915165,  897720474,\n",
       "         50715274,  767198831, 3392986079,  157088974, 1610652728,\n",
       "       1749124254, 1031039989, 3838248362, 3715833895,  793883121,\n",
       "       2118588693, 2572590176, 3109852015, 2367719648, 3417470990,\n",
       "       1122497101, 1438652954, 3695029240, 1840861267, 1693331745,\n",
       "        729944241, 2718361027,  663780418, 2098614712,  263306279,\n",
       "         23378227, 3419463747,   48107827, 1147102707, 2314460294,\n",
       "       2777968243, 4088895921, 3122805412,   97474714, 1030898772,\n",
       "       3733675973, 3735369429,  767756450, 2182211777, 3935688753,\n",
       "       3661528149, 3386183161, 2491423322, 2627861847,  938677377,\n",
       "       2752835675, 1427996021,  379220738, 3775774607, 3614758278,\n",
       "       2187049951, 3333173944,  770315423,  408906227,  247246547,\n",
       "       2252687676, 3199203724, 1753127741,  532963331, 3109538150,\n",
       "       2265273276,  781901121, 2792915898, 2263931140, 2182781177,\n",
       "       4081143336, 2037157927, 1540705322, 2240040295, 2422990579,\n",
       "       2652729514, 3630208324, 1491386040, 2483242779, 3736233799,\n",
       "       1268440343, 2706748962, 1246537035, 2328125827, 2331112091,\n",
       "       3614769678,  396997491,  169675233,  785857420, 4079729888,\n",
       "       1216217813, 4278486305, 1005430188, 3694035430,  809989250,\n",
       "       2937267419,  224090961,  440571494, 2251162531, 3660197213,\n",
       "       3352267925, 3498124754,  807707569, 1894111469, 2329897333,\n",
       "       3992474201,  742274259, 1953451072, 1376908337, 1557028927,\n",
       "       4165858564,  603625279, 2555909141, 3383361134, 3218511954,\n",
       "         63994734, 2480790321, 1843717157, 2088713985, 2326236231,\n",
       "       2134921124, 3199587952, 3161139660, 3715683749, 1703081123,\n",
       "       2638581961, 2692933773,  373172592,  951073431,  909902608,\n",
       "        417339221, 2463520652,  278601552, 3202619253,  870502309,\n",
       "        786260121,  803755926, 3689727149,  797477514, 3911976173,\n",
       "       2210827607, 2224600683, 2287846351,  961070690, 3596928290,\n",
       "       2710183242, 2301102468,  852565166,  142664404, 3812454471,\n",
       "       2723508840, 1000817285, 3260208276,  623970556, 2868674756,\n",
       "        605599972, 3730216851,  988039517,   36047782, 2079708414,\n",
       "       2281971718, 1609309848, 3167652040, 1210325864, 4151131341,\n",
       "       2325132378, 2962118068, 3792415456, 2587332379,  333732706,\n",
       "        321059746,  386199789, 2779689521,  959475923, 2627720442,\n",
       "       3343859837,  185622698, 2051507253, 4108436106,  569795284,\n",
       "       1806533947,  678125407, 4013383414,  671723971, 3862877454,\n",
       "       1016028573, 3354082761, 3043164497, 1010456114, 3720867593,\n",
       "       3875415451, 1141232391, 1848551594, 3794369944,  722267071,\n",
       "       1540593895, 1450399914, 4209180291, 1558675813, 1958926972,\n",
       "       4292196391,  730688413, 2818370746, 3489903266, 3093448229,\n",
       "       1975320995, 1225864003, 1570110910, 1147040714, 2777966417,\n",
       "       1565934699, 3799588846, 2812956930, 2503774520,  795588842,\n",
       "       1874217213, 1866908816, 2909032233, 3331928566, 4243990137,\n",
       "        732305075,  575099059, 3754388218, 3164770295, 1105008058,\n",
       "       2916687415, 1116920687, 4140722574,  752904753,  312953779,\n",
       "       3076851994, 3599439458,  815529450, 4106537830, 2647551721,\n",
       "       1217857596, 1781334756, 2050021047, 1491519900,  184237466,\n",
       "       2256830770,  830533439, 3136953272, 3246489650, 2660238576,\n",
       "       3044780998, 4174294163, 2749724072, 3288073220, 2529940621,\n",
       "       3530824194,  832328704, 2431638276, 3306755051,  555250884,\n",
       "        191302046, 3647972485, 1721017773,  308605800,  449931729,\n",
       "       3708146233,  427622393,  920175098, 2670815816, 3818326555,\n",
       "       1810976850, 3707173087, 3594488378, 3143324138, 1817981068,\n",
       "       2324803187,  488371195, 2648742818, 1310864399,  502005285,\n",
       "       3003075199, 2462496609, 3011052266, 2827017714, 4269233432,\n",
       "       3098264823, 2125870771,  703120857, 3801885641, 1213886850,\n",
       "           632463,  133111523,  455218729, 4002701254, 3811537269,\n",
       "       2055270506,   54363447, 2725072638, 3813433855, 4025952574,\n",
       "       3605189136, 1384960778,  619719392, 1837762599, 3921333161,\n",
       "        137635039, 2184071010, 3994005603,  317883546, 4027030517,\n",
       "        945713946, 4037136615, 2816045531, 1304567653, 1612797415,\n",
       "       2672622831,  126511292, 1134234854, 1349031870, 2910836558,\n",
       "       3596865998, 3200668116,  377161561, 2163881958,  975971328,\n",
       "       1342875358, 3484362512,  539121739, 2996087001,  312970069,\n",
       "       3407791659, 3850743606, 3145368625,  834659977, 1899206570,\n",
       "        340334767, 3509858176,  655391174, 3230647639, 3632927108,\n",
       "        801808189,  787487712, 2451236074, 3267344326, 1560818941,\n",
       "        905367972, 2998060696, 2470038349,  487662796, 2970253111,\n",
       "       3798951341, 3826646947, 2454762693, 1266743567,  479914574,\n",
       "       2539373471,  655289086, 4110816734, 3196836587, 3775846238,\n",
       "       1291525826,  925149389,  456948616, 2154143320, 2016395615,\n",
       "       2796599253,  469489591,  712566713,  617620115, 3352642366,\n",
       "        485314916, 2609436981,  863365344, 3259391901, 2782919436,\n",
       "        341792127, 1291463127, 2207643879, 2841351452, 2587853235,\n",
       "       3212612711, 2119358219, 1287801101, 2561529226, 2390980358,\n",
       "        428050279, 2851071687, 3761472885, 2631928787, 2390186932,\n",
       "        540193842, 4185668835,  241706700, 4269964399,   99072321,\n",
       "       2728791545, 3146132534, 1793175169, 3778312357, 2321892102,\n",
       "        444376621,  202314207, 3765201259, 1190046321, 3795639529,\n",
       "       1522024826, 1550621659, 4128951973, 4107987609,  264371996,\n",
       "       3493077936, 3395976391,  377884988, 2296092132, 4121347310,\n",
       "        311514274, 1149824387, 2879161065, 4259485747,  965753212,\n",
       "       3802212331, 1135350795, 3751138522, 1723696709, 2744161522,\n",
       "       3733586346, 2815783823, 3424133141, 4242826357, 3576099273,\n",
       "         77349221, 2776190381, 3733110678, 2370318908, 2876874600,\n",
       "       3589897898, 1128903555, 2210708450, 3336412923, 2957652909,\n",
       "       3013720911, 3178010334, 1276324137, 3254272319, 1919761143,\n",
       "       2464074116, 3190908225, 4154614227, 1678854746, 1196693567,\n",
       "       3265700278, 3591104386, 2004822005, 1917808267, 1546162558,\n",
       "        430544177,  397115726, 1381334347, 2083090697, 3375570098,\n",
       "       3864580567, 4120850452, 1566490882,  516178461, 2147894759,\n",
       "       1911243715,   61798462, 3281120749, 1050925367, 2531349906,\n",
       "       1350949038,  573672324, 1192722368, 4237038753, 3043112325,\n",
       "        396045966, 1655676323, 3248890791, 3618857951, 3240878962,\n",
       "        470746589, 1175397501, 2445932336, 1745970679, 3332291028,\n",
       "        529552975,   33038382, 1084340630, 2647349145, 2483105894,\n",
       "       2661462857, 4129952860,  394107943, 2077173749, 2043700546,\n",
       "        547034544, 2919035730, 3985384256, 4224386121, 2997121511,\n",
       "       3362765295,  552008136, 1773156496, 4099606393, 2159972417,\n",
       "       1966880226, 2024248425, 3708563513, 1727461824,  732110272,\n",
       "       2021979678, 2496830101, 1261532304, 1940327576, 1480411186,\n",
       "       3053328413, 2519506711, 1191271188, 3797235963, 4119080081,\n",
       "        369575641, 2630750215,  921853798, 3039540676, 1124282243,\n",
       "        429625109,  971874767, 4146007950, 4035657094,  845374969,\n",
       "        932020077, 1373201368, 3035721244, 2298839196, 2807002761,\n",
       "       1619184010, 2508154727, 4183163117,  177848767, 1392751725,\n",
       "         99970605, 1432292876, 2060608528, 4048264532, 1814920009,\n",
       "       2350995080, 1752386854, 2997255964,  673104073, 1130221829,\n",
       "       3766966804, 2722136523, 3554543086,  474695400, 2150757000,\n",
       "       1154578072, 2041030260,  109694964, 2618832787, 3031711992,\n",
       "        649300334, 2664344822,  818781146, 1983310771, 2085945124,\n",
       "       3732750962, 4159559794, 3287075208, 2161793353,  712596663,\n",
       "       2676244554, 4032887262,  991467056, 3966248844,  648785978,\n",
       "       3082960367, 2348853933,  843378395, 1116923045, 1619093976,\n",
       "       1902831166,  494317662, 3866206806,  687219544, 1180250487,\n",
       "         69199288, 3988894367,   33873543, 3284733250, 2639912601,\n",
       "       1001693384, 1082547606, 3066231801, 1812028900,  106490941,\n",
       "         88370772, 2800200979, 2481353303,  590278039,  512979231,\n",
       "        289070139, 1278335361, 3370725875, 3620777583, 1066908847,\n",
       "        599339990, 3387111889,    3394485, 3909572931,   81043894,\n",
       "       2103370467, 2955953566, 4265266824,  560701797, 4247249900,\n",
       "        333806614, 2349025046, 2852907511, 3716354725, 3129238971,\n",
       "       3819562118, 3036731471, 3187372446,  708315760, 3236621569,\n",
       "       1563177027, 2755814182, 2017742346,  345944428], dtype=uint32), 468, 0, 0.0))"
      ]
     },
     "execution_count": 8,
     "metadata": {},
     "output_type": "execute_result"
    }
   ],
   "source": [
    "n_iter = 10000\n",
    "ndim = 1; nwalkers = 2\n",
    "\n",
    "pos_init0 = [alpha0_t]\n",
    "p0 = pos_init0*(1+0.001* np.random.randn(nwalkers, ndim))\n",
    "\n",
    "sampler = emcee.EnsembleSampler(nwalkers, ndim, which_likelihood, args=[which_data])\n",
    "\n",
    "sampler.run_mcmc(p0, n_iter, progress=True)"
   ]
  },
  {
   "cell_type": "code",
   "execution_count": 9,
   "id": "59f8c72c",
   "metadata": {},
   "outputs": [],
   "source": [
    "\"\"\"\n",
    "Collect the samples here.\n",
    "\"\"\"\n",
    "burnin = 1500\n",
    "\n",
    "chains = sampler.get_chain(discard=burnin, thin=1, flat=False)\n",
    "alpha_samples = chains[:,:,0].flatten()"
   ]
  },
  {
   "cell_type": "code",
   "execution_count": 10,
   "id": "c817adce",
   "metadata": {},
   "outputs": [
    {
     "data": {
      "image/png": "[encoded data removed]",
      "text/plain": [
       "<Figure size 432x288 with 1 Axes>"
      ]
     },
     "metadata": {
      "needs_background": "light"
     },
     "output_type": "display_data"
    }
   ],
   "source": [
    "plt.plot(alpha_samples, \"k\", alpha=0.3)\n",
    "plt.tight_layout()\n",
    "plt.show()"
   ]
  },
  {
   "cell_type": "code",
   "execution_count": 11,
   "id": "e432fe2d",
   "metadata": {},
   "outputs": [
    {
     "data": {
      "image/png": "[encoded data removed]",
      "text/plain": [
       "<Figure size 432x288 with 1 Axes>"
      ]
     },
     "metadata": {
      "needs_background": "light"
     },
     "output_type": "display_data"
    }
   ],
   "source": [
    "\"\"\"\n",
    "Posteriors with Fisher estimates\n",
    "\"\"\"\n",
    "\n",
    "\n",
    "_, bins_alpha, _= plt.hist(alpha_samples, 30, histtype = 'bar',\n",
    "                               color ='gainsboro', density=True, edgecolor='black', label='MCMC')\n",
    "\n",
    "plt.axvline(x=alpha0_t, label='True', c='orange',ls='--',lw=3)\n",
    "plt.xlabel('alpha')\n",
    "plt.ylabel('PDF')\n",
    "plt.legend()\n",
    "plt.show()"
   ]
  },
  {
   "cell_type": "code",
   "execution_count": null,
   "id": "f2e31edd",
   "metadata": {},
   "outputs": [],
   "source": []
  }
 ],
 "metadata": {
  "kernelspec": {
   "display_name": "Python 3",
   "language": "python",
   "name": "python3"
  },
  "language_info": {
   "codemirror_mode": {
    "name": "ipython",
    "version": 3
   },
   "file_extension": ".py",
   "mimetype": "text/x-python",
   "name": "python",
   "nbconvert_exporter": "python",
   "pygments_lexer": "ipython3",
   "version": "3.8.8"
  }
 },
 "nbformat": 4,
 "nbformat_minor": 5
}
