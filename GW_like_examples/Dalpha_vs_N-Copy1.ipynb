{
 "cells": [
  {
   "cell_type": "markdown",
   "id": "ff82c071",
   "metadata": {},
   "source": [
    "# Plotting Fisher predictions for $\\Delta\\alpha$ against numerical simulations"
   ]
  },
  {
   "cell_type": "markdown",
   "id": "cbb24856",
   "metadata": {},
   "source": [
    "Import packages."
   ]
  },
  {
   "cell_type": "code",
   "execution_count": 1,
   "id": "b6aac897",
   "metadata": {},
   "outputs": [],
   "source": [
    "import numpy as np\n",
    "import matplotlib.pyplot as plt\n",
    "import matplotlib as mpl\n",
    "\n",
    "import arviz as az\n",
    "from sympy.parsing import mathematica as M\n",
    "\n",
    "\n",
    "%matplotlib inline\n",
    "np.random.seed(1234)\n",
    "\n",
    "az.style.use(\"arviz-darkgrid\")\n",
    "\n",
    "# Nice plotting options.\n",
    "\n",
    "params = {'axes.labelsize': 14,\n",
    "          'font.size': 14,\n",
    "          'axes.linewidth': 1,\n",
    "          'legend.fontsize': 11,\n",
    "          'xtick.labelsize': 14,\n",
    "          'xtick.top': True,\n",
    "          'ytick.labelsize': 14,\n",
    "          'ytick.right': True,\n",
    "          'axes.grid' : True,\n",
    "          'savefig.dpi' : 100,\n",
    "          'lines.markersize' : 4,\n",
    "          'axes.formatter.limits' : (-3,3)}\n",
    "\n",
    "mpl.rcParams.update(params)\n",
    "\n",
    "# LaTeX rendering.\n",
    "\n",
    "from matplotlib import rc\n",
    "rc('text', usetex=True)"
   ]
  },
  {
   "cell_type": "markdown",
   "id": "5a88564b",
   "metadata": {},
   "source": [
    "We define some true parameters that we'll need."
   ]
  },
  {
   "cell_type": "code",
   "execution_count": 2,
   "id": "6cdc28eb",
   "metadata": {},
   "outputs": [],
   "source": [
    "\"\"\"\n",
    "Parameters\n",
    "\"\"\"\n",
    "\n",
    "# Inputs to get the true ln M distribution.\n",
    "# Notice that M runs from 10^4 to 10^7 in GTV.\n",
    "\n",
    "alpha0_t = 0.00001 # Choose flat spectral profile.\n",
    "M_min=10000. \n",
    "M_max=10000000."
   ]
  },
  {
   "cell_type": "markdown",
   "id": "6ab2a52f",
   "metadata": {},
   "source": [
    "### Fisher predictions"
   ]
  },
  {
   "cell_type": "markdown",
   "id": "ef9071e8",
   "metadata": {},
   "source": [
    "For this exercise, we use the expression for $\\Delta\\alpha$ obtained retaining the first term in the integral only, when no selection effects are present."
   ]
  },
  {
   "cell_type": "code",
   "execution_count": 3,
   "id": "75bd288e",
   "metadata": {},
   "outputs": [
    {
     "name": "stdout",
     "output_type": "stream",
     "text": [
      "Analytical expression for the variance on the spectral index:\n"
     ]
    },
    {
     "data": {
      "text/latex": [
       "$\\displaystyle \\sqrt{\\frac{1}{Nobs \\left(- \\frac{Mmax^{\\alpha} Mmin^{\\alpha} \\left(\\log{\\left(Mmax \\right)} - \\log{\\left(Mmin \\right)}\\right)^{2}}{\\left(Mmax^{\\alpha} - Mmin^{\\alpha}\\right)^{2}} + \\frac{1}{\\alpha^{2}}\\right)}}$"
      ],
      "text/plain": [
       "sqrt(1/(Nobs*(-Mmax**alpha*Mmin**alpha*(log(Mmax) - log(Mmin))**2/(Mmax**alpha - Mmin**alpha)**2 + alpha**(-2))))"
      ]
     },
     "execution_count": 3,
     "metadata": {},
     "output_type": "execute_result"
    }
   ],
   "source": [
    "from sympy.parsing import mathematica as M\n",
    "Dalpha_simpified = M.mathematica('Sqrt[1/(Nobs*(alpha^(-2) - (Mmax^alpha*Mmin^alpha*(Log[Mmax] - Log[Mmin])^2)/(Mmax^alpha - Mmin^alpha)^2))]')\n",
    "\n",
    "def Dalpha(Nobs,alpha,Mmin,Mmax):\n",
    "    \n",
    "    out = Dalpha_simpified.subs([('Nobs',Nobs),('alpha',alpha),('Mmax',Mmax),('Mmin',Mmin)]).evalf()\n",
    "    \n",
    "    return float(out)\n",
    "\n",
    "print('Analytical expression for the variance on the spectral index:')\n",
    "Dalpha_simpified"
   ]
  },
  {
   "cell_type": "markdown",
   "id": "41756aa4",
   "metadata": {},
   "source": [
    "We create a list of $\\Delta\\alpha$ as a function of $N_\\text{obs}$"
   ]
  },
  {
   "cell_type": "code",
   "execution_count": 4,
   "id": "6e85d35f",
   "metadata": {},
   "outputs": [],
   "source": [
    "# List without selection effects.\n",
    "\n",
    "Da_list =[]\n",
    "for N in range(1,110):\n",
    "    Da_list.append(Dalpha(N,alpha0_t,M_min,M_max))\n",
    "    \n",
    "# List with selection effects.\n",
    "\n",
    "Da_list_sel =[]\n",
    "for N_det in range(1,110):\n",
    "    Da_list_sel.append(np.sqrt(106/(N_det*86.39531326294203)))"
   ]
  },
  {
   "cell_type": "markdown",
   "id": "c84efb26",
   "metadata": {},
   "source": [
    "### MCMC analyses without selection effects"
   ]
  },
  {
   "cell_type": "markdown",
   "id": "c1bed986",
   "metadata": {},
   "source": [
    "Generate a set of $N_{\\rm obs}$ observations, and then split this in such a way to have repetitions of $M_{\\rm obs}$ observations. "
   ]
  },
  {
   "cell_type": "code",
   "execution_count": 5,
   "id": "96654e7b",
   "metadata": {},
   "outputs": [],
   "source": [
    "import emcee\n",
    "import seaborn as sns"
   ]
  },
  {
   "cell_type": "code",
   "execution_count": 6,
   "id": "b25bfdc8",
   "metadata": {},
   "outputs": [],
   "source": [
    "\"\"\"\n",
    "Parameters\n",
    "\"\"\"\n",
    "\n",
    "N_obs = 200\n",
    "N_samp_per_obs = 10\n",
    "\n",
    "logM_min = np.log(M_min)\n",
    "logM_max = np.log(M_max)"
   ]
  },
  {
   "cell_type": "code",
   "execution_count": 7,
   "id": "ccfc16da",
   "metadata": {},
   "outputs": [],
   "source": [
    "def model(lnM,alpha):\n",
    "    \n",
    "    M = np.exp(lnM) # mass observations\n",
    "    norm  = alpha/(M_max**alpha-M_min**alpha)\n",
    "    \n",
    "    return norm*M**(alpha-1)"
   ]
  },
  {
   "cell_type": "code",
   "execution_count": 8,
   "id": "ffb60c64",
   "metadata": {},
   "outputs": [],
   "source": [
    "sigma = 0.1\n",
    "noise = np.random.normal(0,sigma,size = N_obs)\n",
    "\n",
    "\"\"\"\n",
    "Data draws before chunks.\n",
    "\"\"\"\n",
    "u = np.random.uniform(size=N_obs)\n",
    "logM_t=alpha0_t**-1 * np.log((M_max**(alpha0_t)-M_min**(alpha0_t))*u+ M_min**(alpha0_t)*np.ones(N_obs))\n",
    "d_i = noise + logM_t "
   ]
  },
  {
   "cell_type": "markdown",
   "id": "1b03ec1a",
   "metadata": {},
   "source": [
    "Function to get the MCMC widths without selection effects given some data."
   ]
  },
  {
   "cell_type": "code",
   "execution_count": 9,
   "id": "10d95ef8",
   "metadata": {},
   "outputs": [],
   "source": [
    "# Limits of (flat) hyperpriors.\n",
    "\n",
    "N_samps_likelihoods = 10\n",
    "N_samps_selfunction = 10000\n",
    "\n",
    "# Limits of (flat) hyperpriors.\n",
    "\n",
    "hyperprior_min = -100.0\n",
    "hyperprior_max = 100.0\n",
    "\n",
    "# Iterations, ndims and walkers.\n",
    "\n",
    "n_iter = 10000\n",
    "ndim = 1; nwalkers = 4\n",
    "\n",
    "burnin = 1500\n",
    "pos_init0 = [alpha0_t]\n"
   ]
  },
  {
   "cell_type": "code",
   "execution_count": 10,
   "id": "7a5e6447",
   "metadata": {},
   "outputs": [],
   "source": [
    "from MCMC_PowerLaw   import * # Import utils to perform the MCMC analysis.\n",
    "\n",
    "\n",
    "def data_chunks(M_obs):\n",
    "    \n",
    "    #Generate data\n",
    "    d_i = noise + logM_t \n",
    "    #Prepare chunks of data by dividing full length by M_obs\n",
    "    chunked_data = [d_i[i:i + M_obs] for i in range(0, len(d_i), M_obs)]\n",
    "    \n",
    "    data_list = []\n",
    "    for element in chunked_data:\n",
    "        \n",
    "        data=np.zeros((M_obs,N_samp_per_obs))\n",
    "        for i in np.arange(M_obs):\n",
    "            data[i,:]=np.random.normal(element[i],sigma,size=N_samp_per_obs)\n",
    "            \n",
    "    \n",
    "        data_list.append(data)\n",
    "    \n",
    "    return data_list\n",
    "\n",
    "def MCMC_width_nosel(data,M_obs):\n",
    "    p0 = pos_init0*(1+0.001* np.random.randn(nwalkers, ndim))\n",
    "\n",
    "    sampler = emcee.EnsembleSampler(nwalkers, ndim, log_likelihood_nosel,\n",
    "                                args=[data,hyperprior_min,hyperprior_max,\n",
    "                                      M_max, M_min, sigma, M_obs]\n",
    "                               )\n",
    "    run = sampler.run_mcmc(p0, n_iter, progress=True)\n",
    "    chains = sampler.get_chain(discard=burnin, thin=1, flat=False)\n",
    "    alpha_samples = chains[:,:,0].flatten()\n",
    "    print('Error:',np.sqrt(np.var(alpha_samples)))\n",
    "    \n",
    "    return np.sqrt(np.var(alpha_samples))"
   ]
  },
  {
   "cell_type": "code",
   "execution_count": 11,
   "id": "201624d1",
   "metadata": {},
   "outputs": [
    {
     "name": "stderr",
     "output_type": "stream",
     "text": [
      "100%|████████████████████████████████████| 10000/10000 [00:45<00:00, 220.97it/s]\n",
      "  0%|▏                                      | 46/10000 [00:00<00:44, 223.41it/s]"
     ]
    },
    {
     "name": "stdout",
     "output_type": "stream",
     "text": [
      "Error: 0.05008328158831042\n"
     ]
    },
    {
     "name": "stderr",
     "output_type": "stream",
     "text": [
      "100%|████████████████████████████████████| 10000/10000 [00:46<00:00, 215.83it/s]"
     ]
    },
    {
     "name": "stdout",
     "output_type": "stream",
     "text": [
      "Error: 0.05066587975341191\n"
     ]
    },
    {
     "name": "stderr",
     "output_type": "stream",
     "text": [
      "\n"
     ]
    }
   ],
   "source": [
    "M_obs = 100\n",
    "\n",
    "widths_list = []\n",
    "for data in data_chunks(M_obs):\n",
    "    \n",
    "    width = MCMC_width_nosel(data,M_obs)\n",
    "    widths_list.append(width)"
   ]
  },
  {
   "cell_type": "code",
   "execution_count": 12,
   "id": "2b842111",
   "metadata": {},
   "outputs": [
    {
     "data": {
      "text/plain": [
       "[0.05008328158831042, 0.05066587975341191]"
      ]
     },
     "execution_count": 12,
     "metadata": {},
     "output_type": "execute_result"
    }
   ],
   "source": [
    "widths_list"
   ]
  },
  {
   "cell_type": "markdown",
   "id": "b1c3b963",
   "metadata": {},
   "source": [
    "### Saved files"
   ]
  },
  {
   "cell_type": "markdown",
   "id": "ee9e92af",
   "metadata": {},
   "source": [
    "We plot this against a scatter plot of widths obtained through MCMC analyses in the case without selection effects.\n",
    "\n",
    "\n",
    "The MCMC results without selection effects come from [this code](https://github.com/aantonelli94/PopFisher/blob/main/GW_like_examples/tutorial_EMRI_mass_function_no_selectioneffects.ipynb).\n",
    "\n",
    "The MCMC results with selection effects come from [this other code](https://github.com/aantonelli94/PopFisher/blob/main/GW_like_examples/EMRI_mass_function_with_selectioneffects.ipynb)."
   ]
  },
  {
   "cell_type": "code",
   "execution_count": 13,
   "id": "848fb591",
   "metadata": {},
   "outputs": [
    {
     "data": {
      "image/png": "[encoded data removed]",
      "text/plain": [
       "<Figure size 500x300 with 1 Axes>"
      ]
     },
     "metadata": {},
     "output_type": "display_data"
    }
   ],
   "source": [
    "# Obtained without selection effects with tutorial code.\n",
    "N_mcmc_nosel = [2, 5, 8, 10, 20, 30, 40, 50, 60, 70, 80, 90, 100]\n",
    "widths_mcmc_nosel = [0.4241413342171043, 0.2564915824737737, 0.19752499334909973, 0.16086199517143002, \n",
    "                     0.1098834936814631, 0.09283415521246546, 0.08025321201940053, 0.07209979572140537, \n",
    "                     0.0618071927857337, 0.0610174386988298, 0.05645250676195151, 0.052183028854714396,  \n",
    "                     0.05063649210478289]\n",
    "\n",
    "\n",
    "# Obtained with selection effects.\n",
    "\n",
    "N_det_sel = [2, 5, 9, 14, 23, 34, 39, 46, 63, 87, 106]\n",
    "widths_det_sel = [0.9912795643418902, 0.6374698584526438, 0.39456644966942866, 0.32650555806905796, \n",
    "                  0.2418621186948156, 0.1974904356207184, 0.18335640153054675, 0.17326842742425752, \n",
    "                  0.14698104815678012, 0.12609283240058017, 0.11159709023169541]\n",
    "\n",
    "\n",
    "## Plot\n",
    "\n",
    "fig, ax = plt.subplots(1,1,figsize=(5,3))\n",
    "\n",
    "# MCMC results\n",
    "plt.scatter(N_mcmc_nosel,widths_mcmc_nosel,c='red', marker='+', lw=3, label='MCMC (no selection effects)')\n",
    "plt.scatter(N_det_sel,widths_det_sel,c='black', marker='+', lw=3, label='MCMC (with selection effects)')\n",
    "\n",
    "# Fisher predictions\n",
    "plt.plot(Da_list,c='orange',lw=2, label='Fisher (no selection effects)')\n",
    "plt.plot(Da_list_sel,c='orange', ls='--',lw=2, label='Fisher (with selection effects)')\n",
    "\n",
    "plt.xlabel('$N$')\n",
    "plt.ylabel('$\\Delta\\\\alpha$')\n",
    "plt.legend(loc='best')\n",
    "\n",
    "plt.savefig('Da_vs_N.pdf')"
   ]
  },
  {
   "cell_type": "markdown",
   "id": "69933045",
   "metadata": {},
   "source": [
    "We note that the Fisher prediction agrees remarkably well for sufficiently high observations $N\\geq 10$ without selection effects, even if we are only retaining the first term in the Fisher matrix. \n",
    "\n",
    "A similar level of agreement is there also in the case with selection effects."
   ]
  }
 ],
 "metadata": {
  "kernelspec": {
   "display_name": "Python 3 (ipykernel)",
   "language": "python",
   "name": "python3"
  },
  "language_info": {
   "codemirror_mode": {
    "name": "ipython",
    "version": 3
   },
   "file_extension": ".py",
   "mimetype": "text/x-python",
   "name": "python",
   "nbconvert_exporter": "python",
   "pygments_lexer": "ipython3",
   "version": "3.8.8"
  }
 },
 "nbformat": 4,
 "nbformat_minor": 5
}
