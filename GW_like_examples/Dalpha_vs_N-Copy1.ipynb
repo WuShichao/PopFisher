{
 "cells": [
  {
   "cell_type": "markdown",
   "id": "ff82c071",
   "metadata": {},
   "source": [
    "# Plotting Fisher predictions for $\\Delta\\alpha$ against numerical simulations"
   ]
  },
  {
   "cell_type": "markdown",
   "id": "cbb24856",
   "metadata": {},
   "source": [
    "Import packages."
   ]
  },
  {
   "cell_type": "code",
   "execution_count": 1,
   "id": "b6aac897",
   "metadata": {},
   "outputs": [],
   "source": [
    "import numpy as np\n",
    "import matplotlib.pyplot as plt\n",
    "import matplotlib as mpl\n",
    "\n",
    "import emcee\n",
    "import seaborn as sns\n",
    "\n",
    "import arviz as az\n",
    "from sympy.parsing import mathematica as M\n",
    "\n",
    "\n",
    "%matplotlib inline\n",
    "np.random.seed(1234)\n",
    "\n",
    "az.style.use(\"arviz-darkgrid\")\n",
    "\n",
    "# Nice plotting options.\n",
    "\n",
    "params = {'axes.labelsize': 14,\n",
    "          'font.size': 14,\n",
    "          'axes.linewidth': 1,\n",
    "          'legend.fontsize': 11,\n",
    "          'xtick.labelsize': 14,\n",
    "          'xtick.top': True,\n",
    "          'ytick.labelsize': 14,\n",
    "          'ytick.right': True,\n",
    "          'axes.grid' : True,\n",
    "          'savefig.dpi' : 100,\n",
    "          'lines.markersize' : 4,\n",
    "          'axes.formatter.limits' : (-3,3)}\n",
    "\n",
    "mpl.rcParams.update(params)\n",
    "\n",
    "# LaTeX rendering.\n",
    "\n",
    "from matplotlib import rc\n",
    "rc('text', usetex=True)"
   ]
  },
  {
   "cell_type": "markdown",
   "id": "5a88564b",
   "metadata": {},
   "source": [
    "We define some true parameters that we'll need."
   ]
  },
  {
   "cell_type": "code",
   "execution_count": 2,
   "id": "6cdc28eb",
   "metadata": {},
   "outputs": [],
   "source": [
    "\"\"\"\n",
    "Parameters\n",
    "\"\"\"\n",
    "\n",
    "# Inputs to get the true ln M distribution.\n",
    "# Notice that M runs from 10^4 to 10^7 in GTV.\n",
    "\n",
    "alpha0_t = 0.00001 # Choose flat spectral profile.\n",
    "M_min=10000. \n",
    "M_max=10000000.\n",
    "logM_min = np.log(M_min)\n",
    "logM_max = np.log(M_max)\n",
    "\n",
    "\n",
    "N_obs = 60\n",
    "N_samp_per_obs = 10"
   ]
  },
  {
   "cell_type": "markdown",
   "id": "6ab2a52f",
   "metadata": {},
   "source": [
    "### Fisher predictions"
   ]
  },
  {
   "cell_type": "markdown",
   "id": "ef9071e8",
   "metadata": {},
   "source": [
    "For this exercise, we use the expression for $\\Delta\\alpha$ obtained retaining the first term in the integral only, when no selection effects are present."
   ]
  },
  {
   "cell_type": "code",
   "execution_count": 3,
   "id": "75bd288e",
   "metadata": {},
   "outputs": [
    {
     "name": "stdout",
     "output_type": "stream",
     "text": [
      "Analytical expression for the variance on the spectral index:\n"
     ]
    },
    {
     "data": {
      "text/latex": [
       "$\\displaystyle \\sqrt{\\frac{1}{Nobs \\left(- \\frac{Mmax^{\\alpha} Mmin^{\\alpha} \\left(\\log{\\left(Mmax \\right)} - \\log{\\left(Mmin \\right)}\\right)^{2}}{\\left(Mmax^{\\alpha} - Mmin^{\\alpha}\\right)^{2}} + \\frac{1}{\\alpha^{2}}\\right)}}$"
      ],
      "text/plain": [
       "sqrt(1/(Nobs*(-Mmax**alpha*Mmin**alpha*(log(Mmax) - log(Mmin))**2/(Mmax**alpha - Mmin**alpha)**2 + alpha**(-2))))"
      ]
     },
     "execution_count": 3,
     "metadata": {},
     "output_type": "execute_result"
    }
   ],
   "source": [
    "from sympy.parsing import mathematica as M\n",
    "Dalpha_simpified = M.mathematica('Sqrt[1/(Nobs*(alpha^(-2) - (Mmax^alpha*Mmin^alpha*(Log[Mmax] - Log[Mmin])^2)/(Mmax^alpha - Mmin^alpha)^2))]')\n",
    "\n",
    "def Dalpha(Nobs,alpha,Mmin,Mmax):\n",
    "    \n",
    "    out = Dalpha_simpified.subs([('Nobs',Nobs),('alpha',alpha),('Mmax',Mmax),('Mmin',Mmin)]).evalf()\n",
    "    \n",
    "    return float(out)\n",
    "\n",
    "print('Analytical expression for the variance on the spectral index:')\n",
    "Dalpha_simpified"
   ]
  },
  {
   "cell_type": "markdown",
   "id": "41756aa4",
   "metadata": {},
   "source": [
    "We create a list of $\\Delta\\alpha$ as a function of $N_\\text{obs}$"
   ]
  },
  {
   "cell_type": "code",
   "execution_count": 4,
   "id": "6e85d35f",
   "metadata": {},
   "outputs": [],
   "source": [
    "# List without selection effects.\n",
    "\n",
    "Da_list =[]\n",
    "for N in range(1,33 ):\n",
    "    Da_list.append(Dalpha(N,alpha0_t,M_min,M_max))\n",
    "    \n",
    "# List with selection effects: we estimate this\n",
    "# rescaling the error obtained with N=106, e.g. that 86.39..\n",
    "# WARNING: this is based on a run with dth = 13.\n",
    "\n",
    "Da_list_sel =[]\n",
    "for N_det in range(1,33):\n",
    "    Da_list_sel.append(np.sqrt(106/(N_det*86.39531326294203)))"
   ]
  },
  {
   "cell_type": "markdown",
   "id": "c84efb26",
   "metadata": {},
   "source": [
    "### MCMC analyses without selection effects"
   ]
  },
  {
   "cell_type": "markdown",
   "id": "c1bed986",
   "metadata": {},
   "source": [
    "Generate a set of $N_{\\rm obs}$ observations, and then split this in such a way to have repetitions of $M_{\\rm obs}$ observations. "
   ]
  },
  {
   "cell_type": "code",
   "execution_count": 5,
   "id": "ccfc16da",
   "metadata": {},
   "outputs": [],
   "source": [
    "def model(lnM,alpha):\n",
    "    \n",
    "    M = np.exp(lnM) # mass observations\n",
    "    norm  = alpha/(M_max**alpha-M_min**alpha)\n",
    "    \n",
    "    return norm*M**(alpha-1)"
   ]
  },
  {
   "cell_type": "code",
   "execution_count": 6,
   "id": "ffb60c64",
   "metadata": {},
   "outputs": [],
   "source": [
    "sigma = 0.1\n",
    "noise = np.random.normal(0,sigma,size = N_obs)\n",
    "\n",
    "\"\"\"\n",
    "Data draws before chunks.\n",
    "\"\"\"\n",
    "u = np.random.uniform(size=N_obs)\n",
    "logM_t=alpha0_t**-1 * np.log((M_max**(alpha0_t)-M_min**(alpha0_t))*u+ M_min**(alpha0_t)*np.ones(N_obs))\n",
    "d_i = noise + logM_t "
   ]
  },
  {
   "cell_type": "markdown",
   "id": "1b03ec1a",
   "metadata": {},
   "source": [
    "Function to get the MCMC widths without selection effects given some data."
   ]
  },
  {
   "cell_type": "code",
   "execution_count": 7,
   "id": "10d95ef8",
   "metadata": {},
   "outputs": [],
   "source": [
    "# Limits of (flat) hyperpriors.\n",
    "\n",
    "N_samps_likelihoods = 10\n",
    "N_samps_selfunction = 10000\n",
    "\n",
    "# Limits of (flat) hyperpriors.\n",
    "\n",
    "hyperprior_min = -100.0\n",
    "hyperprior_max = 100.0\n",
    "\n",
    "# Iterations, ndims and walkers.\n",
    "\n",
    "n_iter = 10000\n",
    "ndim = 1; nwalkers = 4\n",
    "\n",
    "burnin = 1500\n",
    "pos_init0 = [alpha0_t]\n"
   ]
  },
  {
   "cell_type": "code",
   "execution_count": 8,
   "id": "7a5e6447",
   "metadata": {},
   "outputs": [],
   "source": [
    "from MCMC_PowerLaw   import * # Import utils to perform the MCMC analysis.\n",
    "\n",
    "\n",
    "def data_chunks(d_i, M_obs):\n",
    "    \n",
    "    #Generate data\n",
    "    #d_i = noise + logM_t \n",
    "    #Prepare chunks of data by dividing full length by M_obs\n",
    "    chunked_data = [d_i[i:i + M_obs] for i in range(0, len(d_i), M_obs)]\n",
    "    \n",
    "    data_list = []\n",
    "    for element in chunked_data:\n",
    "        \n",
    "        data=np.zeros((M_obs,N_samp_per_obs))\n",
    "        for i in np.arange(M_obs):\n",
    "            data[i,:]=np.random.normal(element[i],sigma,size=N_samp_per_obs)\n",
    "            \n",
    "    \n",
    "        data_list.append(data)\n",
    "    \n",
    "    return data_list\n",
    "\n",
    "def MCMC_width_nosel(data,M_obs):\n",
    "    \n",
    "    \"\"\"\n",
    "    Function that calculates the expected error from an MCMC run. \n",
    "    Takes as input the chunked data (for the argument of sampler) and the \n",
    "    number of observations in each chunked data.\n",
    "    \"\"\"\n",
    "    \n",
    "    p0 = pos_init0*(1+0.001* np.random.randn(nwalkers, ndim))\n",
    "\n",
    "    sampler = emcee.EnsembleSampler(nwalkers, ndim, log_likelihood_nosel,\n",
    "                                args=[data,hyperprior_min,hyperprior_max,\n",
    "                                      M_max, M_min, sigma, M_obs]\n",
    "                               )\n",
    "    run = sampler.run_mcmc(p0, n_iter, progress=True)\n",
    "    chains = sampler.get_chain(discard=burnin, thin=1, flat=False)\n",
    "    alpha_samples = chains[:,:,0].flatten()\n",
    "    \n",
    "    return np.sqrt(np.var(alpha_samples))\n",
    "\n",
    "\n",
    "def MCMC_errorbars(data, M_obs):\n",
    "    \n",
    "    \"\"\"\n",
    "    Function to return a list of number of detections and MCMC widths to \n",
    "    take the standard deviation from. \n",
    "    \n",
    "    These are inputs in the error bar plots.\n",
    "    \"\"\"\n",
    "    widths_list = []\n",
    "    \n",
    "    for data in data_chunks(d_i, M_obs):\n",
    "    \n",
    "        width = MCMC_width_nosel(data,M_obs)\n",
    "        widths_list.append(width)\n",
    "        \n",
    "    return [M_obs for i in range(len(widths_list))], widths_list"
   ]
  },
  {
   "cell_type": "code",
   "execution_count": 9,
   "id": "15cb3f4d",
   "metadata": {},
   "outputs": [
    {
     "name": "stderr",
     "output_type": "stream",
     "text": [
      "100%|████████████████████████████████████| 10000/10000 [00:16<00:00, 606.32it/s]\n",
      "100%|████████████████████████████████████| 10000/10000 [00:16<00:00, 601.93it/s]\n",
      "100%|████████████████████████████████████| 10000/10000 [00:11<00:00, 881.33it/s]\n",
      "100%|████████████████████████████████████| 10000/10000 [00:11<00:00, 859.30it/s]\n",
      "100%|████████████████████████████████████| 10000/10000 [00:12<00:00, 796.42it/s]\n",
      "100%|████████████████████████████████████| 10000/10000 [00:11<00:00, 871.68it/s]\n",
      "100%|████████████████████████████████████| 10000/10000 [00:10<00:00, 969.14it/s]\n",
      "100%|███████████████████████████████████| 10000/10000 [00:09<00:00, 1002.16it/s]\n",
      "100%|███████████████████████████████████| 10000/10000 [00:09<00:00, 1098.53it/s]\n",
      "100%|███████████████████████████████████| 10000/10000 [00:08<00:00, 1198.37it/s]\n",
      "100%|███████████████████████████████████| 10000/10000 [00:07<00:00, 1304.48it/s]\n",
      "100%|███████████████████████████████████| 10000/10000 [00:07<00:00, 1377.24it/s]\n",
      "100%|███████████████████████████████████| 10000/10000 [00:07<00:00, 1421.13it/s]\n",
      "100%|███████████████████████████████████| 10000/10000 [00:07<00:00, 1378.59it/s]\n",
      "100%|███████████████████████████████████| 10000/10000 [00:07<00:00, 1381.19it/s]\n",
      "100%|███████████████████████████████████| 10000/10000 [00:05<00:00, 1828.65it/s]\n",
      "100%|███████████████████████████████████| 10000/10000 [00:05<00:00, 1920.47it/s]\n",
      "100%|███████████████████████████████████| 10000/10000 [00:05<00:00, 1934.93it/s]\n",
      "100%|███████████████████████████████████| 10000/10000 [00:05<00:00, 1797.62it/s]\n",
      "100%|███████████████████████████████████| 10000/10000 [00:05<00:00, 1764.77it/s]\n",
      "100%|███████████████████████████████████| 10000/10000 [00:05<00:00, 1816.74it/s]\n",
      "100%|███████████████████████████████████| 10000/10000 [00:05<00:00, 1726.11it/s]\n",
      "100%|███████████████████████████████████| 10000/10000 [00:05<00:00, 1980.25it/s]\n",
      "100%|███████████████████████████████████| 10000/10000 [00:05<00:00, 1827.51it/s]\n",
      "100%|███████████████████████████████████| 10000/10000 [00:05<00:00, 1767.20it/s]\n",
      "100%|███████████████████████████████████| 10000/10000 [00:05<00:00, 1777.36it/s]\n",
      "100%|███████████████████████████████████| 10000/10000 [00:05<00:00, 1846.37it/s]\n",
      "100%|███████████████████████████████████| 10000/10000 [00:04<00:00, 2370.54it/s]\n",
      "100%|███████████████████████████████████| 10000/10000 [00:04<00:00, 2284.31it/s]\n",
      "100%|███████████████████████████████████| 10000/10000 [00:04<00:00, 2343.01it/s]\n",
      "100%|███████████████████████████████████| 10000/10000 [00:04<00:00, 2403.39it/s]\n",
      "100%|███████████████████████████████████| 10000/10000 [00:04<00:00, 2405.85it/s]\n",
      "100%|███████████████████████████████████| 10000/10000 [00:04<00:00, 2485.06it/s]\n",
      "100%|███████████████████████████████████| 10000/10000 [00:04<00:00, 2405.24it/s]\n",
      "100%|███████████████████████████████████| 10000/10000 [00:04<00:00, 2397.11it/s]\n",
      "100%|███████████████████████████████████| 10000/10000 [00:04<00:00, 2288.60it/s]\n",
      "100%|███████████████████████████████████| 10000/10000 [00:04<00:00, 2137.05it/s]\n",
      "100%|███████████████████████████████████| 10000/10000 [00:04<00:00, 2403.77it/s]\n",
      "100%|███████████████████████████████████| 10000/10000 [00:04<00:00, 2493.96it/s]\n",
      "100%|███████████████████████████████████| 10000/10000 [00:03<00:00, 2523.90it/s]\n",
      "100%|███████████████████████████████████| 10000/10000 [00:03<00:00, 2576.72it/s]\n",
      "100%|███████████████████████████████████| 10000/10000 [00:03<00:00, 2589.55it/s]\n",
      "100%|███████████████████████████████████| 10000/10000 [00:03<00:00, 2575.94it/s]\n",
      "100%|███████████████████████████████████| 10000/10000 [00:03<00:00, 2592.36it/s]\n",
      "100%|███████████████████████████████████| 10000/10000 [00:03<00:00, 2546.39it/s]\n",
      "100%|███████████████████████████████████| 10000/10000 [00:03<00:00, 2558.05it/s]\n",
      "100%|███████████████████████████████████| 10000/10000 [00:04<00:00, 2386.82it/s]\n",
      "100%|███████████████████████████████████| 10000/10000 [00:04<00:00, 2303.78it/s]\n",
      "100%|███████████████████████████████████| 10000/10000 [00:03<00:00, 2506.84it/s]\n",
      "100%|███████████████████████████████████| 10000/10000 [00:04<00:00, 2363.65it/s]\n",
      "100%|███████████████████████████████████| 10000/10000 [00:03<00:00, 2566.84it/s]\n",
      "100%|███████████████████████████████████| 10000/10000 [00:04<00:00, 2402.24it/s]\n",
      "100%|███████████████████████████████████| 10000/10000 [00:03<00:00, 2517.65it/s]\n",
      "100%|███████████████████████████████████| 10000/10000 [00:03<00:00, 2538.64it/s]\n",
      "100%|███████████████████████████████████| 10000/10000 [00:03<00:00, 2535.39it/s]\n",
      "100%|███████████████████████████████████| 10000/10000 [00:03<00:00, 2538.08it/s]\n",
      "100%|███████████████████████████████████| 10000/10000 [00:03<00:00, 2537.63it/s]\n"
     ]
    }
   ],
   "source": [
    "# MCMC runs: might take a few minutes.\n",
    "\n",
    "MCMC_run_30 = MCMC_errorbars(d_i, 30)\n",
    "MCMC_run_20 = MCMC_errorbars(d_i, 20)\n",
    "MCMC_run_15 = MCMC_errorbars(d_i, 15)\n",
    "MCMC_run_10 = MCMC_errorbars(d_i, 10)\n",
    "MCMC_run_5  = MCMC_errorbars(d_i, 5)\n",
    "MCMC_run_2  = MCMC_errorbars(d_i, 2)"
   ]
  },
  {
   "cell_type": "markdown",
   "id": "d33a86dc",
   "metadata": {},
   "source": [
    "### MCMC analyses with selection effects"
   ]
  },
  {
   "cell_type": "code",
   "execution_count": 14,
   "id": "5f8e4f60",
   "metadata": {},
   "outputs": [],
   "source": [
    "N_samps_likelihoods = 10\n",
    "N_samps_selfunction = 10000 # Needs to be high to sample well the selection function's integral.\n",
    "                            # but small enough to avoid slowing the Fisher calculation too much.\n",
    "    \n",
    "dth = 13.0"
   ]
  },
  {
   "cell_type": "code",
   "execution_count": 20,
   "id": "eaa9b968",
   "metadata": {},
   "outputs": [],
   "source": [
    "d_i_sel = d_i[d_i> dth]\n",
    "M_det = len(d_i_sel)"
   ]
  },
  {
   "cell_type": "code",
   "execution_count": 32,
   "id": "e7d43c7c",
   "metadata": {},
   "outputs": [],
   "source": [
    "def data_chunks_sel(d_i_sel, M_det):\n",
    "    \n",
    "    #Generate data\n",
    "    #d_i = noise + logM_t \n",
    "    #Prepare chunks of data by dividing full length by M_obs\n",
    "    chunked_data = [d_i_sel[i:i + M_det] for i in range(0, len(d_i_sel), M_det)]\n",
    "    \n",
    "    data_list = []\n",
    "    for element in chunked_data:\n",
    "        \n",
    "        data=np.zeros((M_det,N_samp_per_obs))\n",
    "        for i in np.arange(M_det):\n",
    "            data[i,:]=np.random.normal(element[i],sigma,size=N_samp_per_obs)\n",
    "            \n",
    "    \n",
    "        data_list.append(data)\n",
    "    \n",
    "    return data_list\n",
    "\n",
    "\n",
    "def MCMC_width_sel(data,M_det):\n",
    "    \n",
    "    \"\"\"\n",
    "    Function that calculates the expected error from an MCMC run. \n",
    "    Takes as input the chunked data (for the argument of sampler) and the \n",
    "    number of observations in each chunked data.\n",
    "    \"\"\"\n",
    "    \n",
    "    p0 = pos_init0*(1+0.001* np.random.randn(nwalkers, ndim))\n",
    "\n",
    "    sampler = emcee.EnsembleSampler(nwalkers, ndim, log_likelihood,\n",
    "                                args=[data,hyperprior_min,hyperprior_max,\n",
    "                                      N_samps_selfunction, M_max, M_min, \n",
    "                                      sigma, dth, M_det]\n",
    "                               )\n",
    "    run = sampler.run_mcmc(p0, n_iter, progress=True)\n",
    "    chains = sampler.get_chain(discard=burnin, thin=1, flat=False)\n",
    "    alpha_samples = chains[:,:,0].flatten()\n",
    "    \n",
    "    return np.sqrt(np.var(alpha_samples))\n",
    "\n",
    "\n",
    "def MCMC_errorbars_sel(data, M_det):\n",
    "    \n",
    "    \"\"\"\n",
    "    Function to return a list of number of detections and MCMC widths to \n",
    "    take the standard deviation from. \n",
    "    \n",
    "    These are inputs in the error bar plots.\n",
    "    \"\"\"\n",
    "    widths_list = []\n",
    "    \n",
    "    for data in data_chunks(d_i_sel, M_det):\n",
    "    \n",
    "        width = MCMC_width_sel(data,M_det)\n",
    "        widths_list.append(width)\n",
    "        \n",
    "    return [M_det for i in range(len(widths_list))], widths_list"
   ]
  },
  {
   "cell_type": "code",
   "execution_count": 35,
   "id": "a8fa56f2",
   "metadata": {},
   "outputs": [
    {
     "name": "stderr",
     "output_type": "stream",
     "text": [
      "100%|████████████████████████████████████| 10000/10000 [00:29<00:00, 339.86it/s]\n",
      "100%|████████████████████████████████████| 10000/10000 [00:27<00:00, 357.17it/s]\n"
     ]
    }
   ],
   "source": [
    "MCMC_run_30_sel = MCMC_errorbars_sel(d_i_sel, 15)"
   ]
  },
  {
   "cell_type": "markdown",
   "id": "30368a3b",
   "metadata": {},
   "source": [
    "### Final plot for paper"
   ]
  },
  {
   "cell_type": "code",
   "execution_count": 36,
   "id": "ed3f3219",
   "metadata": {},
   "outputs": [
    {
     "data": {
      "text/plain": [
       "<matplotlib.legend.Legend at 0x7fee9507e670>"
      ]
     },
     "execution_count": 36,
     "metadata": {},
     "output_type": "execute_result"
    },
    {
     "data": {
      "image/png": "[encoded data removed]",
      "text/plain": [
       "<Figure size 720x480 with 1 Axes>"
      ]
     },
     "metadata": {},
     "output_type": "display_data"
    }
   ],
   "source": [
    "# Fisher predictions\n",
    "\n",
    "plt.plot(Da_list,c='orange',lw=2, label='Fisher (no selection effects)')\n",
    "plt.plot(Da_list_sel,c='orange', ls='--',lw=2, label='Fisher (with selection effects)')\n",
    "\n",
    "\n",
    "# Plot error bars WITHOUT selection effects.\n",
    "\n",
    "\n",
    "plt.errorbar(30, np.mean(MCMC_run_30[1]), yerr=np.std(np.array(MCMC_run_30[1])), \n",
    "             c='black', lw=100,capsize=3)\n",
    "\n",
    "plt.errorbar(20, np.mean(MCMC_run_20[1]), yerr=np.std(np.array(MCMC_run_20[1])), \n",
    "             c='black', lw=3,capsize=3)\n",
    "   \n",
    "plt.errorbar(15, np.mean(MCMC_run_15[1]), yerr=np.std(np.array(MCMC_run_15[1])), \n",
    "             c='black', lw=3,capsize=3)\n",
    "\n",
    "plt.errorbar(10, np.mean(MCMC_run_10[1]), yerr=np.std(np.array(MCMC_run_10[1])), \n",
    "             c='black', lw=1,capsize=3, label='MCMC (no selection effects)')\n",
    "\n",
    "plt.errorbar(5, np.mean(MCMC_run_5[1]), yerr=np.std(np.array(MCMC_run_5[1])), \n",
    "             c='black', lw=1,capsize=3)\n",
    "\n",
    "plt.errorbar(2, np.mean(MCMC_run_2[1]), yerr=np.std(np.array(MCMC_run_2[1])), \n",
    "             c='black', lw=1,capsize=3)\n",
    "\n",
    "\n",
    "# Plot error bars WITH selection effects.\n",
    "\n",
    "\n",
    "plt.errorbar(15, np.mean(MCMC_run_30_sel[1]), yerr=np.std(np.array(MCMC_run_30_sel[1])), \n",
    "             c='red', lw=1,capsize=3)\n",
    "\n",
    "\n",
    "plt.xlabel('$N$')\n",
    "plt.ylabel('$\\Delta\\\\alpha$')\n",
    "plt.legend()"
   ]
  },
  {
   "cell_type": "code",
   "execution_count": null,
   "id": "c8768189",
   "metadata": {},
   "outputs": [],
   "source": []
  }
 ],
 "metadata": {
  "kernelspec": {
   "display_name": "Python 3 (ipykernel)",
   "language": "python",
   "name": "python3"
  },
  "language_info": {
   "codemirror_mode": {
    "name": "ipython",
    "version": 3
   },
   "file_extension": ".py",
   "mimetype": "text/x-python",
   "name": "python",
   "nbconvert_exporter": "python",
   "pygments_lexer": "ipython3",
   "version": "3.8.8"
  }
 },
 "nbformat": 4,
 "nbformat_minor": 5
}
