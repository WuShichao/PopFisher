{
 "cells": [
  {
   "cell_type": "markdown",
   "id": "satellite-worth",
   "metadata": {},
   "source": [
    "# Population Fisher estimates for a gaussian toy model"
   ]
  },
  {
   "cell_type": "markdown",
   "id": "768b644f",
   "metadata": {},
   "source": [
    "The purpose of this code is to check the precision attained with Fisher estimates from a Fisher Information Matrix for population parameters. We choose to work with a $\\textbf{simple gaussian model}$, in such a way that the Fisher estimates can be obtained analytically. \n",
    "\n",
    "The MCMC results can be obtained in a separate notebook and are simply loaded here."
   ]
  },
  {
   "cell_type": "code",
   "execution_count": 1,
   "id": "0c2728a8",
   "metadata": {},
   "outputs": [],
   "source": [
    "import numpy as np\n",
    "import matplotlib.pyplot as plt\n",
    "import emcee\n",
    "import corner\n",
    "import matplotlib as mpl\n",
    "import seaborn as sns\n",
    "import pickle\n",
    "\n",
    "\n",
    "%matplotlib inline\n",
    "np.random.seed(1234)"
   ]
  },
  {
   "cell_type": "code",
   "execution_count": 2,
   "id": "66f71296",
   "metadata": {},
   "outputs": [],
   "source": [
    "# Nice plotting options.\n",
    "\n",
    "params = {'axes.labelsize': 18,\n",
    "          'font.family': 'serif',\n",
    "          'font.serif': 'Computer Modern Raman',\n",
    "          'font.size': 18,\n",
    "          'axes.linewidth': 1,\n",
    "          'legend.fontsize': 15,\n",
    "          'xtick.labelsize': 18,\n",
    "          'xtick.top': True,\n",
    "          'ytick.labelsize': 18,\n",
    "          'ytick.right': True,\n",
    "          'axes.grid' : True,\n",
    "          'text.usetex': True,\n",
    "          'savefig.dpi' : 100,\n",
    "          'lines.markersize' : 14,\n",
    "          'axes.formatter.limits' : (-3,3)}\n",
    "\n",
    "mpl.rcParams.update(params)"
   ]
  },
  {
   "cell_type": "markdown",
   "id": "6cfea412",
   "metadata": {},
   "source": [
    "### Fisher estimates for case I (no selection effects)"
   ]
  },
  {
   "cell_type": "markdown",
   "id": "1ef852d8",
   "metadata": {},
   "source": [
    "We load the MCMC results here."
   ]
  },
  {
   "cell_type": "code",
   "execution_count": 3,
   "id": "bfe4a1b9",
   "metadata": {},
   "outputs": [],
   "source": [
    "with open('data_files/mu_samples_N=1e5.pickle', 'rb') as handle:\n",
    "    mu_samples = pickle.load(handle)\n",
    "with open('data_files/Sigma2_samples_N=1e5.pickle', 'rb') as handle:\n",
    "    Sigma2_samples = pickle.load(handle)"
   ]
  },
  {
   "cell_type": "markdown",
   "id": "78bb2d7d",
   "metadata": {},
   "source": [
    "Here we report the true values and other global parameters used in the loaded simulations."
   ]
  },
  {
   "cell_type": "code",
   "execution_count": 4,
   "id": "f7eda7ac",
   "metadata": {},
   "outputs": [],
   "source": [
    "N_obs = 100000\n",
    "true_mu = 0.5\n",
    "true_Sigma_sq = 1.5\n",
    "Sigma = np.sqrt(true_Sigma_sq)\n",
    "sigma = 0.2\n",
    "std = np.sqrt(Sigma**2 + sigma**2)\n",
    "data  = np.random.normal(true_mu,std,size=N_obs)"
   ]
  },
  {
   "cell_type": "markdown",
   "id": "203447dc",
   "metadata": {},
   "source": [
    "We need the model used to plot our Fisher predictions against the MCMC results."
   ]
  },
  {
   "cell_type": "code",
   "execution_count": 5,
   "id": "a581b72c",
   "metadata": {},
   "outputs": [],
   "source": [
    "def model(d,mu,Sigma_sq):\n",
    "    \n",
    "    \"\"\"\n",
    "    Model for p(d|lambda).\n",
    "    \n",
    "    Input:\n",
    "    \n",
    "    - data              (The noisy generated data where we expect theta to be.)\n",
    "    - mu                (First  hyperparameter, \"param[0]\" in MCMC initialization.)\n",
    "    - Sigma^2 + sigma^2 (Second hyperparameter, \"param[1]\" in MCMC initialization.)\n",
    "    \n",
    "    \"\"\"\n",
    "    num = np.exp(-0.5*(d-mu)**2/Sigma_sq)\n",
    "    den = np.sqrt(2*np.pi*Sigma_sq)\n",
    "    return num/den"
   ]
  },
  {
   "cell_type": "markdown",
   "id": "eca99f7c",
   "metadata": {},
   "source": [
    "The Fisher matrix for the simple Gaussian case without selection effects is found to be\n",
    "\n",
    "$$\n",
    "\\Gamma_\\lambda = \\begin{pmatrix}\n",
    "\\Gamma_{\\mu\\mu} & \\Gamma_{\\mu\\Sigma^2}\\\\\n",
    "\\Gamma_{\\mu\\Sigma^2} & \\Gamma_{\\Sigma^2\\Sigma^2}\n",
    "\\end{pmatrix}\n",
    "$$\n",
    "\n",
    "with \n",
    "\n",
    "$$\n",
    "\\Gamma_{\\mu\\mu}= \\frac{1}{\\sigma^2+\\Sigma^2}, \\quad \\Gamma_{\\mu\\Sigma^2} = 0,\\quad \\Gamma_{\\Sigma^2\\Sigma^2} = \\frac{1}{2(\\sigma^2+\\Sigma^2)^2}.\n",
    "$$"
   ]
  },
  {
   "cell_type": "code",
   "execution_count": 6,
   "id": "8b399b56",
   "metadata": {},
   "outputs": [],
   "source": [
    "Gamma_mu_mu = 1/(sigma**2 + true_Sigma_sq)\n",
    "Gamma_Ssq_Ssq = 0.5*1/(sigma**2 + true_Sigma_sq)**2\n",
    "\n",
    "Gamma_lambda = [[Gamma_mu_mu,0],[0,Gamma_Ssq_Ssq]]\n",
    "Gamma_lambda_inv = np.linalg.inv(Gamma_lambda)"
   ]
  },
  {
   "cell_type": "markdown",
   "id": "50e75eae",
   "metadata": {},
   "source": [
    "To match the width from the MCMC results we need to normalize the Fisher matrix results by the number of observed events (the $N^{-1/2}$) factor. That is because the matrix is derived for an individual observation, while the MCMC results are obtained with $N$-long data arrays."
   ]
  },
  {
   "cell_type": "code",
   "execution_count": 7,
   "id": "e831b826",
   "metadata": {},
   "outputs": [],
   "source": [
    "Dlambda_diag = 1/np.sqrt(N_obs) *  np.sqrt(np.diag(Gamma_lambda_inv)) #renormalization.\n",
    "Dmu, DSigma_sq = Dlambda_diag[0], Dlambda_diag[1]"
   ]
  },
  {
   "cell_type": "markdown",
   "id": "fbf3995e",
   "metadata": {},
   "source": [
    "We can check that the Fisher estimates agree with the variance of the samples, and more directly against the posterior distributions. "
   ]
  },
  {
   "cell_type": "code",
   "execution_count": 8,
   "id": "e432fe2d",
   "metadata": {},
   "outputs": [
    {
     "name": "stdout",
     "output_type": "stream",
     "text": [
      "FM widths [0.00392428 0.00688709]\n",
      "MCMC widths: [0.00392395, 0.00694604]\n"
     ]
    },
    {
     "data": {
      "image/png": "[encoded data removed]",
      "text/plain": [
       "<Figure size 432x288 with 1 Axes>"
      ]
     },
     "metadata": {
      "needs_background": "light"
     },
     "output_type": "display_data"
    },
    {
     "data": {
      "image/png": "[encoded data removed]",
      "text/plain": [
       "<Figure size 432x288 with 1 Axes>"
      ]
     },
     "metadata": {
      "needs_background": "light"
     },
     "output_type": "display_data"
    }
   ],
   "source": [
    "print('FM widths',Dlambda_diag)\n",
    "print('MCMC widths:',[np.round(np.sqrt(np.var(mu_samples)),8),np.round(np.sqrt(np.var(Sigma2_samples)),8)])\n",
    "\n",
    "\n",
    "\"\"\"\n",
    "Posteriors with Fisher estimates\n",
    "\"\"\"\n",
    "\n",
    "truths=[true_mu, true_Sigma_sq]\n",
    "\n",
    "_, bins_mu, _= plt.hist(mu_samples, 30, histtype = 'bar',\n",
    "                               color ='gainsboro', density=True, edgecolor='black', label='MCMC')\n",
    "\n",
    "bins_mu= np.array(bins_mu)\n",
    "plt.plot(bins_mu, model(bins_mu,true_mu + 0.001,Dmu**2), color='black', lw=2.5, label='Fisher')\n",
    "\n",
    "plt.axvline(x=truths[0], label='True', c='orange',ls='--',lw=3)\n",
    "plt.xlabel('$\\mu$')\n",
    "plt.ylabel('$p(\\mu|d)$')\n",
    "plt.legend()\n",
    "plt.show()\n",
    "\n",
    "_, bins_Ssq, _=plt.hist(Sigma2_samples, 30, histtype = 'bar',\n",
    "                        color ='gainsboro', density=True, edgecolor='black', \n",
    "                        label='MCMC')\n",
    "\n",
    "bins_Ssq= np.array(bins_Ssq)\n",
    "plt.plot(bins_Ssq, model(bins_Ssq,true_Sigma_sq+0.002,DSigma_sq**2), color='black', \n",
    "         lw=2.5,label='Fisher')\n",
    "\n",
    "plt.axvline(x=truths[1], label='True', c='orange',ls='--', lw=3)\n",
    "plt.xlabel('$\\Sigma^2$')\n",
    "plt.ylabel('$p(\\Sigma^2|d)$')\n",
    "plt.legend()\n",
    "plt.show()"
   ]
  },
  {
   "cell_type": "markdown",
   "id": "cb4d0c3e",
   "metadata": {},
   "source": [
    "### Fisher estimates for case II (with selection effects)"
   ]
  },
  {
   "cell_type": "markdown",
   "id": "42f32236",
   "metadata": {},
   "source": [
    "Load data for MCMC results with selection effects."
   ]
  },
  {
   "cell_type": "code",
   "execution_count": 9,
   "id": "02a90cbe",
   "metadata": {},
   "outputs": [],
   "source": [
    "with open('data_files/mu_samples_selbias_N=1e5.pickle', 'rb') as handle:\n",
    "    mu_samples_selbias = pickle.load(handle)\n",
    "with open('data_files/Sigma2_samples_selbias_N=1e5.pickle', 'rb') as handle:\n",
    "    Sigma2_samples_selbias = pickle.load(handle)"
   ]
  },
  {
   "cell_type": "markdown",
   "id": "5b9a290d",
   "metadata": {},
   "source": [
    "Specify the same threshold used in the MCMC analysis."
   ]
  },
  {
   "cell_type": "code",
   "execution_count": 10,
   "id": "1d7e3b39",
   "metadata": {},
   "outputs": [
    {
     "name": "stdout",
     "output_type": "stream",
     "text": [
      "Number detected events: 49932\n"
     ]
    }
   ],
   "source": [
    "d_th = 0.5 #threshold for data.\n",
    "\n",
    "data_sel_bias = data[data > d_th]\n",
    "N_det = len(data_sel_bias)\n",
    "\n",
    "print('Number detected events:', N_det)"
   ]
  },
  {
   "cell_type": "markdown",
   "id": "d2cb7f87",
   "metadata": {},
   "source": [
    "In the Fisher matrix with selection effects we will make use of the following definitions defined just below,\n",
    "\n",
    "$$\n",
    "    p_\\text{det}(\\lambda) = \\frac{1}{2}\\text{erfc}\\left[\\frac{d_\\text{th}-\\mu}{\\sqrt{2(\\sigma^2+\\Sigma^2)}}\\right], \\quad p(d_\\text{th}|\\lambda) = \\frac{1}{\\sqrt{2\\pi (\\sigma^2+\\Sigma^2)}} \\exp\\left[-\\frac{(d_\\text{th}-\\mu)^2}{2(\\sigma^2+\\Sigma^2)}\\right]\n",
    "$$"
   ]
  },
  {
   "cell_type": "code",
   "execution_count": 11,
   "id": "826d032f",
   "metadata": {},
   "outputs": [],
   "source": [
    "from scipy.special import erfc\n",
    "\n",
    "# Useful definitions\n",
    "\n",
    "sigmasq_plus_Sigmasq =  sigma**2 + true_Sigma_sq\n",
    "pdet_lambda_true = 0.5 * erfc((d_th - true_mu)/np.sqrt(2 * sigmasq_plus_Sigmasq))\n",
    "pof_dth_lambda = np.exp(-0.5* (d_th - true_mu)**2/sigmasq_plus_Sigmasq)/np.sqrt(2*np.pi * sigmasq_plus_Sigmasq)"
   ]
  },
  {
   "cell_type": "markdown",
   "id": "b49fd0be",
   "metadata": {},
   "source": [
    "The Fisher matrix is now defined as\n",
    "\n",
    "$$\n",
    "\\Gamma_\\lambda = \\begin{pmatrix}\n",
    "\\Gamma_{\\mu\\mu} & \\Gamma_{\\mu\\Sigma^2}\\\\\n",
    "\\Gamma_{\\mu\\Sigma^2} & \\Gamma_{\\Sigma^2\\Sigma^2}\n",
    "\\end{pmatrix}\n",
    "$$\n",
    "\n",
    "with \n",
    "\n",
    "$$\n",
    "\\Gamma_{\\mu\\mu}= \\frac{1}{\\sigma^2+\\Sigma^2} + \\frac{\\partial^2 \\ln p_\\text{det}(\\lambda)}{\\partial \\mu^2}, \\quad \\Gamma_{\\mu\\Sigma^2} = \\frac{1}{\\sigma^2+\\Sigma^2} \\frac{p(d_\\text{th}|\\lambda)}{p_\\text{det}(\\lambda)} + \\frac{\\partial^2 \\ln p_\\text{det}(\\lambda)}{\\partial \\mu\\Sigma^2},\\\\\n",
    "\\Gamma_{\\Sigma^2\\Sigma^2} = \\frac{1}{2(\\sigma^2+\\Sigma^2)^2}\\frac{(d_\\text{th}-\\mu)}{(\\sigma^2+\\Sigma^2)^2}\\frac{p(d_\\text{th}|\\lambda)}{p_\\text{det}(\\lambda)}+ \\frac{\\partial^2 \\ln p_\\text{det}(\\lambda)}{\\partial \\Sigma^2\\Sigma^2}.\n",
    "$$\n",
    "\n",
    "\n",
    "The expressions as coded up below have been manipulated with $\\texttt{Mathematica}$."
   ]
  },
  {
   "cell_type": "code",
   "execution_count": 12,
   "id": "f6c7d8fa",
   "metadata": {},
   "outputs": [],
   "source": [
    "dpdet_dmu_sq = (d_th - true_mu) * pof_dth_lambda /sigmasq_plus_Sigmasq /pdet_lambda_true - pof_dth_lambda**2 / pdet_lambda_true**2\n",
    "dpdet_dmudSigmasq = 0.5 * pof_dth_lambda *  (d_th**2 - 2 * d_th * true_mu + true_mu**2 - sigmasq_plus_Sigmasq)/ sigmasq_plus_Sigmasq**2/pdet_lambda_true -0.5 * pof_dth_lambda**2 / pdet_lambda_true**2 * (d_th - true_mu)/ sigmasq_plus_Sigmasq\n",
    "dpdet_dSigmasq_sq = 1./4. * (d_th - true_mu) * pof_dth_lambda* (d_th**2 - 2 * d_th * true_mu + true_mu**2 -3* sigmasq_plus_Sigmasq)/sigmasq_plus_Sigmasq**3/pdet_lambda_true - 1./4.* pof_dth_lambda**2 / pdet_lambda_true**2 * (d_th - true_mu)**2/ sigmasq_plus_Sigmasq**2\n"
   ]
  },
  {
   "cell_type": "code",
   "execution_count": 13,
   "id": "c1272472",
   "metadata": {},
   "outputs": [],
   "source": [
    "Gamma_mu_mu_selbias = 1/sigmasq_plus_Sigmasq + dpdet_dmu_sq\n",
    "Gamma_mu_Ssq_selbias = 1/sigmasq_plus_Sigmasq * pof_dth_lambda/pdet_lambda_true + dpdet_dmudSigmasq\n",
    "Gamma_Ssq_Ssq_selbias = 0.5 * 1/sigmasq_plus_Sigmasq**2 + (d_th - true_mu)/sigmasq_plus_Sigmasq**2 * pof_dth_lambda/pdet_lambda_true + dpdet_dSigmasq_sq \n"
   ]
  },
  {
   "cell_type": "markdown",
   "id": "c9ffed49",
   "metadata": {},
   "source": [
    "Build up the Fisher matrix."
   ]
  },
  {
   "cell_type": "code",
   "execution_count": 14,
   "id": "7047214c",
   "metadata": {},
   "outputs": [],
   "source": [
    "Gamma_lambda_selbias =[[Gamma_mu_mu_selbias,Gamma_mu_Ssq_selbias],[Gamma_mu_Ssq_selbias,Gamma_Ssq_Ssq_selbias]]\n",
    "Gamma_lambda_selbias_inv = np.linalg.inv(Gamma_lambda_selbias)"
   ]
  },
  {
   "cell_type": "markdown",
   "id": "f5b9ee71",
   "metadata": {},
   "source": [
    "And normalize it by the number of observed events (NOT the underlying population)."
   ]
  },
  {
   "cell_type": "code",
   "execution_count": 15,
   "id": "e54c64a5",
   "metadata": {},
   "outputs": [],
   "source": [
    "Dlambda_diag_selbias = 1/np.sqrt(N_det) *  np.sqrt(np.diag(Gamma_lambda_selbias_inv))\n",
    "Dmu_selbias, DSigma_sq_selbias = Dlambda_diag_selbias[0], Dlambda_diag_selbias[1]"
   ]
  },
  {
   "cell_type": "markdown",
   "id": "0be71da5",
   "metadata": {},
   "source": [
    "We can check that the Fisher estimates agree with the variance of the samples, and more directly against the posterior distributions. "
   ]
  },
  {
   "cell_type": "code",
   "execution_count": 16,
   "id": "42304d81",
   "metadata": {},
   "outputs": [
    {
     "name": "stdout",
     "output_type": "stream",
     "text": [
      "FM widths [0.02615926 0.02767461]\n",
      "MCMC widths: [0.0245714, 0.0261802]\n"
     ]
    },
    {
     "data": {
      "image/png": "[encoded data removed]",
      "text/plain": [
       "<Figure size 432x288 with 1 Axes>"
      ]
     },
     "metadata": {
      "needs_background": "light"
     },
     "output_type": "display_data"
    },
    {
     "data": {
      "image/png": "[encoded data removed]",
      "text/plain": [
       "<Figure size 432x288 with 1 Axes>"
      ]
     },
     "metadata": {
      "needs_background": "light"
     },
     "output_type": "display_data"
    }
   ],
   "source": [
    "print('FM widths',Dlambda_diag_selbias)\n",
    "print('MCMC widths:',[np.round(np.sqrt(np.var(mu_samples_selbias)),8),np.round(np.sqrt(np.var(Sigma2_samples_selbias)),8)])\n",
    "\n",
    "\n",
    "\"\"\"\n",
    "Posteriors with Fisher estimates\n",
    "\"\"\"\n",
    "\n",
    "\n",
    "# Mean\n",
    "\n",
    "plt.axvline(x=truths[0], label='True', c='orange',linestyle='--',lw=3)\n",
    "_, bins_selbias_mu, _= plt.hist(mu_samples_selbias, 30, histtype = 'bar',\n",
    "                               color ='lightpink', density=True, edgecolor='black', label='MCMC')\n",
    "bins_selbias_mu= np.array(bins_selbias_mu)\n",
    "plt.plot(bins_selbias_mu, model(bins_selbias_mu,true_mu+0.057,Dmu_selbias**2),\n",
    "         color='red', lw=2.5, label='Fisher')\n",
    "\n",
    "plt.xlabel('$\\mu$')\n",
    "plt.ylabel('$p(\\mu|d)$')\n",
    "plt.legend()\n",
    "plt.show()\n",
    "\n",
    "# Variance\n",
    "\n",
    "plt.axvline(x=truths[1], label='True', c='orange',linestyle='--',lw=3)\n",
    "_, bins_selbias_Ssq, _=plt.hist(Sigma2_samples_selbias, 30, histtype = 'bar',\n",
    "                               color ='lightpink', density=True, edgecolor='black', label='MCMC')\n",
    "bins_selbias_Ssq= np.array(bins_selbias_Ssq)\n",
    "plt.plot(bins_selbias_Ssq, model(bins_selbias_Ssq,true_Sigma_sq-0.049,DSigma_sq_selbias**2), \n",
    "         color='red', lw=2.5, label='Fisher')\n",
    "\n",
    "plt.xlabel('$\\Sigma^2$')\n",
    "plt.ylabel('$p(\\Sigma^2|d)$')\n",
    "plt.legend()\n",
    "plt.show()"
   ]
  },
  {
   "cell_type": "code",
   "execution_count": null,
   "id": "b42f169a",
   "metadata": {},
   "outputs": [],
   "source": []
  }
 ],
 "metadata": {
  "kernelspec": {
   "display_name": "Python 3",
   "language": "python",
   "name": "python3"
  },
  "language_info": {
   "codemirror_mode": {
    "name": "ipython",
    "version": 3
   },
   "file_extension": ".py",
   "mimetype": "text/x-python",
   "name": "python",
   "nbconvert_exporter": "python",
   "pygments_lexer": "ipython3",
   "version": "3.8.8"
  }
 },
 "nbformat": 4,
 "nbformat_minor": 5
}
